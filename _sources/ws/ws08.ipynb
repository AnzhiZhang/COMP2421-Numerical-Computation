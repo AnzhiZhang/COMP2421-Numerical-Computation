{
 "cells": [
  {
   "cell_type": "markdown",
   "id": "7f51b7f0",
   "metadata": {},
   "source": [
    "# WS08: Bisection and Newton’s method"
   ]
  },
  {
   "cell_type": "markdown",
   "id": "1c0e6ddc",
   "metadata": {},
   "source": [
    "These exercises are indented to give you practice at using the material on numerical approximation and are intended to reinforce the material that was covered in lectures.\n",
    "\n",
    "Please attempt the worksheet before your tutorial. Support is available in your tutorial or in the Class Team."
   ]
  },
  {
   "cell_type": "markdown",
   "id": "c7e1d3e0",
   "metadata": {},
   "source": [
    "*[Partial solutions](./ws08_implemented) are available to check your understanding. Please create [Issues](https://github.com/uol-soc-teachingrepos/COMP2421-Numerical-Computation/issues) and [Pull requests](https://github.com/uol-soc-teachingrepos/COMP2421-Numerical-Computation/pulls) with your solutions.*"
   ]
  },
  {
   "cell_type": "markdown",
   "id": "48763681",
   "metadata": {},
   "source": [
    "## Part a (pen and paper warm up)"
   ]
  },
  {
   "cell_type": "markdown",
   "id": "be06defe",
   "metadata": {},
   "source": [
    "### 1. Bisection method\n",
    "\n",
    "We first check that the solution of $f(x) = x^3 - 2 = 0$ must sit in [0,2] because $f(0)f(2) = -2 \\times 6 <0$. Can you then apply three iterations of the Bisection method to this equation and narrow down this initial solution interval?\n",
    "\n",
    "### 2. Newton’s method\n",
    "\n",
    "Apply three iterations of Newton’s method to $f(x) = x^3 - 2 = 0$ starting from an initial guess $x_0 = 2$."
   ]
  },
  {
   "cell_type": "markdown",
   "id": "41aaae67",
   "metadata": {},
   "source": [
    "## Part b (code implementations and testing)"
   ]
  },
  {
   "cell_type": "markdown",
   "id": "18bcac82",
   "metadata": {},
   "source": [
    "### 2. Implement Bisection and Newton’s methods"
   ]
  },
  {
   "cell_type": "code",
   "execution_count": null,
   "id": "c415437d",
   "metadata": {},
   "outputs": [],
   "source": [
    "def newton(f, df, x0, tol):\n",
    "    x = x0\n",
    "    y = f(x)\n",
    "    it = 0\n",
    "    while abs(y) > tol:  # iterate until less than or eq tol\n",
    "        \"\"\"\n",
    "        TODO: Newton's method\n",
    "        \"\"\"\n",
    "        it = it + 1\n",
    "        x = x - y / df(x)\n",
    "        y = f(x)\n",
    "\n",
    "    return x, it\n",
    "\n",
    "\n",
    "def bisection(f, x0, x1, tol):\n",
    "    it = 0\n",
    "    x = (x0 + x1) / 2.0\n",
    "    xL = x0\n",
    "    xR = x1\n",
    "\n",
    "    y = f(x)\n",
    "    yL = f(xL)\n",
    "    yR = f(xR)\n",
    "    while abs(y) > tol:\n",
    "        \"\"\"\n",
    "        TODO: Bisection method\n",
    "        \"\"\"\n",
    "        if y * yL < 0:\n",
    "            xR = x\n",
    "            yR = y\n",
    "        elif y * yR < 0:\n",
    "            xL = x\n",
    "            yL = y\n",
    "        x = (xL + xR) / 2\n",
    "        y = f(x)\n",
    "        it += 1\n",
    "\n",
    "    return x, it"
   ]
  },
  {
   "cell_type": "markdown",
   "id": "de391c4f",
   "metadata": {},
   "source": [
    "### 3. Test your implementation"
   ]
  },
  {
   "cell_type": "code",
   "execution_count": null,
   "id": "76c9349d",
   "metadata": {},
   "outputs": [],
   "source": [
    "def f(t):\n",
    "    return t * t * t - 2.0\n",
    "\n",
    "\n",
    "def df(t):\n",
    "    return 3.0 * t * t\n",
    "\n",
    "\n",
    "x, it = newton(f, df, 2.0, 1.0e-6)\n",
    "print(f\"Newton's method: {x} after {it} iterations\")\n",
    "\n",
    "x, it = bisection(f, 0.0, 2.0, 1.0e-6)\n",
    "print(f\"Bisection method: {x} after {it} iterations\")"
   ]
  },
  {
   "cell_type": "markdown",
   "id": "b3d9675f",
   "metadata": {},
   "source": [
    "## Part c: Extension\n",
    "\n",
    "In which cases, Newton's method could fail, and what's your corresponding strategies to save it?"
   ]
  }
 ],
 "metadata": {
  "kernelspec": {
   "display_name": "Python 3 (ipykernel)",
   "language": "python",
   "name": "python3"
  },
  "language_info": {
   "codemirror_mode": {
    "name": "ipython",
    "version": 3
   },
   "file_extension": ".py",
   "mimetype": "text/x-python",
   "name": "python",
   "nbconvert_exporter": "python",
   "pygments_lexer": "ipython3",
   "version": "3.8.16"
  }
 },
 "nbformat": 4,
 "nbformat_minor": 5
}
