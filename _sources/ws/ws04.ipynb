{
 "cells": [
  {
   "cell_type": "markdown",
   "id": "e94c509a",
   "metadata": {},
   "source": [
    "# WS04: LU Factorisation and iterative methods"
   ]
  },
  {
   "cell_type": "markdown",
   "id": "f8c60a08",
   "metadata": {},
   "source": [
    "These exercises are indented to give you practice at using the material on numerical approximation and are intended to reinforce the material that was covered in lectures.\n",
    "\n",
    "Please attempt the worksheet before your tutorial. Support is available in your tutorial or in the Class Team."
   ]
  },
  {
   "cell_type": "markdown",
   "id": "7c994865",
   "metadata": {},
   "source": [
    "*[Partial solutions](./ws04_implemented) are available to check your understanding. Please create [Issues](https://github.com/uol-soc-teachingrepos/COMP2421-Numerical-Computation/issues) and [Pull requests](https://github.com/uol-soc-teachingrepos/COMP2421-Numerical-Computation/pulls) with your solutions or share your answers for peer feedback in the class team [Worksheet solutions channel](https://teams.microsoft.com/l/channel/19%3ae5195eb6f14b473b91addb0d612e29de%40thread.tacv2/Worksheet%2520solutions?groupId=6940f84b-cee2-4092-a9b8-314aeca01445&tenantId=bdeaeda8-c81d-45ce-863e-5232a535b7cb)*"
   ]
  },
  {
   "cell_type": "markdown",
   "id": "f4435227",
   "metadata": {},
   "source": [
    "## Part a (pen and paper warm up)"
   ]
  },
  {
   "cell_type": "markdown",
   "id": "aeb68e88",
   "metadata": {},
   "source": [
    "### 1. LU factorisation\n",
    "Use LU factorisation to solve the linear system of equations given by\n",
    "\n",
    "   $$\n",
    "   \\begin{pmatrix}\n",
    "   4 & -1 & -1 \\\\ 2 & 4 & 2 \\\\ 1 & 2 & 4\n",
    "   \\end{pmatrix}\n",
    "   \\begin{pmatrix}\n",
    "   x_1 \\\\ x_2 \\\\ x_3\n",
    "   \\end{pmatrix} =\n",
    "   \\begin{pmatrix}\n",
    "   9 \\\\ -6 \\\\ 3\n",
    "   \\end{pmatrix}.\n",
    "   $$\n",
    "\n",
    "\n",
    "### 2. Jacobi iteration\n",
    "Rewrite the Jacobi iteration as:\n",
    "\n",
    "$$\n",
    "\\vec{x}^{(k+1)} = D^{-1} \\vec{b} - D^{-1}(L+U) \\vec{x}^{(k)},\n",
    "$$\n",
    "\n",
    "or\n",
    "\n",
    "$$\n",
    "\\vec{x}^{(k+1)} = \\vec{p} - P \\vec{x}^{(k)},\n",
    "$$\n",
    "\n",
    "with $P=D^{-1}(L+U)$ and $\\vec{p}=D^{-1} \\vec{b}$, which facilitates computing and coding. Apply the above Jacobi iteration to the following linear system of equations. Take three iterations starting from an initial guess $(0, 0)^T$.\n",
    "\n",
    "   $$\n",
    "   \\begin{pmatrix}\n",
    "   2 & 1 \\\\ \n",
    "   1 & 2 \n",
    "   \\end{pmatrix}\n",
    "   \\begin{pmatrix}\n",
    "   x_1 \\\\ \n",
    "   x_2 \n",
    "   \\end{pmatrix} =\n",
    "   \\begin{pmatrix}\n",
    "    3 \\\\ 3 \n",
    "   \\end{pmatrix}. \n",
    "   $$\n",
    "\n",
    "Note that the exact solution is $(1,1)^T$. If we want to reduce the absolute error between $\\vec{x}^*$, the exact solution, and $\\vec{x}$, our computed solution, to less than 0.1, how many iterations do we need? what is the corresponding residual? Recall the absolute error is $\\|\\vec{x}^* - \\vec{x}\\|$.\n",
    "\n",
    "### 3. Gauss-Seidel iteration\n",
    "\n",
    "Apply Gauss-Seidel iteration to the above equations, and take three iterations and check whether it gives you more accurate approximation than Jacobi iteration -- all you need to do is to update $(x_1, x_2)$ in terms of components, i.e.: update $x_1$ first, then update $x_2$ using your new $x_1$."
   ]
  },
  {
   "cell_type": "markdown",
   "id": "80e6830a",
   "metadata": {},
   "source": [
    "## Part b (code implementations and testing)"
   ]
  },
  {
   "cell_type": "markdown",
   "id": "a98c98df",
   "metadata": {},
   "source": [
    "### 4. Implement Gauss-Seidel iteration and  Jacobi iteration"
   ]
  },
  {
   "cell_type": "markdown",
   "id": "994ccd25",
   "metadata": {},
   "source": [
    "Notice the only difference between Gauss-Seidel iteration and Jacobi iteration is that the former updates vector $\\vec{x}$ component by component, while latter updates vector $\\vec{x}$ as a whole."
   ]
  },
  {
   "cell_type": "code",
   "execution_count": null,
   "id": "465ddc6f",
   "metadata": {},
   "outputs": [],
   "source": [
    "import numpy as np"
   ]
  },
  {
   "cell_type": "code",
   "execution_count": null,
   "id": "33c15ff8",
   "metadata": {},
   "outputs": [],
   "source": [
    "def Gauss_Seidel_iteration(A, b, max_iteration, x0=None):\n",
    "    # To ensure that arrays are stored in double precision.\n",
    "    A = A.astype(np.float64)\n",
    "    b = b.astype(np.float64)\n",
    "\n",
    "    n = len(b)  # dimensions of the linear system of equations\n",
    "\n",
    "    for i in range(n):\n",
    "        if np.abs(A[i, i]) < 1.0e-15:\n",
    "            print(\"Diagonal element (%f %f)is zero!\" % (i, i))\n",
    "            return\n",
    "\n",
    "    np.zeros([n, n])  # matrix P = D^{-1}(L+U)\n",
    "    np.zeros(n)  # vector p = D^{-1} b\n",
    "    for i in range(n):\n",
    "        \"\"\"\n",
    "        Compute the matrix P and vector p...\n",
    "        \"\"\"\n",
    "\n",
    "    # create a new array to store the results, initialised as zero\n",
    "    x = np.zeros(n)\n",
    "    for it in range(max_iteration):\n",
    "        \"\"\"\n",
    "        Implement Gauss-Seidel iteration -- update x component by component.\n",
    "        \"\"\"\n",
    "\n",
    "    return x"
   ]
  },
  {
   "cell_type": "code",
   "execution_count": null,
   "id": "82cb81ba",
   "metadata": {},
   "outputs": [],
   "source": [
    "def Jacobi_iteration(A, b, max_iteration, x0=None):\n",
    "    # To ensure that arrays are stored in double precision.\n",
    "    A = A.astype(np.float64)\n",
    "    b = b.astype(np.float64)\n",
    "\n",
    "    n = len(b)  # dimensions of the linear system of equations\n",
    "\n",
    "    for i in range(n):\n",
    "        if np.abs(A[i, i]) < 1.0e-15:\n",
    "            print(\"Diagonal element (%f %f)is zero!\" % (i, i))\n",
    "            return\n",
    "\n",
    "    np.zeros([n, n])  # matrix P = D^{-1}(L+U)\n",
    "    np.zeros(n)  # vector p = D^{-1} b\n",
    "    for i in range(n):\n",
    "        \"\"\"\n",
    "        Compute the matrix P and vector p...\n",
    "        \"\"\"\n",
    "\n",
    "    # create a new array to store the results, initialised as zero\n",
    "    x = np.zeros(n)\n",
    "    for it in range(max_iteration):\n",
    "        \"\"\"\n",
    "        Implement Jacobi iteration -- update x as a vector.\n",
    "        \"\"\"\n",
    "\n",
    "    return x"
   ]
  },
  {
   "cell_type": "markdown",
   "id": "97c0265b",
   "metadata": {},
   "source": [
    "### 5. Test your iterative methods"
   ]
  },
  {
   "cell_type": "code",
   "execution_count": null,
   "id": "9ad10577",
   "metadata": {},
   "outputs": [],
   "source": [
    "# Test different linear solvers starting from the above two-dimensional linear system\n",
    "A = np.array([[2, 1], [1, 2]])\n",
    "b = np.array([3, 3])\n",
    "x_exact = np.array([1, 1])\n",
    "\n",
    "# numpy linear solver\n",
    "x0 = np.linalg.solve(A, b)\n",
    "print(\"Solution by numpy solver:\", x0)\n",
    "\n",
    "x = Jacobi_iteration(A, b, 4)\n",
    "print(\"Solution by Jacobi iteration: \", x)\n",
    "print(\"Error: \", x - x_exact)\n",
    "print(\"Residual: \", np.matmul(A, x) - b)\n",
    "\n",
    "x = Gauss_Seidel_iteration(A, b, 4)\n",
    "print(\"Solution by Gauss Seidel iteration: \", x)\n",
    "print(\"Error: \", x - x_exact)\n",
    "print(\"Residual: \", np.matmul(A, x) - b)"
   ]
  },
  {
   "cell_type": "code",
   "execution_count": null,
   "id": "0c806a86",
   "metadata": {},
   "outputs": [],
   "source": [
    "A = np.array(\n",
    "    [[-10, 2, 0, 67], [-2, 50, -77, 1.0e-5], [1, 7, 30, 8], [-10, -7, 0.001, 80]]\n",
    ")\n",
    "b = np.array([1, 2, 9, 0])\n",
    "\n",
    "# numpy linear solvers\n",
    "x0 = np.linalg.solve(A, b)\n",
    "# x0 = np.linalg.inv(A).dot(b)\n",
    "print(\"Solution by numpy solver:\", x0)\n",
    "\n",
    "x = Jacobi_iteration(A, b, 100)\n",
    "print(\"Solution by Jacobi iteration: \", x)\n",
    "print(\"Residual: \", np.matmul(A, x) - b)\n",
    "\n",
    "x = Gauss_Seidel_iteration(A, b, 100)\n",
    "print(\"Solution by Gauss Seidel iteration: \", x)\n",
    "print(\"Residual: \", np.matmul(A, x) - b)"
   ]
  },
  {
   "cell_type": "code",
   "execution_count": null,
   "id": "d11f597e",
   "metadata": {},
   "outputs": [],
   "source": [
    "n = 20\n",
    "B = np.random.rand(n, n)\n",
    "eps = 10\n",
    "A = eps * np.eye(n) + B * B.T\n",
    "b = np.random.rand(n)\n",
    "\n",
    "# numpy linear solvers\n",
    "x0 = np.linalg.solve(A, b)\n",
    "# x0 = np.linalg.inv(A).dot(b)\n",
    "print(\"Solution by numpy solver:\", x0)\n",
    "\n",
    "x = Jacobi_iteration(A, b, 100)\n",
    "print(\"Solution by Jacobi iteration: \", x)\n",
    "print(\"Residual: \", np.matmul(A, x) - b)\n",
    "\n",
    "x = Gauss_Seidel_iteration(A, b, 100)\n",
    "print(\"Solution by Gauss Seidel iteration: \", x)\n",
    "print(\"Residual: \", np.matmul(A, x) - b)"
   ]
  },
  {
   "cell_type": "markdown",
   "id": "e45eeb47",
   "metadata": {},
   "source": [
    "## Part c: Extension"
   ]
  },
  {
   "cell_type": "markdown",
   "id": "8bd28cd4",
   "metadata": {},
   "source": [
    "### 6. Convergence\n",
    "For the following iteration formulas:\n",
    "\n",
    "$$\n",
    "\\begin{aligned}\n",
    "\\vec{x}^{(k+1)} & = \n",
    "\\begin{pmatrix}\n",
    "3  \\\\ \n",
    "1  \n",
    "\\end{pmatrix} \n",
    "-\n",
    "\\begin{pmatrix}\n",
    " 2 & 0 \\\\ \n",
    "0 & 2 \n",
    "\\end{pmatrix} \n",
    "\\vec{x}^{(k)}\n",
    "\\\\\n",
    "\\vec{x}^{(k+1)} & = \n",
    "\\begin{pmatrix}\n",
    "3  \\\\ \n",
    "1  \n",
    "\\end{pmatrix} \n",
    "-\n",
    "\\begin{pmatrix}\n",
    "1 & 0 \\\\ \n",
    "0 & 1 \n",
    "\\end{pmatrix} \n",
    "\\vec{x}^{(k)}\n",
    "\\\\\n",
    "\\vec{x}^{(k+1)} & = \n",
    "\\begin{pmatrix}\n",
    "3  \\\\ \n",
    "1  \n",
    "\\end{pmatrix} \n",
    "-\n",
    "\\begin{pmatrix}\n",
    "1/2 & 0 \\\\ \n",
    "0 & 1/2 \n",
    "\\end{pmatrix} \n",
    "\\vec{x}^{(k)}.\n",
    "\\end{aligned}\n",
    "$$\n",
    "\n",
    "- Take two or three iterations from an arbitrary initial guess. Do you think which iteration can converge?\n",
    "- Do you think the convergence of Jacobi iteration is completely determined by the properties of matrix $P$?\n",
    "- Wikipedia: [Eigenvalue decomposition](https://en.wikipedia.org/wiki/Eigenvalues_and_eigenvectors) is the right tool to decompose a matrix to diagonal matrix, which allows us to analyse the convergence of an iteration method but is beyond the scope of this module."
   ]
  }
 ],
 "metadata": {
  "kernelspec": {
   "display_name": "Python 3 (ipykernel)",
   "language": "python",
   "name": "python3"
  },
  "language_info": {
   "codemirror_mode": {
    "name": "ipython",
    "version": 3
   },
   "file_extension": ".py",
   "mimetype": "text/x-python",
   "name": "python",
   "nbconvert_exporter": "python",
   "pygments_lexer": "ipython3",
   "version": "3.8.16"
  }
 },
 "nbformat": 4,
 "nbformat_minor": 5
}
