{
 "cells": [
  {
   "cell_type": "markdown",
   "id": "d454eed7",
   "metadata": {},
   "source": [
    "# Coursework 2 2022/23\n",
    "\n",
    "*This coursework formed part of the assessment of this module that students took in 2022/23. You may wish to use it to help in your revision. There are no solutions available.*\n",
    "\n",
    "This coursework is worth 20% of the credit of the module. Solutions should be submitted to Gradescope."
   ]
  },
  {
   "cell_type": "markdown",
   "id": "9cee9476",
   "metadata": {},
   "source": [
    "## Part 1: Short answer questions (9 marks)"
   ]
  },
  {
   "cell_type": "markdown",
   "id": "f5364ea0",
   "metadata": {},
   "source": [
    "### 1. Gaussian elimination with pivoting"
   ]
  },
  {
   "cell_type": "markdown",
   "id": "a78aab90",
   "metadata": {},
   "source": [
    "Solve the following system of linear equations using Gaussian elimination (with pivoting if necessary) and backward substitution.\n",
    "\n",
    " $$\n",
    " \\begin{pmatrix}\n",
    " 3 & 1 \\\\ 3 & 6 \n",
    " \\end{pmatrix}\n",
    " \\begin{pmatrix}\n",
    " x_1 \\\\ x_2 \n",
    " \\end{pmatrix}  =\n",
    " \\begin{pmatrix}\n",
    " -1\\\\3\n",
    " \\end{pmatrix}\n",
    "$$\n",
    "\n",
    "What is the solution? [ **2 marks** ]\n",
    "- $x_1 = 3/5  ,x_2 = -4/5$\n",
    "- $x_1 = -4/5  ,x_2 = 3/5$\n",
    "- $x_1 = -3/5  ,x_2 = 4/5$\n",
    "- $x_1 = 4/5  ,x_2 = -3/5$"
   ]
  },
  {
   "cell_type": "markdown",
   "id": "378daf89",
   "metadata": {},
   "source": [
    "### 2.  LU factorisation\n",
    "What is the LU factorisation of the following matrix [ **2 marks** ]\n",
    "\n",
    " $$\n",
    " \\begin{pmatrix}\n",
    " 1 & 0 & 3 \\\\ 2 & -1 & 7 \\\\ 5 & -4 & 8 \n",
    " \\end{pmatrix}\n",
    "$$\n",
    "\n",
    "- \n",
    "$$\n",
    "L=\n",
    " \\begin{pmatrix}\n",
    " 1 & 0 & 3 \\\\ 0 & -1 & 1 \\\\ 0 & 0 & -11 \n",
    " \\end{pmatrix}\n",
    ",\\quad\n",
    "U=\n",
    " \\begin{pmatrix}\n",
    " 1 & 0 & 0 \\\\ 2 & 1 & 0 \\\\ 5 & 4 & 1\n",
    " \\end{pmatrix}\n",
    "$$\n",
    "- \n",
    "$$\n",
    "L=\n",
    " \\begin{pmatrix}\n",
    " 1 & 0 & 0 \\\\ 2 & 1 & 0 \\\\ 5 & 4 & 1\n",
    " \\end{pmatrix}\n",
    ",\\quad\n",
    "U=\n",
    " \\begin{pmatrix}\n",
    " 1 & 0 & 3 \\\\ 0 & -1 & 1 \\\\ 0 & 0 & -11 \n",
    " \\end{pmatrix}\n",
    "$$\n",
    "- \n",
    "$$\n",
    "L=\n",
    " \\begin{pmatrix}\n",
    " 1 & 0 & 0 \\\\ 1 & 1 & 0 \\\\ 4 & 0 & 1\n",
    " \\end{pmatrix}\n",
    ",\\quad\n",
    "U=\n",
    " \\begin{pmatrix}\n",
    " 1 & -12 & 3 \\\\ 0 & 1 & 7 \\\\ 0 & 0 & 1 \n",
    " \\end{pmatrix}\n",
    "$$\n",
    "- \n",
    "$$\n",
    "L=\n",
    " \\begin{pmatrix}\n",
    " 1 & -12 & 3 \\\\ 0 & 1 & 7 \\\\ 0 & 0 & 1 \n",
    " \\end{pmatrix}\n",
    ",\\quad\n",
    "U=\n",
    " \\begin{pmatrix}\n",
    " 1 & 0 & 0 \\\\ 1 & 1 & 0 \\\\ 4 & 0 & 1\n",
    " \\end{pmatrix}\n",
    "$$"
   ]
  },
  {
   "cell_type": "markdown",
   "id": "a53cd731",
   "metadata": {},
   "source": [
    "### 3.  Jacobi iteration\n",
    "Consider the system of linear equations for Q1 again and the Jacobi method starting from $\\vec{x}^{(0)} = (0 , 0)^T$. How many iterations are required to find the solution so that the absolute error to the exact solution is less than $0.01$ in the Euclidean norm? [ **2 marks** ]"
   ]
  },
  {
   "cell_type": "markdown",
   "id": "62bc77fc",
   "metadata": {},
   "source": [
    "### 4.  Midpoint method\n",
    "Consider the differential equation\n",
    "\n",
    "$$\n",
    "y^\\prime(t) = -t/y, \\quad y(3)=4\n",
    "$$\n",
    "\n",
    "Use one step of the midpoint method to approximate the solution $y(4)$ $(i.e., y(t)$ at $t = 4)$. Given that the exact solution $y^∗ (4) = 3$, which of the following correctly bounds the absolute error? [ **3 marks** ]\n",
    "\n",
    "- $10^1 > \\text{error} > 10^0$\n",
    "- $10^0 > \\text{error} > 10^{-1}$\n",
    "- $10^{-1} > \\text{error} > 10^{-2}$\n",
    "- $10^{-2} > \\text{error} > 10^{-3}$"
   ]
  },
  {
   "cell_type": "markdown",
   "id": "fbeaa3d8",
   "metadata": {},
   "source": [
    "## Part 2:  Free answer questions (11 marks)\n",
    "\n",
    "Please either use the text boxes below to include your answers or upload a single pdf file containing the answers to all the questions. All code and tables should be included in the same single pdf.\n",
    "\n",
    "Do not use dark backgrounds or screenshots when including code.\n",
    "\n",
    "### Pendulum\n",
    "\n",
    "The motion of a single, undamped (i.e. no friction) pendulum may be described through the ordinary differential equations are:\n",
    "\n",
    "$$\n",
    "\\frac{d^2 \\theta}{dt^2} + g/l \\sin(\\theta) = 0,\n",
    "$$\n",
    "\n",
    "where $\\theta$ is the angle between the pendulum and vertical, $g$ is the strength of gravity and $l$ is the length of the pendulum.\n",
    "\n",
    "<a title=\"Krishnavedala, CC BY-SA 3.0 &lt;https://creativecommons.org/licenses/by-sa/3.0&gt;, via Wikimedia Commons\" href=\"https://commons.wikimedia.org/wiki/File:Pendulum_gravity.svg\"><img width=\"256\" alt=\"Pendulum gravity\" src=\"https://upload.wikimedia.org/wikipedia/commons/thumb/6/66/Pendulum_gravity.svg/256px-Pendulum_gravity.svg.png\"></a>\n",
    "\n",
    "Force diagram for pendulumn\n",
    "\n",
    "Undamped pendula are somewhat unnatural since, given a small push, they continue to swing forever!\n",
    "\n",
    "We rewrite as first order system:\n",
    "\n",
    "$$\n",
    "\\begin{aligned}\n",
    "\\frac{\\partial \\theta}{\\partial t} &= v\\\\\n",
    "\\frac{\\partial v}{\\partial t} &= -g/l \\sin(\\theta).\n",
    "\\end{aligned}\n",
    "$$\n",
    "\n",
    "Through the question we will fix $g = l = 1$. (We pretend we are living in a world without units!)."
   ]
  },
  {
   "cell_type": "markdown",
   "id": "e7f7a95e",
   "metadata": {},
   "source": [
    "### a. Euler's method [ 1 mark ]\n",
    "\n",
    "Implement the system of ordinary equations using Euler's method subject to the initial conditions $\\theta = \\theta_0$ and $v = v_0$ at $t = 0$."
   ]
  },
  {
   "cell_type": "markdown",
   "id": "57acd574",
   "metadata": {},
   "source": [
    "### b. Testing the implementation [ 2 marks ]\n",
    "\n",
    "Test your implementation by plotting the solution with the parameters $dt = 6 \\pi / 200$, $\\theta_0 = 0$, $v_0 = 1$ until $T = 6 \\pi$.\n",
    "Make two plots, one which shows the $x$-coordinate against the $y$-coordinate [ 1 mark ] and another that shows time $t$ against $\\theta$ [ 1 mark ]."
   ]
  },
  {
   "cell_type": "markdown",
   "id": "c7e456f7",
   "metadata": {},
   "source": [
    "### c. Convergence testing [ 4 marks ]\n",
    "\n",
    "We might notice that the maximums of $\\theta$ are growing overtime. We are interested in long time solutions. We will investigate this by running the same parameter set ($\\theta_0 = 0$, $v_0 = 1$ until $T = 6 \\pi$) but with different size time steps $\\mathrm{d}t$.\n",
    "\n",
    "   i.   Run each method for $\\mathrm{d}t = 6 \\pi / 200, 6 \\pi / 400, 6 \\pi / 800, 6 \\pi / 1600, 6 \\pi / 3200$. Make a plot showing how the maxima of $\\theta$ increase over time. [ 1 mark ]\n",
    "   \n",
    "   ii.  Comment on what you find with respect to the maximum values of $\\theta$. Make a prediction to what the maxima should converge to - call this value $\\theta^*$. [ 1 mark ]\n",
    "   \n",
    "   iii. Make a table for the same simulation values. The columns should include $\\mathrm{d}t$, $\\max_i (\\theta^{(i)}$ and $| \\max_i (\\theta^{(i)}) - \\theta^*|$. [ 1 mark ]\n",
    "   \n",
    "   iv.  Comment on what your tables show. You may wish to include further columns to help your argument. [ 1 mark ]"
   ]
  },
  {
   "cell_type": "markdown",
   "id": "3c8dc4ce",
   "metadata": {},
   "source": [
    "### d. Midpoint method [ 4 marks ]\n",
    "\n",
    "i.  Run the same tests for the midpoint method. [ 2 marks ]\n",
    "\n",
    "ii. What do you observe running the same tests for the midpoint method? [ 2 marks ]"
   ]
  }
 ],
 "metadata": {
  "kernelspec": {
   "display_name": "Python 3 (ipykernel)",
   "language": "python",
   "name": "python3"
  },
  "language_info": {
   "codemirror_mode": {
    "name": "ipython",
    "version": 3
   },
   "file_extension": ".py",
   "mimetype": "text/x-python",
   "name": "python",
   "nbconvert_exporter": "python",
   "pygments_lexer": "ipython3",
   "version": "3.8.16"
  }
 },
 "nbformat": 4,
 "nbformat_minor": 5
}
