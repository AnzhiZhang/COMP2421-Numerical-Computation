{
 "cells": [
  {
   "cell_type": "markdown",
   "id": "84b2a3e5",
   "metadata": {},
   "source": [
    "# Coursework 1 2021/22 - Solutions"
   ]
  },
  {
   "cell_type": "markdown",
   "id": "96dfcd6b",
   "metadata": {},
   "source": [
    "## Part 1: Short answer questions (12 marks)\n",
    "\n",
    "1.  **Finite precision number systems** Consider system given by $(\\beta, t, L, U) = (10, 4, -1, 3)$.\n",
    "\n",
    "    a.  What is the machine precision, $eps$, of this system? **\\[ 1 mark \\]**\n",
    "\n",
    "       -   $0.05$\n",
    "       -   $0.005$\n",
    "       -   $0.0005$ ($\\checkmark$)\n",
    "       -   $0.00005$\n",
    "       \n",
    "       $eps$ is given by the formula $\\frac{1}{2} \\beta^{1-t}$ so\n",
    "       \n",
    "       $$\n",
    "       eps = \\frac{1}{2} 10^{1-4} = \\frac{1}{2} 0.001 = 0.0005.\n",
    "       $$\n",
    "\n",
    "    b.  Which of the following is the closest representation of $1/3$ in this system written in normalised floating point representation? **\\[ 1 mark \\]**\n",
    "\n",
    "       -   $0.333 \\times 10^{0}$\n",
    "       -   $0.3333 \\times 10^{0}$ ($\\checkmark$)\n",
    "       -   $3.333 \\times 10^{-1}$\n",
    "       -   $3.3333 \\times 10^{-1}$\n",
    "       \n",
    "       The third and fourth answers are not normalised floating point representations. The first two are possible normalised floating point representations. The second answer is the closest.\n",
    "\n",
    "    c.  Let $x=800$. For which of the following is $fl(x + y) = fl(x)$. Select all that apply. **\\[ 3 marks \\]**\n",
    "\n",
    "       -   $y = 0.4000 \\times 10^{-1}$ ($\\checkmark$)\n",
    "\n",
    "            We have $$\\begin{aligned}\n",
    "            x + y & = 0.8 \\times 10^3 + 0.4 \\times 10^{-1}\n",
    "            = 800 + 0.04 = 800.04 \\\\\n",
    "            & \\rightarrow\n",
    "            fl(x+y) = 0.8 \\times 10^3 = fl(x)\n",
    "            \\end{aligned}\n",
    "            $$\n",
    "\n",
    "       -   $y = 0.4000 \\times 10^{0}$\n",
    "       \n",
    "            We have $$ \\begin{aligned}\n",
    "            x + y &= 0.8 \\times 10^3 + 0.4 \\times 10^0\n",
    "            = 800 + 0.4 = 800.4 \\\\\n",
    "            & \\rightarrow\n",
    "            fl(x+y) = 0.8004 \\times 10^3 > fl(x)\n",
    "            \\end{aligned}\n",
    "            $$\n",
    "            \n",
    "       -   $y = 0.4000 \\times 10^{1}$\n",
    "       \n",
    "             We have $$ \\begin{aligned}\n",
    "             x + y &= 0.8 \\times 10^3 + 0.4 \\times 10^1\n",
    "             = 800 + 4 = 804 \\\\\n",
    "             & \\rightarrow\n",
    "             fl(x+y) = 0.8040 \\times 10^3 > fl(x).\n",
    "             \\end{aligned}\n",
    "             $$"
   ]
  },
  {
   "cell_type": "markdown",
   "id": "af779f4e",
   "metadata": {},
   "source": [
    "2.  **Matrices and vectors** Let\n",
    "\n",
    "    $$\n",
    "    A = \\begin{pmatrix} 2 & 4 \\\\ 4 & 5 \\end{pmatrix},\n",
    "    B = \\begin{pmatrix} 0 & 2 \\\\ 1 & 3 \\\\ 9 & 8 \\end{pmatrix},\n",
    "    C = \\begin{pmatrix} 3 \\\\ -1 \\end{pmatrix},\n",
    "    D = \\begin{pmatrix} 1 & 2 \\end{pmatrix}.\n",
    "    $$\n",
    "\n",
    "    Evaluate these expressions (if possible) **\\[ 1 mark each \\]**\n",
    "\n",
    "    a.  $B A$;\n",
    "\n",
    "       -   $\\begin{pmatrix} 8 & 14 & 50 \\\\ 10 & 19 & 76 \\end{pmatrix}$\n",
    "       -   $\\begin{pmatrix} 8 & 10 \\\\ 14 & 19 \\\\ 50 & 76 \\end{pmatrix}$ ($\\checkmark$)\n",
    "       -   $\\begin{pmatrix} 0 & 8 \\\\ 4 & 15 \\\\ 9 & 8 \\end{pmatrix}$\n",
    "       -   not possible\n",
    "       \n",
    "       $$\n",
    "        B A =\n",
    "        \\begin{pmatrix} 0 & 2 \\\\ 1 & 3 \\\\ 9 & 8 \\end{pmatrix}\n",
    "        \\begin{pmatrix} 2 & 4 \\\\ 4 & 5 \\end{pmatrix}\n",
    "         =\n",
    "        \\begin{pmatrix}\n",
    "        0 \\times 2 + 2 \\times 4 &\n",
    "        0 \\times 4 + 2 \\times 5 \\\\\n",
    "        1 \\times 2 + 3 \\times 4 &\n",
    "        1 \\times 4 + 3 \\times 5 \\\\\n",
    "        9 \\times 2 + 8 \\times 4 &\n",
    "        9 \\times 4 + 8 \\times 5\n",
    "        \\end{pmatrix}\n",
    "        =\n",
    "        \\begin{pmatrix}\n",
    "        8 & 10 \\\\\n",
    "        14 & 19 \\\\\n",
    "        50 & 76\n",
    "        \\end{pmatrix}\n",
    "        $$\n",
    "\n",
    "    b.  $A^T A + C D$;\n",
    "\n",
    "       -   $\\begin{pmatrix} 4 & 16 \\\\ 16 & 25 \\end{pmatrix}$\n",
    "       -   $\\begin{pmatrix} 23 & 27 \\\\ 34 & 39 \\end{pmatrix}$\n",
    "       -   $\\begin{pmatrix} 23 & 34 \\\\ 27 & 39 \\end{pmatrix}$ ($\\checkmark$)\n",
    "       -   not possible\n",
    "       \n",
    "       $$\n",
    "        A^T A\n",
    "        =\n",
    "        \\begin{pmatrix} 2 & 4 \\\\ 4 & 5 \\end{pmatrix}\n",
    "        \\begin{pmatrix} 2 & 4 \\\\ 4 & 5 \\end{pmatrix}\n",
    "        =\n",
    "        \\begin{pmatrix}\n",
    "        2 \\times 2 + 4 \\times 4 &\n",
    "        2 \\times 4 + 4 \\times 5 \\\\\n",
    "        4 \\times 2 + 5 \\times 4 &\n",
    "        4 \\times 4 + 5 \\times 5\n",
    "        \\end{pmatrix}\n",
    "        =\n",
    "        \\begin{pmatrix}\n",
    "        20 & 28 \\\\\n",
    "        28 & 41\n",
    "        \\end{pmatrix}\n",
    "       $$\n",
    "\n",
    "       $$\n",
    "        C D\n",
    "        =\n",
    "        \\begin{pmatrix} 3 \\\\ -1 \\end{pmatrix}\n",
    "        \\begin{pmatrix} 1 & 2 \\end{pmatrix}\n",
    "        =\n",
    "        \\begin{pmatrix}\n",
    "        3 \\times 1 & 3 \\times 2 \\\\\n",
    "        -1 \\times 1 & -1 \\times 2\n",
    "        \\end{pmatrix}\n",
    "        =\n",
    "        \\begin{pmatrix}\n",
    "        3 & 6 \\\\\n",
    "        -1 & -2\n",
    "        \\end{pmatrix}\n",
    "       $$\n",
    "\n",
    "       $$\n",
    "        A^T A + CD\n",
    "        =\n",
    "        \\begin{pmatrix}\n",
    "        20 & 28 \\\\\n",
    "        28 & 41\n",
    "        \\end{pmatrix}\n",
    "        +\n",
    "        \\begin{pmatrix}\n",
    "        3 & 6 \\\\\n",
    "        -1 & -2\n",
    "        \\end{pmatrix}\n",
    "        =\n",
    "        \\begin{pmatrix}\n",
    "        23 & 34 \\\\\n",
    "        27 & 39\n",
    "        \\end{pmatrix}\n",
    "       $$\n",
    "\n",
    "    c.  $B B^T + (C D)^T$.\n",
    "\n",
    "       -   $\\begin{pmatrix} 7 & 5 & 16 \\\\ 12 & 8 & 33 \\\\ 16 & 33 & 145 \\end{pmatrix}$\n",
    "       -   $\\begin{pmatrix} 4 & 6 & 16 \\\\ 6 & 10 & 33 \\\\ 16 & 33 & 145 \\end{pmatrix}$\n",
    "       -   $\\begin{pmatrix} 7 & 12 & 16 \\\\ 5 & 8 & 33 \\\\ 16 & 33 & 145 \\end{pmatrix}$\n",
    "       -   not possible ($\\checkmark$)\n",
    "       \n",
    "       This is not possible. $B B^T$ is a $3 \\times 3$ matrix whereas $(C D)^T$ is a $2 \\times 2$ matrix so we cannot perform the sum."
   ]
  },
  {
   "cell_type": "markdown",
   "id": "7d1ada0d",
   "metadata": {},
   "source": [
    "3.  **Matrices and vectors** Consider the four matrices\n",
    "\n",
    "    $$\n",
    "    A = \\begin{pmatrix} 1 & 3 \\\\ 0 & 2 \\\\ 1 & -3 \\\\ -2 & 8 \\end{pmatrix},\n",
    "    B = \\begin{pmatrix} 0 & 1 & 1 \\\\ 1 & 0 & -1 \\end{pmatrix},\n",
    "    C = \\begin{pmatrix} 2 \\\\ -1 \\\\ -3 \\end{pmatrix},\n",
    "    D = \\begin{pmatrix} 9 & 11 & 17 & 13 \\end{pmatrix}.\n",
    "    $$\n",
    "\n",
    "\tOf the sixteen possible products only four give a well defined matrix product. State which four. **\\[ 4 marks \\]**\n",
    "    \n",
    "    We note that $A$ is $4 \\times 2$, $B$ is $2 \\times 3$, $C$ is $3 \\times 1$ and $D$ is $1 \\times 4$. So the possibilities are:\n",
    "\n",
    "    $AB$, $BC$, $CD$, $DA$"
   ]
  },
  {
   "cell_type": "markdown",
   "id": "f6f00362",
   "metadata": {},
   "source": [
    "## Part 2: Free answer questions (8 marks)"
   ]
  },
  {
   "cell_type": "code",
   "execution_count": null,
   "id": "cdbf430a",
   "metadata": {},
   "outputs": [],
   "source": [
    "import numpy as np\n",
    "import pandas as pd"
   ]
  },
  {
   "cell_type": "markdown",
   "id": "de3a7c18",
   "metadata": {},
   "source": [
    "Please upload a single file containing the answers to all parts of question 4. Code and tables should be included in-line. You should clearly label each part of your answer.\n",
    "\n",
    "4.  Archimedes approximated $\\pi$ by determining lengths of the perimeters of polygons inscribing and circumscribing a circle of diameter 1. Starting with the hexagon and successively doubling the number of sides, we have the recurrence formula for the side length in the circumscribed polygon, at step $n+1$,\n",
    "\n",
    "     $$\n",
    "        \\begin{aligned}\n",
    "        p_{n+1} & = \\frac{ \\sqrt{p_n^2+1} - 1 }{ p_n } && \\mbox{ for } n=0,1,2,\\ldots\n",
    "\t\t&& (1) \\\\\n",
    "     p_0 & = \\frac{1}{\\sqrt{3}}.\n",
    "     \\end{aligned}\n",
    "    $$\n",
    "\n",
    "\tThus $\\pi$ can be found as a limit, noticing that the number of sides is $6 \\cdot 2^n$,\n",
    "\n",
    "\t$$\n",
    "      \\pi = \\lim_{n \\to \\infty} 6 \\cdot 2^n \\cdot p_n = 3.141592653589793\\ldots\n",
    "    $$\n",
    "\n",
    "    We can use this iteration to write code to compute $\\pi$ using:"
   ]
  },
  {
   "cell_type": "code",
   "execution_count": null,
   "id": "8e9b2bd0",
   "metadata": {},
   "outputs": [],
   "source": [
    "def side_length(n):\n",
    "    \"\"\"\n",
    "    Compute the length of one side of a polygon with 6*2**n sides.\n",
    "\n",
    "    ARGUMENTS:  n  positive integer to calculate number of sides.\n",
    "\n",
    "    RETURNS:    float\n",
    "    \"\"\"\n",
    "    assert n >= 0\n",
    "\n",
    "    if n == 0:\n",
    "        return 1.0 / np.sqrt(3.0)\n",
    "\n",
    "    p = side_length(n - 1)\n",
    "    return (np.sqrt(p * p + 1.0) - 1.0) / p\n",
    "\n",
    "\n",
    "def pi_approx(n):\n",
    "    \"\"\"\n",
    "    Compute an approximation to pi using polygonal approxmations of\n",
    "    a circle.\n",
    "\n",
    "    ARGUMENTS:  n postive integer\n",
    "\n",
    "    RETURNS:    float approximation of pi\n",
    "    \"\"\"\n",
    "    return 6.0 * 2**n * side_length(n)"
   ]
  },
  {
   "cell_type": "markdown",
   "id": "951d24ce",
   "metadata": {},
   "source": [
    "a.  Produce a table of values of `n`, `pi_approx(n)` and the error between $\\pi$ and its approximation for `n` between 0 and 50 inclusive (any format is fine). What is the maximum number of correct digits you found? **\\[1 mark\\]**"
   ]
  },
  {
   "cell_type": "code",
   "execution_count": null,
   "id": "eb18acf2",
   "metadata": {},
   "outputs": [],
   "source": [
    "table_headers = [\"n\", \"pi_approx(n)\", \"error\"]\n",
    "table_data = []\n",
    "\n",
    "for n in range(0, 51):\n",
    "    my_pi = pi_approx(n)\n",
    "    error = abs(my_pi - np.pi)\n",
    "\n",
    "    table_data.append([n, my_pi, error])\n",
    "\n",
    "df = pd.DataFrame(table_data, columns=table_headers)\n",
    "df.style.format({\"n\": \"{:d}\", \"pi_approx(n)\": \"{:.16f}\", \"error\": \"{:.10e}\"})"
   ]
  },
  {
   "cell_type": "markdown",
   "id": "f818d79b",
   "metadata": {},
   "source": [
    "The maximum number of correct digits is 8."
   ]
  },
  {
   "cell_type": "markdown",
   "id": "16bc30a7",
   "metadata": {},
   "source": [
    "b.  Iterating further after the best approximation, what would you see? Why? **\\[ 2 marks \\]**"
   ]
  },
  {
   "cell_type": "markdown",
   "id": "fcf18862",
   "metadata": {},
   "source": [
    "After the best approximation the floating point rounding errors start to build up causing oscillations and untrusted solutions. Eventually, at $n=26$, $p_{26}$ becomes too small relative to 1 so that $\\sqrt{p_n^2+1}$ is calculated as $1$ so the next iterate $p_{27} = 0$. At the next iterate we divide by zero and get `nan`. \\[1 mark for any reasonable description of the behaviour\\]\n",
    "\n",
    "This happens because $p_n$ is becoming smaller as $n$ becomes larger. This means that $\\sqrt{p_n^2+1} \\approx 1$ and we loose precision finding the difference between two similar numbers. \\[1 mark for saying the subtraction of two similar numbers is bad\\]"
   ]
  },
  {
   "cell_type": "markdown",
   "id": "678b5b62",
   "metadata": {},
   "source": [
    "c.  Find iteration steps at which the formula eq. (1) cannot be trusted. **\\[1 marks \\]**"
   ]
  },
  {
   "cell_type": "markdown",
   "id": "b01c531c",
   "metadata": {},
   "source": [
    "I would not trust the behaviour for $n \\ge 14$. \\[1 Mark for any number between 12 and 18\\]"
   ]
  },
  {
   "cell_type": "markdown",
   "id": "0d89f128",
   "metadata": {},
   "source": [
    "d.  Rewrite eq. (1), in order to improve the accuracy. Implement this new formula in python. Produce a table of values of `n`, `pi_approx(n)` and the error between $\\pi$ and its approximation for `n` between 0 and 50 inclusive (any format is fine). Please submit your code and the error table. **\\[ 2 marks \\]**"
   ]
  },
  {
   "cell_type": "markdown",
   "id": "34dd626e",
   "metadata": {},
   "source": [
    "We can rewrite the iteration as\n",
    "\n",
    "$$\n",
    "\\begin{aligned}\n",
    "p_{n+1} & = \\frac{p_n}{\\sqrt{p_n^2 + 1} + 1} && \\mbox{ for } n=0,1,2,\\ldots \\\\\n",
    "p_0 & = \\frac{1}{\\sqrt{3}}.\n",
    "\\end{aligned}\n",
    "$$\n",
    "\n",
    "This follow by multiplying the previous expression by\n",
    "\n",
    "$$\\dfrac{\\sqrt{p_n^2+1} + 1}{\\sqrt{p_n^2+1} + 1} = 1.$$"
   ]
  },
  {
   "cell_type": "code",
   "execution_count": null,
   "id": "04477c2d",
   "metadata": {},
   "outputs": [],
   "source": [
    "def side_length_v2(n):\n",
    "    \"\"\"\n",
    "    Compute the length of one side of a polygon with 6*2**n sides.\n",
    "    The formula has been rewritten to avoid floating point errors.\n",
    "\n",
    "    ARGUMENTS:  n  positive integer used to calculate number of\n",
    "                   sides.\n",
    "\n",
    "    RETURNS:    float\n",
    "    \"\"\"\n",
    "    assert n >= 0\n",
    "\n",
    "    if n == 0:\n",
    "        return 1.0 / np.sqrt(3.0)\n",
    "\n",
    "    p = side_length_v2(n - 1)\n",
    "    return p / (np.sqrt(p * p + 1) + 1)\n",
    "\n",
    "\n",
    "def pi_approx_v2(n):\n",
    "    \"\"\"\n",
    "    Compute an approximation to pi using polygonal approxmations of\n",
    "    a circle.\n",
    "\n",
    "    ARGUMENTS:  n postive integer\n",
    "\n",
    "    RETURNS:    float approximation of pi\n",
    "    \"\"\"\n",
    "    return 6.0 * 2**n * side_length_v2(n)"
   ]
  },
  {
   "cell_type": "code",
   "execution_count": null,
   "id": "b5bd88b3",
   "metadata": {},
   "outputs": [],
   "source": [
    "table_headers = [\"n\", \"pi_approx(n)\", \"error\"]\n",
    "table_data = []\n",
    "\n",
    "for n in range(0, 51):\n",
    "    my_pi = pi_approx_v2(n)\n",
    "    error = abs(my_pi - np.pi)\n",
    "\n",
    "    table_data.append([n, my_pi, error])\n",
    "\n",
    "df = pd.DataFrame(table_data, columns=table_headers)\n",
    "df.style.format({\"n\": \"{:d}\", \"pi_approx(n)\": \"{:.16f}\", \"error\": \"{:.10e}\"})"
   ]
  },
  {
   "cell_type": "markdown",
   "id": "0a7a04a6",
   "metadata": {},
   "source": [
    "e.  Compute $\\pi$ again using the formula obtained in part d. How many correct digits can you achieve now? If you make more and more iterations after the best approximation, comment on what you observe by considering each term in your iteration formula. **\\[ 2 marks \\]**"
   ]
  },
  {
   "cell_type": "markdown",
   "id": "ee255128",
   "metadata": {},
   "source": [
    "We can now achieve 15 digits of accuracy. \\[ 1 mark \\]\n",
    "\n",
    "There now is no best approximation and we can trust all iterations. Now as $p_n$ gets smaller each term stays well conditioned. We see that $\\sqrt{p_n^2 +1} + 1 = 2$ in double precision arithmetic for $n \\ge 25$ which does not result in any rounding errors and balances the doubling of the term $2^n$. \\[ 1 mark for any reasonable reasoning here \\]"
   ]
  }
 ],
 "metadata": {
  "kernelspec": {
   "display_name": "Python 3 (ipykernel)",
   "language": "python",
   "name": "python3"
  },
  "language_info": {
   "codemirror_mode": {
    "name": "ipython",
    "version": 3
   },
   "file_extension": ".py",
   "mimetype": "text/x-python",
   "name": "python",
   "nbconvert_exporter": "python",
   "pygments_lexer": "ipython3",
   "version": "3.8.16"
  }
 },
 "nbformat": 4,
 "nbformat_minor": 5
}
