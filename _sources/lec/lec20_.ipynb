{
 "cells": [
  {
   "cell_type": "markdown",
   "id": "399e94cb",
   "metadata": {
    "slideshow": {
     "slide_type": "slide"
    }
   },
   "source": [
    "# Lecture 20: Overview, review and looking forward\n",
    "\n",
    "*Slides*: https://comp2421-numerical-computation.gitlab.io/book/lec/lec20_.html\n",
    "\n",
    "*Module feedback*: https://leeds.bluera.com/leeds, deadline Friday 6th January 2023"
   ]
  },
  {
   "cell_type": "code",
   "execution_count": null,
   "id": "768fd78c",
   "metadata": {
    "tags": [
     "remove-input"
    ]
   },
   "outputs": [],
   "source": [
    "import qrcode\n",
    "\n",
    "qrcodeimg = qrcode.make(\n",
    "    \"https://comp2421-numerical-computation.gitlab.io/lec/lec20_.html\"\n",
    ")\n",
    "feedbackimg = qrcode.make(\"https://go.blueja.io/a6P3NppwDEOIc24AyhNe-w\")\n",
    "\n",
    "from matplotlib import pyplot as plt\n",
    "\n",
    "fig, ax = plt.subplots(1, 2)\n",
    "ax[0].imshow(qrcodeimg, cmap=\"gray\")\n",
    "ax[0].set_title(\"Slides\")\n",
    "ax[0].axis(\"off\")\n",
    "ax[1].imshow(feedbackimg, cmap=\"gray\")\n",
    "ax[1].set_title(\"Feedback\")\n",
    "ax[1].axis(\"off\")\n",
    "plt.show()"
   ]
  },
  {
   "cell_type": "markdown",
   "id": "bb68aff6",
   "metadata": {
    "slideshow": {
     "slide_type": "slide"
    }
   },
   "source": [
    "## Exam in January\n",
    "\n",
    "Monday 23 January, 9am, 2 hour exam\n",
    "\n",
    "Computer Exam 1 (see next slide)\n",
    "\n",
    "*This information supersede what is stated in the module catalogue and previous in the notes*"
   ]
  },
  {
   "cell_type": "markdown",
   "id": "9456d21e",
   "metadata": {
    "slideshow": {
     "slide_type": "subslide"
    }
   },
   "source": [
    "## Computer Exam 1\n",
    "\n",
    "You will be in a room on campus with a *Windows* university machine.\n",
    "\n",
    "You will have access to:\n",
    "\n",
    "- Minerva\n",
    "- Gradescope\n",
    "- Notes (comp2421-numerical-computation.gitlab.io/book)\n",
    "- Jupyter\n",
    "    - Binder - **It is your responsibility to ensure the extenal service is available**\n",
    "    - Apps anywhere  (see next slide)\n",
    "\n",
    "- Rough working paper\n",
    "\n",
    "You should bring:\n",
    "\n",
    "- University ID card\n",
    "\n",
    "Ahead of the exam you should read the [university guidence](https://students.leeds.ac.uk/info/10111/assessment/858/on_campus_examinations_preparation_and_arrangements)."
   ]
  },
  {
   "cell_type": "markdown",
   "id": "eef599c3",
   "metadata": {
    "slideshow": {
     "slide_type": "subslide"
    }
   },
   "source": [
    "## AppsAnywhere\n",
    "\n",
    "demo\n",
    "\n",
    "[KB0014827: Getting started with AppsAnywhere](https://leeds.service-now.com/it?id=kb_article&sysparm_article=KB0014827)\n",
    "\n",
    "**It is your responsibility to test you can open Jupyter Notebook via AppsAnywhere before the exam**\n",
    "\n",
    "You can do this by:\n",
    "\n",
    "- visiting a Windows cluster\n",
    "- [KB0014379: Using Windows Virtual Desktop (WVD)](https://it.leeds.ac.uk/it?id=kb_article&sysparm_article=KB0014379)\n",
    "\n",
    "You should ensure any files you require are already available before the exam"
   ]
  },
  {
   "cell_type": "markdown",
   "id": "9801f9d8",
   "metadata": {
    "slideshow": {
     "slide_type": "subslide"
    }
   },
   "source": [
    "### Python\n",
    "\n",
    "For this module, you are expected to be able to read, understand and construct simple scripts and functions, to implement simple algorithms, or to modify algorithms for your needs, and to be able to present and interpret the outputs from these. To this end, you should be familiar with elementary python notation and syntax (in particular, vectors, matrices, indicies, loops and branches).\n",
    "\n",
    "**You will not need to write any code during the exam. All questions can be answered using pen and paper.**\n",
    "\n",
    "**You may prefer to use your own/the provided solutions to help answer some questions. It is your responsibility to make sure the code does what it should.**"
   ]
  },
  {
   "cell_type": "markdown",
   "id": "e1086305",
   "metadata": {
    "slideshow": {
     "slide_type": "slide"
    }
   },
   "source": [
    "### Past papers\n",
    "\n",
    "Last years assessments - available via gitlab\n",
    "\n",
    "- [Coursework 1](../cw/cw01.md)\n",
    "- [Coursework 2](../cw/cw02.md)\n",
    "- [Exam](../cw/exam.md)"
   ]
  },
  {
   "cell_type": "markdown",
   "id": "2b6da351",
   "metadata": {
    "slideshow": {
     "slide_type": "subslide"
    }
   },
   "source": [
    "Some older exams from recent years are on minerva\n",
    "\n",
    "-   These were set by someone else\n",
    "-   They were closed book\n",
    "-   They are too long\n",
    "-   Ignore questions on Newton interpolation."
   ]
  },
  {
   "cell_type": "markdown",
   "id": "c4672a22",
   "metadata": {
    "slideshow": {
     "slide_type": "slide"
    }
   },
   "source": [
    "### Examinable material\n",
    "\n",
    "In this module **everything** may be assessed:\n",
    "\n",
    "-   All material in lectures;\n",
    "\n",
    "-   All material in formative worksheets and summative courseworks."
   ]
  },
  {
   "cell_type": "markdown",
   "id": "144ef00c",
   "metadata": {
    "slideshow": {
     "slide_type": "subslide"
    }
   },
   "source": [
    "### What's expected and what to expect\n",
    "\n",
    "I will expect you to be **able to apply** and **understand** all of the algorithms discussed:\n",
    "\n",
    "-   I will expect you to understand when to use an algorithm.\n",
    "\n",
    "-   I will expect you to understand how to analyse an algorithm either based on the algorithm itself or numerical results from the algorithm.\n",
    "\n",
    "-   I will expect you to be able to understand variations and generalisations of algorithms, and to implement them.\n",
    "\n",
    "-   I will expect you to understand and apply simple derivatives."
   ]
  },
  {
   "cell_type": "markdown",
   "id": "2ef80b56",
   "metadata": {
    "slideshow": {
     "slide_type": "slide"
    }
   },
   "source": [
    "## Review\n",
    "\n",
    "###   Floating point numbers\n",
    "\n",
    "$$(\\beta, t, L, U)$$\n",
    "\n",
    "-   Representations and rounding\n",
    "-   $eps$, machine precision"
   ]
  },
  {
   "cell_type": "markdown",
   "id": "f5863e03",
   "metadata": {
    "slideshow": {
     "slide_type": "subslide"
    }
   },
   "source": [
    "###   Matrices and vectors\n",
    "\n",
    "$$\n",
    "A = \\begin{pmatrix} 4 & 5 \\\\ 3 & -1 \\end{pmatrix}\n",
    "$$\n",
    "\n",
    "-   Multiplication\n",
    "-   Inner product\n",
    "-   Euclidean norms"
   ]
  },
  {
   "cell_type": "markdown",
   "id": "3e892f34",
   "metadata": {
    "slideshow": {
     "slide_type": "subslide"
    }
   },
   "source": [
    "###   Systems of linear equations\n",
    "\n",
    "$$\n",
    "A \\vec{x} = \\vec{b}\n",
    "$$\n",
    "\n",
    "-   Translating between matrices and systems of linear equations\n",
    "-   Deriving simple linear systems of equations\n",
    "-   Solving triangular systems of equations\n",
    "-   Gaussian Elimination\n",
    "-   LU factorisation\n",
    "-   Jacobi iteration\n",
    "-   Gauss Seidel iteration\n",
    "-   Initial guesses, convergence and stopping criteria"
   ]
  },
  {
   "cell_type": "markdown",
   "id": "a89f7103",
   "metadata": {
    "slideshow": {
     "slide_type": "subslide"
    }
   },
   "source": [
    "###   Dynamic problems\n",
    "\n",
    "$$\n",
    "y'(t) = f(t, y) \\quad \\text{subject to} \\quad y(t_0) = y_0\n",
    "$$\n",
    "\n",
    "-   Derivatives, gradients/slopes and rates of change\n",
    "-   Reading and drawing simple graphs\n",
    "-   Deriving models for simple dynamic problems\n",
    "-   Initial conditions\n",
    "-   Euler's method\n",
    "-   Midpoint scheme"
   ]
  },
  {
   "cell_type": "markdown",
   "id": "84377a83",
   "metadata": {
    "slideshow": {
     "slide_type": "subslide"
    }
   },
   "source": [
    "### Nonlinear equations\n",
    "\n",
    "$$\n",
    "f(x) = 0\n",
    "$$\n",
    "\n",
    "-   Roots of an equation\n",
    "-   Bisection algorithm\n",
    "-   Newton's method\n",
    "-   Quasi Newton methods\n",
    "-   Hybrid methods"
   ]
  },
  {
   "cell_type": "markdown",
   "id": "aed83670",
   "metadata": {
    "slideshow": {
     "slide_type": "subslide"
    }
   },
   "source": [
    "###   Data fitting\n",
    "\n",
    "-   How to form a system of linear equations to find a simple curve of best fit\n",
    "-   How to find a best fit solution\n",
    "-   When to choose which curve (from a simple choice)\n",
    "-   Problems with our approach"
   ]
  },
  {
   "cell_type": "markdown",
   "id": "63bfd218",
   "metadata": {
    "slideshow": {
     "slide_type": "slide"
    }
   },
   "source": [
    "## What next....?\n",
    "\n",
    "-   You will apply ideas from this course in many areas of computer science including\n",
    "\n",
    "    -   graphics;\n",
    "    -   artificial intelligence/machine learning.\n",
    "\n",
    "-   There are plenty of opportunities for Final Year Projects on topics in numerical computation. If you are interested talk to me (or Yongxing Wang).\n",
    "\n",
    "-   There are also funded places for further study in numerical computation...."
   ]
  },
  {
   "cell_type": "markdown",
   "id": "d4480c8f",
   "metadata": {
    "slideshow": {
     "slide_type": "slide"
    }
   },
   "source": [
    "**Thank you for your attention!**\n",
    "\n",
    "Good luck with your exam and future studies\n",
    "\n",
    "I hope you have a good Christmas break!"
   ]
  },
  {
   "cell_type": "code",
   "execution_count": null,
   "id": "0112ddff",
   "metadata": {
    "slideshow": {
     "slide_type": "fragment"
    },
    "tags": [
     "remove-input"
    ]
   },
   "outputs": [],
   "source": [
    "from IPython.display import YouTubeVideo\n",
    "\n",
    "YouTubeVideo(\"nud2TQNahaU\", 560, 315, rel=0, autoplay=1, allow_autoplay=True)"
   ]
  }
 ],
 "metadata": {
  "kernelspec": {
   "display_name": "Python 3 (ipykernel)",
   "language": "python",
   "name": "python3"
  },
  "language_info": {
   "codemirror_mode": {
    "name": "ipython",
    "version": 3
   },
   "file_extension": ".py",
   "mimetype": "text/x-python",
   "name": "python",
   "nbconvert_exporter": "python",
   "pygments_lexer": "ipython3",
   "version": "3.8.16"
  }
 },
 "nbformat": 4,
 "nbformat_minor": 5
}
