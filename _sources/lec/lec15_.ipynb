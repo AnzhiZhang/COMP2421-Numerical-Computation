{
 "cells": [
  {
   "cell_type": "code",
   "execution_count": null,
   "id": "d537fd3f",
   "metadata": {
    "slideshow": {
     "slide_type": "skip"
    },
    "tags": [
     "remove-input"
    ]
   },
   "outputs": [],
   "source": [
    "from matplotlib import pyplot as plt\n",
    "import numpy as np\n",
    "from IPython.display import YouTubeVideo\n",
    "import pandas as pd\n",
    "import sys\n",
    "\n",
    "plt.rcParams[\"figure.figsize\"] = [5, 3.1]"
   ]
  },
  {
   "cell_type": "markdown",
   "id": "fbd5c30b",
   "metadata": {
    "slideshow": {
     "slide_type": "slide"
    }
   },
   "source": [
    "# This week\n",
    "\n",
    "## **An introduction to nonlinear solvers**"
   ]
  },
  {
   "cell_type": "markdown",
   "id": "640bac74",
   "metadata": {
    "slideshow": {
     "slide_type": "slide"
    }
   },
   "source": [
    "# Why do we need nonlinear solvers?\n",
    "\n",
    "> Given a continuous function $f(x)$, the problem is to find a point $x^*$ such that $f(x^*) = 0$. That is, $x^*$ is a solution of the equation $f(x) = 0$ and is called a **root of $f(x)$**."
   ]
  },
  {
   "cell_type": "markdown",
   "id": "c2360e00",
   "metadata": {
    "slideshow": {
     "slide_type": "slide"
    }
   },
   "source": [
    "## Examples\n",
    "\n",
    "1.  The linear equation $f(x) = a x + b = 0$ has a single solution at $x^* = -\\frac{b}{a}$.\n",
    "\n",
    "2.  The quadratic equation $f(x) = a x^2 + b x + c = 0$ is nonlinear , but simple enough to have a known formula for the solutions\n",
    "\n",
    "    $$\n",
    "    x^* = \\frac{-b \\pm \\sqrt{b^2 - 4ac}}{2a}.\n",
    "    $$\n",
    "\n",
    "3.  A general nonlinear equation $f(x) = 0$ rarely has a formula like those above which can be used to calculate its roots."
   ]
  },
  {
   "cell_type": "markdown",
   "id": "c1bc0c0c",
   "metadata": {
    "slideshow": {
     "slide_type": "slide"
    }
   },
   "source": [
    "## Example from two years ago's exam paper\n",
    "\n",
    "We want to solve the quadratic equation\n",
    "\n",
    "$$f(x) = x^2 -(m+\\frac{1}{m}) x + 1 = 0$$\n",
    "\n",
    "for large values of $m$. The exact solutions are $m$ and $\\frac{1}{m}$."
   ]
  },
  {
   "cell_type": "code",
   "execution_count": null,
   "id": "107474ae",
   "metadata": {
    "slideshow": {
     "slide_type": "fragment"
    }
   },
   "outputs": [],
   "source": [
    "# implementation of quadratic formula\n",
    "def quad(a, b, c):\n",
    "    \"\"\"\n",
    "    Return the roots of the quadratic polynomial a x^2 + b x + c = 0.\n",
    "    \"\"\"\n",
    "    d = np.sqrt(b * b - 4 * a * c)\n",
    "    return (-b + d) / (2 * a), (-b - d) / (2 * a)"
   ]
  },
  {
   "cell_type": "code",
   "execution_count": null,
   "id": "e9d291a9",
   "metadata": {
    "slideshow": {
     "slide_type": "subslide"
    }
   },
   "outputs": [],
   "source": [
    "# test for m = 1e8\n",
    "m = 1e8\n",
    "roots = quad(1, -(m + 1 / m), 1)\n",
    "\n",
    "print(f\"{roots=}\")"
   ]
  },
  {
   "cell_type": "code",
   "execution_count": null,
   "id": "4e48c818",
   "metadata": {
    "slideshow": {
     "slide_type": "fragment"
    }
   },
   "outputs": [],
   "source": [
    "# absolute and relative errors\n",
    "exact_roots = (m, 1 / m)\n",
    "\n",
    "abs_error = (abs(roots[0] - exact_roots[0]), abs(roots[1] - exact_roots[1]))\n",
    "rel_error = (abs_error[0] / m, abs_error[1] / (1 / m))\n",
    "\n",
    "print(f\"{abs_error=}\")\n",
    "print(f\"{rel_error=}\")"
   ]
  },
  {
   "cell_type": "markdown",
   "id": "42e425b8",
   "metadata": {
    "slideshow": {
     "slide_type": "slide"
    }
   },
   "source": [
    "## The need for implicit time stepping methods (1)"
   ]
  },
  {
   "cell_type": "markdown",
   "id": "cec81ac1",
   "metadata": {
    "slideshow": {
     "slide_type": "fragment"
    }
   },
   "source": [
    "Consider the differential equation\n",
    "\n",
    "$$\n",
    "x'(t) = - 2 x(t), \\qquad \\text{ subject to } \\quad x(0) = 1.\n",
    "$$"
   ]
  },
  {
   "cell_type": "code",
   "execution_count": null,
   "id": "71cbf03e",
   "metadata": {
    "slideshow": {
     "slide_type": "subslide"
    }
   },
   "outputs": [],
   "source": [
    "def rhs1(x, t):\n",
    "    return -2 * x\n",
    "\n",
    "\n",
    "def euler(x0, dt, T, rhs):\n",
    "    # initialise memory\n",
    "    n = int(T / dt)\n",
    "    x = np.empty(n + 1)\n",
    "    t = np.empty(n + 1)\n",
    "\n",
    "    # starting values\n",
    "    x[0] = x0\n",
    "    t[0] = 0.0\n",
    "\n",
    "    # do the time loop\n",
    "    for j in range(n):\n",
    "        x[j + 1] = x[j] + dt * rhs(x[j], t[j])\n",
    "        t[j + 1] = t[j] + dt\n",
    "\n",
    "    return x, t"
   ]
  },
  {
   "cell_type": "code",
   "execution_count": null,
   "id": "f3fa891f",
   "metadata": {
    "slideshow": {
     "slide_type": "subslide"
    },
    "tags": [
     "remove-input"
    ]
   },
   "outputs": [],
   "source": [
    "x, t = euler(x0=1.0, dt=1.0, T=10.0, rhs=rhs1)\n",
    "plt.plot(t, x, \".-\", label=\"dt=1.0\")\n",
    "\n",
    "x, t = euler(x0=1.0, dt=0.1, T=10.0, rhs=rhs1)\n",
    "plt.plot(t, x, \".-\", label=\"dt=0.1\")\n",
    "\n",
    "x, t = euler(x0=1.0, dt=0.01, T=10.0, rhs=rhs1)\n",
    "plt.plot(t, x, \".-\", label=\"dt=0.01\")\n",
    "\n",
    "plt.title(\"Euler's method for $f(x) = -2x$\")\n",
    "plt.xlabel(\"t\")\n",
    "plt.ylabel(\"x\")\n",
    "plt.legend()\n",
    "plt.grid(\"on\")"
   ]
  },
  {
   "cell_type": "markdown",
   "id": "48776300",
   "metadata": {
    "slideshow": {
     "slide_type": "subslide"
    }
   },
   "source": [
    "Recall explicit Euler says:\n",
    "\n",
    "$$\n",
    "x^{(j+1)} = x^{(j)} + \\mathrm{dt} f(t^{(j)}, x^{(j)})\n",
    "$$\n",
    "\n",
    "\n",
    "Consider instead the **implicit Euler method**:\n",
    "\n",
    "$$\n",
    "x^{(j+1)} = x^{(j)} + \\mathrm{dt} f(t^{(j+1)}, x^{(j+1)})\n",
    "$$\n",
    "\n",
    "We can't simply evaluate the right hand side since we don't know $x^{(j+1)}$ yet!"
   ]
  },
  {
   "cell_type": "markdown",
   "id": "c8e6eb06",
   "metadata": {
    "slideshow": {
     "slide_type": "fragment"
    }
   },
   "source": [
    "For $f(x, t) = -2x$, we can compute that\n",
    "\n",
    "$$\n",
    "\\begin{aligned}\n",
    "x^{(j+1)} & = x^{(j)} + \\mathrm{dt} \\, f(t^{(j+1)}, x^{(j+1)}) \\\\\n",
    "        & = x^{(j)} - 2 \\, \\mathrm{dt} \\, x^{(j+1)} \\\\\n",
    "(1 + 2 \\Delta t) x^{(j+1)} & = x^{(j)} \\\\\n",
    "x^{(j+1)} & = \\frac{1}{1 + 2 \\mathrm{dt}} x^{(j)}.\n",
    "\\end{aligned}\n",
    "$$"
   ]
  },
  {
   "cell_type": "code",
   "execution_count": null,
   "id": "7f51fdf4",
   "metadata": {
    "slideshow": {
     "slide_type": "subslide"
    }
   },
   "outputs": [],
   "source": [
    "def implicit_euler(x0, dt, T):\n",
    "    # initialise memory\n",
    "    n = int(T / dt)\n",
    "    x = np.empty(n + 1)\n",
    "    t = np.empty(n + 1)\n",
    "\n",
    "    # starting values\n",
    "    x[0] = x0\n",
    "    t[0] = 0.0\n",
    "\n",
    "    # do the time loop\n",
    "    for j in range(n):\n",
    "        x[j + 1] = x[j] / (1.0 + 2.0 * dt)\n",
    "        t[j + 1] = t[j] + dt\n",
    "\n",
    "    return x, t"
   ]
  },
  {
   "cell_type": "code",
   "execution_count": null,
   "id": "59bca0e6",
   "metadata": {
    "slideshow": {
     "slide_type": "subslide"
    },
    "tags": [
     "remove-input"
    ]
   },
   "outputs": [],
   "source": [
    "x, t = implicit_euler(x0=1.0, dt=1.0, T=10.0)\n",
    "plt.plot(t, x, \".-\", label=\"dt=1.0\")\n",
    "\n",
    "x, t = implicit_euler(x0=1.0, dt=0.1, T=10.0)\n",
    "plt.plot(t, x, \".-\", label=\"dt=0.1\")\n",
    "\n",
    "x, t = implicit_euler(x0=1.0, dt=0.01, T=10.0)\n",
    "plt.plot(t, x, \".-\", label=\"dt=0.01\")\n",
    "\n",
    "plt.title(\"Implicit Euler's method for $f(x, t) = -2x$\")\n",
    "plt.xlabel(\"t\")\n",
    "plt.ylabel(\"x\")\n",
    "plt.legend()\n",
    "plt.grid(\"on\")"
   ]
  },
  {
   "cell_type": "markdown",
   "id": "1a0dceb6",
   "metadata": {
    "slideshow": {
     "slide_type": "slide"
    }
   },
   "source": [
    "## The need for implicit time stepping methods (2)"
   ]
  },
  {
   "cell_type": "markdown",
   "id": "4950410c",
   "metadata": {
    "slideshow": {
     "slide_type": "fragment"
    }
   },
   "source": [
    "Consider the differential equation\n",
    "\n",
    "$$\n",
    "x'(t) = - 2 x(t)^3 \\exp(-(1-x(t)^2)), \\qquad \\text{ subject to } \\quad x(0) = 1.\n",
    "$$"
   ]
  },
  {
   "cell_type": "code",
   "execution_count": null,
   "id": "7dc3a82e",
   "metadata": {
    "slideshow": {
     "slide_type": "fragment"
    }
   },
   "outputs": [],
   "source": [
    "def rhs2(x, t):\n",
    "    return -2 * x**3 * np.exp(-(1 - x**2))"
   ]
  },
  {
   "cell_type": "code",
   "execution_count": null,
   "id": "b4482963",
   "metadata": {
    "slideshow": {
     "slide_type": "subslide"
    },
    "tags": [
     "remove-input"
    ]
   },
   "outputs": [],
   "source": [
    "x, t = euler(x0=1.0, dt=1.0, T=10.0, rhs=rhs2)\n",
    "plt.plot(t, x, \".-\", label=\"dt=1.0\")\n",
    "\n",
    "x, t = euler(x0=1.0, dt=0.1, T=10.0, rhs=rhs2)\n",
    "plt.plot(t, x, \".-\", label=\"dt=0.1\")\n",
    "\n",
    "x, t = euler(x0=1.0, dt=0.01, T=10.0, rhs=rhs2)\n",
    "plt.plot(t, x, \".-\", label=\"dt=0.01\")\n",
    "\n",
    "plt.title(r\"Euler's method for $f(x, t) = - 2 x^3 \\exp(-(1-x^2))$\")\n",
    "plt.xlabel(\"t\")\n",
    "plt.ylabel(\"x\")\n",
    "plt.legend()\n",
    "plt.grid(\"on\")"
   ]
  },
  {
   "cell_type": "markdown",
   "id": "d2b8454c",
   "metadata": {
    "slideshow": {
     "slide_type": "subslide"
    }
   },
   "source": [
    "We might wish to use an implicit method, but how can we undo $f$??\n",
    "\n",
    "> Use a nonlinear solver!"
   ]
  },
  {
   "cell_type": "markdown",
   "id": "dc10dd53",
   "metadata": {
    "slideshow": {
     "slide_type": "slide"
    }
   },
   "source": [
    "## Other difficult problems (1)"
   ]
  },
  {
   "cell_type": "markdown",
   "id": "19bf2836",
   "metadata": {
    "slideshow": {
     "slide_type": "fragment"
    }
   },
   "source": [
    "The following formula allows the monthly repayments ($M$) on a compound interest mortgage (for a borrowing of $P$) to be calculated based upon an annual interest rate of $r$% and $n$ monthly payments ([more details](http://www.fonerbooks.com/interest.htm)).\n",
    "\n",
    "$$\n",
    "M = P \\frac{\\frac{r}{1200} \\left(1 + \\frac{r}{1200}\\right)^n}{\\left(1 + \\frac{r}{12000}\\right)^n - 1}.\n",
    "$$\n",
    "\n",
    "-   Suppose that we wish to work out how many monthly repayments of £1,000 would be required to repay a mortgage of £150,000 at an annual rate of 5%.\n",
    "\n",
    "-   This would require us to solve $f(n) = 0$ where $f(n) = 1000 - 150000 \\frac{\\frac{5}{1200}(1+\\frac{5}{1200})^n}{(1+\\frac{5}{1200})^n - 1}$."
   ]
  },
  {
   "cell_type": "markdown",
   "id": "17aa15c3",
   "metadata": {
    "slideshow": {
     "slide_type": "slide"
    }
   },
   "source": [
    "## Other difficult problems (2)\n",
    "\n",
    "Consider the NACA0012 prototype wing section, which is often used for testing computational methods for simulating flows in aerodynamics"
   ]
  },
  {
   "cell_type": "code",
   "execution_count": null,
   "id": "58a79c3b",
   "metadata": {
    "slideshow": {
     "slide_type": "fragment"
    },
    "tags": [
     "remove-input"
    ]
   },
   "outputs": [],
   "source": [
    "YouTubeVideo(\"wcahAqSFZ8k\", 560, 315, rel=0)"
   ]
  },
  {
   "cell_type": "markdown",
   "id": "fd25f1c8",
   "metadata": {
    "slideshow": {
     "slide_type": "fragment"
    }
   },
   "source": [
    "The profile is given by\n",
    "\n",
    "$$\n",
    "y^{\\pm}(x) = \\pm(0.2969 \\sqrt{x} - 0.126 x - 0.3516 x^2 + 0.2843 x^3 - 0.1015 x^4),\n",
    "$$\n",
    "\n",
    "in which $+$ gives the upper surface and $-$ gives the lower surface."
   ]
  },
  {
   "cell_type": "markdown",
   "id": "48e8306b",
   "metadata": {
    "slideshow": {
     "slide_type": "subslide"
    }
   },
   "source": [
    "Find the point $x$ at which the thickness $t$ of the aerofoil is $0.1$, i.e. solve $f(x) = 0$ where $f(x) = y^+(x) - y^-(x) - 0.1$.\n",
    "\n",
    "-   There will be two solutions for $x$ for this value of $t$."
   ]
  },
  {
   "cell_type": "code",
   "execution_count": null,
   "id": "3ad93956",
   "metadata": {
    "slideshow": {
     "slide_type": "fragment"
    },
    "tags": [
     "remove-input"
    ]
   },
   "outputs": [],
   "source": [
    "def f(x):\n",
    "    yp = (\n",
    "        -0.1015 * np.power(x, 4)\n",
    "        + 0.2843 * np.power(x, 3)\n",
    "        - 0.3516 * np.power(x, 2)\n",
    "        - 0.126 * x\n",
    "        + 0.2969 * np.sqrt(x)\n",
    "    )\n",
    "    return yp\n",
    "\n",
    "\n",
    "plt.axhline(0, color=\"0\")  # x = 0\n",
    "\n",
    "t = np.linspace(0, 1, 1000)\n",
    "p = plt.plot(t, f(t))\n",
    "plt.plot(t, -f(t), color=p[0].get_color())\n",
    "plt.axis(\"equal\")\n",
    "plt.grid(\"on\")\n",
    "\n",
    "plt.show()"
   ]
  },
  {
   "cell_type": "markdown",
   "id": "c3ec4e8e",
   "metadata": {
    "slideshow": {
     "slide_type": "slide"
    }
   },
   "source": [
    "# The bisection method\n",
    "\n",
    "1. Suppose the *know* there is a root $x^*$ ($f(x^*) = 0$) between two end points $a$ and $b$\n",
    "2. Call $c = \\dfrac{a+b}{2}$, then the solution is either between $a$ and $c$ or between $c$ and $b$\n",
    "3. If the solution is between $a$ and $c$\n",
    "    - then go to step 1. with the end points as $a$ and $c$\n",
    "    - otherwise, go to step 1. with the end points as $c$ and $b$\n",
    "    \n",
    "> How can we tell that we have a solution between $a$ and $b$?"
   ]
  },
  {
   "cell_type": "markdown",
   "id": "f21a2080",
   "metadata": {
    "slideshow": {
     "slide_type": "subslide"
    }
   },
   "source": [
    "## How do we know we have a solution between $a$ and $b$?"
   ]
  },
  {
   "cell_type": "code",
   "execution_count": null,
   "id": "241fc199",
   "metadata": {
    "tags": [
     "remove-input"
    ]
   },
   "outputs": [],
   "source": [
    "x = np.linspace(-1, 1)\n",
    "f = lambda x: np.tanh(x / 0.5 - 0.1)\n",
    "fx = f(x)\n",
    "\n",
    "plt.axhline(0, color=\"0\")  # x = 0\n",
    "\n",
    "a = -0.8\n",
    "b = 0.8\n",
    "plt.plot([a, a, -1], [-1, f(a), f(a)], \"0.80\")\n",
    "plt.plot([b, b, -1], [-1, f(b), f(b)], \"0.80\")\n",
    "\n",
    "plt.xticks([a, b], [\"a\", \"b\"])\n",
    "plt.yticks([f(a), f(b)], [\"f(a)\", \"f(b)\"])\n",
    "\n",
    "plt.plot(x, fx)\n",
    "\n",
    "plt.xlim(-1, 1)\n",
    "plt.ylim(-1, 1)\n",
    "\n",
    "plt.grid(False)\n",
    "plt.xlabel(\"x\")\n",
    "plt.ylabel(\"f(x)\")\n",
    "\n",
    "plt.show()"
   ]
  },
  {
   "cell_type": "markdown",
   "id": "58f81d92",
   "metadata": {
    "slideshow": {
     "slide_type": "fragment"
    }
   },
   "source": [
    "We test if $f(a)$ and $f(b)$ have opposite signs!"
   ]
  },
  {
   "cell_type": "code",
   "execution_count": null,
   "id": "ece73efc",
   "metadata": {
    "slideshow": {
     "slide_type": "subslide"
    },
    "tags": [
     "remove-input"
    ]
   },
   "outputs": [],
   "source": [
    "x = np.linspace(-1, 1)\n",
    "f = lambda x: np.tanh(x / 0.5 - 0.1)\n",
    "fx = f(x)\n",
    "\n",
    "plt.axhline(0, color=\"0\")  # x = 0\n",
    "\n",
    "a = -0.8\n",
    "b = 0.8\n",
    "c = (a + b) / 2.0\n",
    "\n",
    "plt.plot([a, a, -1], [-1, f(a), f(a)], \"0.80\")\n",
    "plt.plot([b, b, -1], [-1, f(b), f(b)], \"0.80\")\n",
    "plt.plot([c, c], [-1, f(c)], \"0.90\")\n",
    "\n",
    "plt.xticks([a, c, b], [\"a\", \"c\", \"b\"])\n",
    "plt.yticks([f(a), f(b)], [\"f(a)\", \"f(b)\"])\n",
    "\n",
    "plt.plot()\n",
    "\n",
    "plt.plot(x, fx)\n",
    "\n",
    "plt.xlim(-1, 1)\n",
    "plt.ylim(-1, 1)\n",
    "\n",
    "plt.grid(False)\n",
    "plt.xlabel(\"x\")\n",
    "plt.ylabel(\"f(x)\")\n",
    "\n",
    "plt.show()"
   ]
  },
  {
   "cell_type": "markdown",
   "id": "d30b5576",
   "metadata": {
    "slideshow": {
     "slide_type": "fragment"
    }
   },
   "source": [
    "$f(a)$ and $f(c)$ have opposite signs so solution is between $c$ and $b$!"
   ]
  },
  {
   "cell_type": "code",
   "execution_count": null,
   "id": "f2e41154",
   "metadata": {
    "slideshow": {
     "slide_type": "subslide"
    }
   },
   "outputs": [],
   "source": [
    "# Simple bisection implementation\n",
    "def bisection(func, a, b, tol=1.0e-10):\n",
    "    # Starting values\n",
    "    fa = func(a)\n",
    "    fb = func(b)\n",
    "\n",
    "    while b - a > tol:\n",
    "        # Find new mid point\n",
    "        c = (a + b) / 2\n",
    "        fc = func(c)\n",
    "\n",
    "        # if root is in left half of interval\n",
    "        if fa * fc < 0.0:\n",
    "            # move right end\n",
    "            b = c\n",
    "            fb = fc\n",
    "        else:\n",
    "            # otherwise,\n",
    "            # move the left end\n",
    "            a = c\n",
    "            fa = fc\n",
    "\n",
    "    return (a + b) / 2"
   ]
  },
  {
   "cell_type": "markdown",
   "id": "866413ce",
   "metadata": {
    "slideshow": {
     "slide_type": "slide"
    }
   },
   "source": [
    "## Implict Euler with bisection for the nonlinear solve\n",
    "\n",
    "Recall the differential equation:\n",
    "\n",
    "$$\n",
    "x'(t) = - 2 x(t)^3 \\exp(-(1-x(t)^2)), \\qquad \\text{ subject to } \\quad x(0) = 1.\n",
    "$$"
   ]
  },
  {
   "cell_type": "markdown",
   "id": "5ba4be1b",
   "metadata": {},
   "source": [
    "Recall the **implicit Euler method**:\n",
    "\n",
    "$$\n",
    "x^{(j+1)} = x^{(j)} + \\mathrm{dt} f(t^{(j+1)}, x^{(j+1)})\n",
    "$$\n",
    "\n",
    "We cast this as a nonlinear equation to solve at each timestep: Find $x^{(j+1)}$ such that\n",
    "\n",
    "$$\n",
    "F(x^{(j+1)}) := x^{(j+1)} - x^{(j)} - \\mathrm{dt} f(t^{(j+1)}, x^{(j+1)}) = 0.\n",
    "$$"
   ]
  },
  {
   "cell_type": "code",
   "execution_count": null,
   "id": "862a18a5",
   "metadata": {
    "slideshow": {
     "slide_type": "subslide"
    }
   },
   "outputs": [],
   "source": [
    "def implicit_euler(x0, dt, T):\n",
    "    # initialise memory\n",
    "    n = int(T / dt)\n",
    "    x = np.empty(n + 1)\n",
    "    t = np.empty(n + 1)\n",
    "\n",
    "    # starting values\n",
    "    x[0] = x0\n",
    "    t[0] = 0.0\n",
    "\n",
    "    # time loop\n",
    "    for j in range(n):\n",
    "        t[j + 1] = t[j] + dt\n",
    "\n",
    "        # nonlinear function to solve each time step\n",
    "        def F(xnew):\n",
    "            return xnew - x[j] - dt * rhs2(xnew, t[j + 1])\n",
    "\n",
    "        # perform the nonlinear solve\n",
    "        x[j + 1] = bisection(F, -1.0, 1.0)\n",
    "\n",
    "    return x, t"
   ]
  },
  {
   "cell_type": "code",
   "execution_count": null,
   "id": "89599fc0",
   "metadata": {
    "slideshow": {
     "slide_type": "subslide"
    },
    "tags": [
     "remove-input"
    ]
   },
   "outputs": [],
   "source": [
    "x, t = implicit_euler(x0=1.0, dt=1.0, T=10.0)\n",
    "plt.plot(t, x, \".-\", label=\"dt=1.0\")\n",
    "\n",
    "x, t = implicit_euler(x0=1.0, dt=0.1, T=10.0)\n",
    "plt.plot(t, x, \".-\", label=\"dt=0.1\")\n",
    "\n",
    "x, t = implicit_euler(x0=1.0, dt=0.01, T=10.0)\n",
    "plt.plot(t, x, \".-\", label=\"dt=0.01\")\n",
    "\n",
    "plt.title(\n",
    "    r\"Implicit Euler's method for $f(x, t) = - 2 x^3 \\exp(-(1-x^2))$ using Bisection\"\n",
    ")\n",
    "plt.xlabel(\"t\")\n",
    "plt.ylabel(\"x\")\n",
    "plt.grid(\"on\")\n",
    "plt.legend()\n",
    "plt.show()"
   ]
  },
  {
   "cell_type": "code",
   "execution_count": null,
   "id": "c7d636d6",
   "metadata": {
    "slideshow": {
     "slide_type": "skip"
    },
    "tags": [
     "remove-input"
    ]
   },
   "outputs": [],
   "source": [
    "def bisection_with_table(func, a, b, tol=1.0e-10):\n",
    "    # table information\n",
    "    headers = [\n",
    "        \"it\",\n",
    "        \"a\",\n",
    "        \"b\",\n",
    "        \"c\",\n",
    "        \"f(a) $\\\\times$ f(c) \",\n",
    "        \"sign(f(a) $\\\\times$ f(c))\",\n",
    "        \"update\",\n",
    "    ]\n",
    "    data = []\n",
    "\n",
    "    # Starting values\n",
    "    fa = func(a)\n",
    "    fb = func(b)\n",
    "    it = 0\n",
    "\n",
    "    while b - a > tol:\n",
    "        # Find new mid point\n",
    "        c = (a + b) / 2\n",
    "        fc = func(c)\n",
    "\n",
    "        # if root is in left half of interval\n",
    "        if fa * fc < 0.0:\n",
    "            # move right end\n",
    "            update = \"b <- c\"\n",
    "            sign = \"negative\"\n",
    "        else:\n",
    "            # otherwise,\n",
    "            # move the left end\n",
    "            update = \"a <- c\"\n",
    "            sign = \"positive\"\n",
    "\n",
    "        data.append([it, a, b, c, fa * fc, sign, update])\n",
    "\n",
    "        # if root is in left half of interval\n",
    "        if fa * fc < 0.0:\n",
    "            # move right end\n",
    "            b = c\n",
    "            fb = fc\n",
    "        else:\n",
    "            # otherwise,\n",
    "            # move the left end\n",
    "            a = c\n",
    "            fa = fc\n",
    "\n",
    "        it += 1\n",
    "\n",
    "    df = pd.DataFrame(data, columns=headers)\n",
    "    dp = -int(np.log10(tol)) + 1\n",
    "    return (\n",
    "        df.style.format(\n",
    "            f\"{{:.{dp}f}}\",\n",
    "            subset=[\n",
    "                \"a\",\n",
    "                \"b\",\n",
    "                \"c\",\n",
    "            ],\n",
    "        )\n",
    "        .format(f\"{{:.{dp}e}}\", subset=[\"f(a) $\\\\times$ f(c) \"])\n",
    "        .hide()\n",
    "    )"
   ]
  },
  {
   "cell_type": "markdown",
   "id": "42f7f9c1",
   "metadata": {
    "slideshow": {
     "slide_type": "slide"
    }
   },
   "source": [
    "## Example 2\n",
    "\n",
    "Use the bisection method to calculate the number of monthly repayments of £1,000 that are required to repay a mortgage of £150,000 at an annual rate of 5%.\n",
    "\n",
    "It is clear that 1 monthly repayment ($n=1$) will not be sufficient, whilst we should try a very large value of $n$ to try to bracket the correct solution."
   ]
  },
  {
   "cell_type": "code",
   "execution_count": null,
   "id": "7ae36f59",
   "metadata": {
    "slideshow": {
     "slide_type": "fragment"
    }
   },
   "outputs": [],
   "source": [
    "M = 1000\n",
    "P = 150000\n",
    "r = 5\n",
    "\n",
    "\n",
    "def f(x):\n",
    "    return M - P * ((r / 1200) * (1 + r / 1200) ** x) / ((1 + r / 1200) ** x - 1)"
   ]
  },
  {
   "cell_type": "code",
   "execution_count": null,
   "id": "5d4877af",
   "metadata": {
    "slideshow": {
     "slide_type": "subslide"
    },
    "tags": [
     "remove-input"
    ]
   },
   "outputs": [],
   "source": [
    "bisection_with_table(f, a=1, b=1000, tol=0.1)"
   ]
  },
  {
   "cell_type": "markdown",
   "id": "b817c8a9",
   "metadata": {
    "slideshow": {
     "slide_type": "slide"
    }
   },
   "source": [
    "## Example 3\n",
    "\n",
    "Use the bisection method to find the points at which the thickness of the NACA0012 aerofoil is 0.1 with an error of less than $10^{-4}$.\n",
    "\n",
    "It can be seen that $0 \\le x^* \\le 1$ but there are two solutions in this interval, so try $[x_L, x_R] = [0.5, 1]$ as the initial bracket."
   ]
  },
  {
   "cell_type": "code",
   "execution_count": null,
   "id": "82cd25a4",
   "metadata": {
    "slideshow": {
     "slide_type": "fragment"
    }
   },
   "outputs": [],
   "source": [
    "def f(x):\n",
    "    yp = (\n",
    "        -0.1015 * np.power(x, 4)\n",
    "        + 0.2843 * np.power(x, 3)\n",
    "        - 0.3516 * np.power(x, 2)\n",
    "        - 0.126 * x\n",
    "        + 0.2969 * np.sqrt(x)\n",
    "    )\n",
    "    t = 0.1\n",
    "    return yp - 0.5 * t"
   ]
  },
  {
   "cell_type": "code",
   "execution_count": null,
   "id": "4bc163c2",
   "metadata": {
    "slideshow": {
     "slide_type": "subslide"
    },
    "tags": [
     "remove-input"
    ]
   },
   "outputs": [],
   "source": [
    "bisection_with_table(f, a=0.5, b=1.0, tol=1.0e-4)"
   ]
  },
  {
   "cell_type": "markdown",
   "id": "363b5ce3",
   "metadata": {
    "slideshow": {
     "slide_type": "subslide"
    }
   },
   "source": [
    "# Example 4\n",
    "\n",
    "What about if the root is a turning point?\n",
    "\n",
    "$$\n",
    "f(x) = (x-1)^2 = x^2 - 2x + 1.\n",
    "$$"
   ]
  },
  {
   "cell_type": "code",
   "execution_count": null,
   "id": "851e2557",
   "metadata": {
    "tags": [
     "remove-input"
    ]
   },
   "outputs": [],
   "source": [
    "plt.axhline(0, color=\"0.8\")  # x = 0\n",
    "plt.axvline(0, color=\"0.8\")  # y = 0\n",
    "\n",
    "x = np.linspace(0, 2)\n",
    "y = (x - 1) ** 2\n",
    "\n",
    "plt.plot(x, y)\n",
    "plt.grid(\"on\")\n",
    "plt.show()"
   ]
  },
  {
   "cell_type": "markdown",
   "id": "d15a1438",
   "metadata": {
    "slideshow": {
     "slide_type": "subslide"
    }
   },
   "source": [
    "## Summary\n",
    "\n",
    "|                    | Bisection         |\n",
    "|--------------------|-------------------|\n",
    "| Simple algorithm   | yes               |\n",
    "| Starting values    | bracket           |\n",
    "| Iterations         | lots              |\n",
    "| Function evals     | one per iteration |\n",
    "| Convergence        | with good bracket |\n",
    "| Turing point roots | no                |\n",
    "| Use of derivative  | no                |"
   ]
  },
  {
   "cell_type": "markdown",
   "id": "c092def2",
   "metadata": {
    "slideshow": {
     "slide_type": "slide"
    }
   },
   "source": [
    "# Recap of the bisection method\n",
    "\n",
    "1. Suppose the *know* there is a root $x^*$ ($f(x^*) = 0$) between two end points $a$ and $b$\n",
    "2. Call $c = \\dfrac{a+b}{2}$, then the solution is either between $a$ and $c$ or between $c$ and $b$\n",
    "3. If the solution is between $a$ and $c$\n",
    "    - then go to step 1. with the end points as $a$ and $c$\n",
    "    - otherwise, go to step 1. with the end points as $c$ and $b$"
   ]
  },
  {
   "cell_type": "markdown",
   "id": "1589a81d",
   "metadata": {
    "slideshow": {
     "slide_type": "subslide"
    }
   },
   "source": [
    "## Bisection challenges (i)\n",
    "\n",
    "- How to determine an initial bracket $(a, b)$?\n",
    "\n",
    "    - You need to have that $f(a) \\times f(b) < 0$ - i.e. there is a change of sign!\n",
    "    - If $f(x) \\ge 0$ for all $x$, bisection is not possible\n",
    "    - If $f(a) = 0$ or $f(b) = 0$, then you have already found the route and you can stop!\n",
    "    - Big brackets take a long time to get small\n"
   ]
  },
  {
   "cell_type": "markdown",
   "id": "60ab197a",
   "metadata": {
    "slideshow": {
     "slide_type": "subslide"
    }
   },
   "source": [
    "\n",
    "## Bisection challenges (ii)\n",
    "\n",
    "- How do you know you've still trapped the root?\n",
    "\n",
    "    - If $f(a) \\times f(b) < 0$, then either $f(a) \\times f(c) < 0$, $f(b) \\times f(c) < 0$ or $f(c) = 0$.\n",
    "\n",
    "| sign($f(a)$) | sign($f(b)$) | sign($f(c)$) | root between |\n",
    "|--------------|--------------|--------------|--------------|\n",
    "| positive     | negative     | positive     | $c$ and $b$  |\n",
    "| positive     | negative     | negative     | $a$ and $c$  |\n",
    "| negative     | positive     | positive     | $a$ and $c$  |\n",
    "| negative     | positive     | negative     | $c$ and $b$  |\n",
    "| any          | any          | 0            | root is at $c$ |"
   ]
  },
  {
   "cell_type": "markdown",
   "id": "e95f7177",
   "metadata": {
    "slideshow": {
     "slide_type": "slide"
    }
   },
   "source": [
    "# Newton's method\n",
    "\n",
    "- The bisection method needs lots of iterations because it doesn't take into account the *value* of the function at the end points of the interval, only the *sign*\n",
    "\n",
    "- We consider now an alternative approach where we use the *derivative* of the function $f$ to help improve the convergence rate!"
   ]
  },
  {
   "cell_type": "markdown",
   "id": "b6088038",
   "metadata": {
    "slideshow": {
     "slide_type": "subslide"
    }
   },
   "source": [
    "## Derivation of Newton's method\n",
    "\n",
    "### 1. Evaluate function at current guess:"
   ]
  },
  {
   "cell_type": "code",
   "execution_count": null,
   "id": "5e71c8b9",
   "metadata": {
    "tags": [
     "remove-input"
    ]
   },
   "outputs": [],
   "source": [
    "x = np.linspace(-1, 1)\n",
    "f = lambda x: np.tanh(x / 0.5 - 0.1)\n",
    "fx = f(x)\n",
    "\n",
    "plt.axhline(0, color=\"0\")  # x = 0\n",
    "\n",
    "x0 = 0.5\n",
    "plt.plot([x0, x0, -1], [-1, f(x0), f(x0)], \"0.80\")\n",
    "plt.xticks([x0], [\"$x^{(0)}$\"])\n",
    "plt.yticks([f(x0)], [\"$f(x^{(0)})$\"])\n",
    "\n",
    "plt.plot(x, fx)\n",
    "plt.plot(x0, f(x0), \"o\")\n",
    "plt.show()"
   ]
  },
  {
   "cell_type": "markdown",
   "id": "c95c6ca4",
   "metadata": {
    "slideshow": {
     "slide_type": "subslide"
    }
   },
   "source": [
    "### 2. Trace tangent line using derivative"
   ]
  },
  {
   "cell_type": "code",
   "execution_count": null,
   "id": "5b1da976",
   "metadata": {
    "tags": [
     "remove-input"
    ]
   },
   "outputs": [],
   "source": [
    "x = np.linspace(-1, 1)\n",
    "f = lambda x: np.tanh(x / 0.5 - 0.1)\n",
    "df = lambda x: 2 * np.cosh(2.0 * x - 0.1) ** -2\n",
    "fx = f(x)\n",
    "\n",
    "plt.axhline(0, color=\"0\")  # x = 0\n",
    "\n",
    "x0 = 0.5\n",
    "plt.plot([x0, x0, -1], [-1, f(x0), f(x0)], \"0.80\")\n",
    "plt.xticks([x0], [\"$x^{(0)}$\"])\n",
    "plt.yticks([f(x0)], [\"$f(x^{(0)})$\"])\n",
    "\n",
    "plt.plot(x, fx)\n",
    "l = plt.plot(x0, f(x0), \"o\")\n",
    "\n",
    "plt.plot(x, f(x0) + (x - x0) * df(x0), color=l[0].get_color())\n",
    "\n",
    "plt.show()"
   ]
  },
  {
   "cell_type": "markdown",
   "id": "c96ef2df",
   "metadata": {
    "slideshow": {
     "slide_type": "subslide"
    }
   },
   "source": [
    "### 3. Next iterate $x_1$ is where tangent line crosses $x$-axis"
   ]
  },
  {
   "cell_type": "code",
   "execution_count": null,
   "id": "d0432593",
   "metadata": {
    "tags": [
     "remove-input"
    ]
   },
   "outputs": [],
   "source": [
    "x = np.linspace(-1, 1)\n",
    "f = lambda x: np.tanh(x / 0.5 - 0.1)\n",
    "df = lambda x: 2 * np.cosh(2.0 * x - 0.1) ** -2\n",
    "fx = f(x)\n",
    "\n",
    "plt.axhline(0, color=\"0\")  # x = 0\n",
    "\n",
    "x0 = 0.5\n",
    "\n",
    "x1 = x0 - f(x0) / df(x0)\n",
    "\n",
    "plt.plot([x0, x0, -1], [-1, f(x0), f(x0)], \"0.80\")\n",
    "plt.plot([x1, x1], [-1, 0.0], \"0.80\")\n",
    "\n",
    "plt.xticks([x0, x1], [\"$x^{(0)}$\", \"$x^{(1)}$\"])\n",
    "plt.yticks([f(x0)], [\"$f(x^{(0)})$\"])\n",
    "\n",
    "plt.plot(x, fx)\n",
    "l = plt.plot(x0, f(x0), \"o\")\n",
    "plt.plot(x1, f(x1), \"o\")\n",
    "\n",
    "plt.plot(x, f(x0) + (x - x0) * df(x0), color=l[0].get_color())\n",
    "\n",
    "plt.show()"
   ]
  },
  {
   "cell_type": "markdown",
   "id": "3c30c4ac",
   "metadata": {
    "slideshow": {
     "slide_type": "subslide"
    }
   },
   "source": [
    "### 4. Go back to step 1. and repeat!"
   ]
  },
  {
   "cell_type": "code",
   "execution_count": null,
   "id": "7cf4745d",
   "metadata": {
    "tags": [
     "remove-input"
    ]
   },
   "outputs": [],
   "source": [
    "x = np.linspace(-1, 1)\n",
    "f = lambda x: np.tanh(x / 0.5 - 0.1)\n",
    "df = lambda x: 2 * np.cosh(2.0 * x - 0.1) ** -2\n",
    "fx = f(x)\n",
    "\n",
    "plt.axhline(0, color=\"0\")  # x = 0\n",
    "\n",
    "x0 = 0.5\n",
    "x1 = x0 - f(x0) / df(x0)\n",
    "x2 = x1 - f(x1) / df(x1)\n",
    "\n",
    "plt.plot([x0, x0, -1], [-1, f(x0), f(x0)], \"0.80\")\n",
    "plt.plot([x1, x1, -1], [-1, f(x1), f(x1)], \"0.80\")\n",
    "plt.plot([x2, x2], [-1, 0.0], \"0.80\")\n",
    "\n",
    "plt.xticks([x0, x1, x2], [\"$x^{(0)}$\", \"$x^{(1)}$\", \"$x^{(2)}$\"])\n",
    "plt.yticks([f(x0), f(x1)], [\"$f(x^{(0)})$\", \"$f(x^{(1)})$\"])\n",
    "\n",
    "plt.plot(x, fx)\n",
    "l0 = plt.plot(x0, f(x0), \"o\")\n",
    "l1 = plt.plot(x1, f(x1), \"o\")\n",
    "plt.plot(x2, f(x2), \"o\")\n",
    "\n",
    "plt.plot(x, f(x0) + (x - x0) * df(x0), color=l0[0].get_color())\n",
    "plt.plot(x, f(x1) + (x - x1) * df(x1), color=l1[0].get_color())\n",
    "\n",
    "plt.show()"
   ]
  },
  {
   "cell_type": "markdown",
   "id": "70d2f937",
   "metadata": {
    "slideshow": {
     "slide_type": "subslide"
    }
   },
   "source": [
    "## So what's the formula?"
   ]
  },
  {
   "cell_type": "markdown",
   "id": "c51a2b4c",
   "metadata": {},
   "source": [
    "Slope is\n",
    "\n",
    "$$\n",
    "f'(x^{(0)}) = \\frac{f(x^{(0)}) - 0}{x^{(0)} - x^{(1)}}\n",
    "$$\n",
    "\n",
    "which rearranges to give\n",
    "\n",
    "$$\n",
    "x^{(1)} = x^{(0)} - \\frac{f(x^{(0)}}{f'(x^{(0)})}.\n",
    "$$"
   ]
  },
  {
   "cell_type": "markdown",
   "id": "3e27bae7",
   "metadata": {
    "slideshow": {
     "slide_type": "subslide"
    }
   },
   "source": [
    "## Python version"
   ]
  },
  {
   "cell_type": "code",
   "execution_count": null,
   "id": "2c1a7dc7",
   "metadata": {},
   "outputs": [],
   "source": [
    "def newton(f, df, x0, tol=1.0e-10):\n",
    "    x = x0\n",
    "\n",
    "    while abs(f(x)) > tol:\n",
    "        x = x - f(x) / df(x)\n",
    "\n",
    "    return x"
   ]
  },
  {
   "cell_type": "code",
   "execution_count": null,
   "id": "83dbfc65",
   "metadata": {
    "slideshow": {
     "slide_type": "subslide"
    }
   },
   "outputs": [],
   "source": [
    "def newton2(f, df, x0, tol=1.0e-10):\n",
    "    x = x0\n",
    "    fx = f(x)\n",
    "\n",
    "    while abs(fx) > tol:\n",
    "        x = x - fx / df(x)\n",
    "        fx = f(x)  # only one function evaluation per loop\n",
    "\n",
    "    return x"
   ]
  },
  {
   "cell_type": "markdown",
   "id": "d59db2c5",
   "metadata": {
    "slideshow": {
     "slide_type": "slide"
    }
   },
   "source": [
    "## Examples of Newton's method"
   ]
  },
  {
   "cell_type": "code",
   "execution_count": null,
   "id": "3e7da0d6",
   "metadata": {
    "slideshow": {
     "slide_type": "skip"
    },
    "tags": [
     "remove-input"
    ]
   },
   "outputs": [],
   "source": [
    "def newton_with_table(f, df, x0, tol=1.0e-10, maxiter=100):\n",
    "    x = np.double(x0)\n",
    "    it = 0\n",
    "\n",
    "    headers = [\"iter\", \"x\", \"f(x)\"]\n",
    "    data = []\n",
    "    data.append([it, x, f(x)])\n",
    "\n",
    "    while abs(f(x)) > tol:\n",
    "        it += 1\n",
    "        x = x - f(x) / df(x)\n",
    "        data.append([it, x, f(x)])\n",
    "\n",
    "        if it > maxiter:\n",
    "            sys.stderr.write(\n",
    "                \"WARNING! Newton iteration has not converged. Too many iterations.\\n\"\n",
    "            )\n",
    "            break\n",
    "\n",
    "    df = pd.DataFrame(data, columns=headers)\n",
    "    return df.style.hide()"
   ]
  },
  {
   "cell_type": "markdown",
   "id": "3c69b560",
   "metadata": {
    "slideshow": {
     "slide_type": "subslide"
    }
   },
   "source": [
    "Starting from $x^{(0)} = 1$ with $TOL = 10^{-4}$, we get the root as $x^* \\approx 0.765789$ after 2 iterations for the NACA0012 aerofoil example:"
   ]
  },
  {
   "cell_type": "markdown",
   "id": "e0b838fc",
   "metadata": {
    "slideshow": {
     "slide_type": "subslide"
    }
   },
   "source": [
    "Recall NACA0012 aerofoil example"
   ]
  },
  {
   "cell_type": "code",
   "execution_count": null,
   "id": "907158ae",
   "metadata": {},
   "outputs": [],
   "source": [
    "def f(x):\n",
    "    t = 0.1\n",
    "\n",
    "    yp = (\n",
    "        -0.1015 * np.power(x, 4)\n",
    "        + 0.2843 * np.power(x, 3)\n",
    "        - 0.3516 * np.power(x, 2)\n",
    "        - 0.126 * x\n",
    "        + 0.2969 * np.sqrt(x)\n",
    "    )\n",
    "    f = yp - 0.5 * t\n",
    "\n",
    "    return f\n",
    "\n",
    "\n",
    "def df(x):\n",
    "    dy = (\n",
    "        -4 * 0.1015 * np.power(x, 3)\n",
    "        + 3 * 0.2843 * np.power(x, 2)\n",
    "        - 2 * 0.3516 * x\n",
    "        - 0.126\n",
    "        + 0.2969 * 0.5 * np.power(x, -0.5)\n",
    "    )\n",
    "    f = dy\n",
    "\n",
    "    return f"
   ]
  },
  {
   "cell_type": "markdown",
   "id": "1849e4f6",
   "metadata": {
    "slideshow": {
     "slide_type": "subslide"
    }
   },
   "source": [
    "Starting from $x^{(0)} = 1$ with $TOL = 10^{-4}$, we get the root as $x^* \\approx 0.765789$ after 2 iterations for the NACA0012 aerofoil example:"
   ]
  },
  {
   "cell_type": "code",
   "execution_count": null,
   "id": "0b2d67e4",
   "metadata": {
    "tags": [
     "remove-input"
    ]
   },
   "outputs": [],
   "source": [
    "newton_with_table(f, df, x0=1.0, tol=1.0e-4)"
   ]
  },
  {
   "cell_type": "markdown",
   "id": "c043f135",
   "metadata": {
    "slideshow": {
     "slide_type": "subslide"
    }
   },
   "source": [
    "Starting from $x^{(0)} = 0.1$ with $TOL = 10^{-4}$, we get the root as $x^* \\approx 0.033863$ after 5 iterations for the second solution to the NACA0012 aerofoil example."
   ]
  },
  {
   "cell_type": "code",
   "execution_count": null,
   "id": "59e21108",
   "metadata": {
    "tags": [
     "remove-input"
    ]
   },
   "outputs": [],
   "source": [
    "newton_with_table(f, df, x0=0.1, tol=1.0e-4)"
   ]
  },
  {
   "cell_type": "markdown",
   "id": "199712e0",
   "metadata": {
    "slideshow": {
     "slide_type": "subslide"
    }
   },
   "source": [
    "Compare against a similar test with the bisection method - the Newton method is much faster!"
   ]
  },
  {
   "cell_type": "code",
   "execution_count": null,
   "id": "18950fb3",
   "metadata": {
    "tags": [
     "remove-input"
    ]
   },
   "outputs": [],
   "source": [
    "# comparison against bisection method\n",
    "bisection_with_table(f, a=0.5, b=1.0, tol=1.0e-4)"
   ]
  },
  {
   "cell_type": "markdown",
   "id": "a0678c0d",
   "metadata": {
    "slideshow": {
     "slide_type": "slide"
    }
   },
   "source": [
    "## Zero derivative as a root\n",
    "\n",
    "-   We saw that the bisection method cannot deal with the situation where a root occurs at a *turning point*. That is,\n",
    "\n",
    "    $$\n",
    "    f(x^*) = f'(x^*) = 0.\n",
    "    $$\n",
    "\n",
    "-   At first sight, it may appear that Newton's method will struggle with such situations since $x^{(i+1)} = x^{(i)} - \\frac{f(x^{(i)})}{f'(x^{(i)})}$ would lead to $\\frac{0}{0}$ occurring when $x^{(i)} = x^*$.\n",
    "\n",
    "-   Fortunately, this is not a problem in practice and the iteration can still converge - although it converges more slowly than to a \"simple root\"."
   ]
  },
  {
   "cell_type": "markdown",
   "id": "7c615f84",
   "metadata": {
    "slideshow": {
     "slide_type": "subslide"
    }
   },
   "source": [
    "### Zero derivative as a root - example\n",
    "\n",
    "Find a solution of $f(x) = 0$ using Newton's method when\n",
    "\n",
    "$$\n",
    "f(x) = (x-1)^2 = x^2 - 2x + 1.\n",
    "$$\n",
    "\n",
    "This has a solution $x^* = 1$, however $f'(x) = 2x - 2$, so $f'(x^*) = 0$ when $x = x^*= 1$."
   ]
  },
  {
   "cell_type": "code",
   "execution_count": null,
   "id": "20aadca1",
   "metadata": {
    "slideshow": {
     "slide_type": "fragment"
    }
   },
   "outputs": [],
   "source": [
    "def f(x):\n",
    "    return (x - 1) ** 2\n",
    "\n",
    "\n",
    "def df(x):\n",
    "    return 2 * (x - 1)"
   ]
  },
  {
   "cell_type": "code",
   "execution_count": null,
   "id": "74245a77",
   "metadata": {
    "slideshow": {
     "slide_type": "subslide"
    }
   },
   "outputs": [],
   "source": [
    "newton_with_table(f, df, x0=4.0, tol=1.0e-4)"
   ]
  },
  {
   "cell_type": "markdown",
   "id": "a4e604ca",
   "metadata": {
    "slideshow": {
     "slide_type": "slide"
    }
   },
   "source": [
    "## Problems with Newton's methods\n",
    "\n",
    "When Newton's method works it is a fast way of solving a nonlinear equation $f(x) = 0$, but it does not always work."
   ]
  },
  {
   "cell_type": "markdown",
   "id": "6dc607ff",
   "metadata": {
    "slideshow": {
     "slide_type": "subslide"
    }
   },
   "source": [
    "1.  Consider applying a Newton iteration to the function $f(x) = x^3 + 2 x^2 + x + 1$ with $x^{(0)} = 0$.\n",
    "\n",
    "    This gives $f'(x) = 3 x^2 + 4 x + 1$. With $x^{(0)} = 0$ this gives:"
   ]
  },
  {
   "cell_type": "code",
   "execution_count": null,
   "id": "9d19dfc7",
   "metadata": {
    "slideshow": {
     "slide_type": "fragment"
    }
   },
   "outputs": [],
   "source": [
    "def f(x):\n",
    "    return x**3 + 2 * x**2 + x + 1\n",
    "\n",
    "\n",
    "def df(x):\n",
    "    return 3 * x**2 + 4 * x + 1"
   ]
  },
  {
   "cell_type": "code",
   "execution_count": null,
   "id": "ceb759e5",
   "metadata": {
    "tags": [
     "remove-input"
    ]
   },
   "outputs": [],
   "source": [
    "newton_with_table(f, df, x0=np.double(0.0))"
   ]
  },
  {
   "cell_type": "markdown",
   "id": "7880fe73",
   "metadata": {
    "slideshow": {
     "slide_type": "slide"
    }
   },
   "source": [
    "2.  We can also get cases where the iteration does not \"blow up\" but diverges slowly..."
   ]
  },
  {
   "cell_type": "code",
   "execution_count": null,
   "id": "8411178a",
   "metadata": {
    "slideshow": {
     "slide_type": "fragment"
    },
    "tags": [
     "remove-input"
    ]
   },
   "outputs": [],
   "source": [
    "def f(t):\n",
    "    return np.log(t + 1) * np.exp(-(t**2))\n",
    "\n",
    "\n",
    "def df(t):\n",
    "    return np.exp(-(t**2)) / (t + 1) - 2 * t * np.log(t + 1) * np.exp(-(t**2))\n",
    "\n",
    "\n",
    "plt.axhline(0, color=\"0.8\")  # x = 0\n",
    "plt.axvline(0, color=\"0.8\")  # y = 0\n",
    "\n",
    "x = np.linspace(0, 3)\n",
    "y = f(x)\n",
    "\n",
    "plt.plot(x, y)\n",
    "\n",
    "x = 1.0\n",
    "ticks = []\n",
    "ticklabels = []\n",
    "\n",
    "for i in range(5):\n",
    "    p0 = plt.plot([x, x], [0, f(x)], \"o-\")\n",
    "    ticks.append(x)\n",
    "    ticklabels.append(r\"$x^{(\" + str(i) + \")}$\")\n",
    "\n",
    "    x_new = x - f(x) / df(x)\n",
    "    plt.plot([x, x_new], [f(x), 0], \"--\", color=p0[0].get_color())\n",
    "    x = x_new\n",
    "\n",
    "plt.xticks(ticks, ticklabels)\n",
    "plt.yticks([], [])\n",
    "plt.show()"
   ]
  },
  {
   "cell_type": "markdown",
   "id": "e4a1ff0d",
   "metadata": {
    "slideshow": {
     "slide_type": "subslide"
    }
   },
   "source": [
    "3.  It is even possible for the iteration to simply cycle between two values repeatedly..."
   ]
  },
  {
   "cell_type": "code",
   "execution_count": null,
   "id": "60f17d78",
   "metadata": {},
   "outputs": [],
   "source": [
    "def f(t):\n",
    "    return t**3 - 2 * t + 2\n",
    "\n",
    "\n",
    "def df(t):\n",
    "    return 3 * t**2 - 2"
   ]
  },
  {
   "cell_type": "code",
   "execution_count": null,
   "id": "9fb00049",
   "metadata": {
    "tags": [
     "remove-input"
    ]
   },
   "outputs": [],
   "source": [
    "newton_with_table(f, df, x0=1.0)"
   ]
  },
  {
   "cell_type": "code",
   "execution_count": null,
   "id": "80754cf1",
   "metadata": {
    "slideshow": {
     "slide_type": "subslide"
    },
    "tags": [
     "remove-input"
    ]
   },
   "outputs": [],
   "source": [
    "plt.axhline(0, color=\"0.8\")  # x = 0\n",
    "plt.axvline(0, color=\"0.8\")  # y = 0\n",
    "\n",
    "x = np.linspace(-1.8, 1.5)\n",
    "y = f(x)\n",
    "\n",
    "plt.plot(x, y)\n",
    "\n",
    "x = 1.0\n",
    "ticks = []\n",
    "ticklabels = []\n",
    "\n",
    "for i in range(2):\n",
    "    p0 = plt.plot([x, x], [0, f(x)], \"o-\")\n",
    "    ticks.append(x)\n",
    "    ticklabels.append(r\"$x^{(\" + str(i) + \")}$\")\n",
    "\n",
    "    x_new = x - f(x) / df(x)\n",
    "    plt.plot([x, x_new], [f(x), 0], \"--\", color=p0[0].get_color())\n",
    "    x = x_new\n",
    "\n",
    "plt.xticks(ticks, ticklabels)\n",
    "plt.title(\"Newton's method with periodic solution\")\n",
    "plt.show()"
   ]
  },
  {
   "cell_type": "markdown",
   "id": "11571106",
   "metadata": {
    "slideshow": {
     "slide_type": "slide"
    }
   },
   "source": [
    "# Summary\n",
    "\n",
    "|                    | Bisection         | Newton's method            |\n",
    "|--------------------|-------------------|----------------------------|\n",
    "| Simple algorithm   | yes               | yes                        |\n",
    "| Starting values    | bracket           | one                        |\n",
    "| Iterations         | lots              | normally fewer             |\n",
    "| Function evals     | one per iteration | `f` and `df` per iteration |\n",
    "| Convergence        | with good bracket | not always                 |\n",
    "| Turing point roots | no                | slower                     |\n",
    "| Use of derivative  | no                | yes                        |"
   ]
  }
 ],
 "metadata": {
  "kernelspec": {
   "display_name": "Python 3 (ipykernel)",
   "language": "python",
   "name": "python3"
  },
  "language_info": {
   "codemirror_mode": {
    "name": "ipython",
    "version": 3
   },
   "file_extension": ".py",
   "mimetype": "text/x-python",
   "name": "python",
   "nbconvert_exporter": "python",
   "pygments_lexer": "ipython3",
   "version": "3.8.17"
  }
 },
 "nbformat": 4,
 "nbformat_minor": 5
}
