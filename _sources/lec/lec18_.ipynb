{
 "cells": [
  {
   "cell_type": "code",
   "execution_count": null,
   "id": "ff3993a8",
   "metadata": {
    "slideshow": {
     "slide_type": "skip"
    },
    "tags": [
     "remove-input"
    ]
   },
   "outputs": [],
   "source": [
    "import matplotlib.pyplot as plt\n",
    "import numpy as np\n",
    "import pandas as pd\n",
    "\n",
    "plt.rcParams[\"figure.figsize\"] = [5, 3.1]"
   ]
  },
  {
   "cell_type": "markdown",
   "id": "d4861f83",
   "metadata": {
    "slideshow": {
     "slide_type": "slide"
    }
   },
   "source": [
    "# Lecture 18: Robust nonlinear solvers"
   ]
  },
  {
   "cell_type": "code",
   "execution_count": null,
   "id": "f7ba922d",
   "metadata": {
    "tags": [
     "remove-input"
    ]
   },
   "outputs": [],
   "source": [
    "import feedback\n",
    "\n",
    "feedback.feedback()"
   ]
  },
  {
   "cell_type": "markdown",
   "id": "6d4ee3f8",
   "metadata": {
    "slideshow": {
     "slide_type": "subslide"
    }
   },
   "source": [
    "## The problem\n",
    "\n",
    "> Given a continuous function $f(x)$, the problem is to find a point $x^*$ such that $f(x^*) = 0$. That is, $x^*$ is a solution of the equation $f(x) = 0$ and is called a **root of $f(x)$**."
   ]
  },
  {
   "cell_type": "markdown",
   "id": "aab90192",
   "metadata": {
    "slideshow": {
     "slide_type": "subslide"
    }
   },
   "source": [
    "## Summary so far\n",
    "\n",
    "|                    | Bisection         | Newton's method            | Modified Newton   | Secant            |\n",
    "|--------------------|-------------------|----------------------------|-------------------|-------------------|\n",
    "| Simple algorithm   | yes               | yes                        | yes               | yes               |\n",
    "| Starting values    | bracket           | one                        | one               | two               |\n",
    "| Iterations         | lots              | normally fewer             | similar to Newton | similar to Newton |\n",
    "| Function evals     | one per iteration | `f` and `df` per iteration | two per iteration | one per iteration |\n",
    "| Convergence        | with good bracket | **not always**             | **not always**    | **not always**    |\n",
    "| Turing point roots | no                | slower                     | slower            | slower            |\n",
    "| Use of derivative  | no                | yes                        | no                | no                |"
   ]
  },
  {
   "cell_type": "markdown",
   "id": "62cc60ec",
   "metadata": {
    "slideshow": {
     "slide_type": "slide"
    }
   },
   "source": [
    "## The big idea\n",
    "\n",
    "> Combine the robustness of the bisection but improve the estimate using the secant method."
   ]
  },
  {
   "cell_type": "code",
   "execution_count": null,
   "id": "ac018c3a",
   "metadata": {
    "slideshow": {
     "slide_type": "subslide"
    },
    "tags": [
     "remove-input"
    ]
   },
   "outputs": [],
   "source": [
    "plt.axhline(0, color=\"0.8\")  # x = 0\n",
    "plt.axvline(0, color=\"0.8\")  # y = 0\n",
    "\n",
    "\n",
    "def f_eg(t):\n",
    "    return t**2 - 0.2\n",
    "\n",
    "\n",
    "def df_fg(t):\n",
    "    return 2 * t\n",
    "\n",
    "\n",
    "x = np.linspace(0, 1)\n",
    "y = f_eg(x)\n",
    "\n",
    "plt.plot(x, y)\n",
    "\n",
    "xL = 0.2\n",
    "xR = 0.8\n",
    "\n",
    "line = plt.plot([xL, (xL + xR) / 2, xR], [0.0, 0, 0.0], \"o\", label=\"bisection\")\n",
    "plt.plot([xL, (xL + xR) / 2], [0.0, 0.0], color=line[0].get_color())\n",
    "plt.text(xL, -0.05, \"$x_L$\", color=line[0].get_color())\n",
    "plt.text((xL + xR) / 2, -0.05, \"$x_C$\", color=line[0].get_color())\n",
    "plt.text(xR, -0.05, \"$x_R$\", color=line[0].get_color())\n",
    "\n",
    "plt.title(\"An illustration of the bisection method\")\n",
    "plt.xticks([])\n",
    "plt.yticks([])\n",
    "plt.xlabel(\"$x$\")\n",
    "plt.ylabel(\"$f(x)$\")\n",
    "plt.grid(\"off\")\n",
    "\n",
    "plt.legend()\n",
    "plt.show()"
   ]
  },
  {
   "cell_type": "code",
   "execution_count": null,
   "id": "a0d7d792",
   "metadata": {
    "slideshow": {
     "slide_type": "subslide"
    },
    "tags": [
     "remove-input"
    ]
   },
   "outputs": [],
   "source": [
    "plt.axhline(0, color=\"0.8\")  # x = 0\n",
    "plt.axvline(0, color=\"0.8\")  # y = 0\n",
    "\n",
    "x = np.linspace(0, 1)\n",
    "y = f_eg(x)\n",
    "\n",
    "plt.plot(x, y)\n",
    "\n",
    "xL = 0.2\n",
    "xR = 0.8\n",
    "\n",
    "line = plt.plot([xL, (xL + xR) / 2, xR], [0.0, 0, 0.0], \"o\", label=\"bisection\")\n",
    "plt.plot([xL, (xL + xR) / 2], [0.0, 0.0], color=line[0].get_color())\n",
    "plt.text(xL, -0.05, \"$x_L$\", color=line[0].get_color())\n",
    "plt.text((xL + xR) / 2, -0.05, \"$x_C$\", color=line[0].get_color())\n",
    "plt.text(xR, -0.05, \"$x_R$\", color=line[0].get_color())\n",
    "\n",
    "xnew = xR - f_eg(xR) * (xR - xL) / (f_eg(xR) - f_eg(xL))\n",
    "line2 = plt.plot(\n",
    "    [xL, xL, xnew, xR, xR], [0.0, f_eg(xL), 0.0, f_eg(xR), 0], \"o-\", label=\"secant\"\n",
    ")\n",
    "plt.text(xnew, +0.05, \"$x^{(2)}$\", color=line2[0].get_color())\n",
    "\n",
    "plt.title(\"An illustration of the bisection and secant methods\")\n",
    "plt.xticks([])\n",
    "plt.yticks([])\n",
    "plt.xlabel(\"$x$\")\n",
    "plt.ylabel(\"$f(x)$\")\n",
    "\n",
    "plt.legend()\n",
    "plt.show()"
   ]
  },
  {
   "cell_type": "markdown",
   "id": "6ded9f3d",
   "metadata": {},
   "source": [
    "The bisection method doesn't use the values of $f$ only it's sign. Use the values of $f$ at the end points to improve the convergence rate."
   ]
  },
  {
   "cell_type": "markdown",
   "id": "495039bc",
   "metadata": {
    "slideshow": {
     "slide_type": "slide"
    }
   },
   "source": [
    "## False position method (regula falisi)\n",
    "\n",
    "The idea is to take the bisection method but instead of evaluating f and the midpoint of $(x_L, x_R)$ and computing signs, we evaluate at the point obtained from the application of the secant method to $x_L, x_R$:"
   ]
  },
  {
   "cell_type": "code",
   "execution_count": null,
   "id": "2f3524b5",
   "metadata": {
    "slideshow": {
     "slide_type": "subslide"
    }
   },
   "outputs": [],
   "source": [
    "def false_position(func, a, b, tol=1.0e-10):\n",
    "    # Starting values\n",
    "    fa = func(a)\n",
    "    fb = func(b)\n",
    "    fc = tol + 1\n",
    "\n",
    "    while b - a > tol and abs(fc) > tol:\n",
    "        # Find new point **using secant method**\n",
    "        c = b - fb * (b - a) / (fb - fa)\n",
    "        fc = func(c)\n",
    "\n",
    "        # if root is in left half of interval\n",
    "        if fa * fc < 0.0:\n",
    "            # move right end\n",
    "            b = c\n",
    "            fb = fc\n",
    "        else:\n",
    "            # otherwise,\n",
    "            # move the left end\n",
    "            a = c\n",
    "            fa = fc\n",
    "\n",
    "    return c"
   ]
  },
  {
   "cell_type": "code",
   "execution_count": null,
   "id": "9e0843a0",
   "metadata": {
    "tags": [
     "remove-input"
    ]
   },
   "outputs": [],
   "source": [
    "def false_position_with_table(func, a, b, tol=1.0e-10):\n",
    "    # Starting values\n",
    "    fa = func(a)\n",
    "    fb = func(b)\n",
    "    fc = tol + 1\n",
    "\n",
    "    it = 0\n",
    "    headers = [\"it\", \"a\", \"f(a)\", \"b\", \"f(b)\", \"c\", \"f(c)\"]\n",
    "    data = [[it, a, fa, b, fb]]\n",
    "\n",
    "    while b - a > tol and abs(fc) > tol:\n",
    "        # Find new point **using secant method**\n",
    "        c = b - fb * (b - a) / (fb - fa)\n",
    "        fc = func(c)\n",
    "\n",
    "        # if root is in left half of interval\n",
    "        if fa * fc < 0.0:\n",
    "            # move right end\n",
    "            b = c\n",
    "            fb = fc\n",
    "        else:\n",
    "            # otherwise,\n",
    "            # move the left end\n",
    "            a = c\n",
    "            fa = fc\n",
    "\n",
    "        it = it + 1\n",
    "        data.append([it, a, fa, b, fb, c, fc])\n",
    "\n",
    "    df = pd.DataFrame(data, columns=headers)\n",
    "    return df.style.hide_index().set_na_rep(\"--\")"
   ]
  },
  {
   "cell_type": "markdown",
   "id": "ffe23b16",
   "metadata": {
    "slideshow": {
     "slide_type": "subslide"
    }
   },
   "source": [
    "## Example\n",
    "\n",
    "A simply example $f(x) = x^2 - 2$ starting from bracket $(1, 2)$.\n",
    "\n",
    "*What happens to the right end of the bracket?*"
   ]
  },
  {
   "cell_type": "code",
   "execution_count": null,
   "id": "bf615112",
   "metadata": {
    "slideshow": {
     "slide_type": "fragment"
    }
   },
   "outputs": [],
   "source": [
    "def f(x):\n",
    "    return x * x - 2.0\n",
    "\n",
    "\n",
    "false_position_with_table(f, 1.0, 2.0, tol=1.0e-4)"
   ]
  },
  {
   "cell_type": "code",
   "execution_count": null,
   "id": "62a94cca",
   "metadata": {
    "slideshow": {
     "slide_type": "subslide"
    },
    "tags": [
     "remove-input"
    ]
   },
   "outputs": [],
   "source": [
    "def f(x):\n",
    "    t = 0.1\n",
    "\n",
    "    yp = (\n",
    "        -0.1015 * np.power(x, 4)\n",
    "        + 0.2843 * np.power(x, 3)\n",
    "        - 0.3516 * np.power(x, 2)\n",
    "        - 0.126 * x\n",
    "        + 0.2969 * np.sqrt(x)\n",
    "    )\n",
    "    f = yp - 0.5 * t\n",
    "\n",
    "    return f\n",
    "\n",
    "\n",
    "def df(x):\n",
    "    dy = (\n",
    "        -4 * 0.1015 * np.power(x, 3)\n",
    "        + 3 * 0.2843 * np.power(x, 2)\n",
    "        - 2 * 0.3516 * x\n",
    "        - 0.126\n",
    "        + 0.2969 * 0.5 * np.power(x, -0.5)\n",
    "    )\n",
    "    f = dy\n",
    "\n",
    "    return f\n",
    "\n",
    "\n",
    "def bisection(func, a, b, tol=1.0e-10):\n",
    "    # Starting values\n",
    "    fa = func(a)\n",
    "    func(b)\n",
    "\n",
    "    feval = [2]\n",
    "    rets = [(a + b) / 2]\n",
    "\n",
    "    while b - a > tol:\n",
    "        # Find new mid point\n",
    "        c = (a + b) / 2\n",
    "        fc = func(c)\n",
    "\n",
    "        # if root is in left half of interval\n",
    "        if fa * fc < 0.0:\n",
    "            # move right end\n",
    "            b = c\n",
    "        else:\n",
    "            # otherwise,\n",
    "            # move the left end\n",
    "            a = c\n",
    "            fa = fc\n",
    "\n",
    "        feval.append(feval[-1] + 1)\n",
    "        rets.append((a + b) / 2)\n",
    "\n",
    "    return rets, feval\n",
    "\n",
    "\n",
    "def newton(f, df, x0, tol=1.0e-10):\n",
    "    x = x0\n",
    "\n",
    "    feval = [1]\n",
    "    rets = [x]\n",
    "\n",
    "    while abs(f(x)) > tol:\n",
    "        x = x - f(x) / df(x)\n",
    "        rets.append(x)\n",
    "        feval.append(feval[-1] + 2)\n",
    "\n",
    "    return rets, feval\n",
    "\n",
    "\n",
    "def modified_newton(f, x0, tol=1.0e-10, maxiter=100):\n",
    "    eps = np.finfo(np.double).eps\n",
    "    dx = np.sqrt(eps)\n",
    "\n",
    "    x = x0\n",
    "    rets = [x]\n",
    "    feval = [1]\n",
    "\n",
    "    while abs(f(x)) > tol:\n",
    "        df = (f(x + dx) - f(x)) / dx\n",
    "        x = x - f(x) / df\n",
    "\n",
    "        rets.append(x)\n",
    "        feval.append(feval[-1] + 2)\n",
    "\n",
    "    return rets, feval\n",
    "\n",
    "\n",
    "def secant(f, x0, x1, tol=1.0e-10):\n",
    "    # two initial function evaluations\n",
    "    f0 = f(x0)\n",
    "    f1 = f(x1)\n",
    "\n",
    "    feval = [2]\n",
    "    rets = [x1]\n",
    "\n",
    "    while abs(f1) > tol:\n",
    "        # compute derivative approximation\n",
    "        df = (f1 - f0) / (x1 - x0)\n",
    "        # update x\n",
    "        x2 = x1 - f1 / df\n",
    "\n",
    "        # update other variables\n",
    "        x0, f0 = x1, f1\n",
    "        x1, f1 = x2, f(x2)  # one evaluation of f per iteration\n",
    "\n",
    "        rets.append(x1)\n",
    "        feval.append(feval[-1] + 1)\n",
    "\n",
    "    return rets, feval\n",
    "\n",
    "\n",
    "def false_position(func, a, b, tol=1.0e-10):\n",
    "    # Starting values\n",
    "    fa = func(a)\n",
    "    fb = func(b)\n",
    "    fc = 2 * tol\n",
    "\n",
    "    feval = [2]\n",
    "    rets = [(a + b) / 2]\n",
    "\n",
    "    while b - a > tol and abs(fc) > tol:\n",
    "        # Find new mid point\n",
    "        c = b - fb * (b - a) / (fb - fa)\n",
    "        fc = func(c)\n",
    "\n",
    "        # if root is in left half of interval\n",
    "        if fa * fc < 0.0:\n",
    "            # move right end\n",
    "            b = c\n",
    "            fb = fc\n",
    "        else:\n",
    "            # otherwise,\n",
    "            # move the left end\n",
    "            a = c\n",
    "            fa = fc\n",
    "\n",
    "        feval.append(feval[-1] + 1)\n",
    "        rets.append(c)\n",
    "\n",
    "    return rets, feval\n",
    "\n",
    "\n",
    "tol = 1.0e-15\n",
    "bisection_rets, bisection_fevals = bisection(f, 0.5, 1.0, tol=tol)\n",
    "newton_rets, newton_fevals = newton(f, df, x0=1.0, tol=tol)\n",
    "modified_rets, modified_fevals = modified_newton(f, x0=1.0, tol=tol)\n",
    "secant_rets, secant_fevals = secant(f, x0=1.0, x1=0.5, tol=tol)\n",
    "false_rets, false_fevals = false_position(f, 0.5, 1.0, tol=tol)\n",
    "\n",
    "fig, (ax1, ax2) = plt.subplots(1, 2, figsize=(8, 6))\n",
    "fig.suptitle(\"Convergence plots\")\n",
    "\n",
    "ax1.semilogy([abs(f(x)) for x in bisection_rets], \".-\", label=\"bisection\")\n",
    "ax1.semilogy([abs(f(x)) for x in newton_rets], \".-\", label=\"Newton\")\n",
    "ax1.semilogy([abs(f(x)) for x in modified_rets], \".-\", label=\"Mod-Newton\")\n",
    "ax1.semilogy([abs(f(x)) for x in secant_rets], \".-\", label=\"secant\")\n",
    "ax1.semilogy([abs(f(x)) for x in false_rets], \".-\", label=\"False pos.\")\n",
    "\n",
    "ax1.set_xlabel(\"iter ($i$)\")\n",
    "ax1.set_ylabel(\"$|f(x^{(i)})|$\")\n",
    "ax1.grid()\n",
    "ax1.legend()\n",
    "\n",
    "ax2.semilogy(\n",
    "    bisection_fevals, [abs(f(x)) for x in bisection_rets], \".-\", label=\"bisection\"\n",
    ")\n",
    "ax2.semilogy(newton_fevals, [abs(f(x)) for x in newton_rets], \".-\", label=\"Newton\")\n",
    "ax2.semilogy(\n",
    "    modified_fevals, [abs(f(x)) for x in modified_rets], \".-\", label=\"Mod-Newton\"\n",
    ")\n",
    "ax2.semilogy(secant_fevals, [abs(f(x)) for x in secant_rets], \".-\", label=\"secant\")\n",
    "ax2.semilogy(false_fevals, [abs(f(x)) for x in false_rets], \".-\", label=\"False pos.\")\n",
    "\n",
    "ax2.set_xlabel(\"Function (or derivative) evaluations\")\n",
    "ax2.set_ylabel(\"$|f(x^{(i)})|$\")\n",
    "ax2.grid()\n",
    "\n",
    "plt.tight_layout()\n",
    "plt.show()"
   ]
  },
  {
   "cell_type": "markdown",
   "id": "5d4f2ae4",
   "metadata": {
    "slideshow": {
     "slide_type": "slide"
    }
   },
   "source": [
    "# Dekker's method\n",
    "\n",
    "This is a another hybrid method that combines the bisection and secant method.\n",
    "\n",
    "We find two candidates for approximating the root - given by the secant method and by the bisection method. $b$ becomes the new estimate of the root and $a$ is updated to maintain the bracket.\n",
    "\n",
    "The function requires both an initial bracket:\n",
    "\n",
    "```python\n",
    "def dekker(func, a, b, tol=1.0e-10):\n",
    "    assert func(a) * func(b) < 0  # ensure we have a bracket\n",
    "    c = a  # start old b at a\n",
    "    assert abs(b - c) > tol  # ensure we have b != c\n",
    "```"
   ]
  },
  {
   "cell_type": "code",
   "execution_count": null,
   "id": "35495369",
   "metadata": {
    "slideshow": {
     "slide_type": "subslide"
    }
   },
   "outputs": [],
   "source": [
    "def dekker(func, a, b, tol=1.0e-10):\n",
    "    # start at old b at a\n",
    "    c = a\n",
    "\n",
    "    while abs(f(b)) > tol:\n",
    "        # generate two possible estimates\n",
    "        m = midpoint_update(func, a, b)\n",
    "        try:\n",
    "            s = secant_update(func, b, c)\n",
    "        except ZeroDivisionError:\n",
    "            s = m\n",
    "\n",
    "        # choose best b and update c\n",
    "        b, c = update_b(b, s, m), b\n",
    "\n",
    "        # choose a to form a bracket\n",
    "        a = update_a(func, a, b, c)\n",
    "\n",
    "        # choose best value for iteration from a and b\n",
    "        a, b = best_ab(func, a, b)\n",
    "\n",
    "    return b"
   ]
  },
  {
   "cell_type": "code",
   "execution_count": null,
   "id": "c34019c3",
   "metadata": {
    "slideshow": {
     "slide_type": "subslide"
    },
    "tags": [
     "remove-input"
    ]
   },
   "outputs": [],
   "source": [
    "plt.axhline(0, color=\"0.8\")  # x = 0\n",
    "plt.axvline(0, color=\"0.8\")  # y = 0\n",
    "\n",
    "\n",
    "def f(t):\n",
    "    return t**2 - 0.2\n",
    "\n",
    "\n",
    "def df(t):\n",
    "    return 2 * t\n",
    "\n",
    "\n",
    "x = np.linspace(0, 1)\n",
    "y = f(x)\n",
    "\n",
    "plt.plot(x, y)\n",
    "\n",
    "xL = 0.2\n",
    "xR = 0.8\n",
    "\n",
    "l = plt.plot([xL, (xL + xR) / 2, xR], [0.0, 0, 0.0], \"o\", label=\"bisection\")\n",
    "plt.plot([xL, (xL + xR) / 2], [0.0, 0.0], color=l[0].get_color())\n",
    "plt.text(xL, -0.05, \"$a = c$\", color=l[0].get_color())\n",
    "plt.text((xL + xR) / 2, -0.05, \"$m$\", color=l[0].get_color())\n",
    "plt.text(xR, -0.05, \"$b$\", color=l[0].get_color())\n",
    "\n",
    "xnew = xR - f(xR) * (xR - xL) / (f(xR) - f(xL))\n",
    "l = plt.plot([xL, xL, xnew, xR, xR], [0.0, f(xL), 0.0, f(xR), 0], \"o-\", label=\"secant\")\n",
    "plt.text(xnew, +0.05, \"$s$\", color=l[0].get_color())\n",
    "\n",
    "plt.title(\"An illustration of the bisection and secant methods\")\n",
    "plt.xticks([])\n",
    "plt.yticks([])\n",
    "plt.xlabel(\"$x$\")\n",
    "plt.ylabel(\"$f(x)$\")\n",
    "\n",
    "plt.legend()\n",
    "plt.show()"
   ]
  },
  {
   "cell_type": "code",
   "execution_count": null,
   "id": "e5c6894c",
   "metadata": {},
   "outputs": [],
   "source": [
    "def secant_update(func, x, xn):\n",
    "    return x - func(x) * (x - xn) / (func(x) - func(xn))\n",
    "\n",
    "\n",
    "def midpoint_update(func, xL, xR):\n",
    "    return (xL + xR) / 2"
   ]
  },
  {
   "cell_type": "code",
   "execution_count": null,
   "id": "536b76bc",
   "metadata": {
    "slideshow": {
     "slide_type": "subslide"
    },
    "tags": [
     "remove-input"
    ]
   },
   "outputs": [],
   "source": [
    "plt.axhline(0, color=\"0.8\")  # x = 0\n",
    "plt.axvline(0, color=\"0.8\")  # y = 0\n",
    "\n",
    "\n",
    "def f(t):\n",
    "    return t**2 - 0.2\n",
    "\n",
    "\n",
    "def df(t):\n",
    "    return 2 * t\n",
    "\n",
    "\n",
    "x = np.linspace(0, 1)\n",
    "y = f(x)\n",
    "\n",
    "plt.plot(x, y)\n",
    "\n",
    "xL = 0.2\n",
    "xR = 0.8\n",
    "\n",
    "l = plt.plot([xL, (xL + xR) / 2, xR], [0.0, 0, 0.0], \"o\", label=\"bisection\")\n",
    "plt.plot([xL, (xL + xR) / 2], [0.0, 0.0], color=l[0].get_color())\n",
    "plt.text(xL, -0.05, \"$a = c$\", color=l[0].get_color())\n",
    "plt.text((xL + xR) / 2, -0.05, \"$m$\", color=l[0].get_color())\n",
    "plt.text(xR, -0.05, \"$b$\", color=l[0].get_color())\n",
    "\n",
    "xnew = xR - f(xR) * (xR - xL) / (f(xR) - f(xL))\n",
    "l = plt.plot([xL, xL, xnew, xR, xR], [0.0, f(xL), 0.0, f(xR), 0], \"o-\", label=\"secant\")\n",
    "plt.text(xnew, +0.05, \"$s$\", color=l[0].get_color())\n",
    "\n",
    "plt.title(\"An illustration of the bisection and secant methods\")\n",
    "plt.xticks([])\n",
    "plt.yticks([])\n",
    "plt.xlabel(\"$x$\")\n",
    "plt.ylabel(\"$f(x)$\")\n",
    "\n",
    "plt.legend()\n",
    "plt.show()"
   ]
  },
  {
   "cell_type": "code",
   "execution_count": null,
   "id": "6e972f8b",
   "metadata": {},
   "outputs": [],
   "source": [
    "def update_b(b, s, m):\n",
    "    # if s lies strictly between m and b\n",
    "    if (m < s and s < b) or (b < s and s < m):\n",
    "        # b <- s (secant)\n",
    "        return s\n",
    "    else:\n",
    "        # b <- m (midpoint)\n",
    "        return m"
   ]
  },
  {
   "cell_type": "code",
   "execution_count": null,
   "id": "1cff8e25",
   "metadata": {
    "slideshow": {
     "slide_type": "subslide"
    },
    "tags": [
     "remove-input"
    ]
   },
   "outputs": [],
   "source": [
    "plt.axhline(0, color=\"0.8\")  # x = 0\n",
    "plt.axvline(0, color=\"0.8\")  # y = 0\n",
    "\n",
    "\n",
    "def f(t):\n",
    "    return t**2 - 0.2\n",
    "\n",
    "\n",
    "def df(t):\n",
    "    return 2 * t\n",
    "\n",
    "\n",
    "x = np.linspace(0, 1)\n",
    "y = f(x)\n",
    "\n",
    "plt.plot(x, y)\n",
    "\n",
    "xL = 0.2\n",
    "xR = 0.8\n",
    "\n",
    "l = plt.plot([xL, (xL + xR) / 2, xR], [0.0, 0, 0.0], \"o\", label=\"bisection\")\n",
    "plt.plot([xL, (xL + xR) / 2], [0.0, 0.0], color=l[0].get_color())\n",
    "plt.text(xL, -0.05, \"$a = c$\", color=l[0].get_color())\n",
    "plt.text((xL + xR) / 2, -0.05, \"$m$\", color=l[0].get_color())\n",
    "plt.text(xR, -0.05, \"$b$\", color=l[0].get_color())\n",
    "\n",
    "xnew = xR - f(xR) * (xR - xL) / (f(xR) - f(xL))\n",
    "l = plt.plot([xL, xL, xnew, xR, xR], [0.0, f(xL), 0.0, f(xR), 0], \"o-\", label=\"secant\")\n",
    "plt.text(xnew, +0.05, \"$s$\", color=l[0].get_color())\n",
    "\n",
    "plt.title(\"An illustration of the bisection and secant methods\")\n",
    "plt.xticks([])\n",
    "plt.yticks([])\n",
    "plt.xlabel(\"$x$\")\n",
    "plt.ylabel(\"$f(x)$\")\n",
    "\n",
    "plt.legend()\n",
    "plt.show()"
   ]
  },
  {
   "cell_type": "code",
   "execution_count": null,
   "id": "a92ad02f",
   "metadata": {},
   "outputs": [],
   "source": [
    "def update_a(func, a, b, c):\n",
    "    # set a to be either a or c so that f(a)*f(b) < 0\n",
    "    if func(a) * func(b) < 0:\n",
    "        # (a, b) form a bracket: a <- a\n",
    "        return a\n",
    "    elif func(c) * func(b) < 0:\n",
    "        # (c, b) form a bracket: a <- c\n",
    "        return c\n",
    "    else:\n",
    "        raise Exception(\"No bracket found\")"
   ]
  },
  {
   "cell_type": "code",
   "execution_count": null,
   "id": "fd969ee7",
   "metadata": {
    "slideshow": {
     "slide_type": "subslide"
    }
   },
   "outputs": [],
   "source": [
    "def best_ab(func, a, b):\n",
    "    # if a is better estimate\n",
    "    if abs(func(a)) < abs(func(b)):\n",
    "        # swap!\n",
    "        return b, a\n",
    "    else:\n",
    "        # don't swap!\n",
    "        return a, b"
   ]
  },
  {
   "cell_type": "markdown",
   "id": "ce50af9a",
   "metadata": {
    "slideshow": {
     "slide_type": "subslide"
    }
   },
   "source": [
    "## Examples\n",
    "\n",
    "A simply example $f(x) = x^2 - 2$ starting from bracket $(1, 2)$\n",
    "\n",
    "*What happens to the left end of the bracket?*"
   ]
  },
  {
   "cell_type": "code",
   "execution_count": null,
   "id": "d1a3d7fd",
   "metadata": {
    "slideshow": {
     "slide_type": "skip"
    },
    "tags": [
     "remove-input"
    ]
   },
   "outputs": [],
   "source": [
    "def update_b(b, s, m):\n",
    "    # if s lies between m and bn\n",
    "    if (m < s < b) or (b <= s <= m):\n",
    "        # b <- s\n",
    "        return \"secant\", s\n",
    "    else:\n",
    "        # b <- m\n",
    "        return \"midpoint\", m\n",
    "\n",
    "\n",
    "def dekker(func, a, b, tol=1.0e-10):\n",
    "    c = a  # c is previous value of b\n",
    "    it = 0\n",
    "\n",
    "    headers = [\"it\", \"a\", \"f(a)\", \"b\", \"f(b)\", \"update\"]\n",
    "    data = [[it, a, func(a), b, func(b)]]\n",
    "\n",
    "    while abs(f(b)) > tol:\n",
    "        it += 1\n",
    "\n",
    "        # generate two possible estimates\n",
    "        m = midpoint_update(func, a, b)\n",
    "        try:\n",
    "            s = secant_update(func, b, c)\n",
    "        except ZeroDivisionError:\n",
    "            s = m\n",
    "\n",
    "        # choose best b and update bn\n",
    "        (update, b), c = update_b(b, s, m), b\n",
    "\n",
    "        # choose a to form a bracket\n",
    "        a = update_a(func, a, b, c)\n",
    "\n",
    "        # choose best value for iteration from a and b\n",
    "        a, b = best_ab(func, a, b)\n",
    "\n",
    "        data.append([it, a, func(a), b, func(b), update])\n",
    "\n",
    "        if it > 50:\n",
    "            break\n",
    "\n",
    "    df = pd.DataFrame(data, columns=headers)\n",
    "    return df.style.hide_index()"
   ]
  },
  {
   "cell_type": "code",
   "execution_count": null,
   "id": "dd4ec556",
   "metadata": {},
   "outputs": [],
   "source": [
    "def f(x):\n",
    "    return x * x - 2\n",
    "\n",
    "\n",
    "dekker(f, a=1.0, b=2.0, tol=1.0e-4)"
   ]
  },
  {
   "cell_type": "code",
   "execution_count": null,
   "id": "bd892cbe",
   "metadata": {
    "slideshow": {
     "slide_type": "subslide"
    },
    "tags": [
     "remove-input"
    ]
   },
   "outputs": [],
   "source": [
    "def f(x):\n",
    "    t = 0.1\n",
    "\n",
    "    yp = (\n",
    "        -0.1015 * np.power(x, 4)\n",
    "        + 0.2843 * np.power(x, 3)\n",
    "        - 0.3516 * np.power(x, 2)\n",
    "        - 0.126 * x\n",
    "        + 0.2969 * np.sqrt(x)\n",
    "    )\n",
    "    f = yp - 0.5 * t\n",
    "\n",
    "    return f\n",
    "\n",
    "\n",
    "def df(x):\n",
    "    dy = (\n",
    "        -4 * 0.1015 * np.power(x, 3)\n",
    "        + 3 * 0.2843 * np.power(x, 2)\n",
    "        - 2 * 0.3516 * x\n",
    "        - 0.126\n",
    "        + 0.2969 * 0.5 * np.power(x, -0.5)\n",
    "    )\n",
    "    f = dy\n",
    "\n",
    "    return f\n",
    "\n",
    "\n",
    "def bisection(func, a, b, tol=1.0e-10):\n",
    "    # Starting values\n",
    "    fa = func(a)\n",
    "    func(b)\n",
    "\n",
    "    feval = [2]\n",
    "    rets = [(a + b) / 2]\n",
    "\n",
    "    while b - a > tol:\n",
    "        # Find new mid point\n",
    "        c = (a + b) / 2\n",
    "        fc = func(c)\n",
    "\n",
    "        # if root is in left half of interval\n",
    "        if fa * fc < 0.0:\n",
    "            # move right end\n",
    "            b = c\n",
    "        else:\n",
    "            # otherwise,\n",
    "            # move the left end\n",
    "            a = c\n",
    "            fa = fc\n",
    "\n",
    "        feval.append(feval[-1] + 1)\n",
    "        rets.append((a + b) / 2)\n",
    "\n",
    "    return rets, feval\n",
    "\n",
    "\n",
    "def newton(f, df, x0, tol=1.0e-10):\n",
    "    x = x0\n",
    "\n",
    "    feval = [1]\n",
    "    rets = [x]\n",
    "\n",
    "    while abs(f(x)) > tol:\n",
    "        x = x - f(x) / df(x)\n",
    "        rets.append(x)\n",
    "        feval.append(feval[-1] + 2)\n",
    "\n",
    "    return rets, feval\n",
    "\n",
    "\n",
    "def modified_newton(f, x0, tol=1.0e-10, maxiter=100):\n",
    "    eps = np.finfo(np.double).eps\n",
    "    dx = np.sqrt(eps)\n",
    "\n",
    "    x = x0\n",
    "    rets = [x]\n",
    "    feval = [1]\n",
    "\n",
    "    while abs(f(x)) > tol:\n",
    "        df = (f(x + dx) - f(x)) / dx\n",
    "        x = x - f(x) / df\n",
    "\n",
    "        rets.append(x)\n",
    "        feval.append(feval[-1] + 2)\n",
    "\n",
    "    return rets, feval\n",
    "\n",
    "\n",
    "def secant(f, x0, x1, tol=1.0e-10):\n",
    "    # two initial function evaluations\n",
    "    f0 = f(x0)\n",
    "    f1 = f(x1)\n",
    "\n",
    "    feval = [2]\n",
    "    rets = [x1]\n",
    "\n",
    "    while abs(f1) > tol:\n",
    "        # compute derivative approximation\n",
    "        df = (f1 - f0) / (x1 - x0)\n",
    "        # update x\n",
    "        x2 = x1 - f1 / df\n",
    "\n",
    "        # update other variables\n",
    "        x0, f0 = x1, f1\n",
    "        x1, f1 = x2, f(x2)  # one evaluation of f per iteration\n",
    "\n",
    "        rets.append(x1)\n",
    "        feval.append(feval[-1] + 1)\n",
    "\n",
    "    return rets, feval\n",
    "\n",
    "\n",
    "def false_position(func, a, b, tol=1.0e-10):\n",
    "    # Starting values\n",
    "    fa = func(a)\n",
    "    fb = func(b)\n",
    "    fc = 2 * tol\n",
    "\n",
    "    feval = [2]\n",
    "    rets = [(a + b) / 2]\n",
    "\n",
    "    while b - a > tol and abs(fc) > tol:\n",
    "        # Find new mid point\n",
    "        c = b - fb * (b - a) / (fb - fa)\n",
    "        fc = func(c)\n",
    "\n",
    "        # if root is in left half of interval\n",
    "        if fa * fc < 0.0:\n",
    "            # move right end\n",
    "            b = c\n",
    "            fb = fc\n",
    "        else:\n",
    "            # otherwise,\n",
    "            # move the left end\n",
    "            a = c\n",
    "            fa = fc\n",
    "\n",
    "        feval.append(feval[-1] + 1)\n",
    "        rets.append(c)\n",
    "\n",
    "    return rets, feval\n",
    "\n",
    "\n",
    "def dekker(func, a, b, tol=1.0e-10):\n",
    "    rets = [b]\n",
    "    fevals = [2]\n",
    "\n",
    "    # start at old b at a\n",
    "    bn = a\n",
    "\n",
    "    while abs(f(b)) > tol:\n",
    "        # generate two possible estimates\n",
    "        m = midpoint_update(func, a, b)\n",
    "        try:\n",
    "            s = secant_update(func, b, bn)\n",
    "        except ZeroDivisionError:\n",
    "            s = m\n",
    "\n",
    "        # choose best b and update bn\n",
    "        (_, b), bn = update_b(b, s, m), b\n",
    "\n",
    "        # choose a to form a bracket\n",
    "        a = update_a(func, a, b, bn)\n",
    "\n",
    "        # choose best value for iteration from a and b\n",
    "        a, b = best_ab(func, a, b)\n",
    "\n",
    "        rets.append(b)\n",
    "        fevals.append(fevals[-1] + 1)\n",
    "\n",
    "    return rets, fevals\n",
    "\n",
    "\n",
    "tol = 1.0e-15\n",
    "bisection_rets, bisection_fevals = bisection(f, 0.5, 1.0, tol=tol)\n",
    "newton_rets, newton_fevals = newton(f, df, x0=1.0, tol=tol)\n",
    "modified_rets, modified_fevals = modified_newton(f, x0=1.0, tol=tol)\n",
    "secant_rets, secant_fevals = secant(f, x0=1.0, x1=0.5, tol=tol)\n",
    "false_rets, false_fevals = false_position(f, 0.5, 1.0, tol=tol)\n",
    "dekker_rets, dekker_fevals = dekker(f, a=0.5, b=1.0, tol=tol)\n",
    "\n",
    "fig, (ax1, ax2) = plt.subplots(1, 2, figsize=(8, 6))\n",
    "fig.suptitle(\"Convergence plots\")\n",
    "\n",
    "ax1.semilogy([abs(f(x)) for x in bisection_rets], \".-\", label=\"bisection\")\n",
    "ax1.semilogy([abs(f(x)) for x in newton_rets], \".-\", label=\"Newton\")\n",
    "ax1.semilogy([abs(f(x)) for x in modified_rets], \".-\", label=\"Mod-Newton\")\n",
    "ax1.semilogy([abs(f(x)) for x in secant_rets], \".-\", label=\"secant\")\n",
    "ax1.semilogy([abs(f(x)) for x in false_rets], \".-\", label=\"False pos.\")\n",
    "ax1.semilogy([abs(f(x)) for x in dekker_rets], \".-\", label=\"Dekker\")\n",
    "\n",
    "ax1.set_xlabel(\"iter ($i$)\")\n",
    "ax1.set_ylabel(\"$|f(x^{(i)})|$\")\n",
    "ax1.grid()\n",
    "ax1.legend()\n",
    "\n",
    "ax2.semilogy(\n",
    "    bisection_fevals, [abs(f(x)) for x in bisection_rets], \".-\", label=\"bisection\"\n",
    ")\n",
    "ax2.semilogy(newton_fevals, [abs(f(x)) for x in newton_rets], \".-\", label=\"Newton\")\n",
    "ax2.semilogy(\n",
    "    modified_fevals, [abs(f(x)) for x in modified_rets], \".-\", label=\"Mod-Newton\"\n",
    ")\n",
    "ax2.semilogy(secant_fevals, [abs(f(x)) for x in secant_rets], \".-\", label=\"secant\")\n",
    "ax2.semilogy(false_fevals, [abs(f(x)) for x in false_rets], \".-\", label=\"False pos.\")\n",
    "ax2.semilogy(dekker_fevals, [abs(f(x)) for x in dekker_rets], \".-\", label=\"Dekker\")\n",
    "\n",
    "ax2.set_xlabel(\"Function (or derivative) evaluations\")\n",
    "ax2.set_ylabel(\"$|f(x^{(i)})|$\")\n",
    "ax2.grid()\n",
    "\n",
    "plt.tight_layout()\n",
    "plt.show()"
   ]
  },
  {
   "cell_type": "markdown",
   "id": "fa2c2fbb",
   "metadata": {
    "slideshow": {
     "slide_type": "slide"
    }
   },
   "source": [
    "## Summary \n",
    "\n",
    "|                    | Bisection         | Newton's method            | Modified Newton   | Secant            | False position    | Dekker            |\n",
    "|--------------------|-------------------|----------------------------|-------------------|-------------------|-------------------|-------------------|\n",
    "| Simple algorithm   | yes               | yes                        | yes               | yes               | yes               | more complicated  |\n",
    "| Starting values    | bracket           | one                        | one               | two               | bracket           | bracket     |\n",
    "| Iterations         | lots              | normally fewer             | similar to Newton | similar to Newton | middle            | similar to Newton |\n",
    "| Function evals     | one per iteration | `f` and `df` per iteration | two per iteration | one per iteration | one per iteration | one per iteration |\n",
    "| Convergence        | with good bracket | not always                 | not always        | not always        | with good bracket | with good bracket |\n",
    "| Turing point roots | no                | slower                     | slower            | slower            | no                | no                |\n",
    "| Use of derivative  | no                | yes                        | no                | no                | no                | no                |"
   ]
  }
 ],
 "metadata": {
  "kernelspec": {
   "display_name": "Python 3 (ipykernel)",
   "language": "python",
   "name": "python3"
  },
  "language_info": {
   "codemirror_mode": {
    "name": "ipython",
    "version": 3
   },
   "file_extension": ".py",
   "mimetype": "text/x-python",
   "name": "python",
   "nbconvert_exporter": "python",
   "pygments_lexer": "ipython3",
   "version": "3.8.17"
  }
 },
 "nbformat": 4,
 "nbformat_minor": 5
}
