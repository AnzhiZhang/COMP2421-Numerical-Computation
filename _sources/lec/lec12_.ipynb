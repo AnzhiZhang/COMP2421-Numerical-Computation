{
 "cells": [
  {
   "cell_type": "code",
   "execution_count": null,
   "id": "b2e3d540",
   "metadata": {
    "slideshow": {
     "slide_type": "skip"
    },
    "tags": [
     "remove-input"
    ]
   },
   "outputs": [],
   "source": [
    "from matplotlib import pyplot as plt\n",
    "import numpy as np\n",
    "import pandas as pd\n",
    "\n",
    "plt.rcParams[\"figure.figsize\"] = [5, 3.1]"
   ]
  },
  {
   "cell_type": "markdown",
   "id": "0ce635d9",
   "metadata": {
    "slideshow": {
     "slide_type": "slide"
    }
   },
   "source": [
    "# Today: Derivatives and dynamical models\n",
    "\n",
    "Tom Ranner"
   ]
  },
  {
   "cell_type": "markdown",
   "id": "44a7a24c",
   "metadata": {
    "slideshow": {
     "slide_type": "slide"
    }
   },
   "source": [
    "# Recap\n",
    "\n",
    "Yesterday, we thought about the concept of **rate of change**\n",
    "\n",
    "> Speed is the rate of change of distance\n",
    "\n",
    "> Instantaneous speed is the limit of average speeds over shorter and shorter time periods\n",
    "\n",
    "$$\n",
    "S(t) = \\lim_{\\mathrm{d}t \\to 0} \\frac{D(t + \\mathrm{d}t) - D(t)}{\\mathrm{d}t}.\n",
    "$$"
   ]
  },
  {
   "cell_type": "markdown",
   "id": "1bff039e",
   "metadata": {
    "slideshow": {
     "slide_type": "subslide"
    }
   },
   "source": [
    "We also saw a geometric description:"
   ]
  },
  {
   "cell_type": "code",
   "execution_count": null,
   "id": "917d90c1",
   "metadata": {
    "tags": [
     "remove-input"
    ]
   },
   "outputs": [],
   "source": [
    "def f(x):\n",
    "    return np.exp(-(x**2))\n",
    "\n",
    "\n",
    "def plot(dt=1.0):\n",
    "    t = np.linspace(-2, 2, 200)\n",
    "    plt.plot(t, f(t))\n",
    "\n",
    "    plt.plot([0, 0, -2], [0, f(0), f(0)], \"--\")\n",
    "    plt.plot([dt, dt, -2], [0, f(dt), f(dt)], \"--\")\n",
    "\n",
    "    slope = (f(dt) - f(0)) / dt\n",
    "    plt.plot([0, dt], [f(0), f(dt)], label=f\"{slope=:.1f}\")\n",
    "\n",
    "    plt.xticks([0, dt], [\"t\", \"t + dt\"])\n",
    "    plt.yticks([f(0), f(dt)], [\"f(t)\", \"f(t + dt)\"])\n",
    "\n",
    "    plt.legend()\n",
    "    plt.show()\n",
    "\n",
    "\n",
    "plot(0.3)"
   ]
  },
  {
   "cell_type": "markdown",
   "id": "97f7ff87",
   "metadata": {
    "slideshow": {
     "slide_type": "slide"
    }
   },
   "source": [
    "# More on graphs and derivatives"
   ]
  },
  {
   "cell_type": "markdown",
   "id": "2b407420",
   "metadata": {
    "slideshow": {
     "slide_type": "subslide"
    }
   },
   "source": [
    "## Example 1"
   ]
  },
  {
   "cell_type": "code",
   "execution_count": null,
   "id": "aff3de37",
   "metadata": {
    "tags": [
     "remove-input"
    ]
   },
   "outputs": [],
   "source": [
    "def f1(x):\n",
    "    return x * (1.0 - x)\n",
    "\n",
    "\n",
    "def df1(x):\n",
    "    return 1.0 - 2.0 * x\n",
    "\n",
    "\n",
    "t = np.linspace(0, 1)\n",
    "y = f1(t)\n",
    "yp = df1(t)\n",
    "\n",
    "plt.plot(t, y, label=\"function: $f(t)$\")\n",
    "\n",
    "plt.title(\"Example of a function and its derivative\")\n",
    "plt.axis([0, 1, -1, 1])\n",
    "plt.xlabel(\"t\")\n",
    "plt.legend()\n",
    "plt.grid(True)\n",
    "plt.show()"
   ]
  },
  {
   "cell_type": "markdown",
   "id": "4f5c6479",
   "metadata": {
    "slideshow": {
     "slide_type": "subslide"
    }
   },
   "source": [
    "## Example 1"
   ]
  },
  {
   "cell_type": "code",
   "execution_count": null,
   "id": "122c942c",
   "metadata": {
    "tags": [
     "remove-input"
    ]
   },
   "outputs": [],
   "source": [
    "plt.plot(t, y, label=\"function: $f(t)$\")\n",
    "plt.plot(t, yp, label=\"derivative: $f'(t)$\")\n",
    "\n",
    "plt.title(\"Example of a function and its derivative\")\n",
    "plt.xlabel(\"t\")\n",
    "plt.axis([0, 1, -1, 1])\n",
    "plt.legend()\n",
    "plt.grid(True)\n",
    "plt.show()"
   ]
  },
  {
   "cell_type": "markdown",
   "id": "38fb8fea",
   "metadata": {
    "slideshow": {
     "slide_type": "subslide"
    }
   },
   "source": [
    "## Example 2"
   ]
  },
  {
   "cell_type": "code",
   "execution_count": null,
   "id": "b197f433",
   "metadata": {
    "tags": [
     "remove-input"
    ]
   },
   "outputs": [],
   "source": [
    "def f3(x):\n",
    "    if type(x) == np.ndarray:\n",
    "        return np.array([f3(xx) for xx in x])\n",
    "\n",
    "    if x < 0.4:\n",
    "        return x\n",
    "    if x > 0.6:\n",
    "        return 1 - x\n",
    "    return -5 * x**2 + 5 * x - 0.8\n",
    "\n",
    "\n",
    "def df3(x):\n",
    "    if type(x) == np.ndarray:\n",
    "        return np.array([df3(xx) for xx in x])\n",
    "\n",
    "    if x < 0.4:\n",
    "        return 1\n",
    "    if x > 0.6:\n",
    "        return -1\n",
    "    return -10 * x + 5\n",
    "\n",
    "\n",
    "t = np.linspace(0, 1, 1000)\n",
    "y = f3(t)\n",
    "yp = df3(t)\n",
    "\n",
    "plt.plot(t, y, label=\"function: $f(t)$\")\n",
    "\n",
    "plt.title(\"Example of a function and its derivative\")\n",
    "plt.xlabel(\"t\")\n",
    "plt.axis([0, 1, -1.2, 1.2])\n",
    "plt.legend()\n",
    "plt.grid(True)\n",
    "plt.show()"
   ]
  },
  {
   "cell_type": "markdown",
   "id": "be175f1c",
   "metadata": {
    "slideshow": {
     "slide_type": "subslide"
    }
   },
   "source": [
    "## Example 2"
   ]
  },
  {
   "cell_type": "code",
   "execution_count": null,
   "id": "ffe6ce39",
   "metadata": {
    "tags": [
     "remove-input"
    ]
   },
   "outputs": [],
   "source": [
    "plt.plot(t, y, label=\"function: $f(t)$\")\n",
    "plt.plot(t, yp, label=\"derivative: $f'(t)$\")\n",
    "\n",
    "plt.title(\"Example of a function and its derivative\")\n",
    "plt.xlabel(\"t\")\n",
    "plt.axis([0, 1, -1.2, 1.2])\n",
    "plt.legend()\n",
    "plt.grid(True)\n",
    "plt.show()"
   ]
  },
  {
   "cell_type": "markdown",
   "id": "3ee6a6ff",
   "metadata": {
    "slideshow": {
     "slide_type": "subslide"
    }
   },
   "source": [
    "## Example 3"
   ]
  },
  {
   "cell_type": "code",
   "execution_count": null,
   "id": "2ec1ea22",
   "metadata": {
    "tags": [
     "remove-input"
    ]
   },
   "outputs": [],
   "source": [
    "CASES_URL = \"https://coronavirus.data.gov.uk/api/v1/data?filters=areaName=United%2520Kingdom;areaType=overview;date%253E2021-12-06&structure=%7B%22areaType%22:%22areaType%22,%22areaName%22:%22areaName%22,%22areaCode%22:%22areaCode%22,%22date%22:%22date%22,%22newCasesBySpecimenDateRollingSum%22:%22newCasesBySpecimenDateRollingSum%22,%22newCasesBySpecimenDateRollingRate%22:%22newCasesBySpecimenDateRollingRate%22,%22newCasesBySpecimenDateChange%22:%22newCasesBySpecimenDateChange%22,%22newCasesBySpecimenDateChangePercentage%22:%22newCasesBySpecimenDateChangePercentage%22%7D&format=csv\"\n",
    "\n",
    "df = pd.read_csv(CASES_URL)\n",
    "df[\"date\"] = pd.to_datetime(df[\"date\"])\n",
    "\n",
    "dates = df[\"date\"]\n",
    "cases = df[\"newCasesBySpecimenDateRollingRate\"]\n",
    "\n",
    "dcases = -np.gradient(cases) * 7\n",
    "\n",
    "fig, ax = plt.subplots(1, 1)\n",
    "ax.plot(dates, cases, label=\"function (cases)\")\n",
    "ax.plot(dates, dcases, label=\"derivative\")\n",
    "ax.set_xlabel(\"time (date)\")\n",
    "ax.xaxis.set_major_locator(plt.MaxNLocator(4))\n",
    "ax.legend()\n",
    "ax.grid()\n",
    "plt.show()"
   ]
  },
  {
   "cell_type": "markdown",
   "id": "5e131f6d",
   "metadata": {},
   "source": [
    "Rate of COVID-19 cases per 100,000 people in the rolling 7-day period ending on the dates shown.\n",
    "[Data source, cornavirus.data.gov.uk](https://coronavirus.data.gov.uk/details/cases)\n"
   ]
  },
  {
   "cell_type": "markdown",
   "id": "f760b63b",
   "metadata": {
    "slideshow": {
     "slide_type": "slide"
    }
   },
   "source": [
    "# Differential equations\n",
    "\n",
    "We have already seen $S(t) = D'(t)$.\n",
    "\n",
    "This is an example of a **differential equation** - an equation which involves one or more derivatives."
   ]
  },
  {
   "cell_type": "markdown",
   "id": "67d7fd87",
   "metadata": {
    "slideshow": {
     "slide_type": "fragment"
    }
   },
   "source": [
    "We have seen (and computationally solved!) one example:\n",
    "\n",
    "$$\n",
    "D'(t) = -(t - 1.0) (t + 0.5) \\text{ where } D(0) = 0.\n",
    "$$"
   ]
  },
  {
   "cell_type": "markdown",
   "id": "89977fe2",
   "metadata": {
    "slideshow": {
     "slide_type": "subslide"
    }
   },
   "source": [
    "## An object in free fall\n",
    "\n",
    "Consider a simple model for an object falling from a large height, based on two assumptions:\n",
    "\n",
    "1. all objects are attracted downward with an **acceleration** due to gravity of $9.81\\, \\mathrm{m} / \\mathrm{s}^2$\n",
    "2. air resistance causes an object to **decelerate** in proportion to its spead"
   ]
  },
  {
   "cell_type": "markdown",
   "id": "c683b371",
   "metadata": {
    "slideshow": {
     "slide_type": "subslide"
    }
   },
   "source": [
    "### What is the net acceleration on the object\n",
    "\n",
    "> Acceleration is the rate of change of speed! $a(t) = S'(t)$\n",
    "\n",
    "A positive value for $a(t)$ means that the speed is increasing whilst a negative value means that speed is decreasing."
   ]
  },
  {
   "cell_type": "markdown",
   "id": "48b5ed19",
   "metadata": {
    "slideshow": {
     "slide_type": "fragment"
    }
   },
   "source": [
    "We can write the *downwards* acceleration as\n",
    "\n",
    "$$\n",
    "a(t) = g - k S(t)\n",
    "$$\n",
    "\n",
    "(here $S(t)$ is the *downwards* speed)"
   ]
  },
  {
   "cell_type": "markdown",
   "id": "881f7ad7",
   "metadata": {
    "slideshow": {
     "slide_type": "fragment"
    }
   },
   "source": [
    "So we have the differential equation:\n",
    "\n",
    "$$\n",
    "S'(t) = g - k S(t).\n",
    "$$"
   ]
  },
  {
   "cell_type": "markdown",
   "id": "f4c867b4",
   "metadata": {
    "slideshow": {
     "slide_type": "subslide"
    }
   },
   "source": [
    "## How can we solve this equation\n",
    "\n",
    "> Try to do the same as last lecture, split the time interval into small time interval and assume everything is constant on each time interval."
   ]
  },
  {
   "cell_type": "markdown",
   "id": "75d23a74",
   "metadata": {
    "slideshow": {
     "slide_type": "fragment"
    }
   },
   "source": [
    "We know that    \n",
    "    \n",
    "$$\n",
    "S'(t) = \\lim_{\\mathrm{d}t \\to 0} \\frac{S(t + \\mathrm{d}t) - S(t)}{\\mathrm{d}t}\n",
    "\\approx \\frac{S(t+ \\mathrm{d}t) - S(t)}{\\mathrm{d}t}\n",
    "$$\n",
    "\n",
    "for a small value of $\\mathrm{d}t$.\n",
    "\n",
    "Hence we can iterate\n",
    "\n",
    "$$\n",
    "S(t + \\mathrm{d}t) = S(t) + \\mathrm{d}t (g - k S(t)).\n",
    "$$"
   ]
  },
  {
   "cell_type": "markdown",
   "id": "1c10b83e",
   "metadata": {
    "slideshow": {
     "slide_type": "subslide"
    }
   },
   "source": [
    "## Python algorithm"
   ]
  },
  {
   "cell_type": "code",
   "execution_count": null,
   "id": "b2230ec1",
   "metadata": {},
   "outputs": [],
   "source": [
    "def freefall(n):\n",
    "    \"\"\"Input: n number of timesteps\"\"\"\n",
    "\n",
    "    tfinal = 50.0  # Select the final time\n",
    "    g = 9.81  # acceleration due to gravity (m/s)\n",
    "    k = 0.2  # air resistance coefficient\n",
    "\n",
    "    # initialise time and speed arrays array\n",
    "    t = np.empty([n + 1, 1])\n",
    "    s = np.empty([n + 1, 1])\n",
    "    s[0], t[0] = 0.0, 0.0  # set initial conditions\n",
    "\n",
    "    dt = (tfinal - t[0]) / n  # calculate step size\n",
    "\n",
    "    # take n time steps, in which it is assumed that the acceleration\n",
    "    # is constant in each small time interval\n",
    "    for i in range(n):\n",
    "        t[i + 1] = t[i] + dt\n",
    "        s[i + 1] = s[i] + dt * (g - k * s[i])\n",
    "\n",
    "    return t, s"
   ]
  },
  {
   "cell_type": "markdown",
   "id": "ae03a24f",
   "metadata": {
    "slideshow": {
     "slide_type": "subslide"
    }
   },
   "source": [
    "## Python algorithm results"
   ]
  },
  {
   "cell_type": "code",
   "execution_count": null,
   "id": "32cc6c0a",
   "metadata": {
    "tags": [
     "remove-input"
    ]
   },
   "outputs": [],
   "source": [
    "for n in [10, 20, 40, 80]:\n",
    "    t, s = freefall(n)\n",
    "    plt.plot(t, s, label=f\"{n=}\")\n",
    "\n",
    "plt.xlabel(\"time: t\")\n",
    "plt.ylabel(\"speed: s\")\n",
    "plt.grid()\n",
    "plt.legend()\n",
    "plt.show()"
   ]
  },
  {
   "cell_type": "markdown",
   "id": "970cb811",
   "metadata": {},
   "source": [
    "This approach works for any differential equation and is called **Euler's method**"
   ]
  },
  {
   "cell_type": "markdown",
   "id": "4a687055",
   "metadata": {
    "slideshow": {
     "slide_type": "slide"
    }
   },
   "source": [
    "# Euler's method\n",
    "\n",
    "An approach that works for *any* differential equation involving just a single derivative:\n",
    "\n",
    "$$\n",
    "y'(t) = f(t, y(t)) \\quad \\text{subject to the initial condition} \\quad y(t_0) = y_0.\n",
    "$$"
   ]
  },
  {
   "cell_type": "markdown",
   "id": "61bbad11",
   "metadata": {
    "slideshow": {
     "slide_type": "subslide"
    }
   },
   "source": [
    "## General form:\n",
    "    \n",
    "$$\n",
    "y'(t) = f(t, y(t)) \\quad \\text{subject to the initial condition} \\quad y(t_0) = y_0.\n",
    "$$\n",
    "\n",
    "### Examples\n",
    "\n",
    "$$y'(t) = -(t-1.0)(t-0.5) \\quad\\text{and}\\quad y(0) = 0$$\n",
    "$$y'(t) = g - k y(t) \\quad\\text{and}\\quad y(0) = 0$$\n",
    "$$y'(t) = -(y(t))^2 + \\frac{1}{t} \\quad\\text{and}\\quad y(1) = 2$$"
   ]
  },
  {
   "cell_type": "markdown",
   "id": "73894af5",
   "metadata": {
    "slideshow": {
     "slide_type": "subslide"
    }
   },
   "source": [
    "## General algorithm\n",
    "\n",
    "For differential equations in our general form, we have the following algorithm:\n",
    "\n",
    "1. Set initial values for $t^{(0)}$ and $y^{(0)}$\n",
    "2. Loop over all time steps, until the final time, updaing using the formulae:\n",
    "\n",
    "   $$\n",
    "   \\begin{aligned}\n",
    "   y^{(i+1)} & = y^{(i)} + \\mathrm{d}t f(t^{(i)}, y^{(i)}) \\\\\n",
    "   t^{(i+1)} & = t^{(i)} + \\mathrm{d}t.\n",
    "   \\end{aligned}\n",
    "   $$"
   ]
  },
  {
   "cell_type": "markdown",
   "id": "77b4cf05",
   "metadata": {
    "slideshow": {
     "slide_type": "subslide"
    }
   },
   "source": [
    "### Example\n",
    "\n",
    "Take three steps of Euler's method to approximate the solution of\n",
    "\n",
    "$$\n",
    "y'(t) = -(y(t))^2 + \\frac{1}{t} \\text{ subject to the initial condition } y(1) = 2\n",
    "$$\n",
    "\n",
    "for $1 \\le t \\le 2$."
   ]
  },
  {
   "cell_type": "code",
   "execution_count": null,
   "id": "defa36c9",
   "metadata": {
    "slideshow": {
     "slide_type": "fragment"
    },
    "tags": [
     "remove-input"
    ]
   },
   "outputs": [],
   "source": [
    "n = 3\n",
    "t, y = np.empty([n + 1, 1]), np.empty([n + 1, 1])\n",
    "t[0], y[0] = 1.0, 2.0\n",
    "\n",
    "\n",
    "dt = (2.0 - t[0]) / n\n",
    "\n",
    "for i in range(n):\n",
    "    t[i + 1] = t[i] + dt\n",
    "    y[i + 1] = y[i] + dt * (-y[i] * y[i] + 1 / t[i])\n",
    "\n",
    "plt.plot(t, y, \".-\")\n",
    "plt.xlabel(\"t\")\n",
    "plt.ylabel(\"y(t)\")\n",
    "plt.grid(True)\n",
    "plt.show()"
   ]
  },
  {
   "cell_type": "code",
   "execution_count": null,
   "id": "a0af5a0f",
   "metadata": {
    "slideshow": {
     "slide_type": "subslide"
    },
    "tags": [
     "remove-input"
    ]
   },
   "outputs": [],
   "source": [
    "for j in range(5):\n",
    "    n = 3 * 2**j\n",
    "    t, y = np.empty([n + 1, 1]), np.empty([n + 1, 1])\n",
    "    t[0], y[0] = 1.0, 2.0\n",
    "\n",
    "    dt = (2.0 - t[0]) / n\n",
    "\n",
    "    for i in range(n):\n",
    "        t[i + 1] = t[i] + dt\n",
    "        y[i + 1] = y[i] + dt * (-y[i] * y[i] + 1 / t[i])\n",
    "\n",
    "    plt.plot(t, y, label=f\"{dt=}\")\n",
    "\n",
    "plt.xlabel(\"t\")\n",
    "plt.ylabel(\"y(t)\")\n",
    "plt.grid(True)\n",
    "plt.legend()\n",
    "plt.show()"
   ]
  },
  {
   "cell_type": "markdown",
   "id": "354f0d2e",
   "metadata": {
    "slideshow": {
     "slide_type": "slide"
    }
   },
   "source": [
    "# Summary\n",
    "\n",
    "-   Given the graph of $y(t)$ it is possible to sketch the graph of $y'(t)$ (with some care!).\n",
    "\n",
    "-   Computational models which involve dynamic processes usually involve the use of derivatives.\n",
    "\n",
    "-   An equation which includes a derivative is known as a **differential equation**.\n",
    "\n",
    "-   To solve a differential equation it is necessary to know some information about the solution at some starting point (e.g. initial distance travelled, initial speed, population at a given point in time, etc.).\n",
    "\n",
    "-   One computational approach to solve such equations is **Euler's method** - which gets more accurate with more sub-intervals used."
   ]
  }
 ],
 "metadata": {
  "kernelspec": {
   "display_name": "Python 3 (ipykernel)",
   "language": "python",
   "name": "python3"
  },
  "language_info": {
   "codemirror_mode": {
    "name": "ipython",
    "version": 3
   },
   "file_extension": ".py",
   "mimetype": "text/x-python",
   "name": "python",
   "nbconvert_exporter": "python",
   "pygments_lexer": "ipython3",
   "version": "3.8.17"
  }
 },
 "nbformat": 4,
 "nbformat_minor": 5
}
