{
 "cells": [
  {
   "cell_type": "markdown",
   "id": "3d613c52",
   "metadata": {},
   "source": [
    "# Lecture 16: Newton's method\n",
    "\n",
    "## Examples\n",
    "\n",
    "### Example 1\n",
    "\n",
    "Use Newton's method to approximate the value of $\\sqrt{2}$ by solving $x^2 - R = 0$.\n",
    "\n",
    "$$\n",
    "     f(x) = x^2 - R\n",
    "     \\:\n",
    "     \\Rightarrow\n",
    "     \\:\n",
    "     f'(x) = 2x\n",
    "     \\:\n",
    "     \\Rightarrow\n",
    "     \\:\n",
    "     x^{(i+1)} = x^{(i)} - \\frac{(x^{(i)})^2 - R}{2 x^{(i)}}.\n",
    "$$"
   ]
  },
  {
   "cell_type": "code",
   "execution_count": 1,
   "id": "eb6dc92f",
   "metadata": {
    "tags": [
     "remove-input"
    ]
   },
   "outputs": [
    {
     "data": {
      "text/html": [
       "<style  type=\"text/css\" >\n",
       "</style><table id=\"T_5ebdf7a0_8ab2_11ee_852d_6045bdccd61a\" ><caption>Results of Newton's method on example 1</caption><thead>    <tr>        <th class=\"col_heading level0 col0\" >iter</th>        <th class=\"col_heading level0 col1\" >x</th>        <th class=\"col_heading level0 col2\" >f(x)</th>    </tr></thead><tbody>\n",
       "                <tr>\n",
       "                                <td id=\"T_5ebdf7a0_8ab2_11ee_852d_6045bdccd61arow0_col0\" class=\"data row0 col0\" >0</td>\n",
       "                        <td id=\"T_5ebdf7a0_8ab2_11ee_852d_6045bdccd61arow0_col1\" class=\"data row0 col1\" >1.000000</td>\n",
       "                        <td id=\"T_5ebdf7a0_8ab2_11ee_852d_6045bdccd61arow0_col2\" class=\"data row0 col2\" >-1.000000</td>\n",
       "            </tr>\n",
       "            <tr>\n",
       "                                <td id=\"T_5ebdf7a0_8ab2_11ee_852d_6045bdccd61arow1_col0\" class=\"data row1 col0\" >1</td>\n",
       "                        <td id=\"T_5ebdf7a0_8ab2_11ee_852d_6045bdccd61arow1_col1\" class=\"data row1 col1\" >1.500000</td>\n",
       "                        <td id=\"T_5ebdf7a0_8ab2_11ee_852d_6045bdccd61arow1_col2\" class=\"data row1 col2\" >0.250000</td>\n",
       "            </tr>\n",
       "            <tr>\n",
       "                                <td id=\"T_5ebdf7a0_8ab2_11ee_852d_6045bdccd61arow2_col0\" class=\"data row2 col0\" >2</td>\n",
       "                        <td id=\"T_5ebdf7a0_8ab2_11ee_852d_6045bdccd61arow2_col1\" class=\"data row2 col1\" >1.416667</td>\n",
       "                        <td id=\"T_5ebdf7a0_8ab2_11ee_852d_6045bdccd61arow2_col2\" class=\"data row2 col2\" >0.006944</td>\n",
       "            </tr>\n",
       "            <tr>\n",
       "                                <td id=\"T_5ebdf7a0_8ab2_11ee_852d_6045bdccd61arow3_col0\" class=\"data row3 col0\" >3</td>\n",
       "                        <td id=\"T_5ebdf7a0_8ab2_11ee_852d_6045bdccd61arow3_col1\" class=\"data row3 col1\" >1.414216</td>\n",
       "                        <td id=\"T_5ebdf7a0_8ab2_11ee_852d_6045bdccd61arow3_col2\" class=\"data row3 col2\" >0.000006</td>\n",
       "            </tr>\n",
       "    </tbody></table>"
      ],
      "text/plain": [
       "<pandas.io.formats.style.Styler at 0x7f6a34fc9190>"
      ]
     },
     "execution_count": 1,
     "metadata": {},
     "output_type": "execute_result"
    }
   ],
   "source": [
    "def f(x):\n",
    "    return x * x - 2\n",
    "\n",
    "\n",
    "def df(x):\n",
    "    return 2 * x\n",
    "\n",
    "\n",
    "it = 0\n",
    "x = 1.0\n",
    "tol = 1.0e-4\n",
    "\n",
    "headers = [\"iter\", \"x\", \"f(x)\"]\n",
    "data = []\n",
    "\n",
    "it = 0\n",
    "data.append([it, x, f(x)])\n",
    "\n",
    "while abs(f(x)) > tol:\n",
    "    x -= f(x) / df(x)\n",
    "    it += 1\n",
    "    data.append([it, x, f(x)])\n",
    "\n",
    "import pandas as pd\n",
    "\n",
    "df = pd.DataFrame(data, columns=headers)\n",
    "df.style.hide_index().set_caption(\"Results of Newton's method on example 1\")"
   ]
  },
  {
   "cell_type": "markdown",
   "id": "5f0c8d37",
   "metadata": {},
   "source": [
    "-   We get the root as $x^* \\approx 1.414216$ after 3 iterations.\n",
    "-   The iteration stopped when $|f(x^{(i)})| < 10^{-4}$.\n",
    "-   We could also require that $|x^{(i+1)} - x^{(i)} < 10^{-4}$.\n",
    "\n",
    "### Example 2\n",
    "\n",
    "Starting from $x^{(0)} = 1$ with $TOL = 10^{-4}$, we get the root as $x^* \\approx 0.765789$ after 2 iterations for the NACA0012 aerofoil example."
   ]
  },
  {
   "cell_type": "code",
   "execution_count": 2,
   "id": "58e908c3",
   "metadata": {
    "tags": [
     "remove-input"
    ]
   },
   "outputs": [
    {
     "data": {
      "text/html": [
       "<style  type=\"text/css\" >\n",
       "</style><table id=\"T_5ebfc742_8ab2_11ee_852d_6045bdccd61a\" ><caption>Results of Newton's method on example 2</caption><thead>    <tr>        <th class=\"col_heading level0 col0\" >iter</th>        <th class=\"col_heading level0 col1\" >x</th>        <th class=\"col_heading level0 col2\" >f(x)</th>    </tr></thead><tbody>\n",
       "                <tr>\n",
       "                                <td id=\"T_5ebfc742_8ab2_11ee_852d_6045bdccd61arow0_col0\" class=\"data row0 col0\" >0</td>\n",
       "                        <td id=\"T_5ebfc742_8ab2_11ee_852d_6045bdccd61arow0_col1\" class=\"data row0 col1\" >1.000000</td>\n",
       "                        <td id=\"T_5ebfc742_8ab2_11ee_852d_6045bdccd61arow0_col2\" class=\"data row0 col2\" >-0.047900</td>\n",
       "            </tr>\n",
       "            <tr>\n",
       "                                <td id=\"T_5ebfc742_8ab2_11ee_852d_6045bdccd61arow1_col0\" class=\"data row1 col0\" >1</td>\n",
       "                        <td id=\"T_5ebfc742_8ab2_11ee_852d_6045bdccd61arow1_col1\" class=\"data row1 col1\" >0.795168</td>\n",
       "                        <td id=\"T_5ebfc742_8ab2_11ee_852d_6045bdccd61arow1_col2\" class=\"data row1 col2\" >-0.005392</td>\n",
       "            </tr>\n",
       "            <tr>\n",
       "                                <td id=\"T_5ebfc742_8ab2_11ee_852d_6045bdccd61arow2_col0\" class=\"data row2 col0\" >2</td>\n",
       "                        <td id=\"T_5ebfc742_8ab2_11ee_852d_6045bdccd61arow2_col1\" class=\"data row2 col1\" >0.765789</td>\n",
       "                        <td id=\"T_5ebfc742_8ab2_11ee_852d_6045bdccd61arow2_col2\" class=\"data row2 col2\" >-0.000096</td>\n",
       "            </tr>\n",
       "    </tbody></table>"
      ],
      "text/plain": [
       "<pandas.io.formats.style.Styler at 0x7f6a44c04b80>"
      ]
     },
     "execution_count": 2,
     "metadata": {},
     "output_type": "execute_result"
    }
   ],
   "source": [
    "import numpy as np\n",
    "\n",
    "\n",
    "def f(x):\n",
    "    t = 0.1\n",
    "\n",
    "    yp = (\n",
    "        -0.1015 * np.power(x, 4)\n",
    "        + 0.2843 * np.power(x, 3)\n",
    "        - 0.3516 * np.power(x, 2)\n",
    "        - 0.126 * x\n",
    "        + 0.2969 * np.sqrt(x)\n",
    "    )\n",
    "    f = yp - 0.5 * t\n",
    "\n",
    "    return f\n",
    "\n",
    "\n",
    "def df(x):\n",
    "    dy = (\n",
    "        -4 * 0.1015 * np.power(x, 3)\n",
    "        + 3 * 0.2843 * np.power(x, 2)\n",
    "        - 2 * 0.3516 * x\n",
    "        - 0.126\n",
    "        + 0.2969 * 0.5 * np.power(x, -0.5)\n",
    "    )\n",
    "    f = dy\n",
    "\n",
    "    return f\n",
    "\n",
    "\n",
    "it = 0\n",
    "x = 1.0\n",
    "tol = 1.0e-4\n",
    "\n",
    "headers = [\"iter\", \"x\", \"f(x)\"]\n",
    "data = []\n",
    "\n",
    "it = 0\n",
    "data.append([it, x, f(x)])\n",
    "\n",
    "while abs(f(x)) > tol:\n",
    "    x -= f(x) / df(x)\n",
    "    it += 1\n",
    "    data.append([it, x, f(x)])\n",
    "\n",
    "import pandas as pd\n",
    "\n",
    "df = pd.DataFrame(data, columns=headers)\n",
    "df.style.hide_index().set_caption(\"Results of Newton's method on example 2\")"
   ]
  },
  {
   "cell_type": "markdown",
   "id": "26ae06ab",
   "metadata": {},
   "source": [
    "### Example 3\n",
    "\n",
    " Starting from $x^{(0)} = 0.1$ with $TOL = 10^{-4}$, we get the root as $x^* \\approx 0.033863$ after 5 iterations for the second solution to the NACA0012 aerofoil example."
   ]
  },
  {
   "cell_type": "code",
   "execution_count": 3,
   "id": "350e0c0c",
   "metadata": {
    "tags": [
     "remove-input"
    ]
   },
   "outputs": [
    {
     "data": {
      "text/html": [
       "<style  type=\"text/css\" >\n",
       "</style><table id=\"T_5ec17fe2_8ab2_11ee_852d_6045bdccd61a\" ><caption>Results of Newton's method on example 3</caption><thead>    <tr>        <th class=\"col_heading level0 col0\" >iter</th>        <th class=\"col_heading level0 col1\" >x</th>        <th class=\"col_heading level0 col2\" >f(x)</th>    </tr></thead><tbody>\n",
       "                <tr>\n",
       "                                <td id=\"T_5ec17fe2_8ab2_11ee_852d_6045bdccd61arow0_col0\" class=\"data row0 col0\" >0</td>\n",
       "                        <td id=\"T_5ec17fe2_8ab2_11ee_852d_6045bdccd61arow0_col1\" class=\"data row0 col1\" >0.100000</td>\n",
       "                        <td id=\"T_5ec17fe2_8ab2_11ee_852d_6045bdccd61arow0_col2\" class=\"data row0 col2\" >0.028046</td>\n",
       "            </tr>\n",
       "            <tr>\n",
       "                                <td id=\"T_5ec17fe2_8ab2_11ee_852d_6045bdccd61arow1_col0\" class=\"data row1 col0\" >1</td>\n",
       "                        <td id=\"T_5ec17fe2_8ab2_11ee_852d_6045bdccd61arow1_col1\" class=\"data row1 col1\" >0.000278</td>\n",
       "                        <td id=\"T_5ec17fe2_8ab2_11ee_852d_6045bdccd61arow1_col2\" class=\"data row1 col2\" >-0.045086</td>\n",
       "            </tr>\n",
       "            <tr>\n",
       "                                <td id=\"T_5ec17fe2_8ab2_11ee_852d_6045bdccd61arow2_col0\" class=\"data row2 col0\" >2</td>\n",
       "                        <td id=\"T_5ec17fe2_8ab2_11ee_852d_6045bdccd61arow2_col1\" class=\"data row2 col1\" >0.005413</td>\n",
       "                        <td id=\"T_5ec17fe2_8ab2_11ee_852d_6045bdccd61arow2_col2\" class=\"data row2 col2\" >-0.028849</td>\n",
       "            </tr>\n",
       "            <tr>\n",
       "                                <td id=\"T_5ec17fe2_8ab2_11ee_852d_6045bdccd61arow3_col0\" class=\"data row3 col0\" >3</td>\n",
       "                        <td id=\"T_5ec17fe2_8ab2_11ee_852d_6045bdccd61arow3_col1\" class=\"data row3 col1\" >0.020693</td>\n",
       "                        <td id=\"T_5ec17fe2_8ab2_11ee_852d_6045bdccd61arow3_col2\" class=\"data row3 col2\" >-0.010046</td>\n",
       "            </tr>\n",
       "            <tr>\n",
       "                                <td id=\"T_5ec17fe2_8ab2_11ee_852d_6045bdccd61arow4_col0\" class=\"data row4 col0\" >4</td>\n",
       "                        <td id=\"T_5ec17fe2_8ab2_11ee_852d_6045bdccd61arow4_col1\" class=\"data row4 col1\" >0.031958</td>\n",
       "                        <td id=\"T_5ec17fe2_8ab2_11ee_852d_6045bdccd61arow4_col2\" class=\"data row4 col2\" >-0.001300</td>\n",
       "            </tr>\n",
       "            <tr>\n",
       "                                <td id=\"T_5ec17fe2_8ab2_11ee_852d_6045bdccd61arow5_col0\" class=\"data row5 col0\" >5</td>\n",
       "                        <td id=\"T_5ec17fe2_8ab2_11ee_852d_6045bdccd61arow5_col1\" class=\"data row5 col1\" >0.033863</td>\n",
       "                        <td id=\"T_5ec17fe2_8ab2_11ee_852d_6045bdccd61arow5_col2\" class=\"data row5 col2\" >-0.000024</td>\n",
       "            </tr>\n",
       "    </tbody></table>"
      ],
      "text/plain": [
       "<pandas.io.formats.style.Styler at 0x7f69fed5d4f0>"
      ]
     },
     "execution_count": 3,
     "metadata": {},
     "output_type": "execute_result"
    }
   ],
   "source": [
    "import numpy as np\n",
    "\n",
    "\n",
    "def f(x):\n",
    "    t = 0.1\n",
    "\n",
    "    yp = (\n",
    "        -0.1015 * np.power(x, 4)\n",
    "        + 0.2843 * np.power(x, 3)\n",
    "        - 0.3516 * np.power(x, 2)\n",
    "        - 0.126 * x\n",
    "        + 0.2969 * np.sqrt(x)\n",
    "    )\n",
    "    f = yp - 0.5 * t\n",
    "\n",
    "    return f\n",
    "\n",
    "\n",
    "def df(x):\n",
    "    dy = (\n",
    "        -4 * 0.1015 * np.power(x, 3)\n",
    "        + 3 * 0.2843 * np.power(x, 2)\n",
    "        - 2 * 0.3516 * x\n",
    "        - 0.126\n",
    "        + 0.2969 * 0.5 * np.power(x, -0.5)\n",
    "    )\n",
    "    f = dy\n",
    "\n",
    "    return f\n",
    "\n",
    "\n",
    "it = 0\n",
    "x = 0.1\n",
    "tol = 1.0e-4\n",
    "\n",
    "headers = [\"iter\", \"x\", \"f(x)\"]\n",
    "data = []\n",
    "\n",
    "it = 0\n",
    "data.append([it, x, f(x)])\n",
    "\n",
    "while abs(f(x)) > tol:\n",
    "    x -= f(x) / df(x)\n",
    "    it += 1\n",
    "    data.append([it, x, f(x)])\n",
    "\n",
    "import pandas as pd\n",
    "\n",
    "df = pd.DataFrame(data, columns=headers)\n",
    "df.style.hide_index().set_caption(\"Results of Newton's method on example 3\")"
   ]
  },
  {
   "cell_type": "markdown",
   "id": "5b9936c4",
   "metadata": {},
   "source": [
    "In all cases the performance is considerable superior to that of the bisection method.\n",
    "\n",
    "## Zero derivative as a root\n",
    "\n",
    "-   We saw that the bisection method cannot deal with the situation where a root occurs at a *turning point*. That is,\n",
    "\n",
    "    $$\n",
    "    f(x^*) = f'(x^*) = 0.\n",
    "    $$\n",
    "\n",
    "-   At first sight, it may appear that Newton's method will struggle with such situations since $x^{(i+1)} = x^{(i)} - \\frac{f(x^{(i)})}{f'(x^{(i)})}$ would lead to $\\frac{0}{0}$ occurring when $x^{(i)} = x^*$.\n",
    "\n",
    "-   Fortunately, this is not a problem in practice and the iteration can still converge - although it converges more slowly than to a \"simple root\".\n",
    "\n",
    "### Zero derivative as a root - example\n",
    "\n",
    "Find a solution of $f(x) = 0$ using Newton's method when\n",
    "\n",
    "$$\n",
    "f(x) = (x-1)^2 = x^2 - 2x + 1.\n",
    "$$\n",
    "\n",
    "This has a solution $x^* = 1$, however $f'(x) = 2x - 2$, so $f'(x^*) = 0$ when $x = x^*= 1$. The Newton iteration is given by\n",
    "\n",
    "$$\n",
    "x^{(i+1)} = x^{(i)} - \\frac{(x^{(i)} - 1)^2}{2 x^{(i)} - 2}\n",
    "= x^{(i)} - \\frac{1}{2}(x^{(i)} - 1)\n",
    "= \\frac{1}{2} (x^{(i)} + 1).\n",
    "$$"
   ]
  },
  {
   "cell_type": "code",
   "execution_count": 4,
   "id": "07398605",
   "metadata": {
    "tags": [
     "remove-input"
    ]
   },
   "outputs": [
    {
     "data": {
      "text/html": [
       "<style  type=\"text/css\" >\n",
       "</style><table id=\"T_5ec303b2_8ab2_11ee_852d_6045bdccd61a\" ><caption>Results of Newton's method on example with zero derivative at root</caption><thead>    <tr>        <th class=\"col_heading level0 col0\" >iter</th>        <th class=\"col_heading level0 col1\" >x</th>        <th class=\"col_heading level0 col2\" >f(x)</th>    </tr></thead><tbody>\n",
       "                <tr>\n",
       "                                <td id=\"T_5ec303b2_8ab2_11ee_852d_6045bdccd61arow0_col0\" class=\"data row0 col0\" >0</td>\n",
       "                        <td id=\"T_5ec303b2_8ab2_11ee_852d_6045bdccd61arow0_col1\" class=\"data row0 col1\" >4.000000</td>\n",
       "                        <td id=\"T_5ec303b2_8ab2_11ee_852d_6045bdccd61arow0_col2\" class=\"data row0 col2\" >9.000000</td>\n",
       "            </tr>\n",
       "            <tr>\n",
       "                                <td id=\"T_5ec303b2_8ab2_11ee_852d_6045bdccd61arow1_col0\" class=\"data row1 col0\" >1</td>\n",
       "                        <td id=\"T_5ec303b2_8ab2_11ee_852d_6045bdccd61arow1_col1\" class=\"data row1 col1\" >2.500000</td>\n",
       "                        <td id=\"T_5ec303b2_8ab2_11ee_852d_6045bdccd61arow1_col2\" class=\"data row1 col2\" >2.250000</td>\n",
       "            </tr>\n",
       "            <tr>\n",
       "                                <td id=\"T_5ec303b2_8ab2_11ee_852d_6045bdccd61arow2_col0\" class=\"data row2 col0\" >2</td>\n",
       "                        <td id=\"T_5ec303b2_8ab2_11ee_852d_6045bdccd61arow2_col1\" class=\"data row2 col1\" >1.750000</td>\n",
       "                        <td id=\"T_5ec303b2_8ab2_11ee_852d_6045bdccd61arow2_col2\" class=\"data row2 col2\" >0.562500</td>\n",
       "            </tr>\n",
       "            <tr>\n",
       "                                <td id=\"T_5ec303b2_8ab2_11ee_852d_6045bdccd61arow3_col0\" class=\"data row3 col0\" >3</td>\n",
       "                        <td id=\"T_5ec303b2_8ab2_11ee_852d_6045bdccd61arow3_col1\" class=\"data row3 col1\" >1.375000</td>\n",
       "                        <td id=\"T_5ec303b2_8ab2_11ee_852d_6045bdccd61arow3_col2\" class=\"data row3 col2\" >0.140625</td>\n",
       "            </tr>\n",
       "            <tr>\n",
       "                                <td id=\"T_5ec303b2_8ab2_11ee_852d_6045bdccd61arow4_col0\" class=\"data row4 col0\" >4</td>\n",
       "                        <td id=\"T_5ec303b2_8ab2_11ee_852d_6045bdccd61arow4_col1\" class=\"data row4 col1\" >1.187500</td>\n",
       "                        <td id=\"T_5ec303b2_8ab2_11ee_852d_6045bdccd61arow4_col2\" class=\"data row4 col2\" >0.035156</td>\n",
       "            </tr>\n",
       "            <tr>\n",
       "                                <td id=\"T_5ec303b2_8ab2_11ee_852d_6045bdccd61arow5_col0\" class=\"data row5 col0\" >5</td>\n",
       "                        <td id=\"T_5ec303b2_8ab2_11ee_852d_6045bdccd61arow5_col1\" class=\"data row5 col1\" >1.093750</td>\n",
       "                        <td id=\"T_5ec303b2_8ab2_11ee_852d_6045bdccd61arow5_col2\" class=\"data row5 col2\" >0.008789</td>\n",
       "            </tr>\n",
       "            <tr>\n",
       "                                <td id=\"T_5ec303b2_8ab2_11ee_852d_6045bdccd61arow6_col0\" class=\"data row6 col0\" >6</td>\n",
       "                        <td id=\"T_5ec303b2_8ab2_11ee_852d_6045bdccd61arow6_col1\" class=\"data row6 col1\" >1.046875</td>\n",
       "                        <td id=\"T_5ec303b2_8ab2_11ee_852d_6045bdccd61arow6_col2\" class=\"data row6 col2\" >0.002197</td>\n",
       "            </tr>\n",
       "            <tr>\n",
       "                                <td id=\"T_5ec303b2_8ab2_11ee_852d_6045bdccd61arow7_col0\" class=\"data row7 col0\" >7</td>\n",
       "                        <td id=\"T_5ec303b2_8ab2_11ee_852d_6045bdccd61arow7_col1\" class=\"data row7 col1\" >1.023438</td>\n",
       "                        <td id=\"T_5ec303b2_8ab2_11ee_852d_6045bdccd61arow7_col2\" class=\"data row7 col2\" >0.000549</td>\n",
       "            </tr>\n",
       "            <tr>\n",
       "                                <td id=\"T_5ec303b2_8ab2_11ee_852d_6045bdccd61arow8_col0\" class=\"data row8 col0\" >8</td>\n",
       "                        <td id=\"T_5ec303b2_8ab2_11ee_852d_6045bdccd61arow8_col1\" class=\"data row8 col1\" >1.011719</td>\n",
       "                        <td id=\"T_5ec303b2_8ab2_11ee_852d_6045bdccd61arow8_col2\" class=\"data row8 col2\" >0.000137</td>\n",
       "            </tr>\n",
       "            <tr>\n",
       "                                <td id=\"T_5ec303b2_8ab2_11ee_852d_6045bdccd61arow9_col0\" class=\"data row9 col0\" >9</td>\n",
       "                        <td id=\"T_5ec303b2_8ab2_11ee_852d_6045bdccd61arow9_col1\" class=\"data row9 col1\" >1.005859</td>\n",
       "                        <td id=\"T_5ec303b2_8ab2_11ee_852d_6045bdccd61arow9_col2\" class=\"data row9 col2\" >0.000034</td>\n",
       "            </tr>\n",
       "    </tbody></table>"
      ],
      "text/plain": [
       "<pandas.io.formats.style.Styler at 0x7f69fed67bb0>"
      ]
     },
     "execution_count": 4,
     "metadata": {},
     "output_type": "execute_result"
    }
   ],
   "source": [
    "import numpy as np\n",
    "\n",
    "\n",
    "def f(x):\n",
    "    return (x - 1) ** 2\n",
    "\n",
    "\n",
    "def df(x):\n",
    "    return 2 * (x - 1)\n",
    "\n",
    "\n",
    "it = 0\n",
    "x = 4.0\n",
    "tol = 1.0e-4\n",
    "\n",
    "[\"iter\", \"x\", \"f(x)\"]\n",
    "data = []\n",
    "\n",
    "it = 0\n",
    "data.append([it, x, f(x)])\n",
    "\n",
    "while abs(f(x)) > tol:\n",
    "    x -= f(x) / df(x)\n",
    "    it += 1\n",
    "    data.append([it, x, f(x)])\n",
    "\n",
    "import pandas as pd\n",
    "\n",
    "df = pd.DataFrame(data, columns=headers)\n",
    "df.style.hide_index().set_caption(\n",
    "    \"Results of Newton's method on example with zero derivative at root\"\n",
    ")"
   ]
  },
  {
   "cell_type": "markdown",
   "id": "5834d3f0",
   "metadata": {},
   "source": [
    "Starting from $x^{(0)} = 4$ with $TOL = 10^{-4}$ we get the root as $x^* \\approx 1.0059$ after 9 iterations, confirming that we are able to obtain a solution.\n",
    "\n",
    "Note that the convergence criterion is $|f(x)| < 10^{-4}$, which does not guarantee that $|x^* - x^{(i)}| < 10^{-4}$!\n",
    "\n",
    "## Problems with Newton's method\n",
    "\n",
    "When Newton's method works it is a fast way of solving a nonlinear equation $f(x) = 0$, but it does not always work.\n",
    "\n",
    "1.  Consider applying a Newton iteration to the function $f(x) = x^3 + 2 x^2 + x + 1$ with $x^{(0)} = 0$.\n",
    "\n",
    "    This gives $f'(x) = 3 x^2 + 4 x + 1$ so Newton's iteration is:\n",
    "\n",
    "     $$\n",
    "     x^{(i+1)} = x^{(i)} - \\frac{(x^{(i)})^3 + 2 (x^{(i)})^2 + x^{(i)} + 1}{3 (x^{(i)})^2 + 4 x^{(i)} + 1}.\n",
    "     $$\n",
    "\n",
    "    With $x^{(0)} = 0$ this gives\n",
    "\n",
    "    $$\n",
    "    \\begin{aligned}\n",
    "     x^{(1)}\n",
    "     & = 0 - \\frac{0^3 + 2 \\times 0^2 + 0 + 1}{3 \\times 0^2 + 4 \\times 0 + 1}\n",
    "     = 0 - \\frac{1}{1} = -1 \\\\\n",
    "     x^{(2)}\n",
    "     & = -1 - \\frac{(-1)^3 + 2 \\times (-1)^2 + -1 + 1}{3 \\times (-1)^2 + 4 \\times -1 + 1}\n",
    "     = -1 - \\frac{1}{0} = \\text{inf}.\n",
    "     \\end{aligned}\n",
    "    $$\n",
    "\n",
    "2.  We can also get cases where the iteration does not \"blow up\" but diverges slowly..."
   ]
  },
  {
   "cell_type": "code",
   "execution_count": 5,
   "id": "2a88d9e5",
   "metadata": {
    "tags": [
     "remove-input"
    ]
   },
   "outputs": [
    {
     "data": {
      "image/png": "[encoded data removed]",
      "text/plain": [
       "<Figure size 640x480 with 1 Axes>"
      ]
     },
     "metadata": {},
     "output_type": "display_data"
    }
   ],
   "source": [
    "%matplotlib inline\n",
    "\n",
    "import matplotlib\n",
    "import numpy as np\n",
    "import matplotlib.pyplot as plt\n",
    "\n",
    "\n",
    "def f(t):\n",
    "    return np.log(t + 1) * np.exp(-(t**2))\n",
    "\n",
    "\n",
    "def df(t):\n",
    "    return np.exp(-(t**2)) / (t + 1) - 2 * t * np.log(t + 1) * np.exp(-(t**2))\n",
    "\n",
    "\n",
    "plt.axhline(0, color=\"0.8\")  # x = 0\n",
    "plt.axvline(0, color=\"0.8\")  # y = 0\n",
    "\n",
    "x = np.linspace(0, 3)\n",
    "y = f(x)\n",
    "\n",
    "plt.plot(x, y)\n",
    "\n",
    "x = 1.0\n",
    "ticks = []\n",
    "ticklabels = []\n",
    "\n",
    "for i in range(5):\n",
    "    p0 = plt.plot([x, x], [0, f(x)], \"o-\")\n",
    "    ticks.append(x)\n",
    "    ticklabels.append(r\"$x^{(\" + str(i) + \")}$\")\n",
    "\n",
    "    x_new = x - f(x) / df(x)\n",
    "    plt.plot([x, x_new], [f(x), 0], \"--\", color=p0[0].get_color())\n",
    "    x = x_new\n",
    "\n",
    "plt.xticks(ticks, ticklabels)\n",
    "plt.show()"
   ]
  },
  {
   "cell_type": "markdown",
   "id": "4da5f2fc",
   "metadata": {},
   "source": [
    "3.  It is even possible for the iteration to simply cycle between two values repeatedly..."
   ]
  },
  {
   "cell_type": "code",
   "execution_count": 6,
   "id": "201c5f82",
   "metadata": {
    "tags": [
     "remove-input"
    ]
   },
   "outputs": [
    {
     "data": {
      "image/png": "[encoded data removed]",
      "text/plain": [
       "<Figure size 640x480 with 1 Axes>"
      ]
     },
     "metadata": {},
     "output_type": "display_data"
    }
   ],
   "source": [
    "%matplotlib inline\n",
    "\n",
    "import matplotlib\n",
    "import numpy as np\n",
    "import matplotlib.pyplot as plt\n",
    "\n",
    "\n",
    "def f(t):\n",
    "    return t**3 - 2 * t + 2\n",
    "\n",
    "\n",
    "def df(t):\n",
    "    return 3 * t**2 - 2\n",
    "\n",
    "\n",
    "plt.axhline(0, color=\"0.8\")  # x = 0\n",
    "plt.axvline(0, color=\"0.8\")  # y = 0\n",
    "\n",
    "x = np.linspace(-0.5, 1.5)\n",
    "y = f(x)\n",
    "\n",
    "plt.plot(x, y)\n",
    "\n",
    "x = 1.0\n",
    "ticks = []\n",
    "ticklabels = []\n",
    "\n",
    "for i in range(2):\n",
    "    p0 = plt.plot([x, x], [0, f(x)], \"o-\")\n",
    "    ticks.append(x)\n",
    "    ticklabels.append(r\"$x^{(\" + str(i) + \")}$\")\n",
    "\n",
    "    x_new = x - f(x) / df(x)\n",
    "    plt.plot([x, x_new], [f(x), 0], \"--\", color=p0[0].get_color())\n",
    "    x = x_new\n",
    "\n",
    "plt.xticks(ticks, ticklabels)\n",
    "plt.show()"
   ]
  },
  {
   "cell_type": "markdown",
   "id": "907e8c68",
   "metadata": {},
   "source": [
    "### Exercise (homework - hard!)\n",
    "\n",
    "Can you find a Newton iteration with period 3 or more?\n",
    "\n",
    "## Summary\n",
    "\n",
    "-   Newton's method yields a relatively simple iteration for solving $f(x) = 0$.\n",
    "\n",
    "-   When the algorithm converges it **usually** does so very quickly.\n",
    "\n",
    "-   There are a number of cases for which the method breaks down - a number of initial guesses maybe required:\n",
    "\n",
    "    -   the initial iterate must be \"sufficiently close\" to a root;\n",
    "    -   a good initial guess may sometimes be obtained from the bisection method.\n",
    "\n",
    "-   Newton's method assumes that the derivative of the function $f(x)$ is known and easily evaluated.\n",
    "\n",
    "\n",
    "The [slides used in the lecture](./lec15_.ipynb) are also available"
   ]
  }
 ],
 "metadata": {
  "jupytext": {
   "formats": "md:myst",
   "text_representation": {
    "extension": ".md",
    "format_name": "myst",
    "format_version": 0.13,
    "jupytext_version": "1.15.2"
   }
  },
  "kernelspec": {
   "display_name": "Python 3",
   "language": "python",
   "name": "python3"
  },
  "language_info": {
   "codemirror_mode": {
    "name": "ipython",
    "version": 3
   },
   "file_extension": ".py",
   "mimetype": "text/x-python",
   "name": "python",
   "nbconvert_exporter": "python",
   "pygments_lexer": "ipython3",
   "version": "3.8.18"
  },
  "source_map": [
   13,
   35,
   65,
   75,
   128,
   134,
   187,
   219,
   254,
   287,
   328,
   332,
   373
  ]
 },
 "nbformat": 4,
 "nbformat_minor": 5
}