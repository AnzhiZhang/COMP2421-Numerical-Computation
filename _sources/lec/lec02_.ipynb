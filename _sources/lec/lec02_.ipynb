{
 "cells": [
  {
   "cell_type": "markdown",
   "id": "a1f307c1-a8d1-48f7-b6f2-dea46e16be47",
   "metadata": {},
   "source": [
    "# Lecture 03: Floating point number systems"
   ]
  },
  {
   "cell_type": "markdown",
   "id": "9d4fa603-056f-441f-80c2-39c207b11660",
   "metadata": {},
   "source": [
    "## Floating point types in `numpy`\n",
    "\n",
    "We can use `numpy` itself to find out information about floating point types"
   ]
  },
  {
   "cell_type": "code",
   "execution_count": null,
   "id": "e65c2370-6bfb-4d88-b703-43672aaf134d",
   "metadata": {},
   "outputs": [],
   "source": [
    "import numpy as np"
   ]
  },
  {
   "cell_type": "markdown",
   "id": "ceac514f-4475-40f2-a0b7-e9d22dfaacc0",
   "metadata": {},
   "source": [
    "## How to find eps\n",
    "\n",
    "or we can compute the values practically"
   ]
  },
  {
   "cell_type": "code",
   "execution_count": null,
   "id": "586acb87-703d-4bc5-93b5-1c31560169c3",
   "metadata": {},
   "outputs": [],
   "source": [
    "def find_machine_eps(dtype):\n",
    "    \"\"\"\n",
    "    For a given floating point type determine machine epsilon.\n",
    "    \"\"\"\n",
    "\n",
    "    # store values for one and two of correct type\n",
    "    dtype1 = dtype(1.0)\n",
    "    dtype2 = dtype(2.0)\n",
    "\n",
    "    # initialise loop\n",
    "    eps = dtype(1.0)\n",
    "    eps = eps / dtype2\n",
    "    eps1 = eps + dtype1\n",
    "\n",
    "    # peform testing loop\n",
    "    while eps1 > 1:\n",
    "        eps = eps / dtype2\n",
    "        eps1 = eps + dtype(1.0)\n",
    "\n",
    "    return eps\n",
    "\n",
    "\n",
    "find_machine_eps(np.single)"
   ]
  },
  {
   "cell_type": "markdown",
   "id": "77ac394d-1c11-44d9-8259-b516abb500ec",
   "metadata": {},
   "source": [
    "## What can go wrong?\n",
    "\n",
    "- https://clips.twitch.tv/FunAmazingWrenFrankerZ\n",
    "- https://www.reddit.com/r/formula1/comments/jk9jrg/comment/gai295l/"
   ]
  },
  {
   "cell_type": "code",
   "execution_count": null,
   "id": "1aeb60eb-3253-4cb4-84ff-c9cd11469096",
   "metadata": {},
   "outputs": [],
   "source": []
  }
 ],
 "metadata": {
  "kernelspec": {
   "display_name": "Python 3.9.7 ('base')",
   "language": "python",
   "name": "python3"
  },
  "language_info": {
   "codemirror_mode": {
    "name": "ipython",
    "version": 3
   },
   "file_extension": ".py",
   "mimetype": "text/x-python",
   "name": "python",
   "nbconvert_exporter": "python",
   "pygments_lexer": "ipython3",
   "version": "3.9.7"
  },
  "vscode": {
   "interpreter": {
    "hash": "4dfbba0f10f06b062850442857ee42ddaee75c729ca92342d1aa87178b2f88a9"
   }
  }
 },
 "nbformat": 4,
 "nbformat_minor": 5
}
