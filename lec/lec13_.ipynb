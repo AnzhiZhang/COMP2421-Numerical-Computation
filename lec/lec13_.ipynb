{
 "cells": [
  {
   "cell_type": "code",
   "execution_count": null,
   "id": "8a976091",
   "metadata": {
    "slideshow": {
     "slide_type": "skip"
    },
    "tags": [
     "remove-input"
    ]
   },
   "outputs": [],
   "source": [
    "from matplotlib import pyplot as plt\n",
    "import numpy as np\n",
    "import pandas as pd\n",
    "\n",
    "plt.rcParams[\"figure.figsize\"] = [5, 3.1]"
   ]
  },
  {
   "cell_type": "markdown",
   "id": "be25d233",
   "metadata": {
    "slideshow": {
     "slide_type": "slide"
    }
   },
   "source": [
    "# Today: Exact solutions and error\n",
    "\n",
    "Tom Ranner"
   ]
  },
  {
   "cell_type": "markdown",
   "id": "aad1f70a",
   "metadata": {
    "slideshow": {
     "slide_type": "slide"
    }
   },
   "source": [
    "# Recap\n",
    "\n",
    "### Differential equation\n",
    "\n",
    "$$\n",
    "y'(t) = f(t, y(t)) \\quad \\text{subject to the initial condition} \\quad y(t_0) = y_0.\n",
    "$$\n",
    "\n",
    "$f$ is called the right-hand side.\n",
    "\n",
    "### Euler's method\n",
    "\n",
    "1. Set initial values for $t^{(0)}$ and $y^{(0)}$\n",
    "2. Loop over all time steps, until the final time, updaing using the formulae:\n",
    "\n",
    "   $$\n",
    "   \\begin{aligned}\n",
    "   y^{(i+1)} & = y^{(i)} + \\mathrm{d}t f(t^{(i)}, y^{(i)}) \\\\\n",
    "   t^{(i+1)} & = t^{(i)} + \\mathrm{d}t.\n",
    "   \\end{aligned}\n",
    "   $$"
   ]
  },
  {
   "cell_type": "markdown",
   "id": "80d259db",
   "metadata": {
    "slideshow": {
     "slide_type": "slide"
    }
   },
   "source": [
    "# Exact derivatives and exact solutions\n",
    "\n",
    "In *some* cases, it is possible to evaluate derivatives of a function exactly.\n",
    "\n",
    "In *some* cases, we can solve a differential equation *exactly*.\n",
    "\n",
    "> This is not what this module is about, but some special cases will help us to test our methods!"
   ]
  },
  {
   "cell_type": "markdown",
   "id": "c3ad27f7",
   "metadata": {
    "slideshow": {
     "slide_type": "subslide"
    }
   },
   "source": [
    "## Example 1\n",
    "\n",
    "Consider the function $y(t) = t^2$.\n",
    "\n",
    "1. We can plot the function and it's derivative\n",
    "2. We can compute $y'(t)$ using the definition of a limit"
   ]
  },
  {
   "cell_type": "markdown",
   "id": "e0d457d9",
   "metadata": {
    "slideshow": {
     "slide_type": "subslide"
    }
   },
   "source": [
    "## Example 2\n",
    "\n",
    "Consider the function $y(t) = t^3$.\n",
    "\n",
    "Similarly it is quite easy to compute the derivative!"
   ]
  },
  {
   "cell_type": "markdown",
   "id": "56b5de7e",
   "metadata": {
    "slideshow": {
     "slide_type": "fragment"
    }
   },
   "source": [
    "> In general, it can be shown that when $y(t) = a t^m$, then $y'(t) = a m t^{m-1}$."
   ]
  },
  {
   "cell_type": "markdown",
   "id": "cd2d4781",
   "metadata": {
    "slideshow": {
     "slide_type": "subslide"
    }
   },
   "source": [
    "## Example 3\n",
    "\n",
    "By working backwards from a known expression for $y(t)$ and $y'(t)$, we can make up our own differential equation that has $y(t)$ as a known solution.\n",
    "\n",
    "Consider, for example, $y(t) = t^3$, which has $y'(t) = 3 t^2$."
   ]
  },
  {
   "cell_type": "markdown",
   "id": "63ad1743",
   "metadata": {
    "slideshow": {
     "slide_type": "fragment"
    }
   },
   "source": [
    "We see that $y(t) = t^3$, is the solution of\n",
    "$$\n",
    "y'(t) = \\frac{3 y(t)}{t} \\quad\\text{subject to the initial condition}\\quad y(1) = 1.\n",
    "$$\n",
    "\n",
    "So, if we solve this differential equation for $t$ between $1$ and $2$, then we know the exact answer when $t = 2$ is $y(2) = 2^3 = 8$."
   ]
  },
  {
   "cell_type": "markdown",
   "id": "945da65c",
   "metadata": {
    "slideshow": {
     "slide_type": "slide"
    }
   },
   "source": [
    "# Errors in Euler's method\n",
    "\n",
    "$$\n",
    "y'(t) = \\frac{3 y(t)}{t} \\quad\\text{subject to the initial condition}\\quad y(1) = 1.\n",
    "$$\n",
    "\n",
    "Solve this differential equation using Euler's method and check the error at $t = 2$"
   ]
  },
  {
   "cell_type": "code",
   "execution_count": null,
   "id": "dff24062",
   "metadata": {
    "slideshow": {
     "slide_type": "fragment"
    },
    "tags": [
     "remove-input"
    ]
   },
   "outputs": [],
   "source": [
    "headers = [\"n\", \"dt\", \"solution\", \"abs. error\", \"ratio\"]\n",
    "data = []\n",
    "\n",
    "\n",
    "def euler(f, n, dt, t0, y0, T):\n",
    "    t = np.double(t0)\n",
    "    y = np.double(y0)\n",
    "\n",
    "    t_, y_ = [t], [y]\n",
    "\n",
    "    for i in range(n):\n",
    "        y += dt * f(t, y)\n",
    "        t += dt\n",
    "\n",
    "        t_.append(t)\n",
    "        y_.append(y)\n",
    "\n",
    "    return t_, y_\n",
    "\n",
    "\n",
    "t0 = 1.0\n",
    "y0 = 1.0\n",
    "T = 2.0\n",
    "\n",
    "\n",
    "def f(t, y):\n",
    "    return 3 * y / t\n",
    "\n",
    "\n",
    "exact = 8.0\n",
    "\n",
    "old_error = None\n",
    "\n",
    "for n in [10, 20, 40, 80, 160, 320, 640]:\n",
    "    dt = (T - t0) / n\n",
    "    t, y = euler(f, n, dt, t0, y0, T)\n",
    "    error = abs(y[-1] - exact)\n",
    "    plt.plot(t, y, label=f\"{dt=}\")\n",
    "\n",
    "    if old_error is not None:\n",
    "        ratio = error / old_error\n",
    "    else:\n",
    "        ratio = \"---\"\n",
    "\n",
    "    old_error = error\n",
    "\n",
    "    data.append([n, dt, y[-1], error, ratio])\n",
    "\n",
    "t_ = np.linspace(1, 2)\n",
    "plt.plot(t_, t_**3, \"k--\", label=\"exact\")\n",
    "\n",
    "plt.xlabel(\"t\")\n",
    "plt.ylabel(\"y(t)\")\n",
    "plt.grid(True)\n",
    "plt.legend()\n",
    "\n",
    "df_euler = pd.DataFrame(data, columns=headers)"
   ]
  },
  {
   "cell_type": "markdown",
   "id": "c350ac8a",
   "metadata": {
    "slideshow": {
     "slide_type": "subslide"
    }
   },
   "source": [
    "## The errors at $t=2$"
   ]
  },
  {
   "cell_type": "code",
   "execution_count": null,
   "id": "b4bba465",
   "metadata": {
    "tags": [
     "remove-input"
    ]
   },
   "outputs": [],
   "source": [
    "plt.figure(figsize=(8, 5.2))\n",
    "\n",
    "plt.subplot(1, 2, 1)\n",
    "plt.semilogx(df_euler[\"dt\"], df_euler[\"solution\"], \".-\")\n",
    "plt.xlabel(\"$\\\\mathrm{d}t$\")\n",
    "plt.ylabel(\"$y(2.0)$\")\n",
    "plt.grid(True)\n",
    "\n",
    "plt.tight_layout()\n",
    "plt.show()"
   ]
  },
  {
   "cell_type": "markdown",
   "id": "dbf7cb1e",
   "metadata": {
    "slideshow": {
     "slide_type": "subslide"
    }
   },
   "source": [
    "## The errors at $t=2$"
   ]
  },
  {
   "cell_type": "code",
   "execution_count": null,
   "id": "859f5c74",
   "metadata": {
    "tags": [
     "remove-input"
    ]
   },
   "outputs": [],
   "source": [
    "plt.figure(figsize=(8, 5.2))\n",
    "\n",
    "plt.subplot(1, 2, 1)\n",
    "plt.semilogx(df_euler[\"dt\"], df_euler[\"solution\"], \".-\")\n",
    "plt.xlabel(\"$\\\\mathrm{d}t$\")\n",
    "plt.ylabel(\"$y(2.0)$\")\n",
    "plt.grid(True)\n",
    "\n",
    "plt.subplot(1, 2, 2)\n",
    "plt.loglog(df_euler[\"dt\"], df_euler[\"abs. error\"], \".-\")\n",
    "plt.xlabel(\"$\\\\mathrm{d}t$\")\n",
    "plt.ylabel(\"abs. error\")\n",
    "plt.grid(True)\n",
    "\n",
    "plt.tight_layout()\n",
    "plt.show()"
   ]
  },
  {
   "cell_type": "code",
   "execution_count": null,
   "id": "237f67de",
   "metadata": {
    "slideshow": {
     "slide_type": "subslide"
    },
    "tags": [
     "remove-input"
    ]
   },
   "outputs": [],
   "source": [
    "df_euler.style.hide().set_caption(\"Results of using Euler's method varying dt\")"
   ]
  },
  {
   "cell_type": "markdown",
   "id": "107e9de8",
   "metadata": {},
   "source": [
    "> Each time $\\mathrm{d}t$ is halved the error is halved!?!?!?!?!?!?!?"
   ]
  },
  {
   "cell_type": "markdown",
   "id": "25b09c39",
   "metadata": {},
   "source": [
    "What might we expect the computed solution to be if we halved $\\mathrm{d}t$ one more time?"
   ]
  },
  {
   "cell_type": "markdown",
   "id": "bcc2881d",
   "metadata": {
    "slideshow": {
     "slide_type": "subslide"
    }
   },
   "source": [
    "## Big O Notation\n",
    "\n",
    "In considering algorithm complexity, you have already seen big O notation. For example:\n",
    "\n",
    "-   Gaussian elimination requires $O(n^3)$ operations when $n$ is large.\n",
    "-   Backward substitution requires $O(n^2)$ operations when $n$ is large."
   ]
  },
  {
   "cell_type": "markdown",
   "id": "82a4ffca",
   "metadata": {
    "slideshow": {
     "slide_type": "fragment"
    }
   },
   "source": [
    "For large values of $n$, the *highest* powers of $n$ are most significant.\n",
    "\n",
    "For small values of $\\mathrm{d}t$, it is the *lowest* power of $\\mathrm{d}t$ that are most significant:\n",
    "\n",
    "- e.g., when $\\mathrm{d}t = 0.001$, $\\mathrm{d}t$ is much bigger than $(\\mathrm{d}t)^2$"
   ]
  },
  {
   "cell_type": "markdown",
   "id": "8bbed8ab",
   "metadata": {
    "slideshow": {
     "slide_type": "subslide"
    }
   },
   "source": [
    "We can make use of the \"big O\" notation in either case.\n",
    "\n",
    "- For example, suppose $$\n",
    "  f(x) = 2 x^2 + 4 x^3 + x^5 + 2 x^6,\n",
    "  $$\n",
    "\n",
    "    -   then $f(x) = O(x^6)$ as $x \\to \\infty$\n",
    "    -   and $f(x) = O(x^2)$ as $x \\to 0$.\n",
    "\n",
    "-   In this notation, we can say that **the error in Euler's method is $O(\\mathrm{d}t)$**."
   ]
  },
  {
   "cell_type": "markdown",
   "id": "5a733a24",
   "metadata": {
    "slideshow": {
     "slide_type": "slide"
    }
   },
   "source": [
    "# Improving on Euler's method"
   ]
  },
  {
   "cell_type": "markdown",
   "id": "bff77e18",
   "metadata": {},
   "source": [
    "So the error is proportional to $\\mathrm{d}t$, .... so what?"
   ]
  },
  {
   "cell_type": "markdown",
   "id": "640132e0",
   "metadata": {
    "slideshow": {
     "slide_type": "subslide"
    }
   },
   "source": [
    "## The proposal\n",
    "\n",
    "1. Take one time step of size $\\mathrm{d}t$ - call this solution $\\alpha$\n",
    "2. Take two time steps of size $\\frac{1}{2} \\mathrm{d}t$ - call this solution $\\beta$"
   ]
  },
  {
   "cell_type": "markdown",
   "id": "7d40c3f8",
   "metadata": {
    "slideshow": {
     "slide_type": "fragment"
    }
   },
   "source": [
    "The error using $\\beta$ should be *about* half the error using $\\alpha$:\n",
    "\n",
    "$$\n",
    "\\begin{aligned}\n",
    "\\alpha - y_{\\text{exact}} = E \\\\\n",
    "\\beta - y_{\\text{exact}} = E/2.\n",
    "\\end{aligned}\n",
    "$$\n",
    "\n",
    "Rearranging gives:\n",
    "$$\n",
    "y_{\\text{exact}} = 2 \\beta - \\alpha\n",
    "$$\n",
    "which should be an improve approximation!\n",
    "\n",
    "We use this approach to construct **the midpoint method**"
   ]
  },
  {
   "cell_type": "markdown",
   "id": "e64f5ce1",
   "metadata": {
    "slideshow": {
     "slide_type": "subslide"
    }
   },
   "source": [
    "## The midpoint method\n",
    "\n",
    "Assume we have already computed up to time step $i$: $t^{(i)}$ and $y^{(i)}$\n",
    "\n",
    "1. Take one time step of size $\\mathrm{d}t$ - call this solution $\\alpha$:\n",
    "\n",
    "    $$\n",
    "    \\begin{aligned}\n",
    "    \\alpha & = y^{(i)} + \\mathrm{d}t f(t^{(i)}, y^{(i)}) \\\\\n",
    "    t^{(i+1)} & = t^{(i)} + \\mathrm{d} t\n",
    "    \\end{aligned}\n",
    "    $$\n",
    "    \n",
    "2. Take two time steps of size $\\frac{1}{2} \\mathrm{d}t$ - call this solution $\\beta$:\n",
    "\n",
    "    $$\n",
    "    \\begin{aligned}\n",
    "    k & = y^{(i)} + (\\mathrm{d}t / 2) f(t^{(i)}, y^{(i)}) \\\\\n",
    "    m & = t^{(i)} + \\mathrm{d}t / 2 \\\\\n",
    "    \\beta & = k + (\\mathrm{d}t / 2) f(m, k) \\\\\n",
    "    t^{(i+1)} & = m + \\mathrm{d}t / 2.\n",
    "    \\end{aligned}\n",
    "    $$"
   ]
  },
  {
   "cell_type": "markdown",
   "id": "c7c36a0e",
   "metadata": {
    "slideshow": {
     "slide_type": "fragment"
    }
   },
   "source": [
    "Combine $\\alpha$ and $\\beta$ as suggested on the previous slide..."
   ]
  },
  {
   "cell_type": "markdown",
   "id": "049ca848",
   "metadata": {
    "slideshow": {
     "slide_type": "subslide"
    }
   },
   "source": [
    "... results in\n",
    "\n",
    "$$\n",
    "\\begin{aligned}\n",
    "\tk & = y^{(i)} + (\\mathrm{d}t / 2) f(t^{(i)}, y^{(i)}) \\\\\n",
    "\tm & = t^{(i)} + \\mathrm{d}t / 2 \\\\\n",
    "\ty^{(i+1)} & = y^{(i)} + \\mathrm{d}t f(m, k) \\\\\n",
    "\tt^{(i+1)} & = t^{(i)} + \\mathrm{d}t.\n",
    "\\end{aligned}\n",
    "$$\n",
    "\n",
    "```python\n",
    "for i in range(n):\n",
    "    y_mid = y[i] + 0.5 * dt * f(t[i], y[i])\n",
    "    t_mid = t[i] + 0.5 * dt\n",
    "    y[i + 1] = y[i] + dt * f(t_mid, y_mid)\n",
    "    t[i + 1] = t[i] + dt\n",
    "```"
   ]
  },
  {
   "cell_type": "markdown",
   "id": "e804ec38",
   "metadata": {
    "slideshow": {
     "slide_type": "subslide"
    }
   },
   "source": [
    "## The results\n",
    "\n",
    "We look at the results for the same problem as before for the solution at the final time $t = 2.0$:"
   ]
  },
  {
   "cell_type": "code",
   "execution_count": null,
   "id": "5b14a172",
   "metadata": {
    "tags": [
     "remove-input"
    ]
   },
   "outputs": [],
   "source": [
    "headers = [\"n\", \"dt\", \"solution\", \"abs. error\", \"ratio\"]\n",
    "data = []\n",
    "\n",
    "\n",
    "def midpoint(f, n, dt, t0, y0, T):\n",
    "    t = np.double(t0)\n",
    "    y = np.double(y0)\n",
    "\n",
    "    for i in range(n):\n",
    "        k = y + (dt / 2) * f(t, y)\n",
    "        m = t + dt / 2\n",
    "        y += dt * f(m, k)\n",
    "        t += dt\n",
    "\n",
    "    return y\n",
    "\n",
    "\n",
    "t0 = 1.0\n",
    "y0 = 1.0\n",
    "T = 2.0\n",
    "\n",
    "\n",
    "def f(t, y):\n",
    "    return 3 * y / t\n",
    "\n",
    "\n",
    "exact = 8.0\n",
    "\n",
    "old_error = None\n",
    "\n",
    "for n in [10, 20, 40, 80, 160, 320, 640]:\n",
    "    dt = (T - t0) / n\n",
    "    y = midpoint(f, n, dt, t0, y0, T)\n",
    "    error = abs(y - exact)\n",
    "\n",
    "    if old_error is not None:\n",
    "        ratio = error / old_error\n",
    "    else:\n",
    "        ratio = \"---\"\n",
    "\n",
    "    old_error = error\n",
    "\n",
    "    data.append([n, dt, y, error, ratio])\n",
    "\n",
    "df_midpoint = pd.DataFrame(data, columns=headers)"
   ]
  },
  {
   "cell_type": "code",
   "execution_count": null,
   "id": "84661e3f",
   "metadata": {
    "slideshow": {
     "slide_type": "subslide"
    },
    "tags": [
     "remove-input"
    ]
   },
   "outputs": [],
   "source": [
    "plt.figure(figsize=(8, 5.2))\n",
    "\n",
    "plt.subplot(1, 2, 1)\n",
    "plt.semilogx(df_euler[\"dt\"], df_euler[\"solution\"], \".-\", label=\"Euler\")\n",
    "plt.semilogx(df_midpoint[\"dt\"], df_midpoint[\"solution\"], \".-\", label=\"Midpoint\")\n",
    "\n",
    "plt.xlabel(\"$\\\\mathrm{d}t$\")\n",
    "plt.ylabel(\"$y(2.0)$\")\n",
    "plt.grid(True)\n",
    "plt.legend()\n",
    "\n",
    "plt.subplot(1, 2, 2)\n",
    "plt.loglog(df_euler[\"dt\"], df_euler[\"abs. error\"], \".-\", label=\"Euler\")\n",
    "plt.xlabel(\"$\\\\mathrm{d}t$\")\n",
    "plt.ylabel(\"abs. error\")\n",
    "plt.grid(True)\n",
    "\n",
    "\n",
    "plt.tight_layout()\n",
    "plt.show()"
   ]
  },
  {
   "cell_type": "code",
   "execution_count": null,
   "id": "50ff4e5e",
   "metadata": {
    "slideshow": {
     "slide_type": "subslide"
    },
    "tags": [
     "remove-input"
    ]
   },
   "outputs": [],
   "source": [
    "plt.figure(figsize=(8, 5.2))\n",
    "\n",
    "plt.subplot(1, 2, 1)\n",
    "plt.semilogx(df_euler[\"dt\"], df_euler[\"solution\"], \".-\", label=\"Euler\")\n",
    "plt.semilogx(df_midpoint[\"dt\"], df_midpoint[\"solution\"], \".-\", label=\"Midpoint\")\n",
    "\n",
    "plt.xlabel(\"$\\\\mathrm{d}t$\")\n",
    "plt.ylabel(\"$y(2.0)$\")\n",
    "plt.grid(True)\n",
    "plt.legend()\n",
    "\n",
    "plt.subplot(1, 2, 2)\n",
    "plt.loglog(df_euler[\"dt\"], df_euler[\"abs. error\"], \".-\", label=\"Euler\")\n",
    "plt.loglog(df_midpoint[\"dt\"], df_midpoint[\"abs. error\"], \".-\", label=\"Midpoint\")\n",
    "plt.xlabel(\"$\\\\mathrm{d}t$\")\n",
    "plt.ylabel(\"abs. error\")\n",
    "plt.grid(True)\n",
    "\n",
    "\n",
    "plt.tight_layout()\n",
    "plt.show()"
   ]
  },
  {
   "cell_type": "code",
   "execution_count": null,
   "id": "bd3b1ba3",
   "metadata": {
    "slideshow": {
     "slide_type": "subslide"
    },
    "tags": [
     "remove-input"
    ]
   },
   "outputs": [],
   "source": [
    "df_midpoint.style.hide().set_caption(\"Results of using the midpoint method varying dt\")"
   ]
  },
  {
   "cell_type": "markdown",
   "id": "f463c1db",
   "metadata": {},
   "source": [
    "> Each time $\\mathrm{d}t$ is halved the error is quartered!?!?!?!?!?!?!?"
   ]
  },
  {
   "cell_type": "markdown",
   "id": "c1f63092",
   "metadata": {
    "slideshow": {
     "slide_type": "subslide"
    }
   },
   "source": [
    "## What about the big O?\n",
    "\n",
    "The error quarters each time that the time interval size $\\mathrm{d}t$ is halved - the error is proportional to $(\\mathrm{d}t)^2$.\n",
    "\n",
    "The error of the midpoint method is $O(\\mathrm{d}t^2)$ as $\\mathrm{d}t \\to 0$"
   ]
  },
  {
   "cell_type": "markdown",
   "id": "8c6b45f0",
   "metadata": {
    "slideshow": {
     "slide_type": "fragment"
    }
   },
   "source": [
    "This is a significant improvement over Euler's method:\n",
    "\n",
    "- Euler is a **first order** method\n",
    "- the midpoint method is a **second order** method"
   ]
  },
  {
   "cell_type": "markdown",
   "id": "d186a8c6",
   "metadata": {
    "slideshow": {
     "slide_type": "subslide"
    }
   },
   "source": [
    "## Example\n",
    "\n",
    "Take two steps of the midpoint method to approximate the solution of\n",
    "\n",
    "$$\n",
    "    y'(t) = y(1-y) \\text{ subject to the initial condition } y(0) = 2,\n",
    "$$\n",
    "\n",
    "for $0 \\le t \\le 1$."
   ]
  },
  {
   "cell_type": "markdown",
   "id": "9bc8ac94",
   "metadata": {
    "slideshow": {
     "slide_type": "slide"
    }
   },
   "source": [
    "# Summary\n",
    "\n",
    "-   In some special cases exact solutions of differential equations can be found - this is not true in general however.\n",
    "\n",
    "-   Computational modelling is required for most problems of practical interest (and will of course work just as well even if an exact solution could be found).\n",
    "\n",
    "-   Comparison with a known solution shows that Euler's method leads to an error that is proportional to $\\mathrm{d}t$.\n",
    "\n",
    "-   The midpoint scheme's error is proportional to $(\\mathrm{d}t)^2$ but requires about twice the computational work per step.\n",
    "\n",
    "-   Only 2 computational schemes are introduced here - there are many more that we don't consider..."
   ]
  }
 ],
 "metadata": {
  "kernelspec": {
   "display_name": "Python 3 (ipykernel)",
   "language": "python",
   "name": "python3"
  },
  "language_info": {
   "codemirror_mode": {
    "name": "ipython",
    "version": 3
   },
   "file_extension": ".py",
   "mimetype": "text/x-python",
   "name": "python",
   "nbconvert_exporter": "python",
   "pygments_lexer": "ipython3",
   "version": "3.8.17"
  }
 },
 "nbformat": 4,
 "nbformat_minor": 5
}
