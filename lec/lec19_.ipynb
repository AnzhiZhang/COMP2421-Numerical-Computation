{
 "cells": [
  {
   "cell_type": "markdown",
   "id": "8bc411ab",
   "metadata": {
    "slideshow": {
     "slide_type": "slide"
    }
   },
   "source": [
    "# Lecture 19: Least squares fitting\n",
    "\n",
    "... time to starting thinking about ~~Christmas~~ ~~data~~ coursework! :(\n",
    "\n",
    "*Extended coursework deadline:* Thursday 15th December, 2pm\n",
    "\n",
    "*Module feedback*: https://leeds.bluera.com/leeds, deadline Friday 6th January 2023"
   ]
  },
  {
   "cell_type": "code",
   "execution_count": null,
   "id": "d026af9d",
   "metadata": {
    "tags": [
     "remove-input"
    ]
   },
   "outputs": [],
   "source": [
    "import qrcode\n",
    "\n",
    "qrcodeimg = qrcode.make(\n",
    "    \"https://comp2421-numerical-computation.gitlab.io/lec/lec19_.html\"\n",
    ")\n",
    "feedbackimg = qrcode.make(\"https://go.blueja.io/a6P3NppwDEOIc24AyhNe-w\")\n",
    "\n",
    "from matplotlib import pyplot as plt\n",
    "\n",
    "fig, ax = plt.subplots(1, 2)\n",
    "ax[0].imshow(qrcodeimg, cmap=\"gray\")\n",
    "ax[0].set_title(\"(A few) slides\")\n",
    "ax[0].axis(\"off\")\n",
    "ax[1].imshow(feedbackimg, cmap=\"gray\")\n",
    "ax[1].set_title(\"Feedback\")\n",
    "ax[1].axis(\"off\")\n",
    "plt.show()"
   ]
  },
  {
   "cell_type": "markdown",
   "id": "af2d073f",
   "metadata": {
    "slideshow": {
     "slide_type": "subslide"
    }
   },
   "source": [
    "## Motivation\n",
    "\n",
    "-   Suppose we are given data point representing a quantity over time.\n",
    "\n",
    "-   We want to represent the graph of this data as a simple curve.\n",
    "\n",
    "-   The examples on the following slide show the fitting of two different curves through some experimental data:\n",
    "\n",
    "    -   a straight line;\n",
    "    -   a quadratic curve."
   ]
  },
  {
   "cell_type": "markdown",
   "id": "67c50a80",
   "metadata": {
    "slideshow": {
     "slide_type": "subslide"
    }
   },
   "source": [
    "### Weekly earnings"
   ]
  },
  {
   "cell_type": "code",
   "execution_count": null,
   "id": "3d813b4e",
   "metadata": {
    "tags": [
     "remove-input"
    ]
   },
   "outputs": [],
   "source": [
    "from datetime import datetime as dt\n",
    "import pandas as pd\n",
    "import requests\n",
    "\n",
    "data_url = \"http://www.ons.gov.uk/file?uri=/employmentandlabourmarket/peopleinwork/earningsandworkinghours/datasets/averageweeklyearningsearn01/current/earn01nov2022.xls\"\n",
    "r = requests.get(data_url)\n",
    "df = pd.read_excel(r.content, sheet_name=\"1. AWE Total Pay\")\n",
    "df = df.iloc[:, [0, 1]]\n",
    "df.columns = [\"date\", \"earnings\"]\n",
    "df[\"date\"] = pd.to_datetime(df[\"date\"], errors=\"coerce\")\n",
    "df = df.dropna()\n",
    "# since 2008\n",
    "df = df[df[\"date\"] > \"2008-01-01\"]\n",
    "\n",
    "\n",
    "def to_days(date):\n",
    "    return float((date - dt(2008, 1, 1)).days)\n",
    "\n",
    "\n",
    "days = df.apply(lambda row: to_days(row.date), axis=1)"
   ]
  },
  {
   "cell_type": "markdown",
   "id": "592981a5",
   "metadata": {},
   "source": [
    "Raw data for average UK weekly earnings since 2008 (from ONS)"
   ]
  },
  {
   "cell_type": "code",
   "execution_count": null,
   "id": "79792172",
   "metadata": {
    "tags": [
     "remove-input"
    ]
   },
   "outputs": [],
   "source": [
    "from matplotlib import pyplot as plt\n",
    "\n",
    "plt.plot(df[\"date\"], df[\"earnings\"], \".\", label=\"data\")\n",
    "plt.xlabel(\"date\")\n",
    "plt.ylabel(\"mean weekly earnings (£)\")\n",
    "plt.grid()\n",
    "plt.legend()\n",
    "plt.show()"
   ]
  },
  {
   "cell_type": "markdown",
   "id": "6432028d",
   "metadata": {
    "slideshow": {
     "slide_type": "subslide"
    }
   },
   "source": [
    "Raw data for weekly earning with a straight line of best fit:"
   ]
  },
  {
   "cell_type": "code",
   "execution_count": null,
   "id": "82a461bc",
   "metadata": {
    "tags": [
     "remove-input"
    ]
   },
   "outputs": [],
   "source": [
    "import numpy as np\n",
    "\n",
    "\n",
    "def fit_line(x, y):\n",
    "    A = np.array([[d, 1] for d in x])\n",
    "    b = np.array([[e] for e in y])\n",
    "\n",
    "    AtA = A.T @ A\n",
    "    Atb = A.T @ b\n",
    "\n",
    "    coef = np.linalg.solve(AtA, Atb)\n",
    "    return lambda t: coef[0] * t + coef[1]\n",
    "\n",
    "\n",
    "fit1 = fit_line(days, df[\"earnings\"])\n",
    "\n",
    "plt.plot(df[\"date\"], df[\"earnings\"], \".\", label=\"data\")\n",
    "plt.plot(df[\"date\"], fit1(days), label=\"linear fit\")\n",
    "plt.xlabel(\"date\")\n",
    "plt.ylabel(\"mean weekly earnings (£)\")\n",
    "plt.grid()\n",
    "plt.legend()\n",
    "plt.show()"
   ]
  },
  {
   "cell_type": "markdown",
   "id": "4f4e7f12",
   "metadata": {
    "slideshow": {
     "slide_type": "subslide"
    }
   },
   "source": [
    "Raw data for weekly earnings with a quadric curve of best fit:"
   ]
  },
  {
   "cell_type": "code",
   "execution_count": null,
   "id": "e6f12c51",
   "metadata": {
    "tags": [
     "remove-input"
    ]
   },
   "outputs": [],
   "source": [
    "def fit_quad(x, y):\n",
    "    A = np.array([[d * d, d, 1] for d in x])\n",
    "    b = np.array([[e] for e in y])\n",
    "\n",
    "    AtA = A.T @ A\n",
    "    Atb = A.T @ b\n",
    "\n",
    "    coef = np.linalg.solve(AtA, Atb)\n",
    "    return lambda t: coef[0] * t * t + coef[1] * t + coef[2]\n",
    "\n",
    "\n",
    "fit2 = fit_quad(days, df[\"earnings\"])\n",
    "\n",
    "plt.plot(df[\"date\"], df[\"earnings\"], \".\", label=\"data\")\n",
    "plt.plot(df[\"date\"], fit1(days), label=\"linear fit\")\n",
    "plt.plot(df[\"date\"], fit2(days), label=\"quadratic fit\")\n",
    "plt.xlabel(\"date\")\n",
    "plt.ylabel(\"mean weekly earnings (£)\")\n",
    "plt.grid()\n",
    "plt.legend()\n",
    "plt.show()"
   ]
  },
  {
   "cell_type": "markdown",
   "id": "f16a499c",
   "metadata": {
    "slideshow": {
     "slide_type": "subslide"
    }
   },
   "source": [
    ".... how do we do this...."
   ]
  }
 ],
 "metadata": {
  "kernelspec": {
   "display_name": "Python 3 (ipykernel)",
   "language": "python",
   "name": "python3"
  },
  "language_info": {
   "codemirror_mode": {
    "name": "ipython",
    "version": 3
   },
   "file_extension": ".py",
   "mimetype": "text/x-python",
   "name": "python",
   "nbconvert_exporter": "python",
   "pygments_lexer": "ipython3",
   "version": "3.8.15"
  }
 },
 "nbformat": 4,
 "nbformat_minor": 5
}
