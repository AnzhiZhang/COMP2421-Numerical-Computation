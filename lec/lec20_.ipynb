{
 "cells": [
  {
   "cell_type": "markdown",
   "id": "b0b32ba3",
   "metadata": {
    "slideshow": {
     "slide_type": "slide"
    }
   },
   "source": [
    "# Lecture 20: Overview, review and looking forward\n",
    "\n",
    "*Slides*: https://uol-soc-teachingrepos.github.io/COMP2421-Numerical-Computation/lec/lec20_.html\n",
    "\n",
    "*Module feedback*: https://leeds.bluera.com/leeds"
   ]
  },
  {
   "cell_type": "code",
   "execution_count": null,
   "id": "f09870d2",
   "metadata": {
    "tags": [
     "remove-input"
    ]
   },
   "outputs": [],
   "source": [
    "import qrcode\n",
    "\n",
    "qrcodeimg = qrcode.make(\n",
    "    \"https://uol-soc-teachingrepos.github.io/COMP2421-Numerical-Computation/lec/lec20_.html\"\n",
    ")\n",
    "#feedbackimg = qrcode.make(\"https://go.blueja.io/a6P3NppwDEOIc24AyhNe-w\")\n",
    "\n",
    "from matplotlib import pyplot as plt\n",
    "\n",
    "fig, ax = plt.subplots(1, 2)\n",
    "ax[0].imshow(qrcodeimg, cmap=\"gray\")\n",
    "ax[0].set_title(\"Slides\")\n",
    "ax[0].axis(\"off\")\n",
    "#ax[1].imshow(feedbackimg, cmap=\"gray\")\n",
    "ax[1].set_title(\"Feedback\")\n",
    "ax[1].axis(\"off\")\n",
    "plt.show()"
   ]
  },
  {
   "cell_type": "markdown",
   "id": "09c2a654",
   "metadata": {
    "slideshow": {
     "slide_type": "slide"
    }
   },
   "source": [
    "## Review\n",
    "\n",
    "###   Floating point numbers\n",
    "\n",
    "$$(\\beta, t, L, U)$$\n",
    "\n",
    "-   Representations and rounding\n",
    "-   $eps$, machine precision"
   ]
  },
  {
   "cell_type": "markdown",
   "id": "9fc5ad91",
   "metadata": {
    "slideshow": {
     "slide_type": "subslide"
    }
   },
   "source": [
    "###   Matrices and vectors\n",
    "\n",
    "$$\n",
    "A = \\begin{pmatrix} 4 & 5 \\\\ 3 & -1 \\end{pmatrix}\n",
    "$$\n",
    "\n",
    "-   Multiplication\n",
    "-   Inner product\n",
    "-   Euclidean norms"
   ]
  },
  {
   "cell_type": "markdown",
   "id": "109a966f",
   "metadata": {
    "slideshow": {
     "slide_type": "subslide"
    }
   },
   "source": [
    "###   Systems of linear equations\n",
    "\n",
    "$$\n",
    "A \\vec{x} = \\vec{b}\n",
    "$$\n",
    "\n",
    "-   Translating between matrices and systems of linear equations\n",
    "-   Deriving simple linear systems of equations\n",
    "-   Solving triangular systems of equations\n",
    "-   Gaussian Elimination\n",
    "-   LU factorisation\n",
    "-   Jacobi iteration\n",
    "-   Gauss Seidel iteration\n",
    "-   Initial guesses, convergence and stopping criteria"
   ]
  },
  {
   "cell_type": "markdown",
   "id": "ae5ba1c9",
   "metadata": {
    "slideshow": {
     "slide_type": "subslide"
    }
   },
   "source": [
    "###   Dynamic problems\n",
    "\n",
    "$$\n",
    "y'(t) = f(t, y) \\quad \\text{subject to} \\quad y(t_0) = y_0\n",
    "$$\n",
    "\n",
    "-   Derivatives, gradients/slopes and rates of change\n",
    "-   Reading and drawing simple graphs\n",
    "-   Deriving models for simple dynamic problems\n",
    "-   Initial conditions\n",
    "-   Euler's method\n",
    "-   Midpoint scheme"
   ]
  },
  {
   "cell_type": "markdown",
   "id": "03dd7e85",
   "metadata": {
    "slideshow": {
     "slide_type": "subslide"
    }
   },
   "source": [
    "### Nonlinear equations\n",
    "\n",
    "$$\n",
    "f(x) = 0\n",
    "$$\n",
    "\n",
    "-   Roots of an equation\n",
    "-   Bisection algorithm\n",
    "-   Newton's method\n",
    "-   Quasi Newton methods\n",
    "-   Hybrid methods"
   ]
  },
  {
   "cell_type": "markdown",
   "id": "8345677d",
   "metadata": {
    "slideshow": {
     "slide_type": "subslide"
    }
   },
   "source": [
    "###   Data fitting\n",
    "\n",
    "-   How to form a system of linear equations to find a simple curve of best fit\n",
    "-   How to find a best fit solution\n",
    "-   When to choose which curve (from a simple choice)\n",
    "-   Problems with our approach"
   ]
  },
  {
   "cell_type": "markdown",
   "id": "20d522f3",
   "metadata": {
    "slideshow": {
     "slide_type": "slide"
    }
   },
   "source": [
    "## What next....?\n",
    "\n",
    "-   You will apply ideas from this course in many areas of computer science including\n",
    "\n",
    "    -   graphics;\n",
    "    -   artificial intelligence/machine learning.\n",
    "\n",
    "-   There are plenty of opportunities for Final Year Projects on topics in numerical computation. If you are interested talk to me (or Yongxing Wang).\n",
    "\n",
    "-   There are also funded places for further study in numerical computation...."
   ]
  },
  {
   "cell_type": "markdown",
   "id": "ed1ec3b1",
   "metadata": {
    "slideshow": {
     "slide_type": "slide"
    }
   },
   "source": [
    "**Thank you for your attention!**\n",
    "\n",
    "Good luck with your exam and future studies\n",
    "\n",
    "I hope you have a good Christmas break!"
   ]
  },
  {
   "cell_type": "code",
   "execution_count": null,
   "id": "e9ff786e",
   "metadata": {
    "slideshow": {
     "slide_type": "fragment"
    },
    "tags": [
     "remove-input"
    ]
   },
   "outputs": [],
   "source": [
    "from IPython.display import YouTubeVideo\n",
    "\n",
    "YouTubeVideo(\"nud2TQNahaU\", 560, 315, rel=0, autoplay=1, allow_autoplay=True)"
   ]
  }
 ],
 "metadata": {
  "kernelspec": {
   "display_name": "Python 3 (ipykernel)",
   "language": "python",
   "name": "python3"
  },
  "language_info": {
   "codemirror_mode": {
    "name": "ipython",
    "version": 3
   },
   "file_extension": ".py",
   "mimetype": "text/x-python",
   "name": "python",
   "nbconvert_exporter": "python",
   "pygments_lexer": "ipython3",
   "version": "3.8.16"
  }
 },
 "nbformat": 4,
 "nbformat_minor": 5
}
