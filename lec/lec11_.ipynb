{
 "cells": [
  {
   "cell_type": "code",
   "execution_count": null,
   "id": "b3fd22fc",
   "metadata": {
    "slideshow": {
     "slide_type": "skip"
    },
    "tags": [
     "remove-input"
    ]
   },
   "outputs": [],
   "source": [
    "from matplotlib import pyplot as plt\n",
    "import numpy as np\n",
    "import pandas as pd\n",
    "from IPython.display import HTML\n",
    "\n",
    "plt.rcParams[\"figure.figsize\"] = [5, 3.1]"
   ]
  },
  {
   "cell_type": "markdown",
   "id": "250f2123",
   "metadata": {
    "slideshow": {
     "slide_type": "slide"
    }
   },
   "source": [
    "# Today: Introduction to dynamic problems\n",
    "\n",
    "Tom Ranner"
   ]
  },
  {
   "cell_type": "markdown",
   "id": "51e25bf2",
   "metadata": {
    "slideshow": {
     "slide_type": "subslide"
    }
   },
   "source": [
    "# Static vs dynamic problems\n",
    "\n",
    "Examples so far have focussed on **static** problems that don't change in time:\n",
    "\n",
    "![Image showing sample temperature and relations in a room](../_images/temperature.svg)"
   ]
  },
  {
   "cell_type": "markdown",
   "id": "19b91cac",
   "metadata": {
    "slideshow": {
     "slide_type": "subslide"
    }
   },
   "source": [
    "## Static vs dynamic problems\n",
    "\n",
    "There are many other problems that require models to change in time, that is the models are **dynamic**:"
   ]
  },
  {
   "cell_type": "code",
   "execution_count": null,
   "id": "3170cbec",
   "metadata": {
    "tags": [
     "remove-input"
    ]
   },
   "outputs": [],
   "source": [
    "\n",
    "html = \"\"\"\n",
    "<video width=\"33%\" controls autoplay muted>\n",
    "\t<source src=\"../_static/video/lec01/LES.mp4\" type=\"video/mp4\">\n",
    "\t<a href=\"https://www.nektar.info/industry-relevant-implicit-les-via-spectral-hp-element-methods/\">\n",
    "     <img width=\"50%\" alt=\"Airflow simulation example\" src=\"https://www.nektar.info/wp-content/uploads/2021/05/D1-1-811x1024.jpg\">\n",
    "    </a>\n",
    "</video>\n",
    "<video width=\"33%\" controls autoplay muted>\n",
    "\t<source src=\"../_static/video/lec01/weather.mp4\" type=\"video/mp4\">\n",
    "\t<a title=\"Mathias Krumbholz, CC BY-SA 3.0 &lt;https://creativecommons.org/licenses/by-sa/3.0&gt;, via Wikimedia Commons\"  href=\"https://commons.wikimedia.org/wiki/File:Lightning_Pritzerbe_01_(MK).jpg\">\n",
    "     <img width=\"100%\" alt=\"Lightning Pritzerbe 01 (MK)\"\n",
    "      src=\"https://upload.wikimedia.org/wikipedia/commons/thumb/8/82/Lightning_Pritzerbe_01_%28MK%29.jpg/512px-Lightning_Pritzerbe_01_%28MK%29.jpg\">\n",
    "    </a>\n",
    "</video>\n",
    "<video width=\"33%\" controls autoplay muted>\n",
    "  <source src=\"../_static/video/lec01/HPG.mp4\" type=\"video/mp4\" >\n",
    "  <iframe width=\"560\" height=\"315\" src=\"https://www.youtube-nocookie.com/embed/YLsFN1mp2V8\"\n",
    "   title=\"YouTube video player\" frameborder=\"0\" allow=\"accelerometer; autoplay; clipboard-write; encrypted-media; gyroscope; picture-in-picture\" allowfullscreen data-external=\"1\"></iframe>\n",
    "</video>\n",
    "\"\"\"\n",
    "HTML(html)"
   ]
  },
  {
   "cell_type": "markdown",
   "id": "2001c6eb",
   "metadata": {
    "slideshow": {
     "slide_type": "slide"
    }
   },
   "source": [
    "# Rates of change\n",
    "\n",
    "Suppose we know that a person is walking at *constant* 3 meters per second (m/s) - what does that mean?\n",
    "\n",
    "So how far will they travel in:\n",
    " - $0.1$ seconds?\n",
    " - $0.01$ seconds?\n",
    " - $0.001$ seconds?\n",
    " - $10^{-6}$ seconds?"
   ]
  },
  {
   "cell_type": "markdown",
   "id": "e2c899fc",
   "metadata": {
    "slideshow": {
     "slide_type": "subslide"
    }
   },
   "source": [
    "What does this tell us about speed?\n",
    "\n",
    "$$\n",
    "\\text{Distance travelled} = \\text{speed} \\times \\text{time}\n",
    "$$\n",
    "That is,\n",
    "$$\n",
    "\\text{speed} = \\dfrac{\\text{distance travelled}}{\\text{time}}\n",
    "$$\n",
    "\n",
    "Equivalently, \n",
    "$$\n",
    "\\text{speed} = \\dfrac{(\\text{distance at end}) - (\\text{distance at start})}{\\text{time}}.\n",
    "$$\n"
   ]
  },
  {
   "cell_type": "markdown",
   "id": "fd712c3c",
   "metadata": {
    "slideshow": {
     "slide_type": "subslide"
    }
   },
   "source": [
    "## The derivative as a rate of change\n",
    "\n",
    "What if the object's speed was not constant? For example,\n",
    "\n",
    "\n"
   ]
  },
  {
   "cell_type": "code",
   "execution_count": null,
   "id": "d71a1316",
   "metadata": {
    "tags": [
     "remove-input"
    ]
   },
   "outputs": [],
   "source": [
    "t = np.linspace(0, 1)\n",
    "\n",
    "\n",
    "def S(t):\n",
    "    return -(t - 1.0) * (t + 0.5)\n",
    "\n",
    "\n",
    "s = S(t)\n",
    "plt.plot(t, s)\n",
    "\n",
    "plt.title(\"an object's speed against time\")\n",
    "plt.xlabel(\"t: time (s)\")\n",
    "plt.ylabel(\"s(t): speed (m/s)\")\n",
    "plt.grid()\n",
    "plt.show()"
   ]
  },
  {
   "cell_type": "markdown",
   "id": "8b88821a",
   "metadata": {},
   "source": [
    "How far would the object travel in one second now? -- with difficulty :("
   ]
  },
  {
   "cell_type": "markdown",
   "id": "6b69bc75",
   "metadata": {
    "slideshow": {
     "slide_type": "subslide"
    }
   },
   "source": [
    "We could consider each tenth of a second separately and estimate the distance covered at each tenth (assuming the $s$ is approximately constant in each interval):\n"
   ]
  },
  {
   "cell_type": "code",
   "execution_count": null,
   "id": "bd0216c5",
   "metadata": {},
   "outputs": [],
   "source": [
    "D, t = 0.0, 0.0\n",
    "for i in range(10):\n",
    "    D = D + 0.1 * S(t)\n",
    "    t = t + 0.1"
   ]
  },
  {
   "cell_type": "code",
   "execution_count": null,
   "id": "bdfbda1f",
   "metadata": {
    "slideshow": {
     "slide_type": "fragment"
    },
    "tags": [
     "remove-input"
    ]
   },
   "outputs": [],
   "source": [
    "tt = np.linspace(0, 1)\n",
    "\n",
    "\n",
    "def S(t):\n",
    "    return -(t - 1.0) * (t + 0.5)\n",
    "\n",
    "\n",
    "ss = S(tt)\n",
    "\n",
    "plt.plot(tt, ss, label=\"exact\")\n",
    "\n",
    "for N in [10]:\n",
    "    dt = 1.0 / N\n",
    "\n",
    "    t = [0.0]\n",
    "    s = [S(0.0)]\n",
    "\n",
    "    for i in range(N):\n",
    "        t.append(t[-1] + dt)\n",
    "        s.append(s[-1])\n",
    "        t.append(t[-1])\n",
    "        s.append(S(t[-1]))\n",
    "\n",
    "    plt.plot(t, s, label=f\"{N} steps\")\n",
    "\n",
    "plt.title(\n",
    "    \"an object's speed assuming $S(t)$ approximately constant in each interval time\"\n",
    ")\n",
    "plt.xlabel(\"t: time (s)\")\n",
    "plt.ylabel(\"s(t): speed (m/s)\")\n",
    "plt.grid()\n",
    "plt.legend()\n",
    "plt.show()"
   ]
  },
  {
   "cell_type": "markdown",
   "id": "012b7d1a",
   "metadata": {
    "slideshow": {
     "slide_type": "subslide"
    }
   },
   "source": [
    "We could consider each hundredth of a second separately and estimate the distance covered at each hundredth (assuming the $s$ is approximately constant in each interval):\n"
   ]
  },
  {
   "cell_type": "code",
   "execution_count": null,
   "id": "f463656c",
   "metadata": {},
   "outputs": [],
   "source": [
    "D, t = 0.0, 0.0\n",
    "for i in range(100):\n",
    "    D = D + 0.01 * S(t)\n",
    "    t = t + 0.01"
   ]
  },
  {
   "cell_type": "code",
   "execution_count": null,
   "id": "3531ecf9",
   "metadata": {
    "slideshow": {
     "slide_type": "fragment"
    },
    "tags": [
     "remove-input"
    ]
   },
   "outputs": [],
   "source": [
    "tt = np.linspace(0, 1)\n",
    "\n",
    "\n",
    "def S(t):\n",
    "    return -(t - 1.0) * (t + 0.5)\n",
    "\n",
    "\n",
    "ss = S(tt)\n",
    "\n",
    "plt.plot(tt, ss, label=\"exact\")\n",
    "\n",
    "for N in [10, 100]:\n",
    "    dt = 1.0 / N\n",
    "\n",
    "    t = [0.0]\n",
    "    s = [S(0.0)]\n",
    "\n",
    "    for i in range(N):\n",
    "        t.append(t[-1] + dt)\n",
    "        s.append(s[-1])\n",
    "        t.append(t[-1])\n",
    "        s.append(S(t[-1]))\n",
    "\n",
    "    plt.plot(t, s, label=f\"steps {N}\")\n",
    "\n",
    "plt.title(\n",
    "    \"an object's speed assuming $S(t)$ approximately constant in each interval time\"\n",
    ")\n",
    "plt.xlabel(\"t: time (s)\")\n",
    "plt.ylabel(\"s(t): speed (m/s)\")\n",
    "plt.grid()\n",
    "plt.legend()\n",
    "plt.show()"
   ]
  },
  {
   "cell_type": "markdown",
   "id": "f2d230d4",
   "metadata": {
    "slideshow": {
     "slide_type": "subslide"
    }
   },
   "source": [
    "We could consider each thousandth of a second separately and estimate the distance covered at each thousandth (assuming the $s$ is approximately constant in each interval):\n"
   ]
  },
  {
   "cell_type": "code",
   "execution_count": null,
   "id": "969b086f",
   "metadata": {},
   "outputs": [],
   "source": [
    "D, t = 0.0, 0.0\n",
    "for i in range(1000):\n",
    "    D = D + 0.001 * S(t)\n",
    "    t = t + 0.001"
   ]
  },
  {
   "cell_type": "code",
   "execution_count": null,
   "id": "a65eaf62",
   "metadata": {
    "slideshow": {
     "slide_type": "fragment"
    },
    "tags": [
     "remove-input"
    ]
   },
   "outputs": [],
   "source": [
    "tt = np.linspace(0, 1)\n",
    "\n",
    "\n",
    "def S(t):\n",
    "    return -(t - 1.0) * (t + 0.5)\n",
    "\n",
    "\n",
    "ss = S(tt)\n",
    "\n",
    "plt.plot(tt, ss, label=\"exact\")\n",
    "\n",
    "for N in [10, 100, 1000]:\n",
    "    dt = 1.0 / N\n",
    "\n",
    "    t = [0.0]\n",
    "    s = [S(0.0)]\n",
    "\n",
    "    for i in range(N):\n",
    "        t.append(t[-1] + dt)\n",
    "        s.append(s[-1])\n",
    "        t.append(t[-1])\n",
    "        s.append(S(t[-1]))\n",
    "\n",
    "    plt.plot(t, s, label=f\"steps {N}\")\n",
    "\n",
    "plt.title(\n",
    "    \"an object's speed assuming $S(t)$ approximately constant in each interval time\"\n",
    ")\n",
    "plt.xlabel(\"t: time (s)\")\n",
    "plt.ylabel(\"s(t): speed (m/s)\")\n",
    "plt.grid()\n",
    "plt.legend()\n",
    "plt.show()"
   ]
  },
  {
   "cell_type": "markdown",
   "id": "8a369017",
   "metadata": {
    "slideshow": {
     "slide_type": "subslide"
    }
   },
   "source": [
    "### What values do we get?"
   ]
  },
  {
   "cell_type": "code",
   "execution_count": null,
   "id": "441ec5dd",
   "metadata": {
    "tags": [
     "remove-input"
    ]
   },
   "outputs": [],
   "source": [
    "headers = [\"# intervals\", \"increment size dt\", \"total distance\"]\n",
    "data = []\n",
    "\n",
    "for j in range(1, 6):\n",
    "    n = 10**j\n",
    "    dt = 1.0 / n\n",
    "\n",
    "    D, t = 0.0, 0.0\n",
    "    for i in range(n):\n",
    "        D = D + dt * S(t)\n",
    "        t = t + dt\n",
    "\n",
    "    data.append([n, dt, D])\n",
    "\n",
    "df = pd.DataFrame(data, columns=headers)\n",
    "df.style.set_caption(\"Total distance as a function of number of steps\")"
   ]
  },
  {
   "cell_type": "markdown",
   "id": "0989fbbc",
   "metadata": {},
   "source": [
    "... we appear to be converging to an answer in the limit as $\\mathrm{d}t \\to 0$..."
   ]
  },
  {
   "cell_type": "markdown",
   "id": "c35ac611",
   "metadata": {
    "slideshow": {
     "slide_type": "slide"
    }
   },
   "source": [
    "## So what's going on\n",
    "\n",
    "At any *instant* of time, the speed is the rate of change in distance:\n",
    "\n",
    "$$\n",
    "\\text{speed} = \\dfrac{\\text{change in distance}}{\\text{time}}\n",
    "$$\n",
    "\n",
    "so\n",
    "\n",
    "$$\n",
    "\\text{change in distance} = \\text{time} \\times \\text{speed}\n",
    "$$"
   ]
  },
  {
   "cell_type": "markdown",
   "id": "773e28ff",
   "metadata": {
    "slideshow": {
     "slide_type": "subslide"
    }
   },
   "source": [
    "##  Mathematically speaking\n",
    "\n",
    "Call the speed $S(t)$ and distance $D(t)$:\n",
    "\n",
    "$$\n",
    "S(t) = \\frac{D(t + \\mathrm{d}t) - D(t)}{\\mathrm{d}t}\n",
    "$$\n",
    "\n",
    "In fact, to obtain a *converged* answer, we must take smaller and smaller choices for $\\mathrm{d}t$:\n",
    "\n",
    "$$\n",
    "S(t) = \\lim_{\\mathrm{d}t \\to 0} \\frac{D(t + \\mathrm{d}t) - D(t)}{\\mathrm{d}t}\n",
    "$$\n",
    "\n",
    "We say that speed, $S(t)$, is the **derivative** of distance, $D(t)$, with respect to time and write $S(t) = D'(t)$. "
   ]
  },
  {
   "cell_type": "markdown",
   "id": "e39daede",
   "metadata": {
    "slideshow": {
     "slide_type": "slide"
    }
   },
   "source": [
    "# A graphical interpretation"
   ]
  },
  {
   "cell_type": "code",
   "execution_count": null,
   "id": "309a2a7f",
   "metadata": {
    "slideshow": {
     "slide_type": "subslide"
    },
    "tags": [
     "remove-input"
    ]
   },
   "outputs": [],
   "source": [
    "def D(t):\n",
    "    return -(t**3) / 3 + t**2 / 4 + t / 2\n",
    "\n",
    "\n",
    "def S(t):\n",
    "    return -(t - 1.0) * (t + 0.5)\n",
    "\n",
    "\n",
    "t = np.linspace(0, 1)\n",
    "plt.plot(t, S(t), label=\"Speed\")\n",
    "plt.plot(t, D(t), label=\"Distance\")\n",
    "\n",
    "plt.title(\"Distance and speed as functions of time\")\n",
    "plt.xlabel(\"t: time (s)\")\n",
    "plt.legend()\n",
    "plt.grid()\n",
    "plt.show()"
   ]
  },
  {
   "cell_type": "markdown",
   "id": "e3f24afd",
   "metadata": {
    "slideshow": {
     "slide_type": "fragment"
    }
   },
   "source": [
    "We see the **gradient** (slope) of the orange curve is the **value** of the blue curve."
   ]
  },
  {
   "cell_type": "markdown",
   "id": "1db1564e",
   "metadata": {
    "slideshow": {
     "slide_type": "subslide"
    }
   },
   "source": [
    "## The derivative as a gradient\n",
    "\n",
    "What is the gradient of a line?"
   ]
  },
  {
   "cell_type": "code",
   "execution_count": null,
   "id": "0e739289",
   "metadata": {
    "tags": [
     "remove-input"
    ]
   },
   "outputs": [],
   "source": [
    "def plot_slope(a, b):\n",
    "    plt.plot([0, a, a, 0], [0, 0, b, 0], \"k\")\n",
    "\n",
    "    plt.text(a / 2, -0.4, f\"{a}\", fontsize=\"xx-large\")\n",
    "    plt.text(a + 0.1, b / 2, f\"{b}\", fontsize=\"xx-large\")\n",
    "\n",
    "    plt.axis(\"square\")\n",
    "    plt.axis(\"off\")\n",
    "\n",
    "\n",
    "plt.subplot(131)\n",
    "plot_slope(2, 1)\n",
    "\n",
    "plt.subplot(132)\n",
    "plot_slope(2, 2)\n",
    "\n",
    "plt.subplot(133)\n",
    "plot_slope(1, 2)\n",
    "\n",
    "plt.show()"
   ]
  },
  {
   "cell_type": "markdown",
   "id": "dd4ebe91",
   "metadata": {
    "slideshow": {
     "slide_type": "fragment"
    }
   },
   "source": [
    "The equation of a straight line with slope $m$ is given by\n",
    "\n",
    "$$\n",
    "y(t) = m t + c.\n",
    "$$"
   ]
  },
  {
   "cell_type": "markdown",
   "id": "3d33ab60",
   "metadata": {
    "slideshow": {
     "slide_type": "subslide"
    }
   },
   "source": [
    "### Slope of a curve\n",
    "\n",
    "What is the gradient of a *curve*?\n",
    "\n",
    "Well... the gradient of the straight-line approximation (chord) for a small step is\n",
    "\n",
    "$$\n",
    "\\frac{y(t + \\mathrm{d}t) - y(t)}{\\mathrm{d}t}.\n",
    "$$\n"
   ]
  },
  {
   "cell_type": "code",
   "execution_count": null,
   "id": "a655b42b",
   "metadata": {
    "slideshow": {
     "slide_type": "fragment"
    },
    "tags": [
     "remove-input"
    ]
   },
   "outputs": [],
   "source": [
    "def f(x):\n",
    "    return np.exp(-(x**2))\n",
    "\n",
    "\n",
    "def plot(dt=1.0):\n",
    "    t = np.linspace(-2, 2, 200)\n",
    "    plt.plot(t, f(t))\n",
    "\n",
    "    plt.plot([0, 0, -2], [0, f(0), f(0)], \"--\")\n",
    "    plt.plot([dt, dt, -2], [0, f(dt), f(dt)], \"--\")\n",
    "\n",
    "    slope = (f(dt) - f(0)) / dt\n",
    "    plt.plot([0, dt], [f(0), f(dt)], label=f\"{slope=:.1f}\")\n",
    "\n",
    "    plt.xticks([0, dt], [\"t\", \"t + dt\"])\n",
    "    plt.yticks([f(0), f(dt)], [\"f(t)\", \"f(t + dt)\"])\n",
    "\n",
    "    plt.legend()\n",
    "    plt.show()\n",
    "\n",
    "\n",
    "plot(1.0)"
   ]
  },
  {
   "cell_type": "markdown",
   "id": "5860299c",
   "metadata": {
    "slideshow": {
     "slide_type": "subslide"
    }
   },
   "source": [
    "What about reducing $\\mathrm{d}t$?"
   ]
  },
  {
   "cell_type": "code",
   "execution_count": null,
   "id": "7f02e46f",
   "metadata": {
    "tags": [
     "remove-input"
    ]
   },
   "outputs": [],
   "source": [
    "plot(0.5)"
   ]
  },
  {
   "cell_type": "markdown",
   "id": "7a518f9c",
   "metadata": {
    "slideshow": {
     "slide_type": "subslide"
    }
   },
   "source": [
    "Even more?"
   ]
  },
  {
   "cell_type": "code",
   "execution_count": null,
   "id": "c36d27cd",
   "metadata": {
    "tags": [
     "remove-input"
    ]
   },
   "outputs": [],
   "source": [
    "plot(0.25)"
   ]
  },
  {
   "cell_type": "markdown",
   "id": "1e126246",
   "metadata": {
    "slideshow": {
     "slide_type": "subslide"
    }
   },
   "source": [
    "By taking smaller and smaller values of $\\mathrm{d}t$, it becomes clear that we can assign an instantaneous value to the slope at any point $t$:\n",
    "\n",
    "$$\n",
    "\\lim_{\\mathrm{d}t \\to 0} \\frac{y(t+\\mathrm{d}t) - y(t)}{\\mathrm{d}t}.\n",
    "$$\n",
    "\n",
    "*But this is precisely the definition of derivative $y'(t)$!*\n",
    "\n"
   ]
  }
 ],
 "metadata": {
  "kernelspec": {
   "display_name": "Python 3 (ipykernel)",
   "language": "python",
   "name": "python3"
  },
  "language_info": {
   "codemirror_mode": {
    "name": "ipython",
    "version": 3
   },
   "file_extension": ".py",
   "mimetype": "text/x-python",
   "name": "python",
   "nbconvert_exporter": "python",
   "pygments_lexer": "ipython3",
   "version": "3.8.17"
  }
 },
 "nbformat": 4,
 "nbformat_minor": 5
}
