{
 "cells": [
  {
   "cell_type": "markdown",
   "id": "8035d894",
   "metadata": {},
   "source": [
    "# Exam 2022/23\n",
    "\n",
    "*This exam formed part of the assessment of this module that students took in 2022/23. You may wish to use it to help in your revision. There are no solutions available.*\n",
    "\n",
    "This exam is worth 60% of the credit of the module. Solutions should be submitted to Gradescope."
   ]
  },
  {
   "cell_type": "markdown",
   "id": "456b14f8",
   "metadata": {
    "tags": []
   },
   "source": [
    "## Linear systems of equations"
   ]
  },
  {
   "cell_type": "markdown",
   "id": "f4170cdf",
   "metadata": {},
   "source": [
    "### 1. Gauss-Seidel [4 marks]\n",
    "\n",
    "Consider the linear system of equations given by\n",
    "\n",
    "$$\n",
    " \\begin{aligned}\n",
    " 4 x_1 + 2 x_2 & = 0 \\\\\n",
    " x_1 + 4 x_2 & = -1.\n",
    " \\end{aligned}\n",
    "$$\n",
    "\n",
    "Apply two iterations of the Gauss-Seidel method starting for $\\vec{x}^{(0)} = (0, -1)^T$. Give the second component of your solution to 3 decimal places."
   ]
  },
  {
   "cell_type": "markdown",
   "id": "2f502957",
   "metadata": {},
   "source": [
    "### 2. Comparison of methods [ 12 marks ]\n",
    "\n",
    "The following tables show results from using three different iterative methods to solve a systems of linear equations which share a common structure. Table headers are:\n",
    "\n",
    " - `n`: the number of unknowns in the problem\n",
    " - `res`: final residual when computations stopped\n",
    " - `it`: the number of iterations required\n",
    " - `time`: time taken in secdonds\n",
    "\n",
    "Comment on which is the best method for this problem and why by considering the accuacy and efficency of each method."
   ]
  },
  {
   "cell_type": "code",
   "execution_count": 1,
   "id": "a38d8b64",
   "metadata": {
    "tags": [
     "remove-input"
    ]
   },
   "outputs": [
    {
     "data": {
      "text/plain": [
       "'Method A'"
      ]
     },
     "metadata": {},
     "output_type": "display_data"
    },
    {
     "data": {
      "text/html": [
       "<div>\n",
       "<style scoped>\n",
       "    .dataframe tbody tr th:only-of-type {\n",
       "        vertical-align: middle;\n",
       "    }\n",
       "\n",
       "    .dataframe tbody tr th {\n",
       "        vertical-align: top;\n",
       "    }\n",
       "\n",
       "    .dataframe thead th {\n",
       "        text-align: right;\n",
       "    }\n",
       "</style>\n",
       "<table border=\"1\" class=\"dataframe\">\n",
       "  <thead>\n",
       "    <tr style=\"text-align: right;\">\n",
       "      <th></th>\n",
       "      <th>n</th>\n",
       "      <th>res</th>\n",
       "      <th>it</th>\n",
       "      <th>time</th>\n",
       "    </tr>\n",
       "  </thead>\n",
       "  <tbody>\n",
       "    <tr>\n",
       "      <th>0</th>\n",
       "      <td>10</td>\n",
       "      <td>0.000001</td>\n",
       "      <td>5974</td>\n",
       "      <td>0.016773</td>\n",
       "    </tr>\n",
       "    <tr>\n",
       "      <th>1</th>\n",
       "      <td>20</td>\n",
       "      <td>0.000005</td>\n",
       "      <td>25224</td>\n",
       "      <td>0.080251</td>\n",
       "    </tr>\n",
       "    <tr>\n",
       "      <th>2</th>\n",
       "      <td>40</td>\n",
       "      <td>0.000021</td>\n",
       "      <td>99298</td>\n",
       "      <td>0.422201</td>\n",
       "    </tr>\n",
       "    <tr>\n",
       "      <th>3</th>\n",
       "      <td>80</td>\n",
       "      <td>0.000088</td>\n",
       "      <td>378258</td>\n",
       "      <td>2.543170</td>\n",
       "    </tr>\n",
       "    <tr>\n",
       "      <th>4</th>\n",
       "      <td>160</td>\n",
       "      <td>0.000358</td>\n",
       "      <td>1414194</td>\n",
       "      <td>17.407100</td>\n",
       "    </tr>\n",
       "  </tbody>\n",
       "</table>\n",
       "</div>"
      ],
      "text/plain": [
       "     n       res       it       time\n",
       "0   10  0.000001     5974   0.016773\n",
       "1   20  0.000005    25224   0.080251\n",
       "2   40  0.000021    99298   0.422201\n",
       "3   80  0.000088   378258   2.543170\n",
       "4  160  0.000358  1414194  17.407100"
      ]
     },
     "metadata": {},
     "output_type": "display_data"
    },
    {
     "data": {
      "text/plain": [
       "'Method B'"
      ]
     },
     "metadata": {},
     "output_type": "display_data"
    },
    {
     "data": {
      "text/html": [
       "<div>\n",
       "<style scoped>\n",
       "    .dataframe tbody tr th:only-of-type {\n",
       "        vertical-align: middle;\n",
       "    }\n",
       "\n",
       "    .dataframe tbody tr th {\n",
       "        vertical-align: top;\n",
       "    }\n",
       "\n",
       "    .dataframe thead th {\n",
       "        text-align: right;\n",
       "    }\n",
       "</style>\n",
       "<table border=\"1\" class=\"dataframe\">\n",
       "  <thead>\n",
       "    <tr style=\"text-align: right;\">\n",
       "      <th></th>\n",
       "      <th>n</th>\n",
       "      <th>res</th>\n",
       "      <th>it</th>\n",
       "      <th>time</th>\n",
       "    </tr>\n",
       "  </thead>\n",
       "  <tbody>\n",
       "    <tr>\n",
       "      <th>0</th>\n",
       "      <td>10</td>\n",
       "      <td>0.000000e+00</td>\n",
       "      <td>67</td>\n",
       "      <td>0.000361</td>\n",
       "    </tr>\n",
       "    <tr>\n",
       "      <th>1</th>\n",
       "      <td>20</td>\n",
       "      <td>1.334720e-14</td>\n",
       "      <td>122</td>\n",
       "      <td>0.000724</td>\n",
       "    </tr>\n",
       "    <tr>\n",
       "      <th>2</th>\n",
       "      <td>40</td>\n",
       "      <td>5.436840e-14</td>\n",
       "      <td>232</td>\n",
       "      <td>0.001583</td>\n",
       "    </tr>\n",
       "    <tr>\n",
       "      <th>3</th>\n",
       "      <td>80</td>\n",
       "      <td>5.791680e-13</td>\n",
       "      <td>452</td>\n",
       "      <td>0.003892</td>\n",
       "    </tr>\n",
       "    <tr>\n",
       "      <th>4</th>\n",
       "      <td>160</td>\n",
       "      <td>1.853490e-12</td>\n",
       "      <td>892</td>\n",
       "      <td>0.011921</td>\n",
       "    </tr>\n",
       "  </tbody>\n",
       "</table>\n",
       "</div>"
      ],
      "text/plain": [
       "     n           res   it      time\n",
       "0   10  0.000000e+00   67  0.000361\n",
       "1   20  1.334720e-14  122  0.000724\n",
       "2   40  5.436840e-14  232  0.001583\n",
       "3   80  5.791680e-13  452  0.003892\n",
       "4  160  1.853490e-12  892  0.011921"
      ]
     },
     "metadata": {},
     "output_type": "display_data"
    },
    {
     "data": {
      "text/plain": [
       "'Method C'"
      ]
     },
     "metadata": {},
     "output_type": "display_data"
    },
    {
     "data": {
      "text/html": [
       "<div>\n",
       "<style scoped>\n",
       "    .dataframe tbody tr th:only-of-type {\n",
       "        vertical-align: middle;\n",
       "    }\n",
       "\n",
       "    .dataframe tbody tr th {\n",
       "        vertical-align: top;\n",
       "    }\n",
       "\n",
       "    .dataframe thead th {\n",
       "        text-align: right;\n",
       "    }\n",
       "</style>\n",
       "<table border=\"1\" class=\"dataframe\">\n",
       "  <thead>\n",
       "    <tr style=\"text-align: right;\">\n",
       "      <th></th>\n",
       "      <th>n</th>\n",
       "      <th>res</th>\n",
       "      <th>it</th>\n",
       "      <th>time</th>\n",
       "    </tr>\n",
       "  </thead>\n",
       "  <tbody>\n",
       "    <tr>\n",
       "      <th>0</th>\n",
       "      <td>10</td>\n",
       "      <td>4.154070e-15</td>\n",
       "      <td>67</td>\n",
       "      <td>0.000272</td>\n",
       "    </tr>\n",
       "    <tr>\n",
       "      <th>1</th>\n",
       "      <td>20</td>\n",
       "      <td>4.400000e-14</td>\n",
       "      <td>122</td>\n",
       "      <td>0.000505</td>\n",
       "    </tr>\n",
       "    <tr>\n",
       "      <th>2</th>\n",
       "      <td>40</td>\n",
       "      <td>2.270710e-13</td>\n",
       "      <td>232</td>\n",
       "      <td>0.001173</td>\n",
       "    </tr>\n",
       "    <tr>\n",
       "      <th>3</th>\n",
       "      <td>80</td>\n",
       "      <td>8.666500e-05</td>\n",
       "      <td>7580</td>\n",
       "      <td>0.057956</td>\n",
       "    </tr>\n",
       "    <tr>\n",
       "      <th>4</th>\n",
       "      <td>160</td>\n",
       "      <td>1.965010e-02</td>\n",
       "      <td>31823</td>\n",
       "      <td>0.434776</td>\n",
       "    </tr>\n",
       "  </tbody>\n",
       "</table>\n",
       "</div>"
      ],
      "text/plain": [
       "     n           res     it      time\n",
       "0   10  4.154070e-15     67  0.000272\n",
       "1   20  4.400000e-14    122  0.000505\n",
       "2   40  2.270710e-13    232  0.001173\n",
       "3   80  8.666500e-05   7580  0.057956\n",
       "4  160  1.965010e-02  31823  0.434776"
      ]
     },
     "metadata": {},
     "output_type": "display_data"
    }
   ],
   "source": [
    "import pandas as pd\n",
    "\n",
    "jacobi_table = pd.DataFrame(\n",
    "    {\n",
    "        \"n\": [10, 20, 40, 80, 160],\n",
    "        \"res\": [1.12001e-06, 5.06838e-06, 2.145e-05, 8.81789e-05, 0.000357513],\n",
    "        \"it\": [5974, 25224, 99298, 378258, 1414194],\n",
    "        \"time\": [0.0167733, 0.0802511, 0.422201, 2.54317, 17.4071],\n",
    "    }\n",
    ")\n",
    "\n",
    "cg_table = pd.DataFrame(\n",
    "    {\n",
    "        \"n\": [10, 20, 40, 80, 160],\n",
    "        \"res\": [0.0, 1.33472e-14, 5.43684e-14, 5.79168e-13, 1.85349e-12],\n",
    "        \"it\": [67, 122, 232, 452, 892],\n",
    "        \"time\": [0.000360964, 0.000723931, 0.00158258, 0.00389178, 0.0119214],\n",
    "    }\n",
    ")\n",
    "\n",
    "gmres_table = pd.DataFrame(\n",
    "    {\n",
    "        \"n\": [10, 20, 40, 80, 160],\n",
    "        \"res\": [4.15407e-15, 4.4e-14, 2.27071e-13, 8.6665e-05, 0.0196501],\n",
    "        \"it\": [67, 122, 232, 7580, 31823],\n",
    "        \"time\": [0.00027179, 0.00050491, 0.0011734, 0.0579562, 0.434776],\n",
    "    }\n",
    ")\n",
    "\n",
    "tables = {\n",
    "    \"Method A\": jacobi_table,\n",
    "    \"Method B\": cg_table,\n",
    "    \"Method C\": gmres_table,\n",
    "    }\n",
    "\n",
    "for label, table in tables.items():\n",
    "    display(f\"{label}\")\n",
    "    display(table)"
   ]
  },
  {
   "cell_type": "markdown",
   "id": "16ad65ab",
   "metadata": {},
   "source": [
    "## Time stepping methods"
   ]
  },
  {
   "cell_type": "markdown",
   "id": "9aefc16c",
   "metadata": {},
   "source": [
    "### 3. Predictor corrector methods [ 10 marks ]\n",
    "\n",
    "In the notes you are given a method to construct a second order method, the midpoint method, by leveraging Euler's method. This question presents an alternative way to achieve higher order methods using the \"predictor-corrector\" method.\n",
    "\n",
    "We consider a generic ordinary differential equation\n",
    "\n",
    "$$\n",
    "y'(t) = f(t, y), \\quad \\text{subject to} \\quad y(0) = y_0.\n",
    "$$"
   ]
  },
  {
   "cell_type": "markdown",
   "id": "6ff0c845",
   "metadata": {},
   "source": [
    "a. In this approach, we take one step of the original method and then do some averaging to get the final result.\n",
    "   For example for Euler's method at each time step we perform:\n",
    "       \n",
    "   $$\n",
    "   \\begin{aligned}\n",
    "   y^p & = y^{(i)} + \\mathrm{d}t f(t^{(i)}, y^{(i)}) \\\\\n",
    "   y^{(i+1)} & =  y^{(i)} + \\mathrm{d}t/2 (f(t^{(i)}, y^{(i)}) + f(t^{(i+1)}, y^p)).\n",
    "   \\end{aligned}\n",
    "   $$\n",
    "       \n",
    "For the example $f(t, y) = 1-y^2$ take **two steps** of the improved Euler method to compute the solution at $t = 0.5$ starting from $y(0) = 0$. Give your answer to 3 decimal places. [ 5 marks ]"
   ]
  },
  {
   "cell_type": "markdown",
   "id": "bfe913b8",
   "metadata": {},
   "source": [
    "b. We consider a similar approach for the midpoint method. This results in the following scheme:\n",
    "\n",
    "   $$\n",
    "   \\begin{aligned}\n",
    "   k_1 & = f(t^{(i)}, y^{(i)}) \\\\\n",
    "   k_2 & = f(t^{(i)} + \\mathrm{d}t/2, y^{(i)} + \\mathrm{dt} k_1/2) \\\\\n",
    "   k_3 & = f(t^{(i)} + \\mathrm{d}t/2, y^{(i)} + \\mathrm{dt} k_2/2) \\\\\n",
    "   k_4 & = f(t^{(i)} + \\mathrm{d}t, y^{(i)} + \\mathrm{dt} k_3) \\\\\n",
    "   y^{(i+1)} &= y^{(i)} + \\mathrm{d}t/6 (k_1 + 2 k_2 + 2 k_3 + k_4).\n",
    "   \\end{aligned}\n",
    "   $$\n",
    "   \n",
    "   For the example $f(t, y) = 1-y^2$ take **one step** of the improved midpoint method to compute the solution at $t = 0.5$ starting from $y(0) = 0$. Give your answer to 3 decimal places. [ 5 marks ]"
   ]
  },
  {
   "cell_type": "markdown",
   "id": "5cce77b1",
   "metadata": {},
   "source": [
    "c. A Python imlpementation of each method has been run and have produced the following error tables. The headings are:\n",
    "\n",
    "   - `dt`: the time step\n",
    "   - `y(1.0)`: the estimate of the solution at the final time\n",
    "   - `Error`: the absolute error of the method against a known exact solution\n",
    "   - `feval`: the number of right-hand side evaluations taken.\n",
    "   \n",
    "   What is the order of each method?"
   ]
  },
  {
   "cell_type": "code",
   "execution_count": 2,
   "id": "4ffff7d4",
   "metadata": {
    "tags": [
     "remove-input"
    ]
   },
   "outputs": [
    {
     "data": {
      "text/plain": [
       "'Improved Euler'"
      ]
     },
     "metadata": {},
     "output_type": "display_data"
    },
    {
     "data": {
      "text/html": [
       "<div>\n",
       "<style scoped>\n",
       "    .dataframe tbody tr th:only-of-type {\n",
       "        vertical-align: middle;\n",
       "    }\n",
       "\n",
       "    .dataframe tbody tr th {\n",
       "        vertical-align: top;\n",
       "    }\n",
       "\n",
       "    .dataframe thead th {\n",
       "        text-align: right;\n",
       "    }\n",
       "</style>\n",
       "<table border=\"1\" class=\"dataframe\">\n",
       "  <thead>\n",
       "    <tr style=\"text-align: right;\">\n",
       "      <th></th>\n",
       "      <th>dt</th>\n",
       "      <th>y(1.0)</th>\n",
       "      <th>Error</th>\n",
       "      <th>feval</th>\n",
       "    </tr>\n",
       "  </thead>\n",
       "  <tbody>\n",
       "    <tr>\n",
       "      <th>0</th>\n",
       "      <td>0.50000</td>\n",
       "      <td>0.823867</td>\n",
       "      <td>0.017604</td>\n",
       "      <td>4</td>\n",
       "    </tr>\n",
       "    <tr>\n",
       "      <th>1</th>\n",
       "      <td>0.25000</td>\n",
       "      <td>0.837084</td>\n",
       "      <td>0.004387</td>\n",
       "      <td>8</td>\n",
       "    </tr>\n",
       "    <tr>\n",
       "      <th>2</th>\n",
       "      <td>0.12500</td>\n",
       "      <td>0.840375</td>\n",
       "      <td>0.001096</td>\n",
       "      <td>16</td>\n",
       "    </tr>\n",
       "    <tr>\n",
       "      <th>3</th>\n",
       "      <td>0.06250</td>\n",
       "      <td>0.841197</td>\n",
       "      <td>0.000274</td>\n",
       "      <td>32</td>\n",
       "    </tr>\n",
       "    <tr>\n",
       "      <th>4</th>\n",
       "      <td>0.03125</td>\n",
       "      <td>0.841403</td>\n",
       "      <td>0.000068</td>\n",
       "      <td>64</td>\n",
       "    </tr>\n",
       "  </tbody>\n",
       "</table>\n",
       "</div>"
      ],
      "text/plain": [
       "        dt    y(1.0)     Error  feval\n",
       "0  0.50000  0.823867  0.017604      4\n",
       "1  0.25000  0.837084  0.004387      8\n",
       "2  0.12500  0.840375  0.001096     16\n",
       "3  0.06250  0.841197  0.000274     32\n",
       "4  0.03125  0.841403  0.000068     64"
      ]
     },
     "metadata": {},
     "output_type": "display_data"
    },
    {
     "data": {
      "text/plain": [
       "'Improved midpoint'"
      ]
     },
     "metadata": {},
     "output_type": "display_data"
    },
    {
     "data": {
      "text/html": [
       "<div>\n",
       "<style scoped>\n",
       "    .dataframe tbody tr th:only-of-type {\n",
       "        vertical-align: middle;\n",
       "    }\n",
       "\n",
       "    .dataframe tbody tr th {\n",
       "        vertical-align: top;\n",
       "    }\n",
       "\n",
       "    .dataframe thead th {\n",
       "        text-align: right;\n",
       "    }\n",
       "</style>\n",
       "<table border=\"1\" class=\"dataframe\">\n",
       "  <thead>\n",
       "    <tr style=\"text-align: right;\">\n",
       "      <th></th>\n",
       "      <th>dt</th>\n",
       "      <th>y(1.0)</th>\n",
       "      <th>Error</th>\n",
       "      <th>feval</th>\n",
       "    </tr>\n",
       "  </thead>\n",
       "  <tbody>\n",
       "    <tr>\n",
       "      <th>0</th>\n",
       "      <td>0.50000</td>\n",
       "      <td>0.841489</td>\n",
       "      <td>1.839786e-05</td>\n",
       "      <td>8</td>\n",
       "    </tr>\n",
       "    <tr>\n",
       "      <th>1</th>\n",
       "      <td>0.25000</td>\n",
       "      <td>0.841472</td>\n",
       "      <td>1.143445e-06</td>\n",
       "      <td>16</td>\n",
       "    </tr>\n",
       "    <tr>\n",
       "      <th>2</th>\n",
       "      <td>0.12500</td>\n",
       "      <td>0.841471</td>\n",
       "      <td>7.136556e-08</td>\n",
       "      <td>32</td>\n",
       "    </tr>\n",
       "    <tr>\n",
       "      <th>3</th>\n",
       "      <td>0.06250</td>\n",
       "      <td>0.841471</td>\n",
       "      <td>4.458792e-09</td>\n",
       "      <td>64</td>\n",
       "    </tr>\n",
       "    <tr>\n",
       "      <th>4</th>\n",
       "      <td>0.03125</td>\n",
       "      <td>0.841471</td>\n",
       "      <td>2.786504e-10</td>\n",
       "      <td>128</td>\n",
       "    </tr>\n",
       "  </tbody>\n",
       "</table>\n",
       "</div>"
      ],
      "text/plain": [
       "        dt    y(1.0)         Error  feval\n",
       "0  0.50000  0.841489  1.839786e-05      8\n",
       "1  0.25000  0.841472  1.143445e-06     16\n",
       "2  0.12500  0.841471  7.136556e-08     32\n",
       "3  0.06250  0.841471  4.458792e-09     64\n",
       "4  0.03125  0.841471  2.786504e-10    128"
      ]
     },
     "metadata": {},
     "output_type": "display_data"
    }
   ],
   "source": [
    "import numpy as np\n",
    "from collections import OrderedDict\n",
    "\n",
    "def euler_pc(y0, dt, T):\n",
    "    y = [y0]\n",
    "    \n",
    "    t = [0]\n",
    "    while t[-1] < T:\n",
    "        new_t = t[-1] + dt\n",
    "        \n",
    "        pre = f(t[-1], y[-1])\n",
    "        cor = f(t[-1] + dt, y[-1] + dt * pre)\n",
    "        \n",
    "        new_y = y[-1] + dt * (pre + cor)/2\n",
    "        \n",
    "        y.append(new_y)\n",
    "        t.append(new_t)\n",
    "    \n",
    "    return y, t\n",
    "\n",
    "def midpoint_pc(y0, dt, T):\n",
    "    y = [y0]\n",
    "    \n",
    "    t = [0]\n",
    "    while t[-1] < T:\n",
    "        new_t = t[-1] + dt\n",
    "        \n",
    "        pre1 = f(t[-1], y[-1])\n",
    "        pre = f(t[-1] + dt/2, y[-1]+dt*pre1/2)\n",
    "        \n",
    "        cor1 = f(t[-1] + dt/2, y[-1]+dt*pre/2)\n",
    "        cor = f(t[-1] + dt, y[-1] + dt * cor1)\n",
    "        \n",
    "        new_y = y[-1] + dt * (pre1 + 2*pre + 2*cor1 + cor)/6\n",
    "        \n",
    "        y.append(new_y)\n",
    "        t.append(new_t)\n",
    "    \n",
    "    return y, t\n",
    "\n",
    "def exact(t):\n",
    "    return np.sin(t)\n",
    "\n",
    "feval = 0\n",
    "def f(t, y):\n",
    "    global feval\n",
    "    feval += 1\n",
    "    return np.cos(t)\n",
    "\n",
    "def comparse_timestepping_methods(method, dt_range):\n",
    "    global feval\n",
    "\n",
    "    T = 1.0\n",
    "    data = []\n",
    "\n",
    "    for dt in dt_range:\n",
    "        feval = 0\n",
    "        y, t = method(exact(0.0), dt, T)\n",
    "        error = abs(y[-1] - exact(T))\n",
    "\n",
    "        row_data = OrderedDict({\"dt\": dt, \"y(1.0)\": y[-1], \"Error\": error, \"feval\": feval})\n",
    "        data.append(row_data)\n",
    "    \n",
    "    return pd.DataFrame(data)\n",
    "\n",
    "dt_range = [2**-j for j in range(1, 6)]\n",
    "\n",
    "tables = {\n",
    "    \"Improved Euler\": comparse_timestepping_methods(euler_pc, dt_range),\n",
    "    \"Improved midpoint\": comparse_timestepping_methods(midpoint_pc, dt_range),\n",
    "}\n",
    "\n",
    "for label, table in tables.items():\n",
    "    display(label)\n",
    "    display(table)"
   ]
  },
  {
   "cell_type": "markdown",
   "id": "7479c1fa",
   "metadata": {},
   "source": [
    "d. Consider what you already know about the Euler and midpoint's method. Are these two methods actually an improvement? You should consider the accuracy and efficiency of each method."
   ]
  },
  {
   "cell_type": "markdown",
   "id": "9291fb01",
   "metadata": {},
   "source": [
    "## Nonlinear solvers"
   ]
  },
  {
   "cell_type": "markdown",
   "id": "b1697c0f",
   "metadata": {},
   "source": [
    "### 4. Applying nonlinear solvers [ 16 marks ]\n",
    "\n",
    "Consider the nonlinear problem\n",
    "\n",
    "$$\n",
    "f(x) = x^4 - 3 x - 10 = 0.\n",
    "$$\n",
    "    \n",
    "Take two steps of each method starting from the values given below to find a root. What is your estimate of the root? If the method breaks down please write \"FAIL\" in the answer box. Give your answer to 3 decimal places. [ 4 marks each ]\n",
    "\n",
    "You may use that\n",
    "\n",
    "$$\n",
    "f'(x) = 4 x^3 - 3.\n",
    "$$\n",
    "   \n",
    "   | Test | Method          | Starting values            |\n",
    "   |------|-----------------|----------------------------|\n",
    "   | A    | bisction        | $x_L = -2, x_R = 3$        |\n",
    "   | B    | bisection       | $x_L = 0, x_R = 3$         |\n",
    "   | C    | modified Newton | $x^{(0)} = 1.5$            |\n",
    "   | D    | secant          | $x^{(0)} = 0, x^{(1)} = 1$ |"
   ]
  },
  {
   "cell_type": "markdown",
   "id": "fea448f3",
   "metadata": {},
   "source": [
    "### 5. Visualising nonlinear solvers [ 8 marks ]\n",
    "\n",
    "Consider the following plots of different iterative methods for solving nonlinear equations. Identify which method is being used in each image. [ 2 marks each ]\n",
    "\n",
    "Image A:\n",
    "\n",
    "![Image A](../../_static/img/exam_22/nonlinear1.svg)\n",
    "\n",
    "Image B:\n",
    "\n",
    "![Image B](../../_static/img/exam_22/nonlinear2.svg)\n",
    "\n",
    "Image C:\n",
    "\n",
    "![Image C](../../_static/img/exam_22/nonlinear3.svg)\n",
    "\n",
    "Image D:\n",
    "\n",
    "![Image D](../../_static/img/exam_22/nonlinear4.svg)"
   ]
  },
  {
   "cell_type": "markdown",
   "id": "e18310fc",
   "metadata": {},
   "source": [
    "## Least squares fitting\n",
    "\n",
    "### 6. Straight line predictions [ 5 marks ]\n",
    "\n",
    "Find the straight line of best fit to the data set given by:\n",
    "\n",
    "   | t   |   y  |\n",
    "   |-----|------|\n",
    "   | 0.0 | 18.0 |\n",
    "   | 0.5 | 33.0 |\n",
    "   | 1.0 | 43.0 |\n",
    "   \n",
    "What does your line predict for $t=2$? Give your answer to 3 decimal places."
   ]
  },
  {
   "cell_type": "markdown",
   "id": "19c1d81d",
   "metadata": {},
   "source": [
    "## Summary [4 marks]"
   ]
  },
  {
   "cell_type": "markdown",
   "id": "98f7672d",
   "metadata": {},
   "source": [
    "7. Choose an algorithm from the course.\n",
    "   Give an application of this method to a real world problem.\n",
    "   Do you think this method would be well suited to this application?"
   ]
  }
 ],
 "metadata": {
  "kernelspec": {
   "display_name": "Python 3 (ipykernel)",
   "language": "python",
   "name": "python3"
  },
  "language_info": {
   "codemirror_mode": {
    "name": "ipython",
    "version": 3
   },
   "file_extension": ".py",
   "mimetype": "text/x-python",
   "name": "python",
   "nbconvert_exporter": "python",
   "pygments_lexer": "ipython3",
   "version": "3.8.16"
  },
  "vscode": {
   "interpreter": {
    "hash": "eea41596d7b0371225eaf230a8b68ad86e97de11c09d11c3626170ed88653fe8"
   }
  }
 },
 "nbformat": 4,
 "nbformat_minor": 5
}
