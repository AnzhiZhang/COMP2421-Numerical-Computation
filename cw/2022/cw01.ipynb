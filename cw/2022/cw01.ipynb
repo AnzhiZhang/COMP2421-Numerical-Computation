{
 "cells": [
  {
   "cell_type": "markdown",
   "id": "b92f708d",
   "metadata": {},
   "source": [
    "# Coursework 1 2022/23\n",
    "\n",
    "*This coursework formed part of the assessment of this module that students took in 2022/23. You may wish to use it to help in your revision. There are no solutions available.*"
   ]
  },
  {
   "cell_type": "markdown",
   "id": "0830500d",
   "metadata": {},
   "source": [
    "This coursework is worth 20% of the credit of the module. Solutions should be submitted to Gradescope."
   ]
  },
  {
   "cell_type": "markdown",
   "id": "29ab4795",
   "metadata": {},
   "source": [
    "## Part 1: Short answer questions (12 marks)"
   ]
  },
  {
   "cell_type": "markdown",
   "id": "7f8ab361",
   "metadata": {},
   "source": [
    "### 1. Finite precision number systems"
   ]
  },
  {
   "cell_type": "markdown",
   "id": "b5cd9ee3",
   "metadata": {},
   "source": [
    "Consider system given by $(\\beta,t,L,U) = (10,3,−2,5)$\n",
    "\n",
    "a. What is the machine precision, $eps$, of this system?  [ **1 mark** ]\n",
    " \n",
    "- 0.05\n",
    "- 0.005\n",
    "- 0.0005\n",
    "- 0.00005\n",
    "\n",
    "b. Which of the following is the closest representation of 10 / 3 in this system written in normalised floating point representation? [ **1 mark** ]\n",
    "\n",
    "- $3.333 \\times 10 ^0$\n",
    "- $0.333 \\times 10 ^1$\n",
    "- $3.3333 \\times 10 ^0$\n",
    "- $0.3333 \\times 10 ^1$\n",
    "\n",
    "The first and third answers are not normalised floating point representations; the other two are normalised but the second one is correct because this number system only has $t=3$ digits.\n",
    "\n",
    "c. Let $x = 500$. For which of the following is $fl ( x + y ) = fl ( x )$. Select all that apply. [ **3 marks** ]\n",
    "\n",
    "- $ y = 0.1 \\times 10 ^{-1}$\n",
    "- $ y = 0.1 \\times 10 ^{0}$\n",
    "- $ y = 0.1 \\times 10 ^{1}$\n",
    "- $ y = 0.1 \\times 10 ^{2}$"
   ]
  },
  {
   "cell_type": "markdown",
   "id": "6276c681",
   "metadata": {},
   "source": [
    "### 2.  Matrix multiplication"
   ]
  },
  {
   "cell_type": "markdown",
   "id": "956e0384",
   "metadata": {
    "tags": []
   },
   "source": [
    "Let\n",
    "\n",
    "   $$\n",
    "   A=\n",
    "   \\begin{pmatrix}\n",
    "   4 & -1 \\\\ 2 & 4 \n",
    "   \\end{pmatrix}\n",
    "   ,\n",
    "   \\quad   \n",
    "   B=\n",
    "   \\begin{pmatrix}\n",
    "   0 & 1 \\\\ 2 & 1  \\\\ -1 & 1 \n",
    "   \\end{pmatrix}\n",
    "    ,\n",
    "   \\quad \n",
    "    C=\n",
    "   \\begin{pmatrix}\n",
    "   1 \\\\ -1 \n",
    "   \\end{pmatrix}.\n",
    "   $$\n",
    " \n",
    " Evaluate these expressions (if possible) [ **1 mark each** ]"
   ]
  },
  {
   "cell_type": "markdown",
   "id": "777cf8a8",
   "metadata": {
    "tags": []
   },
   "source": [
    "a. $BA$\n",
    " \n",
    "- $$ \\begin{pmatrix}\n",
    "   2 & 10 & -2  \\\\ 4 & 2 & 3\n",
    "   \\end{pmatrix}\n",
    "   $$\n",
    "   \n",
    "- $$ \\begin{pmatrix}\n",
    "   2 & 4 \\\\ 10 & 2  \\\\ -2 & 5 \n",
    "   \\end{pmatrix}\n",
    "  $$\n",
    "   \n",
    "- $$ \\begin{pmatrix}\n",
    "   2 & 4 \\\\ 10 & 6  \\\\ -2 & 3 \n",
    "   \\end{pmatrix}\n",
    "   $$\n",
    "   \n",
    "- not possible\n",
    "\n",
    "b. $AA^T + CC^T$\n",
    "\n",
    "- $$ \\begin{pmatrix}\n",
    "   5 & -2 \\\\ 1 & 5 \n",
    "   \\end{pmatrix}\n",
    "  $$\n",
    "  \n",
    "- $$ \\begin{pmatrix}\n",
    "   18 & 3 \\\\ 3 & 21 \n",
    "   \\end{pmatrix}\n",
    "  $$\n",
    "  \n",
    "- $$ \\begin{pmatrix}\n",
    "   17 & 3 \\\\ 3 & 21 \n",
    "   \\end{pmatrix}\n",
    "  $$\n",
    "  \n",
    "- not possible  \n",
    "\n",
    "c. $C^TB^T$\n",
    "\n",
    "- $$ \\begin{pmatrix}\n",
    "   -1 & 1 & -2 \n",
    "   \\end{pmatrix}\n",
    "  $$\n",
    "  \n",
    "- $$ \\begin{pmatrix}\n",
    "   -1 \\\\ 1 \\\\ -2 \n",
    "   \\end{pmatrix}\n",
    "  $$\n",
    "  \n",
    "- $$ \\begin{pmatrix}\n",
    "   1 & 1 & 0 \n",
    "   \\end{pmatrix}\n",
    "  $$\n",
    "  \n",
    "- not possible"
   ]
  },
  {
   "cell_type": "markdown",
   "id": "1ecd26e5",
   "metadata": {
    "tags": []
   },
   "source": [
    "### 3.  Matrices and vectors"
   ]
  },
  {
   "cell_type": "markdown",
   "id": "2041c4fa",
   "metadata": {},
   "source": [
    "a. Compute the following [ **2 marks** ]\n",
    "\n",
    "   $$ \n",
    "   \\begin{pmatrix}\n",
    "   x & y & z\n",
    "   \\end{pmatrix}   \n",
    "   \\begin{pmatrix}\n",
    "   -5 & 1 & -3 \\\\ 1 & 7 & 4 \\\\ -3 & 4 & 2\n",
    "   \\end{pmatrix}\n",
    "   \\begin{pmatrix}\n",
    "   x \\\\ y \\\\z\n",
    "   \\end{pmatrix} = ?  \n",
    "   $$  \n",
    "   \n",
    "- $-5x^2 + 7y^2 + 2z^2 + 2xy +8xz - 6yz$\n",
    "- $-5x^2 + 7y^2 + 2z^2 + 2xy -6xz + 8yz$\n",
    "- $ 5x^2 + 7y^2 + 2z^2 + 2xy +6xz - 8yz$\n",
    "- $ 5x^2 + 7y^2 + 2z^2 - 2xy -6xz + 8yz$\n",
    "\n",
    "b. What's the inverse of $\\begin{pmatrix} 1 & -1 \\\\ 1 & 2 \\end{pmatrix}$?  You should use the definition of inverse and check the conditions for each matrix in turn. [ **2 marks** ] \n",
    "   \n",
    "- $$ \\begin{pmatrix}\n",
    "   2 & 1   \\\\ -1 & 1 \n",
    "   \\end{pmatrix}\n",
    "  $$\n",
    "- $$ \\begin{pmatrix}\n",
    "   2/3 & 1/3   \\\\ -1/3 & 1/3 \n",
    "   \\end{pmatrix}\n",
    "  $$ \n",
    "- $$ \\begin{pmatrix}\n",
    "   1 & 1   \\\\ -1 & 2 \n",
    "   \\end{pmatrix}\n",
    "  $$  \n",
    "- $$ \\begin{pmatrix}\n",
    "   1/3 & 1/3   \\\\ -1/3 & 2/3\n",
    "   \\end{pmatrix}\n",
    "  $$"
   ]
  },
  {
   "cell_type": "markdown",
   "id": "868afc1b",
   "metadata": {},
   "source": [
    "## Part 2:  Free answer questions (8 marks)"
   ]
  },
  {
   "cell_type": "markdown",
   "id": "6626322a",
   "metadata": {},
   "source": [
    "Please either use the text boxes below to include your answers or upload a single pdf file containing the answers to all the questions. All code and tables should be included in the same single pdf.\n",
    "\n",
    "Do not use dark backgrounds or screenshots when including code."
   ]
  },
  {
   "cell_type": "markdown",
   "id": "c35a59e2",
   "metadata": {},
   "source": [
    "This question considers how to compute the lenght of the hypotenuse of right angled triangles using Pythaogorus' theorem.\n",
    "\n",
    "The theorem states that if you know the length of the two sides closes to the right-angle - say $x$ and $y$ - then the length of the other side, the hypotenuse, $h$ is given by\n",
    "\n",
    "$$\n",
    "h^2 = x^2 + y^2.\n",
    "$$"
   ]
  },
  {
   "cell_type": "code",
   "execution_count": 1,
   "id": "7c3454a6",
   "metadata": {
    "tags": [
     "remove-input"
    ]
   },
   "outputs": [
    {
     "data": {
      "image/png": "[encoded data removed]",
      "text/plain": [
       "<Figure size 640x480 with 1 Axes>"
      ]
     },
     "metadata": {},
     "output_type": "display_data"
    }
   ],
   "source": [
    "from matplotlib import pyplot as plt\n",
    "\n",
    "plt.plot([0, 1, 0, 0], [0, 0, 2, 0], 'k')\n",
    "plt.text(0.5, -0.1, '$x$')\n",
    "plt.text(-0.1, 1, '$y$')\n",
    "plt.text(0.55, 1.05, '$h$')\n",
    "\n",
    "plt.title('An example of a right angle triangle with sides labelled')\n",
    "plt.axis('equal')\n",
    "\n",
    "f = plt.gca()\n",
    "f.axes.get_xaxis().set_visible(False)\n",
    "f.axes.get_yaxis().set_visible(False)\n",
    "plt.tight_layout()\n",
    "plt.show()"
   ]
  },
  {
   "cell_type": "markdown",
   "id": "811802da",
   "metadata": {},
   "source": [
    "a. A naive implementation would simply take $h = \\sqrt{x^2 + y^2}$.\n",
    "\n",
    "   i.  Implement the naive approach using Python and Numpy. You should ensure parameters are converted to `np.double` for computation.  [ **1 mark** ]\n",
    "   \n",
    "   ii. Test your implementation. What is the length of the hypotenuse of a right angled triangle whose other two side lengths are 115 and 252? [ **1 mark** ]"
   ]
  },
  {
   "cell_type": "markdown",
   "id": "a0856176",
   "metadata": {},
   "source": [
    "b. This implentation is called naive since overflow may occur and `inf` is returned.\n",
    "\n",
    "   i.  Create a table of values investigating this overflow. Fix $x = 1$ and set $y = 10^N$ for $N = 0, 10, 20, ... 300$. Your table should include the side lengths $x$ and $y$ and the value your function returns. [ **1 mark** ]\n",
    "   \n",
    "   ii. Why does the naive implementation overflow? [ **1 mark** ]"
   ]
  },
  {
   "cell_type": "markdown",
   "id": "4f634751",
   "metadata": {},
   "source": [
    "c. As an alternative, we can improve the naive algorithm by factoring. Suppose $x > y$, then we see that\n",
    "\n",
    "   $$\n",
    "   h = |x| \\sqrt{1 + (y/x)^2}.\n",
    "   $$\n",
    "   \n",
    "   **Edit: You should also derive the improved formula for $x \\le y$.**\n",
    "   \n",
    "   i.  Implement this new method using Python and Numpy. Again ensure function arguments are converted to `np.double` before computation starts. [ **1 mark** ]\n",
    "   \n",
    "   ii. Recreate the table from part b. with your new implementation. [ **1 mark** ]"
   ]
  },
  {
   "cell_type": "markdown",
   "id": "3965e44f",
   "metadata": {},
   "source": [
    "d. What are some disadvantages of the improved method over the naive approach? [ **2 mark** ]"
   ]
  }
 ],
 "metadata": {
  "kernelspec": {
   "display_name": "Python 3 (ipykernel)",
   "language": "python",
   "name": "python3"
  },
  "language_info": {
   "codemirror_mode": {
    "name": "ipython",
    "version": 3
   },
   "file_extension": ".py",
   "mimetype": "text/x-python",
   "name": "python",
   "nbconvert_exporter": "python",
   "pygments_lexer": "ipython3",
   "version": "3.8.16"
  }
 },
 "nbformat": 4,
 "nbformat_minor": 5
}
