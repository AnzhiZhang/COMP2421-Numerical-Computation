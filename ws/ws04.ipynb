{
 "cells": [
  {
   "cell_type": "markdown",
   "id": "9512b66e",
   "metadata": {},
   "source": [
    "Rewrite the matrix $A$ as the product of lower and upper triangular matrices where \n",
    "\n",
    "$$\n",
    "A =\n",
    "\\begin{pmatrix}\n",
    "4 & 2 & 0 \\\\\n",
    "2 & 3 & 1 \\\\\n",
    "0 & 1 & 2.5\n",
    "\\end{pmatrix}.\n",
    "$$\n",
    "\n",
    "Use that factorisation to solve\n",
    "\n",
    "$$\n",
    "\\begin{pmatrix}\n",
    "4 & 2 & 0 \\\\\n",
    "2 & 3 & 1 \\\\\n",
    "0 & 1 & 2.5\n",
    "\\end{pmatrix}\n",
    "\\begin{pmatrix}\n",
    "x_1 \\\\ x_2 \\\\ x_3\n",
    "\\end{pmatrix}\n",
    "=\n",
    "\\begin{pmatrix}\n",
    "5 \\\\ 3.75 \\\\ 1.125\n",
    "\\end{pmatrix}.\n",
    "$$"
   ]
  }
 ],
 "metadata": {
  "kernelspec": {
   "display_name": "Python 3 (ipykernel)",
   "language": "python",
   "name": "python3"
  },
  "language_info": {
   "codemirror_mode": {
    "name": "ipython",
    "version": 3
   },
   "file_extension": ".py",
   "mimetype": "text/x-python",
   "name": "python",
   "nbconvert_exporter": "python",
   "pygments_lexer": "ipython3",
   "version": "3.10.4"
  }
 },
 "nbformat": 4,
 "nbformat_minor": 5
}
