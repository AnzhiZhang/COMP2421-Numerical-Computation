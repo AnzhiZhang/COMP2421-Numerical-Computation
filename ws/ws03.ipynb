{
 "cells": [
  {
   "cell_type": "markdown",
   "id": "f36e039d-190b-41c2-9649-00c64a5a9743",
   "metadata": {},
   "source": [
    "# WS03: Triangular systems and Gaussian elimination"
   ]
  },
  {
   "cell_type": "markdown",
   "id": "9f8b6dce-973d-4f8c-804e-e90a9a885ac8",
   "metadata": {},
   "source": [
    "These exercises are indented to give you practice at using the material on numerical approximation and are intended to reinforce the material that was covered in lectures.\n",
    "\n",
    "Please attempt the worksheet before your tutorial. Support is available in your tutorial or in the Class Team."
   ]
  },
  {
   "cell_type": "markdown",
   "id": "3c3189b1-1c49-4243-bb3b-1bda1dc09bec",
   "metadata": {},
   "source": [
    "## Part a (pen and paper warm up)"
   ]
  },
  {
   "cell_type": "markdown",
   "id": "a6d51218-04e5-4545-a082-e4a95b3509fc",
   "metadata": {},
   "source": [
    "### 1. Triangular systems\n",
    "\n",
    "Solve the upper triangular linear system given by\n",
    "\n",
    "$$\n",
    "\\begin{aligned}\n",
    "2 x_1 &+& x_2 &+& 4 x_3 &=& 12 \\\\\n",
    "&& 1.5 x_2 && &=& 3 \\\\\n",
    "&& && 2 x_3 &=& 4\n",
    "\\end{aligned}.\n",
    "$$"
   ]
  },
  {
   "cell_type": "markdown",
   "id": "18b0631e-8e13-4140-a0ee-e975c21fdb8f",
   "metadata": {},
   "source": [
    "### 2. Elementary row operations\n",
    "\n",
    "Consider the system\n",
    "\n",
    "$$\n",
    "\\begin{aligned}\n",
    "x_1 + 2 x_2 & = 1 && (3) \\\\\n",
    "4 x_1 + x_2 & = -3 && (4).\n",
    "\\end{aligned}\n",
    "$$\n",
    "\n",
    "Find:\n",
    "\n",
    "-   $2 \\times (3)$ $\\rightarrow$\n",
    "-   $0.25 \\times (4)$ $\\rightarrow$\n",
    "-   $(4) + (-1) \\times (3)$ $\\rightarrow$\n",
    "-   $(4) + (-4) \\times (3)$ $\\rightarrow$"
   ]
  },
  {
   "cell_type": "markdown",
   "id": "bf011b66-1ae0-4c07-85ab-0ed3c94e8bd6",
   "metadata": {},
   "source": [
    "### 3. Gaussian elimination\n",
    "\n",
    "Use Gaussian elimination followed by backward subsitution to solve the linear system of equations given by\n",
    "\n",
    "-\n",
    "\n",
    "   $$\n",
    "   \\begin{pmatrix}\n",
    "   4 & -1 & -1 \\\\ 2 & 4 & 2 \\\\ 1 & 2 & 4\n",
    "   \\end{pmatrix}\n",
    "   \\begin{pmatrix}\n",
    "   x_1 \\\\ x_2 \\\\ x_3\n",
    "   \\end{pmatrix} =\n",
    "   \\begin{pmatrix}\n",
    "   9 \\\\ -6 \\\\ 3\n",
    "   \\end{pmatrix}.\n",
    "   $$\n",
    "\n",
    "-\n",
    "\n",
    "   $$\n",
    "   \\begin{pmatrix}\n",
    "   4 & 3 & 2 & 1 \\\\ 1 & 2 & 2 & 2 \\\\\n",
    "   1 & 1 & 3 & 0 \\\\ 2 & 1 & 2 & 3\n",
    "   \\end{pmatrix}\n",
    "   \\begin{pmatrix}\n",
    "   x_1 \\\\ x_2 \\\\ x_3 \\\\ x_4\n",
    "   \\end{pmatrix} =\n",
    "   \\begin{pmatrix}\n",
    "    10 \\\\ 7 \\\\ 5 \\\\ 8\n",
    "   \\end{pmatrix}.\n",
    "   $$\n",
    "\n",
    "   The solution is $\\vec{x} = (1, 1, 1, 1)^T$."
   ]
  },
  {
   "cell_type": "markdown",
   "id": "b40b71be-f4fa-4db4-9ba2-e07f76afb62c",
   "metadata": {},
   "source": [
    "## Part b (code implementations and testing)"
   ]
  },
  {
   "cell_type": "code",
   "execution_count": 1,
   "id": "c95b37ed-edb9-44ae-b7ad-6c68d32f9ab3",
   "metadata": {},
   "outputs": [],
   "source": [
    "import numpy as np"
   ]
  },
  {
   "cell_type": "markdown",
   "id": "e4909e3a-0294-4224-8915-942f454e88a0",
   "metadata": {},
   "source": [
    "### 4. Implementations\n",
    "\n",
    "Implement the following functions with doc-strings given."
   ]
  },
  {
   "cell_type": "code",
   "execution_count": 2,
   "id": "e6d3dc81-d5aa-490b-a00b-814fd7dfb4e6",
   "metadata": {},
   "outputs": [],
   "source": [
    "def lower_triangular_solve(A, b):\n",
    "    \"\"\"\n",
    "    Solve the system  A x = b  where A is assumed to be lower triangular,\n",
    "    i.e. A(i,j) = 0 for j > i, and the diagonal is assumed to be nonzero,\n",
    "    i.e. A(i,i) != 0.\n",
    "    \n",
    "    The code checks that A is lower triangular and converts A and b to\n",
    "    double precision before computing.\n",
    "\n",
    "    ARGUMENTS:  A   lower triangular n x n array\n",
    "                b   right hand side column n-vector\n",
    "\n",
    "    RETURNS:    x   column n-vector solution\n",
    "    \"\"\"\n",
    "\n",
    "    # TODO implement me"
   ]
  },
  {
   "cell_type": "code",
   "execution_count": 3,
   "id": "6f8810d8-dcf3-4e37-b382-e06a8bd1c1dc",
   "metadata": {},
   "outputs": [],
   "source": [
    "def upper_triangular_solve(A, b):\n",
    "    \"\"\"\n",
    "    Solve the system  A x = b  where A is assumed to be upper triangular,\n",
    "    i.e. A(i,j) = 0 for j < i, and the diagonal is assumed to be nonzero,\n",
    "    i.e. A(i,i) != 0.\n",
    "    \n",
    "    The code checks that A is upper triangular and converts A and b to\n",
    "    double precision before computing.\n",
    "\n",
    "    ARGUMENTS:  A   upper triangular n x n array\n",
    "                b   right hand side column n-vector\n",
    "\n",
    "    RETURNS:    x   column n-vector solution\n",
    "    \"\"\"\n",
    "\n",
    "    # TODO implement me"
   ]
  },
  {
   "cell_type": "code",
   "execution_count": 4,
   "id": "820d0fec-7fe6-4745-9f39-93166e1676ce",
   "metadata": {},
   "outputs": [],
   "source": [
    "def gauss_elimination(A, b, verbose=False):\n",
    "    \"\"\"\n",
    "    Reduce the system  A x = b  to upper triangular form, assuming that\n",
    "    the diagonal is nonzero, i.e. A(i,i) != 0.\n",
    "    \n",
    "    Before computing A and b are converted to double precision.\n",
    "\n",
    "    ARGUMENTS:  A   n x n matrix\n",
    "                b   right hand side column n-vector\n",
    "\n",
    "                verbose  (optional) if true print elimination steps\n",
    "\n",
    "    RETURNS:    A   upper triangular n x n matrix\n",
    "                b   modified column n-vector\n",
    "    \"\"\"\n",
    "    \n",
    "    # TODO implement me"
   ]
  },
  {
   "cell_type": "markdown",
   "id": "a338c89b-a5d6-45e8-a7e5-a43dc639e2c4",
   "metadata": {},
   "source": [
    "### 5. Testing\n",
    "\n",
    "Test your solutions using your answers to part a. The first test has been implemented for you."
   ]
  },
  {
   "cell_type": "code",
   "execution_count": 5,
   "id": "f5f4055c-24a4-45f8-af42-288352b772b5",
   "metadata": {},
   "outputs": [
    {
     "ename": "SyntaxError",
     "evalue": "invalid syntax (Temp/ipykernel_4556/1306151795.py, line 4)",
     "output_type": "error",
     "traceback": [
      "\u001b[1;36m  File \u001b[1;32m\"E:\\Temp/ipykernel_4556/1306151795.py\"\u001b[1;36m, line \u001b[1;32m4\u001b[0m\n\u001b[1;33m    x0 = # TODO fill with precomputed answer\u001b[0m\n\u001b[1;37m                                            ^\u001b[0m\n\u001b[1;31mSyntaxError\u001b[0m\u001b[1;31m:\u001b[0m invalid syntax\n"
     ]
    }
   ],
   "source": [
    "U = np.array([[2, 1, 4], [0, 1.5, 0], [0, 0, 2]])\n",
    "b = np.array([[12], [3], [4]])\n",
    "\n",
    "x0 = # TODO fill with precomputed answer\n",
    "\n",
    "x = upper_triangular_solve(U, b)\n",
    "np.testing.assert_almost_equal(x, x0)"
   ]
  },
  {
   "cell_type": "code",
   "execution_count": null,
   "id": "c89a95c0-ec20-4bca-85ad-bdaedac23873",
   "metadata": {},
   "outputs": [],
   "source": [
    "# 3x3 Gaussian elimination test"
   ]
  },
  {
   "cell_type": "code",
   "execution_count": null,
   "id": "ef375a46-2e5d-4615-90dc-0c374dc708bc",
   "metadata": {},
   "outputs": [],
   "source": [
    "# 4x4 Gaussian elimination test"
   ]
  },
  {
   "cell_type": "markdown",
   "id": "450b1d32-36ed-4a51-869d-774e0099b3d6",
   "metadata": {},
   "source": [
    "## Part c: Extension"
   ]
  },
  {
   "cell_type": "markdown",
   "id": "fd0b2764-bae9-4554-b07c-f6fb8798c9fe",
   "metadata": {},
   "source": [
    "Next we want to know how good the method is. We do this by testing robustness and efficiency in practical settings"
   ]
  },
  {
   "cell_type": "markdown",
   "id": "e22cf2f2-8690-473f-887e-258db222f0c5",
   "metadata": {},
   "source": [
    "### 6. Robustness\n",
    "\n",
    "Consider the system of linear equations given by:\n",
    "\n",
    "$$\n",
    "\\begin{aligned}\n",
    "x_1 + x_2 & = 3 \\\\\n",
    "\\varepsilon x_1 + x_2 & = 2 + \\varepsilon.\n",
    "\\end{aligned}\n",
    "$$\n",
    "\n",
    "- First verify that the true solution is $(x_1, x_2)^T = (1, 2)^T$.\n",
    "- Write the problem in matrix form. What does your funciton give for small values $\\varepsilon = 10^{-4}, 10^{-8}, 10^{-12}$?\n",
    "- Rewrite the matrix form by considering the equations the other way round. What does your function given now?"
   ]
  },
  {
   "cell_type": "markdown",
   "id": "4ff39325-e6cc-4009-bc58-1b6dfd1c5eeb",
   "metadata": {},
   "source": [
    "### 7. Efficiency\n",
    "\n",
    "Consider the family of systems of linear equations given by\n",
    "\n",
    "$$\n",
    "A \\vec{x} = \\vec{b},\n",
    "$$\n",
    "\n",
    "where $A$ is given by $\\varepsilon I_n + B B^T$ for a random matrix $B$."
   ]
  },
  {
   "cell_type": "code",
   "execution_count": null,
   "id": "bc7e494e-e0df-42c6-b80a-8742ec68ec89",
   "metadata": {},
   "outputs": [],
   "source": [
    "def generate_test_set(n):\n",
    "    \"\"\"\n",
    "    Generate a random solvable system of linear equations.\n",
    "\n",
    "    ARGUMENTS:  n   size of the problem\n",
    "                \n",
    "    RETURNS:    A   n x n matrix for system of linear equations\n",
    "                x   n vector of soltuions\n",
    "                b   n vector for right hand side\n",
    "    \"\"\"\n",
    "    \n",
    "    B = np.random.rand(n, n)\n",
    "    eps = 0.1\n",
    "    \n",
    "    A = eps * np.eye(n) + B * B.T\n",
    "    x = np.ones((n, 1))\n",
    "    b = np.matmul(A, x)\n",
    "    \n",
    "    return A, x, b"
   ]
  },
  {
   "cell_type": "markdown",
   "id": "3caa439c-95b1-45fd-a7a7-aac786ba0988",
   "metadata": {},
   "source": [
    "Test the run time of your Gaussian elimination implementation for a range of values `n` based on the data from `generate_test_set`. "
   ]
  }
 ],
 "metadata": {
  "kernelspec": {
   "display_name": "Python 3 (ipykernel)",
   "language": "python",
   "name": "python3"
  },
  "language_info": {
   "codemirror_mode": {
    "name": "ipython",
    "version": 3
   },
   "file_extension": ".py",
   "mimetype": "text/x-python",
   "name": "python",
   "nbconvert_exporter": "python",
   "pygments_lexer": "ipython3",
   "version": "3.10.6"
  }
 },
 "nbformat": 4,
 "nbformat_minor": 5
}
