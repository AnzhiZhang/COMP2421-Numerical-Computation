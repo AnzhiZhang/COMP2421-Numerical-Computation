{
 "cells": [
  {
   "cell_type": "markdown",
   "id": "2392e573",
   "metadata": {},
   "source": [
    "# WS07: Improved Euler's methods - partial solutions"
   ]
  },
  {
   "cell_type": "markdown",
   "id": "2e2562b9",
   "metadata": {},
   "source": [
    "These exercises are indented to give you practice at using the material on numerical approximation and are intended to reinforce the material that was covered in lectures.\n",
    "\n",
    "Please attempt the worksheet before your tutorial. Support is available in your tutorial or in the Class Team."
   ]
  },
  {
   "cell_type": "markdown",
   "id": "95907eb4",
   "metadata": {},
   "source": [
    "*These are partial solutions. Please create [Issues](https://gitlab.com/comp2421-numerical-computation/book/-/issues) and [Merge requests](https://gitlab.com/comp2421-numerical-computation/book/-/merge_requests) with your solutions or share your answers for peer feedback in the class team [Worksheet solutions channel](https://teams.microsoft.com/l/channel/19%3a43e9bb00fad04d8d8c85399b694657f4%40thread.tacv2/Worksheet%2520solutions?groupId=54035a7f-8376-45f0-b7b8-d4fac9d5ab54&tenantId=bdeaeda8-c81d-45ce-863e-5232a535b7cb)*"
   ]
  },
  {
   "cell_type": "markdown",
   "id": "1a3a194b",
   "metadata": {},
   "source": [
    "## Part a (pen and paper warm up)"
   ]
  },
  {
   "cell_type": "markdown",
   "id": "2079c33f",
   "metadata": {},
   "source": [
    "### 1. Midpoint method\n",
    "\n",
    "For a differential equation\n",
    "\n",
    "$$\n",
    "u^\\prime(t) = f(t,u),\n",
    "$$\n",
    "\n",
    "given a time step $\\Delta t = t_1 - t_0$ and $u(t_0)=u_0$, $u(t_1)=u_1$ may be computed by\n",
    "\n",
    "- the Euler's formula\n",
    "\n",
    "  $$\n",
    "  \\frac{u_1-u_0}{\\Delta t} = f(t_0,u_0)\n",
    "  $$\n",
    "  \n",
    "- or the midpoint formula\n",
    "\n",
    "  $$\n",
    "  \\frac{u_1-u_0}{\\Delta t} = f(t_{1/2},u_{1/2}),\n",
    "  $$\n",
    "\n",
    "  where \n",
    " \n",
    "  $$\n",
    "  t_{1/2} = \\frac{t_0+t_1}{2} \n",
    "  $$\n",
    " \n",
    "  and $u_{1/2}$ \n",
    "\n",
    "  $$\n",
    "  u_{1/2} = u_0 + \\frac{\\Delta t}{2} f(t_0,u_0),\n",
    "  $$\n",
    "  \n",
    "  which is computed by the Euler's formula on a half-time step of $\\frac{\\Delta t}{2}$.\n",
    "\n",
    "\n",
    "Both formulas are approximations of the original differential equation. However, the midpoint formula has one more step to compute a midpoint $(t_{1/2}, u_{1/2})$, which is more accurate. Apply the midpoint formula to the same problem considered in WS06:\n",
    "\n",
    "$$\n",
    "d^\\prime(t) = t^2 -3t + d\n",
    "$$\n",
    "\n",
    "with $\\Delta t = 0.01$, and $d(0) =1$. Use the midpoint method to compute $d(0.01)$. "
   ]
  },
  {
   "cell_type": "markdown",
   "id": "a0a98f00",
   "metadata": {},
   "source": [
    "## Part b (code implementations and testing)"
   ]
  },
  {
   "cell_type": "markdown",
   "id": "66d022a3",
   "metadata": {},
   "source": [
    "### 2. Implement the midpoint method"
   ]
  },
  {
   "cell_type": "code",
   "execution_count": null,
   "id": "818791cf",
   "metadata": {},
   "outputs": [],
   "source": [
    "import numpy as np"
   ]
  },
  {
   "cell_type": "code",
   "execution_count": null,
   "id": "abe230e7",
   "metadata": {},
   "outputs": [],
   "source": [
    "def midpoint_method(t0, d0, dt, n):\n",
    "    d = np.zeros(n + 1)\n",
    "    d[0] = d0\n",
    "\n",
    "    t = np.zeros(n + 1)\n",
    "    for i in range(n + 1):\n",
    "        t[i] = t0 + i * dt\n",
    "\n",
    "    for i in range(1, n + 1):\n",
    "        d_half = d[i - 1] + 0.5 * dt * f(t[i - 1], d[i - 1])\n",
    "        d[i] = d[i - 1] + dt * f((t[i - 1] + t[i]) / 2.0, d_half)\n",
    "\n",
    "    return t, d\n",
    "\n",
    "\n",
    "def Euler_method(t0, d0, dt, n):\n",
    "    d = np.zeros(n + 1)\n",
    "    d[0] = d0\n",
    "\n",
    "    t = np.zeros(n + 1)\n",
    "    for i in range(n + 1):\n",
    "        t[i] = t0 + i * dt\n",
    "\n",
    "    for i in range(1, n + 1):\n",
    "        d[i] = d[i - 1] + dt * f(t[i - 1], d[i - 1])\n",
    "\n",
    "    return t, d"
   ]
  },
  {
   "cell_type": "markdown",
   "id": "8d2a8bc8",
   "metadata": {},
   "source": [
    "### 3. Test your implementation\n",
    "\n",
    "Use the example in Q4 to test your implementation and compare with the exact solution: $d(t) = -t^2 +t +1$"
   ]
  },
  {
   "cell_type": "code",
   "execution_count": null,
   "id": "707ea157",
   "metadata": {
    "scrolled": true
   },
   "outputs": [],
   "source": [
    "def f(t, d):\n",
    "    return t * t - 3.0 * t + d\n",
    "\n",
    "\n",
    "def d_exact(t):\n",
    "    return -t * t + t + 1.0\n",
    "\n",
    "\n",
    "t0 = float(0.0)\n",
    "d0 = float(1.0)\n",
    "dt = float(0.01)\n",
    "n = int(100)\n",
    "\n",
    "t_Euler, d_Euler = Euler_method(t0, d0, dt, n)\n",
    "t_midpoint, d_midpoint = midpoint_method(t0, d0, dt, n)\n",
    "\n",
    "# test against your solution from part a\n",
    "d_parta_Euler = np.array([1.0, 1.01, 1.019801])\n",
    "np.testing.assert_allclose(d_Euler[0:3], d_parta_Euler)\n",
    "d_parta_midpoint = np.array([1.0, 1.00990025, 1.0196005025125])\n",
    "np.testing.assert_allclose(d_midpoint[0:3], d_parta_midpoint)\n",
    "\n",
    "de = np.zeros(n + 1)\n",
    "for i in range(n + 1):\n",
    "    de[i] = d_exact(t_Euler[i])\n",
    "\n",
    "\n",
    "import matplotlib.pyplot as plt\n",
    "\n",
    "fig = plt.figure()\n",
    "plt.plot(t_Euler, d_Euler, \"-b\", label=\"Euler\")\n",
    "plt.plot(t_Euler, de, \"-r\", label=\"Exact\")\n",
    "plt.plot(t_midpoint, d_midpoint, \"--g\", label=\"midpoint\")\n",
    "plt.legend(loc=\"upper left\")\n",
    "plt.xlabel(\"t\")\n",
    "plt.ylabel(\"d\")\n",
    "plt.grid()\n",
    "plt.show()"
   ]
  },
  {
   "cell_type": "markdown",
   "id": "c8d3b73d",
   "metadata": {},
   "source": [
    "### 4. Test a larger time step"
   ]
  },
  {
   "cell_type": "code",
   "execution_count": null,
   "id": "9913aa96",
   "metadata": {},
   "outputs": [],
   "source": [
    "def f(t, d):\n",
    "    return t * t - 3.0 * t + d\n",
    "\n",
    "\n",
    "def d_exact(t):\n",
    "    return -t * t + t + 1.0\n",
    "\n",
    "\n",
    "t0 = float(0.0)\n",
    "d0 = float(1.0)\n",
    "dt = float(0.1)\n",
    "n = int(10)\n",
    "\n",
    "t, d_Euler = Euler_method(t0, d0, dt, n)\n",
    "t, d_midpoint = midpoint_method(t0, d0, dt, n)\n",
    "\n",
    "de = np.zeros(n + 1)\n",
    "for i in range(n + 1):\n",
    "    de[i] = d_exact(t[i])\n",
    "\n",
    "\n",
    "import matplotlib.pyplot as plt\n",
    "\n",
    "fig = plt.figure()\n",
    "plt.plot(t, d_Euler, \"-b\", label=\"Euler\")\n",
    "plt.plot(t, de, \"-r\", label=\"Exact\")\n",
    "plt.plot(t, d_midpoint, \"--g\", label=\"midpoint\")\n",
    "plt.legend(loc=\"upper left\")\n",
    "plt.xlabel(\"t\")\n",
    "plt.ylabel(\"d\")\n",
    "plt.grid()\n",
    "plt.show()"
   ]
  },
  {
   "cell_type": "markdown",
   "id": "71058ae7",
   "metadata": {},
   "source": [
    "## Part c: Extension\n",
    "Apply your Python code of Euler's method to equation\n",
    "\n",
    "$$\n",
    "d^\\prime(t) = 2 \\sqrt d  \\quad \\text{starting from} \\quad d(0)=0.\n",
    "$$\n",
    "\n",
    "The exact solution is $d(t) = t^2$.\n",
    "\n",
    "- Check whether your code will fail.\n",
    "- Explain why it fails and how you can avoid this?"
   ]
  },
  {
   "cell_type": "code",
   "execution_count": null,
   "id": "0eb7ed77",
   "metadata": {},
   "outputs": [],
   "source": [
    "def f(t, d):\n",
    "    return 2.0 * d**0.5\n",
    "\n",
    "\n",
    "def d_exact(t):\n",
    "    return t**2.0\n",
    "\n",
    "\n",
    "# starting at the proper initial condition\n",
    "t0 = float(0.0)\n",
    "d0 = float(0.0)\n",
    "dt = float(0.1)\n",
    "n = int(10)\n",
    "\n",
    "t, d_Euler = Euler_method(t0, d0, dt, n)\n",
    "t, d_midpoint = midpoint_method(t0, d0, dt, n)\n",
    "\n",
    "de = np.zeros(n + 1)\n",
    "for i in range(n + 1):\n",
    "    de[i] = d_exact(t[i])\n",
    "\n",
    "import matplotlib.pyplot as plt\n",
    "\n",
    "fig = plt.figure()\n",
    "plt.plot(t, d_Euler, \"-b\", label=\"Euler\")\n",
    "plt.plot(t, de, \"-r\", label=\"Exact\")\n",
    "plt.plot(t, d_midpoint, \"--g\", label=\"midpoint\")\n",
    "plt.legend(loc=\"upper left\")\n",
    "plt.xlabel(\"t\")\n",
    "plt.ylabel(\"d\")\n",
    "plt.grid()\n",
    "plt.show()"
   ]
  },
  {
   "cell_type": "code",
   "execution_count": null,
   "id": "287e6fc1",
   "metadata": {},
   "outputs": [],
   "source": [
    "# starting at a tweaked initial condition\n",
    "t0 = float(0.1)\n",
    "d0 = float(0.01)\n",
    "dt = float(0.1)\n",
    "n = int(10)\n",
    "\n",
    "t, d_Euler = Euler_method(t0, d0, dt, n)\n",
    "t, d_midpoint = midpoint_method(t0, d0, dt, n)\n",
    "\n",
    "de = np.zeros(n + 1)\n",
    "for i in range(n + 1):\n",
    "    de[i] = d_exact(t[i])\n",
    "\n",
    "import matplotlib.pyplot as plt\n",
    "\n",
    "fig = plt.figure()\n",
    "plt.plot(t, d_Euler, \"-b\", label=\"Euler\")\n",
    "plt.plot(t, de, \"-r\", label=\"Exact\")\n",
    "plt.plot(t, d_midpoint, \"--g\", label=\"midpoint\")\n",
    "plt.legend(loc=\"upper left\")\n",
    "plt.xlabel(\"t\")\n",
    "plt.ylabel(\"d\")\n",
    "plt.grid()\n",
    "plt.show()"
   ]
  }
 ],
 "metadata": {
  "kernelspec": {
   "display_name": "Python 3 (ipykernel)",
   "language": "python",
   "name": "python3"
  },
  "language_info": {
   "codemirror_mode": {
    "name": "ipython",
    "version": 3
   },
   "file_extension": ".py",
   "mimetype": "text/x-python",
   "name": "python",
   "nbconvert_exporter": "python",
   "pygments_lexer": "ipython3",
   "version": "3.8.15"
  }
 },
 "nbformat": 4,
 "nbformat_minor": 5
}
