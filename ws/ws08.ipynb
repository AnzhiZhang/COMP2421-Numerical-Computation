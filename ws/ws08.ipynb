{
 "cells": [
  {
   "cell_type": "markdown",
   "id": "0702a1bb",
   "metadata": {},
   "source": [
    "# WS08: Bisection and Newton’s method"
   ]
  },
  {
   "cell_type": "markdown",
   "id": "3f04f32f",
   "metadata": {},
   "source": [
    "These exercises are indented to give you practice at using the material on numerical approximation and are intended to reinforce the material that was covered in lectures.\n",
    "\n",
    "Please attempt the worksheet before your tutorial. Support is available in your tutorial or in the Class Team."
   ]
  },
  {
   "cell_type": "markdown",
   "id": "9c9821e8",
   "metadata": {},
   "source": [
    "*[Partial solutions](./ws08_implemented) are available to check your understanding. Please create [Issues](https://gitlab.com/comp2421-numerical-computation/book/-/issues) and [Merge requests](https://gitlab.com/comp2421-numerical-computation/book/-/merge_requests) with your solutions or share your answers for peer feedback in the class team [Worksheet solutions channel](https://teams.microsoft.com/l/channel/19%3a43e9bb00fad04d8d8c85399b694657f4%40thread.tacv2/Worksheet%2520solutions?groupId=54035a7f-8376-45f0-b7b8-d4fac9d5ab54&tenantId=bdeaeda8-c81d-45ce-863e-5232a535b7cb)*"
   ]
  },
  {
   "cell_type": "markdown",
   "id": "e7cde8c0",
   "metadata": {},
   "source": [
    "## Part a (pen and paper warm up)"
   ]
  },
  {
   "cell_type": "markdown",
   "id": "334940c3",
   "metadata": {},
   "source": [
    "### 1. Bisection method\n",
    "\n",
    "We first check that the solution of $f(x) = x^3 - 2 = 0$ must sit in [0,2] because $f(0)f(2) = -2 \\times 6 <0$. Can you then apply three iterations of the Bisection method to this equation and narrow down this initial solution interval?\n",
    "\n",
    "### 2. Newton’s method\n",
    "\n",
    "Apply three iterations of Newton’s method to $f(x) = x^3 - 2 = 0$ starting from an initial guess $x_0 = 2$."
   ]
  },
  {
   "cell_type": "markdown",
   "id": "60f9a549",
   "metadata": {},
   "source": [
    "## Part b (code implementations and testing)"
   ]
  },
  {
   "cell_type": "markdown",
   "id": "10e9d2d5",
   "metadata": {},
   "source": [
    "### 2. Implement Bisection and Newton’s methods"
   ]
  },
  {
   "cell_type": "code",
   "execution_count": null,
   "id": "7816e7d4",
   "metadata": {},
   "outputs": [],
   "source": [
    "import numpy as np"
   ]
  },
  {
   "cell_type": "code",
   "execution_count": 1,
   "id": "b38c14dd",
   "metadata": {},
   "outputs": [],
   "source": [
    "def newton(f, df, x0, tol):\n",
    "    x = x0\n",
    "    y = f(x)\n",
    "    it = 0\n",
    "    while abs(y) > tol:  # iterate until less than or eq tol\n",
    "        \"\"\"\n",
    "        TODO: Newton's method\n",
    "        \"\"\"\n",
    "        it = it + 1\n",
    "        x = x - y / df(x)\n",
    "        y = f(x)\n",
    "\n",
    "    return x, it\n",
    "\n",
    "\n",
    "def bisection(f, x0, x1, tol):\n",
    "    it = 0\n",
    "    x = (x0 + x1) / 2.0\n",
    "    xL = x0\n",
    "    xR = x1\n",
    "\n",
    "    y = f(x)\n",
    "    yL = f(xL)\n",
    "    yR = f(xR)\n",
    "    while abs(y) > tol:\n",
    "        \"\"\"\n",
    "        TODO: Bisection method\n",
    "        \"\"\"\n",
    "        if y * yL < 0:\n",
    "            xR = x\n",
    "            yR = y\n",
    "        elif y * yR < 0:\n",
    "            xL = x\n",
    "            yL = y\n",
    "        x = (xL + xR) / 2\n",
    "        y = f(x)\n",
    "        it += 1\n",
    "\n",
    "    return x, it"
   ]
  },
  {
   "cell_type": "markdown",
   "id": "181fb0c7",
   "metadata": {},
   "source": [
    "### 3. Test your implementation"
   ]
  },
  {
   "cell_type": "code",
   "execution_count": 2,
   "id": "836149e7",
   "metadata": {},
   "outputs": [
    {
     "name": "stdout",
     "output_type": "stream",
     "text": [
      "Newton's method: 1.2599210498953948 after 5 iterations\n",
      "Bisection method: 1.2599210739135742 after 20 iterations\n"
     ]
    }
   ],
   "source": [
    "def f(t):\n",
    "    return t * t * t - 2.0\n",
    "\n",
    "\n",
    "def df(t):\n",
    "    return 3.0 * t * t\n",
    "\n",
    "\n",
    "x, it = newton(f, df, 2.0, 1.0e-6)\n",
    "print(f\"Newton's method: {x} after {it} iterations\")\n",
    "\n",
    "x, it = bisection(f, 0.0, 2.0, 1.0e-6)\n",
    "print(f\"Bisection method: {x} after {it} iterations\")"
   ]
  },
  {
   "cell_type": "markdown",
   "id": "3f746133",
   "metadata": {},
   "source": [
    "## Part c: Extension\n",
    "\n",
    "In which cases, Newton's method could fail, and what's your corresponding strategies to save it?"
   ]
  }
 ],
 "metadata": {
  "kernelspec": {
   "display_name": "Python 3 (ipykernel)",
   "language": "python",
   "name": "python3"
  },
  "language_info": {
   "codemirror_mode": {
    "name": "ipython",
    "version": 3
   },
   "file_extension": ".py",
   "mimetype": "text/x-python",
   "name": "python",
   "nbconvert_exporter": "python",
   "pygments_lexer": "ipython3",
   "version": "3.8.15"
  }
 },
 "nbformat": 4,
 "nbformat_minor": 5
}
