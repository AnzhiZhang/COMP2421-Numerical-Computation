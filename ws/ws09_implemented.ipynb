{
 "cells": [
  {
   "cell_type": "markdown",
   "id": "962ecddc",
   "metadata": {},
   "source": [
    "# WS09: Robust nonlinear solvers"
   ]
  },
  {
   "cell_type": "markdown",
   "id": "6eece630",
   "metadata": {},
   "source": [
    "These exercises are indented to give you practice at using the material on numerical approximation and are intended to reinforce the material that was covered in lectures.\n",
    "\n",
    "Please attempt the worksheet before your tutorial. Support is available in your tutorial or in the Class Team."
   ]
  },
  {
   "cell_type": "markdown",
   "id": "a20190f3-247a-442d-ad1e-14739ba607d5",
   "metadata": {},
   "source": [
    "*These are partial solutions. Please create [Issues](https://gitlab.com/comp2421-numerical-computation/book/-/issues) and [Merge requests](https://gitlab.com/comp2421-numerical-computation/book/-/merge_requests) with your solutions.*"
   ]
  },
  {
   "cell_type": "markdown",
   "id": "b5b9eece",
   "metadata": {},
   "source": [
    "## Part a (pen and paper warm up)"
   ]
  },
  {
   "cell_type": "markdown",
   "id": "ad21f03e",
   "metadata": {},
   "source": [
    "### 1. Convergence of Newton’s method\n",
    "\n",
    "For\n",
    "$$\n",
    "f(x) =  x(x-3)^2\n",
    "$$\n",
    "with\n",
    "$$\n",
    "f^\\prime(x) = 3(x-1)(x-3),\n",
    "$$\n",
    "we know $f(x) = 0$ has two solution $x=0$ and $x=3$. You might plot this function in the following Q4 to help you visualise it.\n",
    "\n",
    "Starting form initial guesses $x_0 = 0.5$ and $x_0=1.5$ respectively, and apply two Newton's iterations to see which solution you will get.\n",
    "\n",
    "### 2. Problems of  Newton’s method\n",
    "\n",
    "Create an equation so that Newton's method does not work, and prove it using your implementation in WS08.\n",
    "\n",
    "### 3.  The secant method\n",
    "\n",
    "Use the secant method to solve the above equation $f(x)=0$, and iterate three times from two initial guesses $x_0=4$, $x_1=5$."
   ]
  },
  {
   "cell_type": "markdown",
   "id": "c8b649fb",
   "metadata": {},
   "source": [
    "## Part b (code implementations and testing)"
   ]
  },
  {
   "cell_type": "markdown",
   "id": "d9a63111",
   "metadata": {},
   "source": [
    "### 4. Plot the curve in Q1"
   ]
  },
  {
   "cell_type": "code",
   "execution_count": 1,
   "id": "0a6ff7bc",
   "metadata": {},
   "outputs": [
    {
     "data": {
      "image/png": "[encoded data removed]",
      "text/plain": [
       "<Figure size 640x480 with 1 Axes>"
      ]
     },
     "metadata": {},
     "output_type": "display_data"
    }
   ],
   "source": [
    "import numpy as np\n",
    "def f(x):\n",
    "    return x*x*x - 6.0*x*x +9.0*x\n",
    "    \n",
    "    \n",
    "X = np.linspace(-1.0, 4.0, num=100, endpoint=True)\n",
    "Y = np.zeros(100)\n",
    "for i in range(len(Y)):\n",
    "    Y[i] = f(X[i])\n",
    "    \n",
    "import matplotlib.pyplot as plt\n",
    "fig = plt.figure()\n",
    "plt.plot(X, Y)\n",
    "plt.grid()\n",
    "plt.show()"
   ]
  },
  {
   "cell_type": "markdown",
   "id": "fcdee89c",
   "metadata": {},
   "source": [
    "### 5. Implement the secant method"
   ]
  },
  {
   "cell_type": "code",
   "execution_count": 2,
   "id": "f8973dc6",
   "metadata": {},
   "outputs": [],
   "source": [
    "import numpy as np"
   ]
  },
  {
   "cell_type": "code",
   "execution_count": 3,
   "id": "c74b28b7",
   "metadata": {},
   "outputs": [],
   "source": [
    "def secant(f, x0, x1, tol):\n",
    "    x = x1\n",
    "    it = 0\n",
    "    while abs(f(x)) > tol:   # iterate until less than or eq tol\n",
    "        x = x - f(x1) *(x1-x0) / (f(x1) - f(x0))  # apply one Newton iteration\n",
    "        x0 = x1\n",
    "        x1 = x\n",
    "        it = it + 1\n",
    "\n",
    "    return x, it\n"
   ]
  },
  {
   "cell_type": "markdown",
   "id": "75dddd69",
   "metadata": {},
   "source": [
    "### 6. Test your implementation"
   ]
  },
  {
   "cell_type": "code",
   "execution_count": 4,
   "id": "27a741d3",
   "metadata": {
    "scrolled": true
   },
   "outputs": [
    {
     "name": "stdout",
     "output_type": "stream",
     "text": [
      "The secant method: 3.0004913634209194 after 17 iterations\n"
     ]
    }
   ],
   "source": [
    "x, it = secant(f, 4.0, 5.0, 1.e-6)\n",
    "print(f\"The secant method: {x} after {it} iterations\")\n",
    "np.testing.assert_allclose(abs(f(x)), 0.0, atol=1.0e-6)"
   ]
  },
  {
   "cell_type": "markdown",
   "id": "ef793eab",
   "metadata": {},
   "source": [
    "## Part c: Extension\n",
    "\n",
    "Run the following SciPy solver, which struggles to find the solution $x=3$ for equation $f(x) = x(x-3)^2 =0$.\n",
    "\n",
    "- Read the instruction of this solver at \n",
    "<a href=\"https://docs.scipy.org/doc/scipy/reference/generated/scipy.optimize.brentq.html#scipy.optimize.brentq\">https://docs.scipy.org/doc/scipy/reference/generated/scipy.optimize.brentq.html#scipy.optimize.brentq</a>,\n",
    "and try to understand why?\n",
    "\n",
    "- Please try other solvers such as: optimize.newton( ) to see whether it can find the solution $x=3$"
   ]
  },
  {
   "cell_type": "code",
   "execution_count": 5,
   "id": "f7852078",
   "metadata": {},
   "outputs": [],
   "source": [
    "from scipy import optimize"
   ]
  },
  {
   "cell_type": "code",
   "execution_count": 6,
   "id": "c869df97",
   "metadata": {},
   "outputs": [
    {
     "name": "stdout",
     "output_type": "stream",
     "text": [
      "(-3.8743560727680246e-15,       converged: True\n",
      "           flag: 'converged'\n",
      " function_calls: 11\n",
      "     iterations: 10\n",
      "           root: -3.8743560727680246e-15)\n"
     ]
    }
   ],
   "source": [
    "root = optimize.brentq(f, -1, 10, full_output=True)\n",
    "print(root)"
   ]
  },
  {
   "cell_type": "code",
   "execution_count": 7,
   "id": "97fc5716",
   "metadata": {},
   "outputs": [
    {
     "name": "stdout",
     "output_type": "stream",
     "text": [
      "(2.9999999887608166,       converged: True\n",
      "           flag: 'converged'\n",
      " function_calls: 22\n",
      "     iterations: 21\n",
      "           root: 2.9999999887608166)\n"
     ]
    }
   ],
   "source": [
    "root = optimize.newton(f, 1.5, full_output=True)\n",
    "print(root)"
   ]
  }
 ],
 "metadata": {
  "kernelspec": {
   "display_name": "Python 3 (ipykernel)",
   "language": "python",
   "name": "python3"
  },
  "language_info": {
   "codemirror_mode": {
    "name": "ipython",
    "version": 3
   },
   "file_extension": ".py",
   "mimetype": "text/x-python",
   "name": "python",
   "nbconvert_exporter": "python",
   "pygments_lexer": "ipython3",
   "version": "3.10.6"
  }
 },
 "nbformat": 4,
 "nbformat_minor": 5
}
