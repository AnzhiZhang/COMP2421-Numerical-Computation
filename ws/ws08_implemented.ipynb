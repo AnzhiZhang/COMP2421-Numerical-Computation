{
 "cells": [
  {
   "cell_type": "markdown",
   "id": "7c0583a8",
   "metadata": {},
   "source": [
    "# WS08: Bisection and Newton’s method - partial solutions"
   ]
  },
  {
   "cell_type": "markdown",
   "id": "b9436e4a",
   "metadata": {},
   "source": [
    "These exercises are indented to give you practice at using the material on numerical approximation and are intended to reinforce the material that was covered in lectures.\n",
    "\n",
    "Please attempt the worksheet before your tutorial. Support is available in your tutorial or in the Class Team."
   ]
  },
  {
   "cell_type": "markdown",
   "id": "57790ca2",
   "metadata": {},
   "source": [
    "*These are partial solutions. Please create [Issues](https://gitlab.com/comp2421-numerical-computation/book/-/issues) and [Merge requests](https://gitlab.com/comp2421-numerical-computation/book/-/merge_requests) with your solutions or share your answers for peer feedback in the class team [Worksheet solutions channel](https://teams.microsoft.com/l/channel/19%3a43e9bb00fad04d8d8c85399b694657f4%40thread.tacv2/Worksheet%2520solutions?groupId=54035a7f-8376-45f0-b7b8-d4fac9d5ab54&tenantId=bdeaeda8-c81d-45ce-863e-5232a535b7cb)*"
   ]
  },
  {
   "cell_type": "markdown",
   "id": "4b5d6a21",
   "metadata": {},
   "source": [
    "## Part a (pen and paper warm up)"
   ]
  },
  {
   "cell_type": "markdown",
   "id": "a3d17fcc",
   "metadata": {},
   "source": [
    "### 1. Bisection method\n",
    "\n",
    "We first check that the solution of $f(x) = x^3 - 2 = 0$ must sit in [0,2] because $f(0)f(2) = -2 \\times 6 <0$. Can you then apply three iterations of the Bisection method to this equation and narrow down this initial solution interval?\n",
    "\n",
    "### 2. Newton’s method\n",
    "\n",
    "Apply three iterations of Newton’s method to $f(x) = x^3 - 2 = 0$ starting from an initial guess $x_0 = 2$."
   ]
  },
  {
   "cell_type": "markdown",
   "id": "42d6233b",
   "metadata": {},
   "source": [
    "## Part b (code implementations and testing)"
   ]
  },
  {
   "cell_type": "markdown",
   "id": "7cc8386c",
   "metadata": {},
   "source": [
    "### 2. Implement Bisection and Newton’s methods"
   ]
  },
  {
   "cell_type": "code",
   "execution_count": null,
   "id": "afc93f3d",
   "metadata": {},
   "outputs": [],
   "source": [
    "import numpy as np"
   ]
  },
  {
   "cell_type": "code",
   "execution_count": null,
   "id": "46c5d158",
   "metadata": {},
   "outputs": [],
   "source": [
    "def newton(f, df, x0, tol):\n",
    "    x = x0\n",
    "    y = f(x)\n",
    "    it = 0\n",
    "    while abs(y) > tol:  # iterate until less than or eq tol\n",
    "        x = x - y / df(x)  # apply one Newton iteration\n",
    "        y = f(x)  # reevaluate f at new estimate\n",
    "        it = it + 1\n",
    "\n",
    "    return x, it\n",
    "\n",
    "\n",
    "def bisection(f, x0, x1, tol):\n",
    "    it = 0\n",
    "    x = (x0 + x1) / 2.0\n",
    "    while abs(f(x)) > tol:\n",
    "        it = it + 1\n",
    "        x = (x0 + x1) / 2.0\n",
    "        if abs(x) < 1.0e-6:\n",
    "            return x\n",
    "        if f(x) * f(x0) < 0:\n",
    "            x1 = x\n",
    "        else:\n",
    "            x0 = x\n",
    "\n",
    "    return x, it"
   ]
  },
  {
   "cell_type": "markdown",
   "id": "f58f437b",
   "metadata": {},
   "source": [
    "### 3. Test your implementation"
   ]
  },
  {
   "cell_type": "code",
   "execution_count": null,
   "id": "50050e7f",
   "metadata": {},
   "outputs": [],
   "source": [
    "def f(t):\n",
    "    return t * t * t - 2.0\n",
    "\n",
    "\n",
    "def df(t):\n",
    "    return 3.0 * t * t\n",
    "\n",
    "\n",
    "x, it = newton(f, df, 2.0, 1.0e-6)\n",
    "print(f\"Newton method: {x} after {it} iterations\")\n",
    "np.testing.assert_allclose(abs(f(x)), 0.0, atol=1.0e-6)\n",
    "\n",
    "x, it = bisection(f, 0.0, 2.0, 1.0e-6)\n",
    "print(f\"Bisection method: {x} after {it} iterations\")\n",
    "np.testing.assert_allclose(abs(f(x)), 0.0, atol=1.0e-6)"
   ]
  },
  {
   "cell_type": "markdown",
   "id": "dc5e1e7f",
   "metadata": {},
   "source": [
    "## Part c: Extension\n",
    "\n",
    "In which cases, Newton's method could fail, and what's your corresponding strategies to save it?"
   ]
  }
 ],
 "metadata": {
  "kernelspec": {
   "display_name": "Python 3 (ipykernel)",
   "language": "python",
   "name": "python3"
  },
  "language_info": {
   "codemirror_mode": {
    "name": "ipython",
    "version": 3
   },
   "file_extension": ".py",
   "mimetype": "text/x-python",
   "name": "python",
   "nbconvert_exporter": "python",
   "pygments_lexer": "ipython3",
   "version": "3.8.15"
  }
 },
 "nbformat": 4,
 "nbformat_minor": 5
}
