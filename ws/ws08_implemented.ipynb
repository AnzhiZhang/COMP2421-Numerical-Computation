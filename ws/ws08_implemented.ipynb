{
 "cells": [
  {
   "cell_type": "markdown",
   "id": "962ecddc",
   "metadata": {},
   "source": [
    "# WS08: Bisection and Newton’s method"
   ]
  },
  {
   "cell_type": "markdown",
   "id": "6eece630",
   "metadata": {},
   "source": [
    "These exercises are indented to give you practice at using the material on numerical approximation and are intended to reinforce the material that was covered in lectures.\n",
    "\n",
    "Please attempt the worksheet before your tutorial. Support is available in your tutorial or in the Class Team."
   ]
  },
  {
   "cell_type": "markdown",
   "id": "62109470-d224-4e39-9360-8bd6ace9946b",
   "metadata": {},
   "source": [
    "*These are partial solutions. Please create [Issues](https://gitlab.com/comp2421-numerical-computation/book/-/issues) and [Merge requests](https://gitlab.com/comp2421-numerical-computation/book/-/merge_requests) with your solutions.*"
   ]
  },
  {
   "cell_type": "markdown",
   "id": "b5b9eece",
   "metadata": {},
   "source": [
    "## Part a (pen and paper warm up)"
   ]
  },
  {
   "cell_type": "markdown",
   "id": "ad21f03e",
   "metadata": {},
   "source": [
    "### 1. Bisection method\n",
    "\n",
    "We first check that the solution of $f(x) = x^3 - 2 = 0$ must sit in [0,2] because $f(0)f(2) = -2 \\times 6 <0$. Can you then apply three iterations of the Bisection method to this equation and narrow down this initial solution interval?\n",
    "\n",
    "### 2. Newton’s method\n",
    "\n",
    "Apply three iterations of Newton’s method to $f(x) = x^3 - 2 = 0$ starting from an initial guess $x_0 = 2$."
   ]
  },
  {
   "cell_type": "markdown",
   "id": "c8b649fb",
   "metadata": {},
   "source": [
    "## Part b (code implementations and testing)"
   ]
  },
  {
   "cell_type": "markdown",
   "id": "fcdee89c",
   "metadata": {},
   "source": [
    "### 2. Implement Bisection and Newton’s methods"
   ]
  },
  {
   "cell_type": "code",
   "execution_count": 3,
   "id": "f8973dc6",
   "metadata": {},
   "outputs": [],
   "source": [
    "import numpy as np"
   ]
  },
  {
   "cell_type": "code",
   "execution_count": 7,
   "id": "c74b28b7",
   "metadata": {},
   "outputs": [],
   "source": [
    "def newton(f, df, x0, tol):\n",
    "    x = x0\n",
    "    y = f(x)\n",
    "    it = 0\n",
    "    while abs(y) > tol:   # iterate until less than or eq tol\n",
    "        x = x - y / df(x)  # apply one Newton iteration\n",
    "        y = f(x)           # reevaluate f at new estimate\n",
    "        it = it + 1\n",
    "\n",
    "    return x, it\n",
    "\n",
    "    \n",
    "def bisection(f, x0, x1, tol):\n",
    "    it = 0\n",
    "    x = (x0 + x1)/2.0\n",
    "    while abs(f(x)) > tol:\n",
    "        it = it +1\n",
    "        x = (x0 + x1)/2.0\n",
    "        if abs(x) < 1.e-6: return x\n",
    "        if f(x)*f(x0) < 0:\n",
    "            x1 = x\n",
    "        else:\n",
    "            x0 = x       \n",
    "\n",
    "    return x, it"
   ]
  },
  {
   "cell_type": "markdown",
   "id": "75dddd69",
   "metadata": {},
   "source": [
    "### 3. Test your implementation"
   ]
  },
  {
   "cell_type": "code",
   "execution_count": 12,
   "id": "27a741d3",
   "metadata": {},
   "outputs": [
    {
     "name": "stdout",
     "output_type": "stream",
     "text": [
      "Newton method: 1.2599210498953948 after 5 iterations\n",
      "Bisection method: 1.2599210739135742 after 21 iterations\n"
     ]
    }
   ],
   "source": [
    "def f(t):\n",
    "    return t*t*t - 2.0\n",
    "\n",
    "def df(t):\n",
    "    return 3.*t*t\n",
    "\n",
    "\n",
    "x, it = newton(f, df, 2.0, 1.e-6)\n",
    "print(f\"Newton method: {x} after {it} iterations\")\n",
    "\n",
    "x, it = bisection(f, 0.0, 2.0, 1.e-6)\n",
    "print(f\"Bisection method: {x} after {it} iterations\")"
   ]
  },
  {
   "cell_type": "markdown",
   "id": "ae92be62",
   "metadata": {},
   "source": [
    "## Part c: Extension\n",
    "\n",
    "In which cases, Newton's method could fail, and what's your corresponding strategies to save it?"
   ]
  },
  {
   "cell_type": "code",
   "execution_count": null,
   "id": "feec0a0e",
   "metadata": {},
   "outputs": [],
   "source": []
  }
 ],
 "metadata": {
  "kernelspec": {
   "display_name": "Python 3 (ipykernel)",
   "language": "python",
   "name": "python3"
  },
  "language_info": {
   "codemirror_mode": {
    "name": "ipython",
    "version": 3
   },
   "file_extension": ".py",
   "mimetype": "text/x-python",
   "name": "python",
   "nbconvert_exporter": "python",
   "pygments_lexer": "ipython3",
   "version": "3.10.6"
  }
 },
 "nbformat": 4,
 "nbformat_minor": 5
}
