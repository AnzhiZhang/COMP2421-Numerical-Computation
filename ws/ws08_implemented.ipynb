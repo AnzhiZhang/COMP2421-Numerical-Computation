{
 "cells": [
  {
   "cell_type": "markdown",
   "id": "6aff818a",
   "metadata": {},
   "source": [
    "# WS08: Bisection and Newton’s method - partial solutions"
   ]
  },
  {
   "cell_type": "markdown",
   "id": "fd2c2566",
   "metadata": {},
   "source": [
    "These exercises are indented to give you practice at using the material on numerical approximation and are intended to reinforce the material that was covered in lectures.\n",
    "\n",
    "Please attempt the worksheet before your tutorial. Support is available in your tutorial or in the Class Team."
   ]
  },
  {
   "cell_type": "markdown",
   "id": "1512eb72",
   "metadata": {},
   "source": [
    "*These are partial solutions. Please create [Issues](https://github.com/uol-soc-teachingrepos/COMP2421-Numerical-Computation/issues) and [Pull requests](https://github.com/uol-soc-teachingrepos/COMP2421-Numerical-Computation/pulls) with your solutions.*"
   ]
  },
  {
   "cell_type": "markdown",
   "id": "fdfb34d2",
   "metadata": {},
   "source": [
    "## Part a (pen and paper warm up)"
   ]
  },
  {
   "cell_type": "markdown",
   "id": "0bc8355c",
   "metadata": {},
   "source": [
    "### 1. Bisection method\n",
    "\n",
    "We first check that the solution of $f(x) = x^3 - 2 = 0$ must sit in [0,2] because $f(0)f(2) = -2 \\times 6 <0$. Can you then apply three iterations of the Bisection method to this equation and narrow down this initial solution interval?\n",
    "\n",
    "### 2. Newton’s method\n",
    "\n",
    "Apply three iterations of Newton’s method to $f(x) = x^3 - 2 = 0$ starting from an initial guess $x_0 = 2$."
   ]
  },
  {
   "cell_type": "markdown",
   "id": "950819c1",
   "metadata": {},
   "source": [
    "## Part b (code implementations and testing)"
   ]
  },
  {
   "cell_type": "markdown",
   "id": "eb0ba201",
   "metadata": {},
   "source": [
    "### 2. Implement Bisection and Newton’s methods"
   ]
  },
  {
   "cell_type": "code",
   "execution_count": null,
   "id": "8738198e",
   "metadata": {},
   "outputs": [],
   "source": [
    "import numpy as np"
   ]
  },
  {
   "cell_type": "code",
   "execution_count": null,
   "id": "af72e1af",
   "metadata": {},
   "outputs": [],
   "source": [
    "def newton(f, df, x0, tol):\n",
    "    x = x0\n",
    "    y = f(x)\n",
    "    it = 0\n",
    "    while abs(y) > tol:  # iterate until less than or eq tol\n",
    "        x = x - y / df(x)  # apply one Newton iteration\n",
    "        y = f(x)  # reevaluate f at new estimate\n",
    "        it = it + 1\n",
    "\n",
    "    return x, it\n",
    "\n",
    "\n",
    "def bisection(f, x0, x1, tol):\n",
    "    it = 0\n",
    "    x = (x0 + x1) / 2.0\n",
    "    while abs(f(x)) > tol:\n",
    "        it = it + 1\n",
    "        x = (x0 + x1) / 2.0\n",
    "        if abs(x) < 1.0e-6:\n",
    "            return x\n",
    "        if f(x) * f(x0) < 0:\n",
    "            x1 = x\n",
    "        else:\n",
    "            x0 = x\n",
    "\n",
    "    return x, it"
   ]
  },
  {
   "cell_type": "markdown",
   "id": "eb9fa904",
   "metadata": {},
   "source": [
    "### 3. Test your implementation"
   ]
  },
  {
   "cell_type": "code",
   "execution_count": null,
   "id": "f8df8fc3",
   "metadata": {},
   "outputs": [],
   "source": [
    "def f(t):\n",
    "    return t * t * t - 2.0\n",
    "\n",
    "\n",
    "def df(t):\n",
    "    return 3.0 * t * t\n",
    "\n",
    "\n",
    "x, it = newton(f, df, 2.0, 1.0e-6)\n",
    "print(f\"Newton method: {x} after {it} iterations\")\n",
    "np.testing.assert_allclose(abs(f(x)), 0.0, atol=1.0e-6)\n",
    "\n",
    "x, it = bisection(f, 0.0, 2.0, 1.0e-6)\n",
    "print(f\"Bisection method: {x} after {it} iterations\")\n",
    "np.testing.assert_allclose(abs(f(x)), 0.0, atol=1.0e-6)"
   ]
  },
  {
   "cell_type": "markdown",
   "id": "8c0bcfcd",
   "metadata": {},
   "source": [
    "## Part c: Extension\n",
    "\n",
    "In which cases, Newton's method could fail, and what's your corresponding strategies to save it?"
   ]
  }
 ],
 "metadata": {
  "kernelspec": {
   "display_name": "Python 3 (ipykernel)",
   "language": "python",
   "name": "python3"
  },
  "language_info": {
   "codemirror_mode": {
    "name": "ipython",
    "version": 3
   },
   "file_extension": ".py",
   "mimetype": "text/x-python",
   "name": "python",
   "nbconvert_exporter": "python",
   "pygments_lexer": "ipython3",
   "version": "3.8.16"
  }
 },
 "nbformat": 4,
 "nbformat_minor": 5
}
