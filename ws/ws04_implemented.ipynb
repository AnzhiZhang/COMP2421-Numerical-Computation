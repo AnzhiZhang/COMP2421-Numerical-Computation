{
 "cells": [
  {
   "cell_type": "markdown",
   "id": "962ecddc",
   "metadata": {},
   "source": [
    "# WS04: LU Factorisation and iterative methods"
   ]
  },
  {
   "cell_type": "markdown",
   "id": "6eece630",
   "metadata": {},
   "source": [
    "These exercises are indented to give you practice at using the material on numerical approximation and are intended to reinforce the material that was covered in lectures.\n",
    "\n",
    "Please attempt the worksheet before your tutorial. Support is available in your tutorial or in the Class Team."
   ]
  },
  {
   "cell_type": "markdown",
   "id": "e3c391a8-a636-482a-a33e-d1d35c1e688a",
   "metadata": {},
   "source": [
    "*These are partial solutions. Please create [Issues](https://gitlab.com/comp2421-numerical-computation/book/-/issues) and [Merge requests](https://gitlab.com/comp2421-numerical-computation/book/-/merge_requests) with your solutions.*"
   ]
  },
  {
   "cell_type": "markdown",
   "id": "b5b9eece",
   "metadata": {},
   "source": [
    "## Part a (pen and paper warm up)"
   ]
  },
  {
   "cell_type": "markdown",
   "id": "ad21f03e",
   "metadata": {},
   "source": [
    "### 1. LU factorisation\n",
    "Use LU factorisation to solve the linear system of equations given by\n",
    "\n",
    "   $$\n",
    "   \\begin{pmatrix}\n",
    "   4 & -1 & -1 \\\\ 2 & 4 & 2 \\\\ 1 & 2 & 4\n",
    "   \\end{pmatrix}\n",
    "   \\begin{pmatrix}\n",
    "   x_1 \\\\ x_2 \\\\ x_3\n",
    "   \\end{pmatrix} =\n",
    "   \\begin{pmatrix}\n",
    "   9 \\\\ -6 \\\\ 3\n",
    "   \\end{pmatrix}.\n",
    "   $$\n",
    "\n",
    "\n",
    "### 2. Jacobi iteration\n",
    "Rewrite the Jacobi iteration as:\n",
    "$$\n",
    "\\vec{x}^{(k+1)} = D^{-1} \\vec{b} - D^{-1}(L+U) \\vec{x}^{(k)},\n",
    "$$\n",
    "or\n",
    "$$\n",
    "\\vec{x}^{(k+1)} = \\vec{p} - P \\vec{x}^{(k)},\n",
    "$$\n",
    "with $P=D^{-1}(L+U)$ and $\\vec{p}=D^{-1} \\vec{b}$, which facilitates computing and coding. Apply the above Jacobi iteration to the following linear system of equations. Take three iterations starting from an initial guess $(0, 0)^T$.\n",
    "\n",
    "   $$\n",
    "   \\begin{pmatrix}\n",
    "   2 & 1 \\\\ \n",
    "   1 & 2 \n",
    "   \\end{pmatrix}\n",
    "   \\begin{pmatrix}\n",
    "   x_1 \\\\ \n",
    "   x_2 \n",
    "   \\end{pmatrix} =\n",
    "   \\begin{pmatrix}\n",
    "    3 \\\\ 3 \n",
    "   \\end{pmatrix}. \n",
    "   $$\n",
    "Note that the exact solution is $(1,1)^T$. If we want to reduce the error -- $ \\|\\text{exact solution }- \\text{approximated solution}\\|$, less than 0.1, how many iterations do we need? what is the corresponding residual?\n",
    "\n",
    "### 3. Gauss-Seidel iteration\n",
    "Apply Gauss-Seidel iteration to the above equations, and take three iterations and check whether it gives you more accurate approximation than Jacobi iteration -- all you need to do is to update $(x_1, x_2)$ in terms of components, i.e.: update $x_1$ first, then update $x_2$ using your new $x_1$.\n"
   ]
  },
  {
   "cell_type": "markdown",
   "id": "c8b649fb",
   "metadata": {},
   "source": [
    "## Part b (code implementations and testing)"
   ]
  },
  {
   "cell_type": "markdown",
   "id": "7eb5fc35",
   "metadata": {},
   "source": [
    "### 4. Implement Gauss-Seidel iteration and  Jacobi iteration"
   ]
  },
  {
   "cell_type": "markdown",
   "id": "42f266c5",
   "metadata": {},
   "source": [
    "Notice the only difference between Gauss-Seidel iteration and Jacobi iteration is that the former updates vector $\\vec{x}$ component by component, while latter updates vector $\\vec{x}$ as a whole."
   ]
  },
  {
   "cell_type": "code",
   "execution_count": null,
   "id": "f8973dc6",
   "metadata": {},
   "outputs": [],
   "source": [
    "import numpy as np\n",
    "# import triangular solvers from previous workbook\n",
    "%run ws03_implemented.ipynb"
   ]
  },
  {
   "cell_type": "code",
   "execution_count": null,
   "id": "e79d4787",
   "metadata": {},
   "outputs": [],
   "source": [
    "def Jacobi_iteration(A, b, max_iteration, x0 = None):\n",
    "    # we should take care to ensure that arrays are stored with the correct type - float!\n",
    "    A = A.astype(np.float64)\n",
    "    b = b.astype(np.float64)\n",
    "     \n",
    "    # check sizes of A and b match appropriately\n",
    "    nb=len(b)\n",
    "    n, m = A.shape\n",
    "    if n != m:\n",
    "        raise ValueError(f'A is not a square matrix! {A.shape=}')\n",
    "    if n != nb:\n",
    "        raise ValueError(f'shapes of A and b do not match! {A.shape=} {b.shape=}')\n",
    "\n",
    "    # check diagonal is non zero\n",
    "    for i in range(n):\n",
    "        if np.isclose(A[i, i], 0):\n",
    "            raise ValueError(f'A[{i}, {i}] is zero')\n",
    "\n",
    "    # construct iteration matrices\n",
    "    P=np.zeros([n,n])    # matrix P = D^{-1}(L+U)\n",
    "    p=np.zeros(n)        # vector p = D^{-1} b\n",
    "    for i in range(n):\n",
    "        p[i]=b[i]/A[i,i] \n",
    "        for j in range(n):\n",
    "             P[i,j] = A[i,j]/A[i,i]\n",
    "        P[i,i] = 0\n",
    "        \n",
    "    #create a new array to store the results, initialised as zero\n",
    "    if x0 is None:\n",
    "        x = np.zeros_like(b)\n",
    "    else:\n",
    "        x = x0.copy()\n",
    "    \n",
    "    # peform iteration x <- p - P * x\n",
    "    for it in range(max_iteration):\n",
    "        for i in range(n):\n",
    "            x[i] = p[i]\n",
    "            for j in range(n):\n",
    "                x[i] -= P[i, j] * x[j]\n",
    "                \n",
    "    return x"
   ]
  },
  {
   "cell_type": "code",
   "execution_count": null,
   "id": "c74b28b7",
   "metadata": {},
   "outputs": [],
   "source": [
    "def Gauss_Seidel_iteration(A, b, max_iteration, x0 = None):\n",
    "    # we should take care to ensure that arrays are stored with the correct type - float!\n",
    "    A = A.astype(np.float64)\n",
    "    b = b.astype(np.float64)\n",
    "     \n",
    "    # check sizes of A and b match appropriately\n",
    "    nb=len(b)\n",
    "    n, m = A.shape\n",
    "    if n != m:\n",
    "        raise ValueError(f'A is not a square matrix! {A.shape=}')\n",
    "    if n != nb:\n",
    "        raise ValueError(f'shapes of A and b do not match! {A.shape=} {b.shape=}')\n",
    "\n",
    "    for i in range(n):\n",
    "        if np.isclose(A[i, i], 0):\n",
    "            raise ValueError(f'A[{i}, {i}] is zero')\n",
    "\n",
    "    # do not construct iteration matrices explicitly\n",
    "    LD = np.zeros_like(A)\n",
    "    U = np.zeros_like(A)\n",
    "    for i in range(n):\n",
    "        for j in range(n):\n",
    "            if i < j:\n",
    "                U[i, j] = A[i, j]\n",
    "            else:\n",
    "                LD[i, j] = A[i, j]\n",
    "    \n",
    "    # p = (L + D)^{-1} b --> found by solving triangular system\n",
    "    # (L + D) p = b\n",
    "    p = lower_triangular_solve(LD, b)\n",
    "      \n",
    "    #create a new array to store the results, initialised as zero\n",
    "    if x0 is None:\n",
    "        x = np.zeros_like(b)\n",
    "    else:\n",
    "        x = x0.copy()\n",
    "        \n",
    "    # perform iteration x <- p - P * x\n",
    "    # (L+D)(xnew - p) = U*x\n",
    "    Ux = np.empty_like(x)\n",
    "    for it in range(max_iteration):\n",
    "        for i in range(n):\n",
    "            Ux[i] = 0.0\n",
    "            for j in range(i+1, n):\n",
    "                Ux[i] += U[i, j] * x[j]\n",
    "        Px = lower_triangular_solve(LD, Ux)\n",
    "        x = p - Px\n",
    "                \n",
    "    return x"
   ]
  },
  {
   "cell_type": "markdown",
   "id": "5653c535",
   "metadata": {},
   "source": [
    "### 5. Test your iterative methods"
   ]
  },
  {
   "cell_type": "code",
   "execution_count": null,
   "id": "53f5e063",
   "metadata": {
    "scrolled": true
   },
   "outputs": [],
   "source": [
    "# Test different linear solvers starting from the above two-dimensional linear system\n",
    "A = np.array([[2, 1], [1, 2]])\n",
    "b = np.array([3, 3])\n",
    "x_exact = np.array([1,1])\n",
    "\n",
    "# numpy linear solver\n",
    "x0 = np.linalg.solve(A,b)\n",
    "print(\"Solution by numpy solver:\", x0)\n",
    "\n",
    "x = Jacobi_iteration(A, b, 4)\n",
    "print(\"Solution by Jacobi iteration: \",x)\n",
    "print(\"Error: \", x - x_exact)\n",
    "print(\"Residual: \", np.matmul(A,x)-b)\n",
    "\n",
    "x = Gauss_Seidel_iteration(A, b, 4)\n",
    "print(\"Solution by Guass Seidel iteration: \",x)\n",
    "print(\"Error: \", x - x_exact)\n",
    "print(\"Residual: \", np.matmul(A,x)-b)"
   ]
  },
  {
   "cell_type": "code",
   "execution_count": null,
   "id": "27a741d3",
   "metadata": {},
   "outputs": [],
   "source": [
    "A = np.array([[-10, 2, 0, 67], [-2, 50, -77, 1.e-5], [1, 7, 30, 8], [-10, -7, 0.001, 80]])\n",
    "b = np.array([1, 2, 9, 0])\n",
    "\n",
    "# numpy linear solvers\n",
    "x0 = np.linalg.solve(A,b)\n",
    "#x0 = np.linalg.inv(A).dot(b)\n",
    "print(\"Solution by numpy solver:\", x0)\n",
    "\n",
    "x = Jacobi_iteration(A, b, 100)\n",
    "print(\"Solution by Jacobi iteration: \",x)\n",
    "print(\"Residual: \", np.matmul(A,x)-b)\n",
    "\n",
    "x = Gauss_Seidel_iteration(A, b, 100)\n",
    "print(\"Solution by Guass Seidel iteration: \",x)\n",
    "print(\"Residual: \", np.matmul(A,x)-b)"
   ]
  },
  {
   "cell_type": "code",
   "execution_count": null,
   "id": "94aeaffd",
   "metadata": {},
   "outputs": [],
   "source": [
    "n=20\n",
    "B = np.random.rand(n, n)\n",
    "eps = 10\n",
    "A = eps * np.eye(n) + B * B.T\n",
    "b = np.random.rand(n)\n",
    "\n",
    "# numpy linear solvers\n",
    "x0 = np.linalg.solve(A,b)\n",
    "#x0 = np.linalg.inv(A).dot(b)\n",
    "print(\"Solution by numpy solver:\", x0)\n",
    "\n",
    "x = Jacobi_iteration(A, b, 100)\n",
    "print(\"Solution by Jacobi iteration: \",x)\n",
    "print(\"Residual: \", np.matmul(A,x)-b)\n",
    "\n",
    "x = Gauss_Seidel_iteration(A, b, 100)\n",
    "print(\"Solution by Guass Seidel iteration: \",x)\n",
    "print(\"Residual: \", np.matmul(A,x)-b)"
   ]
  },
  {
   "cell_type": "markdown",
   "id": "9e87d5cd",
   "metadata": {},
   "source": [
    "## Part c: Extension\n"
   ]
  },
  {
   "cell_type": "markdown",
   "id": "ff89a87e",
   "metadata": {},
   "source": [
    "### 6. Convergence\n",
    "For the following iteration formulas:\n",
    "$$\n",
    "\\vec{x}^{(k+1)} = \n",
    "\\begin{pmatrix}\n",
    "3  \\\\ \n",
    "1  \n",
    "\\end{pmatrix} \n",
    "-\n",
    "\\begin{pmatrix}\n",
    " 2 & 0 \\\\ \n",
    "0 & 2 \n",
    "\\end{pmatrix} \n",
    "\\vec{x}^{(k)},\n",
    "$$\n",
    "$$\n",
    "\\vec{x}^{(k+1)} = \n",
    "\\begin{pmatrix}\n",
    "3  \\\\ \n",
    "1  \n",
    "\\end{pmatrix} \n",
    "-\n",
    "\\begin{pmatrix}\n",
    "1 & 0 \\\\ \n",
    "0 & 1 \n",
    "\\end{pmatrix} \n",
    "\\vec{x}^{(k)}.\n",
    "$$\n",
    "and\n",
    "$$\n",
    "\\vec{x}^{(k+1)} = \n",
    "\\begin{pmatrix}\n",
    "3  \\\\ \n",
    "1  \n",
    "\\end{pmatrix} \n",
    "-\n",
    "\\begin{pmatrix}\n",
    "1/2 & 0 \\\\ \n",
    "0 & 1/2 \n",
    "\\end{pmatrix} \n",
    "\\vec{x}^{(k)}.\n",
    "$$\n",
    "\n",
    "- Take two or three iterations from an arbitrary initial guess. Do you think which iteration can converge?\n",
    "- Do you think the convergence of Jacobi iteration is completely determined by the properties of matrix $P$?\n",
    "- Wikipedia: <a href=\"https://en.wikipedia.org/wiki/Eigenvalues_and_eigenvectors\">Eigenvaluesdecomposition</a> is the right tool to decompose a matrix to diagonal matrix, which allows us to analyse the convergence of an iteration method but is beyond the scope of this module."
   ]
  }
 ],
 "metadata": {
  "kernelspec": {
   "display_name": "Python 3 (ipykernel)",
   "language": "python",
   "name": "python3"
  },
  "language_info": {
   "codemirror_mode": {
    "name": "ipython",
    "version": 3
   },
   "file_extension": ".py",
   "mimetype": "text/x-python",
   "name": "python",
   "nbconvert_exporter": "python",
   "pygments_lexer": "ipython3",
   "version": "3.10.6"
  }
 },
 "nbformat": 4,
 "nbformat_minor": 5
}
