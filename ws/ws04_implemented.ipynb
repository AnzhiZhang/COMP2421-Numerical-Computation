{
 "cells": [
  {
   "cell_type": "markdown",
   "id": "962ecddc",
   "metadata": {},
   "source": [
    "# WS04: LU Factorisation and iterative methods"
   ]
  },
  {
   "cell_type": "markdown",
   "id": "6eece630",
   "metadata": {},
   "source": [
    "These exercises are indented to give you practice at using the material on numerical approximation and are intended to reinforce the material that was covered in lectures.\n",
    "\n",
    "Please attempt the worksheet before your tutorial. Support is available in your tutorial or in the Class Team."
   ]
  },
  {
   "cell_type": "markdown",
   "id": "e3c391a8-a636-482a-a33e-d1d35c1e688a",
   "metadata": {},
   "source": [
    "*These are partial solutions. Please create [Issues](https://gitlab.com/comp2421-numerical-computation/book/-/issues) and [Merge requests](https://gitlab.com/comp2421-numerical-computation/book/-/merge_requests) with your solutions.*"
   ]
  },
  {
   "cell_type": "markdown",
   "id": "b5b9eece",
   "metadata": {},
   "source": [
    "## Part a (pen and paper warm up)"
   ]
  },
  {
   "cell_type": "markdown",
   "id": "ad21f03e",
   "metadata": {},
   "source": [
    "### 1. LU factorisation\n",
    "Use LU factorisation to solve the linear system of equations given by\n",
    "\n",
    "   $$\n",
    "   \\begin{pmatrix}\n",
    "   4 & -1 & -1 \\\\ 2 & 4 & 2 \\\\ 1 & 2 & 4\n",
    "   \\end{pmatrix}\n",
    "   \\begin{pmatrix}\n",
    "   x_1 \\\\ x_2 \\\\ x_3\n",
    "   \\end{pmatrix} =\n",
    "   \\begin{pmatrix}\n",
    "   9 \\\\ -6 \\\\ 3\n",
    "   \\end{pmatrix}.\n",
    "   $$\n",
    "\n",
    "\n",
    "### 2. Jacobi iteration\n",
    "Rewrite the Jacobi iteration as:\n",
    "$$\n",
    "\\vec{x}^{(k+1)} = D^{-1} \\vec{b} - D^{-1}(L+U) \\vec{x}^{(k)},\n",
    "$$\n",
    "or\n",
    "$$\n",
    "\\vec{x}^{(k+1)} = \\vec{p} - P \\vec{x}^{(k)},\n",
    "$$\n",
    "with $P=D^{-1}(L+U)$ and $\\vec{p}=D^{-1} \\vec{b}$, which facilitates computing and coding. Apply the above Jacobi iteration to the following linear system of equations. Take three iterations starting from an initial guess $(0, 0)^T$.\n",
    "\n",
    "   $$\n",
    "   \\begin{pmatrix}\n",
    "   2 & 1 \\\\ \n",
    "   1 & 2 \n",
    "   \\end{pmatrix}\n",
    "   \\begin{pmatrix}\n",
    "   x_1 \\\\ \n",
    "   x_2 \n",
    "   \\end{pmatrix} =\n",
    "   \\begin{pmatrix}\n",
    "    3 \\\\ 3 \n",
    "   \\end{pmatrix}. \n",
    "   $$\n",
    "Note that the exact solution is $(1,1)^T$. If we want to reduce the error -- $ \\|\\text{exact solution }- \\text{approximated solution}\\|$, less than 0.1, how many iterations do we need? what is the corresponding residual?\n",
    "\n",
    "### 3. Gauss-Seidel iteration\n",
    "Apply Gauss-Seidel iteration to the above equations, and take three iterations and check whether it gives you more accurate approximation than Jacobi iteration -- all you need to do is to update $(x_1, x_2)$ in terms of components, i.e.: update $x_1$ first, then update $x_2$ using your new $x_1$.\n"
   ]
  },
  {
   "cell_type": "markdown",
   "id": "c8b649fb",
   "metadata": {},
   "source": [
    "## Part b (code implementations and testing)"
   ]
  },
  {
   "cell_type": "markdown",
   "id": "7eb5fc35",
   "metadata": {},
   "source": [
    "### 4. Implement Gauss-Seidel iteration and  Jacobi iteration"
   ]
  },
  {
   "cell_type": "markdown",
   "id": "42f266c5",
   "metadata": {},
   "source": [
    "Notice the only difference between Gauss-Seidel iteration and Jacobi iteration is that the former updates vector $\\vec{x}$ component by component, while latter updates vector $\\vec{x}$ as a whole."
   ]
  },
  {
   "cell_type": "code",
   "execution_count": 1,
   "id": "f8973dc6",
   "metadata": {},
   "outputs": [],
   "source": [
    "import numpy as np"
   ]
  },
  {
   "cell_type": "code",
   "execution_count": 2,
   "id": "c74b28b7",
   "metadata": {},
   "outputs": [],
   "source": [
    "def Guass_Seidel_iteration(A, b, max_iteration):\n",
    "    # To ensure that arrays are stored in double precision.\n",
    "    A = A.astype(np.float64)\n",
    "    b = b.astype(np.float64)\n",
    "\n",
    "    n=len(b) # dimensions of the linear system of equations\n",
    "        \n",
    "    for i in range(n):\n",
    "        if np.abs(A[i,i])<1.e-15 :\n",
    "            print('Diagonal element (%f %f)is zero!' % (i,i))\n",
    "            return\n",
    "        \n",
    "    P=np.zeros([n,n])    # matrix P = D^{-1}(L+U)\n",
    "    p=np.zeros(n)        # vector p = D^{-1} b\n",
    "    for i in range(n):\n",
    "        p[i]=b[i]/A[i,i] \n",
    "        for j in range(n):\n",
    "             P[i,j] = A[i,j]/A[i,i]\n",
    "                  \n",
    "        P[i,i] = 0\n",
    "        \n",
    "    \n",
    "    #create a new array to store the results, initialised as zero\n",
    "    x = np.zeros(n)\n",
    "    for it in range(max_iteration):\n",
    "        for i in range(n):\n",
    "            x[i]=p[i]\n",
    "            for j in range(n):     \n",
    "                x[i] = x[i] - P[i,j]*x[j]   \n",
    "        \n",
    "    return x"
   ]
  },
  {
   "cell_type": "code",
   "execution_count": 3,
   "id": "e79d4787",
   "metadata": {},
   "outputs": [],
   "source": [
    "def Jacobi_iteration(A, b, max_iteration):\n",
    "    # To ensure that arrays are stored in double precision.\n",
    "    A = A.astype(np.float64)\n",
    "    b = b.astype(np.float64)\n",
    "\n",
    "    n=len(b) # dimensions of the linear system of equations\n",
    "        \n",
    "    for i in range(n):\n",
    "        if np.abs(A[i,i])<1.e-15 :\n",
    "            print('Diagonal element (%f %f)is zero!' % (i,i))\n",
    "            return\n",
    "        \n",
    "    P=np.zeros([n,n])    # matrix P = D^{-1}(L+U)\n",
    "    p=np.zeros(n)        # vector p = D^{-1} b\n",
    "    for i in range(n):\n",
    "        p[i]=b[i]/A[i,i] \n",
    "        for j in range(n):\n",
    "             P[i,j] = A[i,j]/A[i,i]\n",
    "                  \n",
    "        P[i,i] = 0\n",
    "        \n",
    "    \n",
    "    #create a new array to store the results, initialised as zero\n",
    "    '''\n",
    "    x = np.zeros(n)\n",
    "    for i in range(max_iteration):\n",
    "        x = p - P.dot(x)\n",
    "    '''\n",
    "    x = np.zeros(n)\n",
    "    for it in range(max_iteration):\n",
    "        for i in range(n):\n",
    "            b[i]=p[i]\n",
    "            for j in range(n):     \n",
    "                b[i] = b[i] - P[i,j]*x[j]        \n",
    "        x=b.copy()\n",
    "        \n",
    "    return x"
   ]
  },
  {
   "cell_type": "markdown",
   "id": "5653c535",
   "metadata": {},
   "source": [
    "### 5. Test your iterative methods"
   ]
  },
  {
   "cell_type": "code",
   "execution_count": 4,
   "id": "53f5e063",
   "metadata": {
    "scrolled": true
   },
   "outputs": [
    {
     "name": "stdout",
     "output_type": "stream",
     "text": [
      "Solution by numpy solver: [1. 1.]\n",
      "Solution by Jacobi iteration:  [0.984375  1.0078125]\n",
      "Error:  [-0.015625   0.0078125]\n",
      "Residual:  [-0.0234375  0.       ]\n",
      "Solution by Guass Seidel iteration:  [1.0078125  0.99609375]\n",
      "Error:  [ 0.0078125  -0.00390625]\n",
      "Residual:  [0.01171875 0.        ]\n"
     ]
    }
   ],
   "source": [
    "# Test different linear solvers starting from the above two-dimensional linear system\n",
    "A = np.array([[2, 1], [1, 2]])\n",
    "b = np.array([3, 3])\n",
    "x_exact = np.array([1,1])\n",
    "\n",
    "# numpy linear solver\n",
    "x0 = np.linalg.solve(A,b)\n",
    "print(\"Solution by numpy solver:\", x0)\n",
    "\n",
    "x = Jacobi_iteration(A, b, 4)\n",
    "print(\"Solution by Jacobi iteration: \",x)\n",
    "print(\"Error: \", x - x_exact)\n",
    "print(\"Residual: \", np.matmul(A,x)-b)\n",
    "\n",
    "x = Guass_Seidel_iteration(A, b, 4)\n",
    "print(\"Solution by Guass Seidel iteration: \",x)\n",
    "print(\"Error: \", x - x_exact)\n",
    "print(\"Residual: \", np.matmul(A,x)-b)"
   ]
  },
  {
   "cell_type": "code",
   "execution_count": 5,
   "id": "27a741d3",
   "metadata": {},
   "outputs": [
    {
     "name": "stdout",
     "output_type": "stream",
     "text": [
      "Solution by numpy solver: [0.9244595  0.31826746 0.15668124 0.14340388]\n",
      "Solution by Jacobi iteration:  [0.9244595  0.31826746 0.15668124 0.14340388]\n",
      "Residual:  [5.90052451e-11 3.31645822e-11 7.17648163e-12 0.00000000e+00]\n",
      "Solution by Guass Seidel iteration:  [0.9244595  0.31826746 0.15668124 0.14340388]\n",
      "Residual:  [6.37108144e-11 3.58131302e-11 7.74846853e-12 0.00000000e+00]\n"
     ]
    }
   ],
   "source": [
    "A = np.array([[-10, 2, 0, 67], [-2, 50, -77, 1.e-5], [1, 7, 30, 8], [-10, -7, 0.001, 80]])\n",
    "b = np.array([1, 2, 9, 0])\n",
    "\n",
    "# numpy linear solvers\n",
    "x0 = np.linalg.solve(A,b)\n",
    "#x0 = np.linalg.inv(A).dot(b)\n",
    "print(\"Solution by numpy solver:\", x0)\n",
    "\n",
    "x = Jacobi_iteration(A, b, 100)\n",
    "print(\"Solution by Jacobi iteration: \",x)\n",
    "print(\"Residual: \", np.matmul(A,x)-b)\n",
    "\n",
    "x = Guass_Seidel_iteration(A, b, 100)\n",
    "print(\"Solution by Guass Seidel iteration: \",x)\n",
    "print(\"Residual: \", np.matmul(A,x)-b)"
   ]
  },
  {
   "cell_type": "code",
   "execution_count": 6,
   "id": "94aeaffd",
   "metadata": {},
   "outputs": [
    {
     "name": "stdout",
     "output_type": "stream",
     "text": [
      "Solution by numpy solver: [ 0.00942184  0.03138309  0.07503168  0.02636373  0.08085662  0.06848033\n",
      "  0.06765081  0.02755309  0.05819485  0.01942784  0.03255753  0.05657507\n",
      "  0.02496764 -0.0061455  -0.0132695   0.05705425  0.01027244  0.02095097\n",
      " -0.00075671  0.01539811]\n",
      "Solution by Jacobi iteration:  [ 0.00942184  0.03138309  0.07503168  0.02636373  0.08085662  0.06848033\n",
      "  0.06765081  0.02755309  0.05819485  0.01942784  0.03255753  0.05657507\n",
      "  0.02496764 -0.0061455  -0.0132695   0.05705425  0.01027244  0.02095097\n",
      " -0.00075671  0.01539811]\n",
      "Residual:  [ 0.00000000e+00 -5.55111512e-17 -1.11022302e-16 -5.55111512e-17\n",
      "  1.11022302e-16  1.11022302e-16  0.00000000e+00  1.11022302e-16\n",
      "  3.33066907e-16  5.55111512e-17 -1.66533454e-16 -1.11022302e-16\n",
      "  5.55111512e-17 -2.77555756e-17  0.00000000e+00  0.00000000e+00\n",
      "  0.00000000e+00 -5.55111512e-17  0.00000000e+00  5.55111512e-17]\n",
      "Solution by Guass Seidel iteration:  [ 0.00942184  0.03138309  0.07503168  0.02636373  0.08085662  0.06848033\n",
      "  0.06765081  0.02755309  0.05819485  0.01942784  0.03255753  0.05657507\n",
      "  0.02496764 -0.0061455  -0.0132695   0.05705425  0.01027244  0.02095097\n",
      " -0.00075671  0.01539811]\n",
      "Residual:  [ 0.00000000e+00 -5.55111512e-17 -1.11022302e-16 -5.55111512e-17\n",
      "  1.11022302e-16  1.11022302e-16  0.00000000e+00  1.11022302e-16\n",
      "  3.33066907e-16  5.55111512e-17 -1.66533454e-16 -1.11022302e-16\n",
      "  5.55111512e-17 -2.77555756e-17  0.00000000e+00  0.00000000e+00\n",
      "  0.00000000e+00 -5.55111512e-17  0.00000000e+00  5.55111512e-17]\n"
     ]
    }
   ],
   "source": [
    "n=20\n",
    "B = np.random.rand(n, n)\n",
    "eps = 10\n",
    "A = eps * np.eye(n) + B * B.T\n",
    "b = np.random.rand(n)\n",
    "\n",
    "# numpy linear solvers\n",
    "x0 = np.linalg.solve(A,b)\n",
    "#x0 = np.linalg.inv(A).dot(b)\n",
    "print(\"Solution by numpy solver:\", x0)\n",
    "\n",
    "x = Jacobi_iteration(A, b, 100)\n",
    "print(\"Solution by Jacobi iteration: \",x)\n",
    "print(\"Residual: \", np.matmul(A,x)-b)\n",
    "\n",
    "x = Guass_Seidel_iteration(A, b, 100)\n",
    "print(\"Solution by Guass Seidel iteration: \",x)\n",
    "print(\"Residual: \", np.matmul(A,x)-b)"
   ]
  },
  {
   "cell_type": "markdown",
   "id": "9e87d5cd",
   "metadata": {},
   "source": [
    "## Part c: Extension\n"
   ]
  },
  {
   "cell_type": "markdown",
   "id": "ff89a87e",
   "metadata": {},
   "source": [
    "### 6. Convergence\n",
    "For the following iteration formulas:\n",
    "$$\n",
    "\\vec{x}^{(k+1)} = \n",
    "\\begin{pmatrix}\n",
    "3  \\\\ \n",
    "1  \n",
    "\\end{pmatrix} \n",
    "-\n",
    "\\begin{pmatrix}\n",
    " 2 & 0 \\\\ \n",
    "0 & 2 \n",
    "\\end{pmatrix} \n",
    "\\vec{x}^{(k)},\n",
    "$$\n",
    "$$\n",
    "\\vec{x}^{(k+1)} = \n",
    "\\begin{pmatrix}\n",
    "3  \\\\ \n",
    "1  \n",
    "\\end{pmatrix} \n",
    "-\n",
    "\\begin{pmatrix}\n",
    "1 & 0 \\\\ \n",
    "0 & 1 \n",
    "\\end{pmatrix} \n",
    "\\vec{x}^{(k)}.\n",
    "$$\n",
    "and\n",
    "$$\n",
    "\\vec{x}^{(k+1)} = \n",
    "\\begin{pmatrix}\n",
    "3  \\\\ \n",
    "1  \n",
    "\\end{pmatrix} \n",
    "-\n",
    "\\begin{pmatrix}\n",
    "1/2 & 0 \\\\ \n",
    "0 & 1/2 \n",
    "\\end{pmatrix} \n",
    "\\vec{x}^{(k)}.\n",
    "$$\n",
    "\n",
    "- Take two or three iterations from an arbitrary initial guess. Do you think which iteration can converge?\n",
    "- Do you think the convergence of Jacobi iteration is completely determined by the properties of matrix $P$?\n",
    "- Wikipedia: <a href=\"https://en.wikipedia.org/wiki/Eigenvalues_and_eigenvectors\">Eigenvaluesdecomposition</a> is the right tool to decompose a matrix to diagonal matrix, which allows us to analyse the convergence of an iteration method but is beyond the scope of this module."
   ]
  }
 ],
 "metadata": {
  "kernelspec": {
   "display_name": "Python 3 (ipykernel)",
   "language": "python",
   "name": "python3"
  },
  "language_info": {
   "codemirror_mode": {
    "name": "ipython",
    "version": 3
   },
   "file_extension": ".py",
   "mimetype": "text/x-python",
   "name": "python",
   "nbconvert_exporter": "python",
   "pygments_lexer": "ipython3",
   "version": "3.10.6"
  }
 },
 "nbformat": 4,
 "nbformat_minor": 5
}
