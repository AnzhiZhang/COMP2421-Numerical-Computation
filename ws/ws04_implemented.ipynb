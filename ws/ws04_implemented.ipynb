{
 "cells": [
  {
   "cell_type": "markdown",
   "id": "91ddd5cb",
   "metadata": {},
   "source": [
    "# WS04: LU Factorisation and iterative methods - partial solutions"
   ]
  },
  {
   "cell_type": "markdown",
   "id": "4e50cf88",
   "metadata": {},
   "source": [
    "These exercises are indented to give you practice at using the material on numerical approximation and are intended to reinforce the material that was covered in lectures.\n",
    "\n",
    "Please attempt the worksheet before your tutorial. Support is available in your tutorial or in the Class Team."
   ]
  },
  {
   "cell_type": "markdown",
   "id": "c40dc40c",
   "metadata": {},
   "source": [
    "*These are partial solutions. Please create [Issues](https://gitlab.com/comp2421-numerical-computation/book/-/issues) and [Merge requests](https://gitlab.com/comp2421-numerical-computation/book/-/merge_requests) with your solutions or share your answers for peer feedback in the class team [Worksheet solutions channel](https://teams.microsoft.com/l/channel/19%3a43e9bb00fad04d8d8c85399b694657f4%40thread.tacv2/Worksheet%2520solutions?groupId=54035a7f-8376-45f0-b7b8-d4fac9d5ab54&tenantId=bdeaeda8-c81d-45ce-863e-5232a535b7cb)*"
   ]
  },
  {
   "cell_type": "markdown",
   "id": "75afe665",
   "metadata": {},
   "source": [
    "## Part a (pen and paper warm up)"
   ]
  },
  {
   "cell_type": "markdown",
   "id": "f6db8414",
   "metadata": {},
   "source": [
    "### 1. LU factorisation\n",
    "Use LU factorisation to solve the linear system of equations given by\n",
    "\n",
    "   $$\n",
    "   \\begin{pmatrix}\n",
    "   4 & -1 & -1 \\\\ 2 & 4 & 2 \\\\ 1 & 2 & 4\n",
    "   \\end{pmatrix}\n",
    "   \\begin{pmatrix}\n",
    "   x_1 \\\\ x_2 \\\\ x_3\n",
    "   \\end{pmatrix} =\n",
    "   \\begin{pmatrix}\n",
    "   9 \\\\ -6 \\\\ 3\n",
    "   \\end{pmatrix}.\n",
    "   $$\n",
    "\n",
    "\n",
    "### 2. Jacobi iteration\n",
    "Rewrite the Jacobi iteration as:\n",
    "\n",
    "$$\n",
    "\\vec{x}^{(k+1)} = D^{-1} \\vec{b} - D^{-1}(L+U) \\vec{x}^{(k)},\n",
    "$$\n",
    "\n",
    "or\n",
    "\n",
    "$$\n",
    "\\vec{x}^{(k+1)} = \\vec{p} - P \\vec{x}^{(k)},\n",
    "$$\n",
    "\n",
    "with $P=D^{-1}(L+U)$ and $\\vec{p}=D^{-1} \\vec{b}$, which facilitates computing and coding. Apply the above Jacobi iteration to the following linear system of equations. Take three iterations starting from an initial guess $(0, 0)^T$.\n",
    "\n",
    "   $$\n",
    "   \\begin{pmatrix}\n",
    "   2 & 1 \\\\ \n",
    "   1 & 2 \n",
    "   \\end{pmatrix}\n",
    "   \\begin{pmatrix}\n",
    "   x_1 \\\\ \n",
    "   x_2 \n",
    "   \\end{pmatrix} =\n",
    "   \\begin{pmatrix}\n",
    "    3 \\\\ 3 \n",
    "   \\end{pmatrix}. \n",
    "   $$\n",
    "Note that the exact solution is $(1,1)^T$. If we want to reduce the error -- $ \\|\\text{exact solution }- \\text{approximated solution}\\|$, less than 0.1, how many iterations do we need? what is the corresponding residual?\n",
    "\n",
    "### 3. Gauss-Seidel iteration\n",
    "Apply Gauss-Seidel iteration to the above equations, and take three iterations and check whether it gives you more accurate approximation than Jacobi iteration -- all you need to do is to update $(x_1, x_2)$ in terms of components, i.e.: update $x_1$ first, then update $x_2$ using your new $x_1$."
   ]
  },
  {
   "cell_type": "markdown",
   "id": "6de35ac1",
   "metadata": {},
   "source": [
    "## Part b (code implementations and testing)"
   ]
  },
  {
   "cell_type": "markdown",
   "id": "078f3621",
   "metadata": {},
   "source": [
    "### 4. Implement Gauss-Seidel iteration and  Jacobi iteration"
   ]
  },
  {
   "cell_type": "markdown",
   "id": "d676c2b8",
   "metadata": {},
   "source": [
    "Notice the only difference between Gauss-Seidel iteration and Jacobi iteration is that the former updates vector $\\vec{x}$ component by component, while latter updates vector $\\vec{x}$ as a whole."
   ]
  },
  {
   "cell_type": "code",
   "execution_count": null,
   "id": "d0dd7d1f",
   "metadata": {},
   "outputs": [],
   "source": [
    "import numpy as np\n",
    "\n",
    "# import triangular solvers from previous workbook\n",
    "%run ws03_implemented.ipynb"
   ]
  },
  {
   "cell_type": "code",
   "execution_count": null,
   "id": "66166ecf",
   "metadata": {},
   "outputs": [],
   "source": [
    "def Jacobi_iteration(A, b, max_iteration, x0=None):\n",
    "    # we should take care to ensure that arrays are stored with the correct type - float!\n",
    "    A = A.astype(np.float64)\n",
    "    b = b.astype(np.float64)\n",
    "\n",
    "    # check sizes of A and b match appropriately\n",
    "    nb = len(b)\n",
    "    n, m = A.shape\n",
    "    if n != m:\n",
    "        raise ValueError(f\"A is not a square matrix! {A.shape=}\")\n",
    "    if n != nb:\n",
    "        raise ValueError(f\"shapes of A and b do not match! {A.shape=} {b.shape=}\")\n",
    "\n",
    "    # check diagonal is non zero\n",
    "    for i in range(n):\n",
    "        if np.isclose(A[i, i], 0):\n",
    "            raise ValueError(f\"A[{i}, {i}] is zero\")\n",
    "\n",
    "    # construct iteration matrices\n",
    "    P = np.zeros([n, n])  # matrix P = D^{-1}(L+U)\n",
    "    p = np.zeros(n)  # vector p = D^{-1} b\n",
    "    for i in range(n):\n",
    "        p[i] = b[i] / A[i, i]\n",
    "        for j in range(n):\n",
    "            P[i, j] = A[i, j] / A[i, i]\n",
    "        P[i, i] = 0\n",
    "\n",
    "    # create a new array to store the results, initialised as zero\n",
    "    if x0 is None:\n",
    "        x = np.zeros_like(b)\n",
    "    else:\n",
    "        x = x0.copy()\n",
    "\n",
    "    # perform iteration x <- p - P * x\n",
    "    for it in range(max_iteration):\n",
    "        xnew = np.empty_like(x)\n",
    "        for i in range(n):\n",
    "            xnew[i] = p[i]\n",
    "            for j in range(n):\n",
    "                xnew[i] -= P[i, j] * x[j]\n",
    "        x = xnew.copy()\n",
    "\n",
    "    return x"
   ]
  },
  {
   "cell_type": "code",
   "execution_count": null,
   "id": "b0e64ba0",
   "metadata": {},
   "outputs": [],
   "source": [
    "def Gauss_Seidel_iteration(A, b, max_iteration, x0=None):\n",
    "    # we should take care to ensure that arrays are stored with the correct type - float!\n",
    "    A = A.astype(np.float64)\n",
    "    b = b.astype(np.float64)\n",
<<<<<<< HEAD
    "\n",
=======
    "    if x0 is not None:\n",
    "        x0 = x0.astype(np.float64)\n",
    "     \n",
>>>>>>> master
    "    # check sizes of A and b match appropriately\n",
    "    nb = len(b)\n",
    "    n, m = A.shape\n",
    "    if n != m:\n",
    "        raise ValueError(f\"A is not a square matrix! {A.shape=}\")\n",
    "    if n != nb:\n",
    "        raise ValueError(f\"shapes of A and b do not match! {A.shape=} {b.shape=}\")\n",
    "\n",
    "    for i in range(n):\n",
    "        if np.isclose(A[i, i], 0):\n",
    "            raise ValueError(f\"A[{i}, {i}] is zero\")\n",
    "\n",
    "    # do not construct iteration matrices explicitly\n",
    "    LD = np.zeros_like(A)\n",
    "    U = np.zeros_like(A)\n",
    "    for i in range(n):\n",
    "        for j in range(n):\n",
    "            if i < j:\n",
    "                U[i, j] = A[i, j]\n",
    "            else:\n",
    "                LD[i, j] = A[i, j]\n",
    "\n",
    "    # p = (L + D)^{-1} b --> found by solving triangular system\n",
    "    # (L + D) p = b\n",
    "    p = lower_triangular_solve(LD, b)\n",
    "\n",
    "    # create a new array to store the results, initialised as zero\n",
    "    if x0 is None:\n",
    "        x = np.zeros_like(b)\n",
    "    else:\n",
    "        x = x0.copy()\n",
<<<<<<< HEAD
    "\n",
    "    # perform iteration x <- p - P * x\n",
    "    # (L+D)(xnew - p) = U*x\n",
=======
    "        \n",
    "    # perform iteration x <- p - ( P * (U * x) )\n",
    "    # (L+D)(xnew - p) = -U*x\n",
>>>>>>> master
    "    Ux = np.empty_like(x)\n",
    "    for it in range(max_iteration):\n",
    "        for i in range(n):\n",
    "            Ux[i] = 0.0\n",
    "            for j in range(i + 1, n):\n",
    "                Ux[i] += U[i, j] * x[j]\n",
    "\n",
    "        Px = lower_triangular_solve(LD, Ux)\n",
    "        x = p - Px\n",
    "\n",
    "    return x"
   ]
  },
  {
   "cell_type": "markdown",
   "id": "63e7b4d9",
   "metadata": {},
   "source": [
    "### 5. Test your iterative methods"
   ]
  },
  {
   "cell_type": "code",
   "execution_count": null,
   "id": "ec36856e",
   "metadata": {},
   "outputs": [],
   "source": [
    "# Test different linear solvers starting from the above two-dimensional linear system\n",
    "A = np.array([[2, 1], [1, 2]])\n",
    "b = np.array([3, 3])\n",
    "x_exact = np.array([1, 1])\n",
    "\n",
    "# numpy linear solver\n",
    "x0 = np.linalg.solve(A, b)\n",
    "print(\"Solution by numpy solver:\", x0)\n",
    "\n",
    "x = Jacobi_iteration(A, b, 4)\n",
    "print(\"Solution by Jacobi iteration: \", x)\n",
    "print(\"Error: \", x - x_exact)\n",
    "print(\"Residual: \", np.matmul(A, x) - b)\n",
    "\n",
    "x = Gauss_Seidel_iteration(A, b, 4)\n",
    "print(\"Solution by Gauss Seidel iteration: \", x)\n",
    "print(\"Error: \", x - x_exact)\n",
    "print(\"Residual: \", np.matmul(A, x) - b)\n",
    "\n",
    "# Note we do not expect these values to be very small for small numbers of iterations!"
   ]
  },
  {
   "cell_type": "code",
   "execution_count": null,
   "id": "76228098",
   "metadata": {},
   "outputs": [],
   "source": [
    "A = np.array(\n",
    "    [[-10, 2, 0, 67], [-2, 50, -77, 1.0e-5], [1, 7, 30, 8], [-10, -7, 0.001, 80]]\n",
    ")\n",
    "b = np.array([1, 2, 9, 0])\n",
    "\n",
    "# numpy linear solvers\n",
    "x0 = np.linalg.solve(A, b)\n",
    "# x0 = np.linalg.inv(A).dot(b)\n",
    "print(\"Solution by numpy solver:\", x0)\n",
    "\n",
    "x = Jacobi_iteration(A, b, 100)\n",
    "print(\"Solution by Jacobi iteration: \", x)\n",
    "print(\"Residual: \", np.matmul(A, x) - b)\n",
    "# larger tolerance needed since the convergence is slower!\n",
    "np.testing.assert_allclose(x, x0, rtol=1.0e-4)\n",
    "\n",
    "x = Gauss_Seidel_iteration(A, b, 100)\n",
    "print(\"Solution by Gauss Seidel iteration: \", x)\n",
    "print(\"Residual: \", np.matmul(A, x) - b)\n",
    "np.testing.assert_allclose(x, x0)"
   ]
  },
  {
   "cell_type": "code",
   "execution_count": null,
   "id": "6b65d388",
   "metadata": {},
   "outputs": [],
   "source": [
    "n = 20\n",
    "B = np.random.rand(n, n)\n",
    "eps = 10\n",
    "A = eps * np.eye(n) + B * B.T\n",
    "b = np.random.rand(n)\n",
    "\n",
    "# numpy linear solvers\n",
    "x0 = np.linalg.solve(A, b)\n",
    "# x0 = np.linalg.inv(A).dot(b)\n",
    "print(\"Solution by numpy solver:\", x0)\n",
    "\n",
    "x = Jacobi_iteration(A, b, 100)\n",
    "print(\"Solution by Jacobi iteration: \", x)\n",
    "print(\"Residual: \", np.matmul(A, x) - b)\n",
    "np.testing.assert_allclose(x, x0)\n",
    "\n",
    "x = Gauss_Seidel_iteration(A, b, 100)\n",
    "print(\"Solution by Gauss Seidel iteration: \", x)\n",
    "print(\"Residual: \", np.matmul(A, x) - b)\n",
    "np.testing.assert_allclose(x, x0)"
   ]
  },
  {
   "cell_type": "markdown",
   "id": "0aafd48e",
   "metadata": {},
   "source": [
    "## Part c: Extension"
   ]
  },
  {
   "cell_type": "markdown",
   "id": "0671ff74",
   "metadata": {},
   "source": [
    "### 6. Convergence\n",
    "For the following iteration formulas:\n",
    "\n",
    "$$\n",
    "\\begin{aligned}\n",
    "\\vec{x}^{(k+1)} & = \n",
    "\\begin{pmatrix}\n",
    "3  \\\\ \n",
    "1  \n",
    "\\end{pmatrix} \n",
    "-\n",
    "\\begin{pmatrix}\n",
    " 2 & 0 \\\\ \n",
    "0 & 2 \n",
    "\\end{pmatrix} \n",
    "\\vec{x}^{(k)}, \\\\\n",
    "\\vec{x}^{(k+1)} & = \n",
    "\\begin{pmatrix}\n",
    "3  \\\\ \n",
    "1  \n",
    "\\end{pmatrix} \n",
    "-\n",
    "\\begin{pmatrix}\n",
    "1 & 0 \\\\ \n",
    "0 & 1 \n",
    "\\end{pmatrix} \n",
    "\\vec{x}^{(k)}, \\\\\n",
    "\\vec{x}^{(k+1)} & = \n",
    "\\begin{pmatrix}\n",
    "3  \\\\ \n",
    "1  \n",
    "\\end{pmatrix} \n",
    "-\n",
    "\\begin{pmatrix}\n",
    "1/2 & 0 \\\\ \n",
    "0 & 1/2 \n",
    "\\end{pmatrix} \n",
    "\\vec{x}^{(k)}.\n",
    "\\end{aligned}\n",
    "$$\n",
    "\n",
    "- Take two or three iterations from an arbitrary initial guess. Do you think which iteration can converge?\n",
    "- Do you think the convergence of Jacobi iteration is completely determined by the properties of matrix $P$?\n",
    "- Wikipedia: <a href=\"https://en.wikipedia.org/wiki/Eigenvalues_and_eigenvectors\">Eigenvaluesdecomposition</a> is the right tool to decompose a matrix to diagonal matrix, which allows us to analyse the convergence of an iteration method but is beyond the scope of this module."
   ]
  }
 ],
 "metadata": {
  "kernelspec": {
   "display_name": "comp2421-book",
   "language": "python",
   "name": "python3"
  },
  "language_info": {
   "codemirror_mode": {
    "name": "ipython",
    "version": 3
   },
   "file_extension": ".py",
   "mimetype": "text/x-python",
   "name": "python",
   "nbconvert_exporter": "python",
   "pygments_lexer": "ipython3",
   "version": "3.8.15"
  },
  "vscode": {
   "interpreter": {
    "hash": "eea41596d7b0371225eaf230a8b68ad86e97de11c09d11c3626170ed88653fe8"
   }
  }
 },
 "nbformat": 4,
 "nbformat_minor": 5
}
