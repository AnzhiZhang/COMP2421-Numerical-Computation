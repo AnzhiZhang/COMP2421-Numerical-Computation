{
 "cells": [
  {
   "cell_type": "markdown",
   "id": "962ecddc",
   "metadata": {},
   "source": [
    "# WS06: Derivatives and Euler’s method"
   ]
  },
  {
   "cell_type": "markdown",
   "id": "6eece630",
   "metadata": {},
   "source": [
    "These exercises are indented to give you practice at using the material on numerical approximation and are intended to reinforce the material that was covered in lectures.\n",
    "\n",
    "Please attempt the worksheet before your tutorial. Support is available in your tutorial or in the Class Team."
   ]
  },
  {
   "cell_type": "markdown",
   "id": "b5b9eece",
   "metadata": {},
   "source": [
    "## Part a (pen and paper warm up)"
   ]
  },
  {
   "cell_type": "markdown",
   "id": "ad21f03e",
   "metadata": {},
   "source": [
    "### 1. interpretation of derivatives: speed = rate of change of displacement\n",
    "Say you spent $1$ hour and walked $3$ miles, after another hour (2 hours later) and you walked $5$ miles in total, and 3 hours later you walked $6$ miles in total... generally you may spend $t$ hours and walk $d$ miles (called your displacement). Abstractly or mathematically, displacement $d$ can be expressed as a function of $t$: $d = d(t)$.\n",
    "\n",
    "Your walking speed is the rate of change of ______?.\n",
    "\n",
    "Your walking speed $s$ is also a function of time $t$, denoted by $s = s(t)$. How do you compute the rate of change of speed? What is its physical meaning?\n",
    "\n",
    "### 2. Compute the derivative by definition\n",
    " Definition of derivative of a function $d(t)$ at $t=t_0$:\n",
    " \n",
    " $$\n",
    " d^\\prime(t_0) = \\lim_{\\Delta t\\to 0} \\frac{d(t_0+\\Delta t) - d(t)}{\\Delta t}.\n",
    " $$\n",
    " \n",
    "If we know the general relation between $t$ and $d$, say $d(t) = -t^2+t+1$, can you compute $d^\\prime(1)$?\n",
    "\n",
    "\n",
    "### 3. Approximation of  derivatives\n",
    "If we do NOT know the general relation between $t$ and $d$, but we know\n",
    "\n",
    "$$\n",
    "d(1) = 1 \\quad\\text{and}\\quad  d(1+0.01) = 0.9899,\n",
    "$$\n",
    "\n",
    "can you approximate $d^\\prime(1)$ using the definition of derivative?\n",
    "\n",
    "\n",
    "### 4. Differential equation (Euler's method)\n",
    "If we do NOT know the general relation between $t$ and $d$, but we know\n",
    "\n",
    "$$\n",
    "d^\\prime(t) = t^2 -3t + d\n",
    "$$\n",
    "\n",
    "- Use your idea for question 3 and the definition of derivative, given an arbitrary $\\Delta t$, to approximate $d^\\prime(t)$ in this differential equation. What you get is just the Euler's formula.\n",
    "- let $\\Delta t = 0.01$, and $d(0) =1$, use Euler's method to compute $d(0.01)$ and $d(0.02)$."
   ]
  },
  {
   "cell_type": "markdown",
   "id": "c8b649fb",
   "metadata": {},
   "source": [
    "## Part b (code implementations and testing)"
   ]
  },
  {
   "cell_type": "markdown",
   "id": "fcdee89c",
   "metadata": {},
   "source": [
    "### 5. Implement Euler's method\n",
    "\n",
    "For the same problem in Q4, compute all these 100 function values: $d(0.01)$, $d(0.02)$, $d(0.03)$ ... $d(1.00)$."
   ]
  },
  {
   "cell_type": "code",
   "execution_count": null,
   "id": "f8973dc6",
   "metadata": {},
   "outputs": [],
   "source": [
    "import numpy as np"
   ]
  },
  {
   "cell_type": "code",
   "execution_count": null,
   "id": "c74b28b7",
   "metadata": {},
   "outputs": [],
   "source": [
    "def Euler_method(t0, d0, dt, n):\n",
    "    '''\n",
    "    Input:    inital value d0, time setp dt, and total computational steps n\n",
    "    Output:   array d(n+1) with d[0] = d0, d[1] = d(0.01), d[2]=d(0.01) ... d[100] = d(1.00)\n",
    "    '''\n",
    "    d = np.zeros(n+1)\n",
    "    d[0] = d0\n",
    "\n",
    "    t = np.zeros(n+1)\n",
    "    for i in range(n+1):\n",
    "        t[i] = t0 + i*dt\n",
    "    \n",
    "    '''\n",
    "    Add a loop to compute d[1] to d[100] using Euler's method\n",
    "    '''\n",
    "                                       \n",
    "    return t, d"
   ]
  },
  {
   "cell_type": "markdown",
   "id": "75dddd69",
   "metadata": {},
   "source": [
    "### 6. Test your implementation\n",
    "\n",
    "Use the example in Q4 to test your implementation and compare with the exact solution: $d(t) = -t^2 +t +1$"
   ]
  },
  {
   "cell_type": "code",
   "execution_count": null,
   "id": "27a741d3",
   "metadata": {},
   "outputs": [],
   "source": [
    "# The right-hand side function of the differential equation\n",
    "def f(t, d):\n",
    "    return t*t - 3.0*t + d\n",
    "\n",
    "# The exact solution of the differential equation\n",
    "def d_exact(t):\n",
    "    return -t*t + t + 1.0\n",
    "\n",
    "t0 = float(0.0)\n",
    "d0 = float(1.0)\n",
    "dt = float(0.01)\n",
    "n = int(100)\n",
    "\n",
    "t, d = Euler_method(t0, d0, dt, n)\n",
    "\n",
    "de = np.zeros(n+1)\n",
    "for i in range(n+1):\n",
    "    de[i] = d_exact(t[i])\n",
    "    \n",
    "\n",
    "import matplotlib.pyplot as plt\n",
    "fig = plt.figure()\n",
    "plt.plot(t, d, \"-r\", label=\"Euler method\")\n",
    "plt.plot(t, de, \"-b\", label=\"Exact solution\")\n",
    "plt.legend(loc=\"upper left\")\n",
    "plt.xlabel(\"t\")\n",
    "plt.ylabel(\"d\")\n",
    "plt.grid()\n",
    "plt.show()"
   ]
  },
  {
   "cell_type": "markdown",
   "id": "792fad2b",
   "metadata": {},
   "source": [
    "## Part c: Extension\n",
    "\n",
    "Derivative is a very important concept non only in math but in all science. We interpret derivative as the rate of change of variable. For example, the derivative of displacement $d$ with respective to time is velocity $v$, and the derivative of velocity $v$ with respective to time is acceleration $a$:\n",
    "$\n",
    "d^\\prime(t) = v(t)  \\quad \\text{and} \\quad  v^\\prime(t) = a(t).\n",
    "$"
   ]
  },
  {
   "cell_type": "markdown",
   "id": "57a14c9f",
   "metadata": {},
   "source": [
    "### 7. derivative as the tangent of a curve"
   ]
  },
  {
   "cell_type": "markdown",
   "id": "dddeac6f",
   "metadata": {},
   "source": [
    "We know $y=f(x)$ can be plotted in a x-y plane as a curve. For example, $y=2x+1$ is a line and $y=x^2 + x -4$ is a parabola. Recall the definition of derivative of $f(x)$:\n",
    " $$\n",
    " f^\\prime(x_0) = \\lim_{\\Delta x\\to 0} \\frac{f(x_0+\\Delta x) - f(x)}{\\Delta x}.\n",
    " $$\n",
    " \n",
    "- Draw a curve such as $y=x^2$ on the x-y plane, say $x_0=1$, $\\Delta x=1$, so what is the meaning of \n",
    " $$\n",
    "\\frac{f(x_0+\\Delta x) - f(x)}{\\Delta x}?\n",
    " $$\n",
    "- As $\\Delta x$ becomes smaller and smaller... goes to 0, you would get the geometrical meaning of $f^\\prime(x_0)$, what's that?"
   ]
  },
  {
   "cell_type": "markdown",
   "id": "7f56538a",
   "metadata": {},
   "source": [
    "### 8. Euler's method"
   ]
  },
  {
   "cell_type": "markdown",
   "id": "a1dd451f",
   "metadata": {},
   "source": [
    "Given $f(x_0)$ at a particular point $x_0$, and the derivative $f^\\prime(x)$ everywhere, we then try to find the curve (compute $f(x)$ for all $x$)... Euler's method can do this job step by step (one iteration after another)!\n",
    "- Use the above geometrical meaning of the derivative in Q7 and think why Euler's method can do this job.\n",
    "- Comparing with the rate-of-change interpretation: given your position or displacement $d(t_0)$ at a particular time $t_0$, and your speed $d^\\prime(t)$ for all the time, how to compute your position for all the time."
   ]
  },
  {
   "cell_type": "code",
   "execution_count": null,
   "id": "f67f6232",
   "metadata": {},
   "outputs": [],
   "source": []
  }
 ],
 "metadata": {
  "kernelspec": {
   "display_name": "Python 3 (ipykernel)",
   "language": "python",
   "name": "python3"
  },
  "language_info": {
   "codemirror_mode": {
    "name": "ipython",
    "version": 3
   },
   "file_extension": ".py",
   "mimetype": "text/x-python",
   "name": "python",
   "nbconvert_exporter": "python",
   "pygments_lexer": "ipython3",
   "version": "3.7.11"
  }
 },
 "nbformat": 4,
 "nbformat_minor": 5
}
