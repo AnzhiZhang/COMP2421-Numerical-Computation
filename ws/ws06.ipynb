{
 "cells": [
  {
   "cell_type": "markdown",
   "id": "962ecddc",
   "metadata": {},
   "source": [
    "# WS06: Derivatives and Euler’s method"
   ]
  },
  {
   "cell_type": "markdown",
   "id": "6eece630",
   "metadata": {},
   "source": [
    "These exercises are indented to give you practice at using the material on numerical approximation and are intended to reinforce the material that was covered in lectures.\n",
    "\n",
    "Please attempt the worksheet before your tutorial. Support is available in your tutorial or in the Class Team."
   ]
  },
  {
   "cell_type": "markdown",
   "id": "b5b9eece",
   "metadata": {},
   "source": [
    "## Part a (pen and paper warm up)"
   ]
  },
  {
   "cell_type": "markdown",
   "id": "ad21f03e",
   "metadata": {},
   "source": [
    "### 1. interpretation of derivatives: speed = rate of change of displacement\n",
    "Say you spent $1$ hour and walked $3$ miles, after another hour (2 hours later) and you walked $5$ miles in total, and 3 hours later you walked $6$ miles in total... generally you may spend $t$ hours and walk $d$ miles (called your displacement). Abstractly or mathematically, displacement $d$ can be expressed as a function of $t$: $d = d(t)$.\n",
    "\n",
    "Your walking speed is the rate of change of ______?.\n",
    "\n",
    "Your walking speed $s$ is also a function of time $t$, denoted by $s = s(t)$. How do you compute the rate of change of speed? What is its physical meaning?\n",
    "\n",
    "### 2. Compute the derivative by definition\n",
    " Definition of derivative of a function $d(t)$ at $t=t_0$:\n",
    " \n",
    " $$\n",
    " d^\\prime(t_0) = \\lim_{\\Delta t\\to 0} \\frac{d(t_0+\\Delta t) - d(t)}{\\Delta t_0}.\n",
    " $$\n",
    " \n",
    "If we know the general relation between $t$ and $d$, say $d(t) = -t^2+t+1$, can you compute $d^\\prime(1)$?\n",
    "\n",
    "\n",
    "### 3. Approximation of  derivatives\n",
    "If we do NOT know the general relation between $t$ and $d$, but we know\n",
    "\n",
    "$$\n",
    "d(1) = 1 \\quad\\text{and}\\quad  d(1+0.01) = 0.9899,\n",
    "$$\n",
    "\n",
    "can you approximate $d^\\prime(1)$ using the definition of derivative?\n",
    "\n",
    "\n",
    "### 4. Differential equation (Euler's method)\n",
    "If we do NOT know the general relation between $t$ and $d$, but we know\n",
    "\n",
    "$$\n",
    "d^\\prime(t) = t^2 -3t + d\n",
    "$$\n",
    "\n",
    "- Use your idea for question 3 and the definition of derivative, given an arbitrary $\\Delta t$, to approximate $d^\\prime(t)$ in this differential equation. What you get is just the Euler's formula.\n",
    "- let $\\Delta t = 0.01$, and $d(0) =1$, use Euler's method to compute $d(0.01)$ and $d(0.02)$."
   ]
  },
  {
   "cell_type": "markdown",
   "id": "c8b649fb",
   "metadata": {},
   "source": [
    "## Part b (code implementations and testing)"
   ]
  },
  {
   "cell_type": "markdown",
   "id": "fcdee89c",
   "metadata": {},
   "source": [
    "### 5. Implement Euler's method\n",
    "\n",
    "For the same problem in Q4, compute all these 100 function values: $d(0.01)$, $d(0.02)$, $d(0.03)$ ... $d(1.00)$."
   ]
  },
  {
   "cell_type": "code",
   "execution_count": null,
   "id": "f8973dc6",
   "metadata": {},
   "outputs": [],
   "source": [
    "import numpy as np"
   ]
  },
  {
   "cell_type": "code",
   "execution_count": null,
   "id": "c74b28b7",
   "metadata": {},
   "outputs": [],
   "source": [
    "def Euler_method(d0, dt, n):\n",
    "    '''\n",
    "    Input:    inital value d0, time setp dt, and total computational steps n\n",
    "    Output:   array d(n+1) with d[0] = d0, d[1] = d(0.01), d[2]=d(0.01) ... d[100] = d(1.00)\n",
    "    '''\n",
    "    d = np.zeros(n+1)\n",
    "    d[0] = d0\n",
    "\n",
    "    t = np.zeros(n+1)\n",
    "    for i in range(n+1):\n",
    "        t[i] = i*dt\n",
    "    \n",
    "    '''\n",
    "    Add a loop to compute d[1] to d[100] using Euler's method\n",
    "    '''\n",
    "                                       \n",
    "    return t, d"
   ]
  },
  {
   "cell_type": "markdown",
   "id": "75dddd69",
   "metadata": {},
   "source": [
    "### 6. Test your implementation\n",
    "\n",
    "Use the example in Q4 to test your implementation and compare with the exact solution: $d(t) = -t^2 +t +1$"
   ]
  },
  {
   "cell_type": "code",
   "execution_count": null,
   "id": "27a741d3",
   "metadata": {},
   "outputs": [],
   "source": [
    "# The right-hand side function of the differential equation\n",
    "def f(t, d):\n",
    "    return t*t - 3.0*t + d\n",
    "\n",
    "# The exact solution of the differential equation\n",
    "def d_exact(t):\n",
    "    return -t*t + t + 1.0\n",
    "\n",
    "\n",
    "d0 = float(1.0)\n",
    "dt = float(0.01)\n",
    "n = int(100)\n",
    "\n",
    "t, d = Euler_method(d0, dt, n)\n",
    "\n",
    "de = np.zeros(n+1)\n",
    "for i in range(n+1):\n",
    "    de[i] = d_exact(t[i])\n",
    "    \n",
    "\n",
    "import matplotlib.pyplot as plt\n",
    "fig = plt.figure()\n",
    "plt.plot(t, d, \"-r\", label=\"Euler method\")\n",
    "plt.plot(t, de, \"-b\", label=\"Exact solution\")\n",
    "plt.legend(loc=\"upper left\")\n",
    "plt.xlabel(\"t\")\n",
    "plt.ylabel(\"d\")\n",
    "plt.grid()\n",
    "plt.show()"
   ]
  }
 ],
 "metadata": {
  "kernelspec": {
   "display_name": "Python 3 (ipykernel)",
   "language": "python",
   "name": "python3"
  },
  "language_info": {
   "codemirror_mode": {
    "name": "ipython",
    "version": 3
   },
   "file_extension": ".py",
   "mimetype": "text/x-python",
   "name": "python",
   "nbconvert_exporter": "python",
   "pygments_lexer": "ipython3",
   "version": "3.10.6"
  }
 },
 "nbformat": 4,
 "nbformat_minor": 5
}
