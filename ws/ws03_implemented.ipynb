{
 "cells": [
  {
   "cell_type": "markdown",
   "id": "f36e039d-190b-41c2-9649-00c64a5a9743",
   "metadata": {},
   "source": [
    "# WS03: Triangular systems and Gaussian elimination"
   ]
  },
  {
   "cell_type": "markdown",
   "id": "9f8b6dce-973d-4f8c-804e-e90a9a885ac8",
   "metadata": {},
   "source": [
    "These exercises are indented to give you practice at using the material on numerical approximation and are intended to reinforce the material that was covered in lectures.\n",
    "\n",
    "Please attempt the worksheet before your tutorial. Support is available in your tutorial or in the Class Team."
   ]
  },
  {
   "cell_type": "markdown",
   "id": "670c7921-c21e-4bf0-b0a0-f70290d56a38",
   "metadata": {},
   "source": [
    "*These are partial solutions. Please create [Issues](https://gitlab.com/comp2421-numerical-computation/book/-/issues) and [Merge requests](https://gitlab.com/comp2421-numerical-computation/book/-/merge_requests) with your solutions.*"
   ]
  },
  {
   "cell_type": "markdown",
   "id": "3c3189b1-1c49-4243-bb3b-1bda1dc09bec",
   "metadata": {},
   "source": [
    "## Part a (pen and paper warm up)"
   ]
  },
  {
   "cell_type": "markdown",
   "id": "a6d51218-04e5-4545-a082-e4a95b3509fc",
   "metadata": {},
   "source": [
    "### 1. Triangular systems\n",
    "\n",
    "Solve the upper triangular linear system given by\n",
    "\n",
    "$$\n",
    "\\begin{aligned}\n",
    "2 x_1 &+& x_2 &+& 4 x_3 &=& 12 \\\\\n",
    "&& 1.5 x_2 && &=& 3 \\\\\n",
    "&& && 2 x_3 &=& 4\n",
    "\\end{aligned}.\n",
    "$$"
   ]
  },
  {
   "cell_type": "markdown",
   "id": "18b0631e-8e13-4140-a0ee-e975c21fdb8f",
   "metadata": {},
   "source": [
    "### 2. Elementary row operations\n",
    "\n",
    "Consider the system\n",
    "\n",
    "$$\n",
    "\\begin{aligned}\n",
    "x_1 + 2 x_2 & = 1 && (3) \\\\\n",
    "4 x_1 + x_2 & = -3 && (4).\n",
    "\\end{aligned}\n",
    "$$\n",
    "\n",
    "Find:\n",
    "\n",
    "-   $2 \\times (3)$ $\\rightarrow$\n",
    "-   $0.25 \\times (4)$ $\\rightarrow$\n",
    "-   $(4) + (-1) \\times (3)$ $\\rightarrow$\n",
    "-   $(4) + (-4) \\times (3)$ $\\rightarrow$"
   ]
  },
  {
   "cell_type": "markdown",
   "id": "bf011b66-1ae0-4c07-85ab-0ed3c94e8bd6",
   "metadata": {},
   "source": [
    "### 3. Gaussian elimination\n",
    "\n",
    "Use Gaussian elimination followed by backward subsitution to solve the linear system of equations given by\n",
    "\n",
    "-\n",
    "\n",
    "   $$\n",
    "   \\begin{pmatrix}\n",
    "   4 & -1 & -1 \\\\ 2 & 4 & 2 \\\\ 1 & 2 & 4\n",
    "   \\end{pmatrix}\n",
    "   \\begin{pmatrix}\n",
    "   x_1 \\\\ x_2 \\\\ x_3\n",
    "   \\end{pmatrix} =\n",
    "   \\begin{pmatrix}\n",
    "   9 \\\\ -6 \\\\ 3\n",
    "   \\end{pmatrix}.\n",
    "   $$\n",
    "\n",
    "-\n",
    "\n",
    "   $$\n",
    "   \\begin{pmatrix}\n",
    "   4 & 3 & 2 & 1 \\\\ 1 & 2 & 2 & 2 \\\\\n",
    "   1 & 1 & 3 & 0 \\\\ 2 & 1 & 2 & 3\n",
    "   \\end{pmatrix}\n",
    "   \\begin{pmatrix}\n",
    "   x_1 \\\\ x_2 \\\\ x_3 \\\\ x_4\n",
    "   \\end{pmatrix} =\n",
    "   \\begin{pmatrix}\n",
    "    10 \\\\ 7 \\\\ 5 \\\\ 8\n",
    "   \\end{pmatrix}.\n",
    "   $$\n",
    "\n",
    "   The solution is $\\vec{x} = (1, 1, 1, 1)^T$."
   ]
  },
  {
   "cell_type": "markdown",
   "id": "b40b71be-f4fa-4db4-9ba2-e07f76afb62c",
   "metadata": {},
   "source": [
    "## Part b (code implementations and testing)"
   ]
  },
  {
   "cell_type": "code",
   "execution_count": 1,
   "id": "c95b37ed-edb9-44ae-b7ad-6c68d32f9ab3",
   "metadata": {},
   "outputs": [],
   "source": [
    "import numpy as np"
   ]
  },
  {
   "cell_type": "markdown",
   "id": "e4909e3a-0294-4224-8915-942f454e88a0",
   "metadata": {},
   "source": [
    "### 4. Implementations\n",
    "\n",
    "Implement the following functions with doc-strings given."
   ]
  },
  {
   "cell_type": "code",
   "execution_count": 2,
   "id": "e6d3dc81-d5aa-490b-a00b-814fd7dfb4e6",
   "metadata": {},
   "outputs": [],
   "source": [
    "def lower_triangular_solve(A, b):\n",
    "    \"\"\"\n",
    "    Solve the system  A x = b  where A is assumed to be lower triangular,\n",
    "    i.e. A(i,j) = 0 for j > i, and the diagonal is assumed to be nonzero,\n",
    "    i.e. A(i,i) != 0.\n",
    "    \n",
    "    The code checks that A is lower triangular and converts A and b to\n",
    "    double precision before computing.\n",
    "\n",
    "    ARGUMENTS:  A   lower triangular n x n array\n",
    "                b   right hand side column n-vector\n",
    "\n",
    "    RETURNS:    x   column n-vector solution\n",
    "    \"\"\"\n",
    "\n",
    "    # we should take care to ensure that arrays are stored with the correct type - float!\n",
    "    A = A.astype(np.float64)\n",
    "    b = b.astype(np.float64)\n",
    "    \n",
    "    # information is available about matrices\n",
    "    print('\"type\" of A and b:', A.dtype, b.dtype)\n",
    "    \n",
    "    # checks whether A is lower triangular\n",
    "    n=len(b) # or   n, n = A.shape\n",
    "        \n",
    "    for i in range(n):\n",
    "        for j in range(i+1,n):\n",
    "            if np.abs(A[i,j]>1.e-12):\n",
    "                print('A is not lower triangular!')\n",
    "                return\n",
    "            else:\n",
    "                A[j,i] = A[j,i]/A[j,j]\n",
    "\n",
    "    # checks whether A has zero diagonal element\n",
    "    for i in range(n):\n",
    "        if abs(A[i,i]<1.e-12):\n",
    "            print('A(%d, %d)is zero' %(i,i))\n",
    "            return\n",
    "        else:\n",
    "            b[i] = b[i]/A[i,i]\n",
    "            A[i,i]=1.\n",
    "          \n",
    "    \n",
    "    #create a new array to store the results\n",
    "    x = np.zeros([n,1])  # or    x=b\n",
    "    \n",
    "    x[0] = b[0]\n",
    "    for i in range(1,n):\n",
    "        x[i] = b[i]\n",
    "        for j in range(i):\n",
    "            x[i] = x[i] - A[i,j]*x[j]\n",
    "        \n",
    "    return x"
   ]
  },
  {
   "cell_type": "code",
   "execution_count": 3,
   "id": "6f8810d8-dcf3-4e37-b382-e06a8bd1c1dc",
   "metadata": {},
   "outputs": [],
   "source": [
    "def upper_triangular_solve(A, b):\n",
    "    \"\"\"\n",
    "    Solve the system  A x = b  where A is assumed to be lower triangular,\n",
    "    i.e. A(i,j) = 0 for j > i, and the diagonal is assumed to be nonzero,\n",
    "    i.e. A(i,i) != 0.\n",
    "    \n",
    "    The code checks that A is lower triangular and converts A and b to\n",
    "    double precision before computing.\n",
    "\n",
    "    ARGUMENTS:  A   lower triangular n x n array\n",
    "                b   right hand side column n-vector\n",
    "\n",
    "    RETURNS:    x   column n-vector solution\n",
    "    \"\"\"\n",
    "\n",
    "    # we should take care to ensure that arrays are stored with the correct type - float!\n",
    "    A = A.astype(np.float64)\n",
    "    b = b.astype(np.float64)\n",
    "    \n",
    "    # information is available about matrices\n",
    "    print('\"type\" of A and b:', A.dtype, b.dtype)\n",
    "    \n",
    "    # checks whether A is lower triangular\n",
    "    n=len(b) # or   n, n = A.shape\n",
    "        \n",
    "    for i in range(n):\n",
    "        for j in range(0,i):\n",
    "            if np.abs(A[i,j]>1.e-12):\n",
    "                print('A is not upper triangular!')\n",
    "                return\n",
    "            else:\n",
    "                A[j,i] = A[j,i]/A[j,j]\n",
    "\n",
    "    # checks whether A has zero diagonal element\n",
    "    for i in range(n):\n",
    "        if abs(A[i,i]<1.e-12):\n",
    "            print('A(%d, %d)is zero' %(i,i))\n",
    "            return\n",
    "        else:\n",
    "            b[i] = b[i]/A[i,i]\n",
    "            A[i,i]=1.\n",
    "          \n",
    "    \n",
    "    #create a new array to store the results\n",
    "    x = np.zeros([n,1])  # or    x=b\n",
    "    \n",
    "    x[n-1] = b[n-1]\n",
    "    for i in range(2,n+1):\n",
    "        x[n-i] = b[n-i]\n",
    "        for j in range(n-i+1, n):\n",
    "            x[n-i] = x[n-i] - A[n-i,j]*x[j]\n",
    "        \n",
    "    return x"
   ]
  },
  {
   "cell_type": "code",
   "execution_count": 13,
   "id": "820d0fec-7fe6-4745-9f39-93166e1676ce",
   "metadata": {},
   "outputs": [],
   "source": [
    "# pivoting considered as well\n",
    "def gaussian_elimination(A, b):\n",
    "    # To ensure that arrays are stored in double precision.\n",
    "    A = A.astype(np.float64)\n",
    "    b = b.astype(np.float64)\n",
    "     \n",
    "    # size of solution vector / the square matrix A\n",
    "    n=len(b) # or   n, n = A.shape\n",
    "        \n",
    "  \n",
    "    for i in range(n):          \n",
    "         # find the index of the maximal vlaue in array A[i:n,i]\n",
    "        maximum = abs(A[i,i])\n",
    "        max_index = i\n",
    "        for j in range(i+1,n):\n",
    "            if abs(A[j,i]) > maximum :\n",
    "                maximum = abs(A[j,i])               \n",
    "                max_index = j   \n",
    "                                       \n",
    "        \n",
    "        # swap two max_indexs: i and max_index[i]\n",
    "        temp = b[i]\n",
    "        b[i] = b[max_index]\n",
    "        b[max_index] = temp\n",
    "        for j in range(n):\n",
    "            temp = A[i,j]\n",
    "            A[i,j] = A[max_index,j]\n",
    "            A[max_index,j] = temp  \n",
    "            \n",
    "        \n",
    "        if np.abs(A[i,i])<1.e-15:\n",
    "            print('A is singular!')\n",
    "            return    \n",
    "\n",
    "\n",
    "        # Gaussian elimination\n",
    "        b[i] = b[i]/A[i,i]\n",
    "        A[i,:] = A[i,:]/A[i,i]\n",
    "        for j in range(i+1,n):\n",
    "            temp=A[j,i] \n",
    "            b[j] = b[j]-b[i]*temp\n",
    "            for k in range(i,n):\n",
    "                A[j,k] = A[j,k]-A[i,k]*temp           \n",
    "\n",
    "    \n",
    "    #create a new array to store the results\n",
    "    x = np.zeros(n)  # or    x=b\n",
    "    \n",
    "    x[n-1] = b[n-1]\n",
    "    for i in range(2,n+1):\n",
    "        x[n-i] = b[n-i]\n",
    "        for j in range(n-i+1, n):\n",
    "            x[n-i] = x[n-i] - A[n-i,j]*x[j]\n",
    "        \n",
    "    return x"
   ]
  },
  {
   "cell_type": "markdown",
   "id": "a338c89b-a5d6-45e8-a7e5-a43dc639e2c4",
   "metadata": {},
   "source": [
    "### 5. Testing\n",
    "\n",
    "Test your solutions using your answers to part a. The first test has been implemented for you."
   ]
  },
  {
   "cell_type": "code",
   "execution_count": 14,
   "id": "f5f4055c-24a4-45f8-af42-288352b772b5",
   "metadata": {},
   "outputs": [
    {
     "name": "stdout",
     "output_type": "stream",
     "text": [
      "[[1.]\n",
      " [2.]\n",
      " [2.]]\n",
      "\"type\" of A and b: float64 float64\n",
      "[[1.]\n",
      " [2.]\n",
      " [2.]]\n"
     ]
    }
   ],
   "source": [
    "U = np.array([[2, 1, 4], [0, 1.5, 0], [0, 0, 2]])\n",
    "b = np.array([[12], [3], [4]])\n",
    "\n",
    "# numpy linear solvers\n",
    "x0 = np.linalg.solve(U,b)\n",
    "print(x0)\n",
    "\n",
    "x = upper_triangular_solve(U, b)\n",
    "print(x)\n",
    "\n",
    "np.testing.assert_almost_equal(x, x0)"
   ]
  },
  {
   "cell_type": "code",
   "execution_count": 15,
   "id": "c89a95c0-ec20-4bca-85ad-bdaedac23873",
   "metadata": {},
   "outputs": [
    {
     "name": "stdout",
     "output_type": "stream",
     "text": [
      "x0= [-0.2820222   3.86598456  0.23238917 -0.14257002]\n",
      "x= [-0.2820222   3.86598456  0.23238917 -0.14257002]\n",
      "[ 1.77635684e-15  3.55271368e-15 -3.55271368e-15  7.54951657e-15]\n"
     ]
    }
   ],
   "source": [
    "A = np.array([[-10, 2, 0, 67], [-2, 5, -77, 1.e-5], [60, 7, 0, 8], [-100, -7, 0.001, 8]])\n",
    "b = np.array([1, 2, 9, 0])\n",
    "\n",
    "# numpy linear solvers\n",
    "x0 = np.linalg.solve(A,b)\n",
    "#x0 = np.linalg.inv(A).dot(b)\n",
    "print(\"x0=\", x0)\n",
    "\n",
    "x = gaussian_elimination(A, b)\n",
    "print(\"x=\",x)\n",
    "\n",
    "print(np.matmul(A,x)-b)"
   ]
  },
  {
   "cell_type": "markdown",
   "id": "450b1d32-36ed-4a51-869d-774e0099b3d6",
   "metadata": {},
   "source": [
    "## Part c: Extension"
   ]
  },
  {
   "cell_type": "markdown",
   "id": "fd0b2764-bae9-4554-b07c-f6fb8798c9fe",
   "metadata": {},
   "source": [
    "Next we want to know how good the method is. We do this by testing robustness and efficiency in practical settings"
   ]
  },
  {
   "cell_type": "markdown",
   "id": "e22cf2f2-8690-473f-887e-258db222f0c5",
   "metadata": {},
   "source": [
    "### 6. Robustness\n",
    "\n",
    "Consider the system of linear equations given by:\n",
    "\n",
    "$$\n",
    "\\begin{aligned}\n",
    "x_1 + x_2 & = 3 \\\\\n",
    "\\varepsilon x_1 + x_2 & = 2 + \\varepsilon.\n",
    "\\end{aligned}\n",
    "$$\n",
    "\n",
    "- First verify that the true solution is $(x_1, x_2)^T = (1, 2)^T$.\n",
    "- Write the problem in matrix form. What does your funciton give for small values $\\varepsilon = 10^{-4}, 10^{-8}, 10^{-12}$?\n",
    "- Rewrite the matrix form by considering the equations the other way round. What does your function given now?"
   ]
  },
  {
   "cell_type": "markdown",
   "id": "7aeffab9-88c3-4e56-bd8c-d724b3f7852a",
   "metadata": {},
   "source": [
    "TODO contribute your answer - see [Issue #2: Worksheet 3 - Q6](https://gitlab.com/comp2421-numerical-computation/book/-/issues/2)"
   ]
  },
  {
   "cell_type": "markdown",
   "id": "4ff39325-e6cc-4009-bc58-1b6dfd1c5eeb",
   "metadata": {},
   "source": [
    "### 7. Efficiency\n",
    "\n",
    "Consider the family of systems of linear equations given by\n",
    "\n",
    "$$\n",
    "A \\vec{x} = \\vec{b},\n",
    "$$\n",
    "\n",
    "where $A$ is a Vandermonde matrix with coefficients $a_{ij} = j^{i-1}$ and $b_i = i$ for varying sizes $n$."
   ]
  },
  {
   "cell_type": "code",
   "execution_count": 11,
   "id": "bc7e494e-e0df-42c6-b80a-8742ec68ec89",
   "metadata": {},
   "outputs": [
    {
     "name": "stdout",
     "output_type": "stream",
     "text": [
      "[0.17820001 0.36240005 0.51699996 0.77600002 1.09520006 1.55619979\n",
      " 2.07860041 2.85519981 3.53619981 4.41759992]\n"
     ]
    }
   ],
   "source": [
    "import time\n",
    "\n",
    "test_set = np.linspace(100, 300, num=10, endpoint=True, dtype=\"int\")\n",
    "\n",
    "exc_time = np.zeros(len(test_set))\n",
    "\n",
    "i=0\n",
    "for n in test_set:\n",
    "    B = np.random.rand(n, n)\n",
    "    eps = 0.1\n",
    "    \n",
    "    A = eps * np.eye(n) + B * B.T\n",
    "    x = np.ones(n)\n",
    "    b = np.matmul(A, x)\n",
    "    \n",
    "    start = time.time()\n",
    "    x = gaussian_elimination(A, b)\n",
    "    end = time.time()\n",
    "    \n",
    "    exc_time [i] = end - start\n",
    "    i = i+1\n",
    "    #print(np.matmul(A,x)-b)\n",
    "\n",
    "print(exc_time)"
   ]
  },
  {
   "cell_type": "code",
   "execution_count": 12,
   "id": "3ea6d57d",
   "metadata": {},
   "outputs": [
    {
     "data": {
      "image/png": "[encoded data removed]",
      "text/plain": [
       "<Figure size 432x288 with 1 Axes>"
      ]
     },
     "metadata": {
      "needs_background": "light"
     },
     "output_type": "display_data"
    }
   ],
   "source": [
    "import matplotlib.pyplot as plt\n",
    "fig = plt.figure()\n",
    "ax = plt.axes()\n",
    "# we expect log(exc_time) / log10(test_set) = 3 because the run time of the Gaussian elimination is O(n^3)\n",
    "plt.plot(np.log10(test_set), np.log10(exc_time))\n",
    "plt.xlabel(\"log(matrix size)\")\n",
    "plt.ylabel(\"log(runtime)\")\n",
    "plt.grid()\n",
    "ax.set_aspect('equal', 'box')\n",
    "plt.show()"
   ]
  },
  {
   "cell_type": "markdown",
   "id": "3caa439c-95b1-45fd-a7a7-aac786ba0988",
   "metadata": {},
   "source": [
    "Test the run time of your Gaussian elimination implementation for a range of values `n` based on the data from `generate_test_set`. "
   ]
  }
 ],
 "metadata": {
  "kernelspec": {
   "display_name": "Python 3 (ipykernel)",
   "language": "python",
   "name": "python3"
  },
  "language_info": {
   "codemirror_mode": {
    "name": "ipython",
    "version": 3
   },
   "file_extension": ".py",
   "mimetype": "text/x-python",
   "name": "python",
   "nbconvert_exporter": "python",
   "pygments_lexer": "ipython3",
   "version": "3.10.6"
  }
 },
 "nbformat": 4,
 "nbformat_minor": 5
}
