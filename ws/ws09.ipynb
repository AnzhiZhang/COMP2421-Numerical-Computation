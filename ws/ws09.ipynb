{
 "cells": [
  {
   "cell_type": "markdown",
   "id": "5cfa61a8",
   "metadata": {},
   "source": [
    "# WS09: Robust nonlinear solvers"
   ]
  },
  {
   "cell_type": "markdown",
   "id": "ee795eb2",
   "metadata": {},
   "source": [
    "These exercises are indented to give you practice at using the material on numerical approximation and are intended to reinforce the material that was covered in lectures.\n",
    "\n",
    "Please attempt the worksheet before your tutorial. Support is available in your tutorial or in the Class Team."
   ]
  },
  {
   "cell_type": "markdown",
   "id": "eff99573",
   "metadata": {},
   "source": [
    "*[Partial solutions](./ws09_implemented) are available to check your understanding. Please create [Issues](https://github.com/uol-soc-teachingrepos/COMP2421-Numerical-Computation/issues) and [Pull requests](https://github.com/uol-soc-teachingrepos/COMP2421-Numerical-Computation/pulls) with your solutions.*"
   ]
  },
  {
   "cell_type": "markdown",
   "id": "cd731adf",
   "metadata": {},
   "source": [
    "## Part a (pen and paper warm up)"
   ]
  },
  {
   "cell_type": "markdown",
   "id": "fa0ff185",
   "metadata": {},
   "source": [
    "### 1. Convergence of Newton’s method\n",
    "\n",
    "For\n",
    "\n",
    "$$\n",
    "f(x) =  x(x-3)^2\n",
    "$$\n",
    "\n",
    "with\n",
    "\n",
    "$$\n",
    "f^\\prime(x) = 3(x-1)(x-3),\n",
    "$$\n",
    "\n",
    "we know $f(x) = 0$ has two solution $x=0$ and $x=3$. You might plot this function in the following Q4 to help you visualise it.\n",
    "\n",
    "Starting form initial guesses $x_0 = 0.5$ and $x_0=1.5$ respectively, and apply two Newton's iterations to see which solution you will get.\n",
    "\n",
    "### 2. Problems of  Newton’s method\n",
    "\n",
    "Create an equation so that Newton's method does not work, and prove it using your implementation in WS08.\n",
    "\n",
    "### 3.  The secant method\n",
    "\n",
    "Use the secant method to solve the above equation $f(x)=0$, and iterate three times from two initial guesses $x_0=4$, $x_1=5$."
   ]
  },
  {
   "cell_type": "markdown",
   "id": "a0d728e7",
   "metadata": {},
   "source": [
    "## Part b (code implementations and testing)"
   ]
  },
  {
   "cell_type": "markdown",
   "id": "d40ba7a1",
   "metadata": {},
   "source": [
    "### 4. Plot the function f(x) in Q1"
   ]
  },
  {
   "cell_type": "code",
   "execution_count": null,
   "id": "15fc2e9e",
   "metadata": {},
   "outputs": [],
   "source": [
    "import numpy as np\n",
    "\n",
    "\n",
    "def f(x):\n",
    "    return x * x * x - 6.0 * x * x + 9.0 * x\n",
    "\n",
    "\n",
    "X = np.linspace(-1.0, 4.0, num=100, endpoint=True)\n",
    "Y = np.zeros(100)\n",
    "\"\"\"\n",
    "Add a loop to compute array Y=f(X)\n",
    "\"\"\"\n",
    "\n",
    "\"\"\"\n",
    "Add code to plot Y=f(X)\n",
    "\"\"\""
   ]
  },
  {
   "cell_type": "markdown",
   "id": "9c6e60eb",
   "metadata": {},
   "source": [
    "### 5. Implement the secant method"
   ]
  },
  {
   "cell_type": "code",
   "execution_count": null,
   "id": "b9cb62c9",
   "metadata": {},
   "outputs": [],
   "source": [
    "import numpy as np"
   ]
  },
  {
   "cell_type": "code",
   "execution_count": null,
   "id": "ab955a1a",
   "metadata": {},
   "outputs": [],
   "source": [
    "def secant(f, x0, x1, tol):\n",
    "    x = x1\n",
    "    it = 0\n",
    "    while abs(f(x)) > tol:  # iterate until less than or eq tol\n",
    "        \"\"\"\n",
    "        TODO: implement the secant method\n",
    "        \"\"\"\n",
    "\n",
    "    return x, it"
   ]
  },
  {
   "cell_type": "markdown",
   "id": "83372317",
   "metadata": {},
   "source": [
    "### 6. Test your implementation"
   ]
  },
  {
   "cell_type": "code",
   "execution_count": null,
   "id": "12cab8c2",
   "metadata": {},
   "outputs": [],
   "source": [
    "x, it = secant(f, 4.0, 5.0, 1.0e-6)\n",
    "print(f\"The secant method: {x} after {it} iterations\")"
   ]
  },
  {
   "cell_type": "markdown",
   "id": "fc733a42",
   "metadata": {},
   "source": [
    "## Part c: Extension\n",
    "\n",
    "Run the following SciPy solver, which struggles to find the solution $x=3$ for equation $f(x) = x(x-3)^2 =0$.\n",
    "\n",
    "- Read the instruction of this solver at \n",
    "<a href=\"https://docs.scipy.org/doc/scipy/reference/generated/scipy.optimize.brentq.html#scipy.optimize.brentq\">https://docs.scipy.org/doc/scipy/reference/generated/scipy.optimize.brentq.html#scipy.optimize.brentq</a>,\n",
    "and try to understand why?\n",
    "\n",
    "- Please try other solvers such as: optimize.newton( ) to see whether it can find the solution $x=3$"
   ]
  },
  {
   "cell_type": "code",
   "execution_count": null,
   "id": "00740dbf",
   "metadata": {},
   "outputs": [],
   "source": [
    "from scipy import optimize"
   ]
  },
  {
   "cell_type": "code",
   "execution_count": null,
   "id": "f96d884e",
   "metadata": {},
   "outputs": [],
   "source": [
    "root = optimize.brentq(f, -1, 10, full_output=True)\n",
    "print(root)"
   ]
  }
 ],
 "metadata": {
  "kernelspec": {
   "display_name": "Python 3 (ipykernel)",
   "language": "python",
   "name": "python3"
  },
  "language_info": {
   "codemirror_mode": {
    "name": "ipython",
    "version": 3
   },
   "file_extension": ".py",
   "mimetype": "text/x-python",
   "name": "python",
   "nbconvert_exporter": "python",
   "pygments_lexer": "ipython3",
   "version": "3.8.16"
  }
 },
 "nbformat": 4,
 "nbformat_minor": 5
}
