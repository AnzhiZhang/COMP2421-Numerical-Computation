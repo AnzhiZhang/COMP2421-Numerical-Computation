{
 "cells": [
  {
   "cell_type": "markdown",
   "id": "962ecddc",
   "metadata": {},
   "source": [
    "# WS05: Sparse systems and pivoting"
   ]
  },
  {
   "cell_type": "markdown",
   "id": "6eece630",
   "metadata": {},
   "source": [
    "These exercises are indented to give you practice at using the material on numerical approximation and are intended to reinforce the material that was covered in lectures.\n",
    "\n",
    "Please attempt the worksheet before your tutorial. Support is available in your tutorial or in the Class Team."
   ]
  },
  {
   "cell_type": "markdown",
   "id": "cb4684de-eb25-4f4a-8726-aad57277e097",
   "metadata": {},
   "source": [
    "*These are partial solutions. Please create [Issues](https://gitlab.com/comp2421-numerical-computation/book/-/issues) and [Merge requests](https://gitlab.com/comp2421-numerical-computation/book/-/merge_requests) with your solutions.*"
   ]
  },
  {
   "cell_type": "markdown",
   "id": "b5b9eece",
   "metadata": {},
   "source": [
    "## Part a (pen and paper warm up)"
   ]
  },
  {
   "cell_type": "markdown",
   "id": "ad21f03e",
   "metadata": {},
   "source": [
    "### 1. Sparse matrix storage\n",
    "Write down the three arrays: array of floating point numbers (say A_real) to store the non-zero entries, array of integers (say I_row) to store the row number and array of integers (say I_col) to store the column number.\n",
    "\n",
    "   $$\n",
    "   \\begin{pmatrix}\n",
    "   3 & 0 & 1.5 & 0 \\\\ 2 & 4 & 2.2 & 0 \\\\ 0 & 2 & 6 & 0 \\\\ 0 & 0 & 4 & -9\n",
    "   \\end{pmatrix}\n",
    "   $$\n",
    "\n",
    "\n",
    "### 2. Gaussian elimination with pivoting\n",
    "Using GE with pivoting to solve the following linear system of equations\n",
    "   $$\n",
    "   \\begin{pmatrix}\n",
    "   0 & 1 & 0 \\\\ \n",
    "   1 & 1.001 & 1 \\\\ \n",
    "   100 & 100 & 0 \\\\ \n",
    "   \\end{pmatrix}\n",
    "   \\begin{pmatrix}\n",
    "   x_1 \\\\ \n",
    "   x_2 \\\\\n",
    "   x_3\n",
    "   \\end{pmatrix} =\n",
    "   \\begin{pmatrix}\n",
    "    0 \\\\ 1002 \\\\ 200\n",
    "   \\end{pmatrix}. \n",
    "   $$\n",
    "\n",
    "### 3. Sparse matrix storage and access\n",
    "To implement a direct solver such as Gaussian elimination, is it convenient to store a matrix as sparse matrix? What's about iterative solver: Jacobi iteration or Gauss-Seidel iteration?\n"
   ]
  },
  {
   "cell_type": "markdown",
   "id": "c8b649fb",
   "metadata": {},
   "source": [
    "## Part b (code implementations and testing)"
   ]
  },
  {
   "cell_type": "markdown",
   "id": "fcdee89c",
   "metadata": {},
   "source": [
    "### 4. Sparse matrix multiplication"
   ]
  },
  {
   "cell_type": "code",
   "execution_count": null,
   "id": "3c76d049",
   "metadata": {},
   "outputs": [],
   "source": [
    "import numpy as np\n",
    "\n",
    "A_real = np.array([3, 1.5, 2,4 ,2.2, 2, 6, 4, -9], dtype=np.float64)\n",
    "I_row = np.array([0, 0, 1, 1, 1, 2, 2, 3, 3], dtype=np.int32)\n",
    "I_col = np.array([0, 2, 0, 1, 2, 1, 2, 2, 3], dtype=np.int32) \n",
    "\n",
    "nonzero = len(A_real)\n",
    "dim = 4\n",
    "y = np.zeros(dim) + 1.\n",
    "z = np.zeros(dim)\n",
    "\n",
    "for k in range(nonzero):\n",
    "    z[I_row[k]] = z[I_row[k]] + A_real[k] * y[I_col[k]]\n",
    "\n",
    "print(z)"
   ]
  },
  {
   "cell_type": "markdown",
   "id": "1a0ef6c3",
   "metadata": {},
   "source": [
    "### 5. implementation of Gaussian elimination with pivoting"
   ]
  },
  {
   "cell_type": "code",
   "execution_count": null,
   "id": "f8973dc6",
   "metadata": {},
   "outputs": [],
   "source": [
    "import numpy as np"
   ]
  },
  {
   "cell_type": "code",
   "execution_count": null,
   "id": "e77167fb-c733-4aa5-a19c-1821fa49b99e",
   "metadata": {},
   "outputs": [],
   "source": [
    "# copy from ws03\n",
    "def upper_triangular_solve(A, b):\n",
    "    \"\"\"\n",
    "    Solve the system  A x = b  where A is assumed to be lower triangular,\n",
    "    i.e. A(i,j) = 0 for j > i, and the diagonal is assumed to be nonzero,\n",
    "    i.e. A(i,i) != 0.\n",
    "    \n",
    "    The code checks that A is lower triangular and converts A and b to\n",
    "    double precision before computing.\n",
    "\n",
    "    ARGUMENTS:  A   lower triangular n x n array\n",
    "                b   right hand side column n-vector\n",
    "\n",
    "    RETURNS:    x   column n-vector solution\n",
    "    \"\"\"\n",
    "\n",
    "    # we should take care to ensure that arrays are stored with the correct type - float!\n",
    "    A = A.astype(np.float64)\n",
    "    b = b.astype(np.float64)\n",
    "      \n",
    "    # check sizes of A and b match appropriately\n",
    "    nb=len(b)\n",
    "    n, m = A.shape\n",
    "    if n != m:\n",
    "        raise ValueError(f'A is not a square matrix! {A.shape=}')\n",
    "    if n != nb:\n",
    "        raise ValueError(f'shapes of A and b do not match! {A.shape=} {b.shape=}')\n",
    "    \n",
    "    # check A is upper triangular\n",
    "    for i in range(n):\n",
    "        for j in range(0,i):\n",
    "            if not np.isclose(A[i, j], 0.0):\n",
    "                raise ValueError(f'A is not upper triangular! {A[i, j]=}')\n",
    "\n",
    "    # checks whether A has zero diagonal element\n",
    "    for i in range(n):\n",
    "        if np.isclose(A[i, i], 0.0):\n",
    "            raise ValueError(f'A[{i}, {i}] is zero')\n",
    "    \n",
    "    #create a new array to store the results\n",
    "    x = np.empty_like(b)\n",
    "    \n",
    "    # perform backwards subsitution\n",
    "    x[n-1] = b[n-1] / A[n-1, n-1]\n",
    "    for i in range(2,n+1):\n",
    "        x[n-i] = b[n-i] / A[n-i, n-i]\n",
    "        for j in range(n-i+1, n):\n",
    "            x[n-i] = x[n-i] - A[n-i,j]*x[j] / A[n-i, n-i]\n",
    "        \n",
    "    return x"
   ]
  },
  {
   "cell_type": "code",
   "execution_count": null,
   "id": "c74b28b7",
   "metadata": {},
   "outputs": [],
   "source": [
    "def Gaussian_elimination_pivoting(A, b, verbose=False):\n",
    "    # To ensure that arrays are stored in double precision.\n",
    "    A = A.astype(np.float64)\n",
    "    b = b.astype(np.float64)\n",
    "     \n",
    "    # size of solution vector / the square matrix A\n",
    "    n=len(b) # or   n, n = A.shape\n",
    "        \n",
    "    # check sizes of A and b match appropriately\n",
    "    nb=len(b)\n",
    "    n, m = A.shape\n",
    "    if n != m:\n",
    "        raise ValueError(f'A is not a square matrix! {A.shape=}')\n",
    "    if n != nb:\n",
    "        raise ValueError(f'shapes of A and b do not match! {A.shape=} {b.shape=}')\n",
    "    \n",
    "    if verbose:\n",
    "        print('starting system\\n', A, b)\n",
    "  \n",
    "    # perform forward elimination\n",
    "    for i in range(n):          \n",
    "        # find the index of the maximal value in column i on or below\n",
    "        # the diagonal of A\n",
    "        maximum = abs(A[i,i])\n",
    "        max_index = i\n",
    "        for j in range(i+1,n):\n",
    "            if abs(A[j,i]) > maximum :\n",
    "                maximum = abs(A[j,i])               \n",
    "                max_index = j   \n",
    "                                       \n",
    "        \n",
    "        # swap two max_indexs: i and max_index[i]\n",
    "        temp = b[i]\n",
    "        b[i] = b[max_index]\n",
    "        b[max_index] = temp\n",
    "        for j in range(n):\n",
    "            temp = A[i,j]\n",
    "            A[i,j] = A[max_index,j]\n",
    "            A[max_index,j] = temp  \n",
    "            \n",
    "        \n",
    "        # check diagonal\n",
    "        if np.isclose(A[i, i], 0.0):\n",
    "            raise ValueError(f'A has zero on diagonal! A[{i}, {i}] = 0') \n",
    "\n",
    "        # row j <- row j - (a_{ji} / a_{ii}) row i\n",
    "        for j in range(i+1, n):\n",
    "            if verbose:\n",
    "                print(f'row {j} <- row {j} - {A[j, i] / A[i, i]} row {i}')\n",
    "            factor = A[j, i] / A[i, i]\n",
    "            for k in range(0, n):\n",
    "                A[j, k] = A[j, k] - factor * A[i, k]\n",
    "            b[j] = b[j] - factor * b[i]\n",
    "        \n",
    "    return upper_triangular_solve(A, b)"
   ]
  },
  {
   "cell_type": "markdown",
   "id": "75dddd69",
   "metadata": {},
   "source": [
    "### 6. Test your implementation"
   ]
  },
  {
   "cell_type": "code",
   "execution_count": null,
   "id": "27a741d3",
   "metadata": {
    "scrolled": true
   },
   "outputs": [],
   "source": [
    "A = np.array([[-10, 2, 0, 67], [-2, 50, -77, 1.e-5], [1, 7, 30, 8], [-10, -7, 0.001, 80]])\n",
    "b = np.array([1, 2, 9, 0])\n",
    "\n",
    "# numpy linear solvers\n",
    "x0 = np.linalg.solve(A,b)\n",
    "#x0 = np.linalg.inv(A).dot(b)\n",
    "print(\"Solution by numpy solver:\", x0)\n",
    "\n",
    "x = Gaussian_elimination_pivoting(A, b)\n",
    "print(\"Gaussian elimination: \",x)\n",
    "print(\"Residual: \", np.matmul(A,x)-b)\n",
    "\n",
    "# extra test to ensure we have solved the problem\n",
    "np.testing.assert_almost_equal(np.linalg.norm(b - A @ x), 0.0)"
   ]
  },
  {
   "cell_type": "code",
   "execution_count": null,
   "id": "0fdce3df",
   "metadata": {
    "scrolled": true
   },
   "outputs": [],
   "source": [
    "n=20\n",
    "A = np.random.rand(n, n)\n",
    "b = np.random.rand(n)\n",
    "\n",
    "# numpy linear solvers\n",
    "x0 = np.linalg.solve(A,b)\n",
    "#x0 = np.linalg.inv(A).dot(b)\n",
    "print(\"Solution by numpy solver:\", x0)\n",
    "\n",
    "x = Gaussian_elimination_pivoting(A, b)\n",
    "print(\"Gaussian elimination: \",x)\n",
    "print(\"Residual: \", np.matmul(A,x)-b)\n",
    "\n",
    "# extra test to ensure we have solved the problem\n",
    "np.testing.assert_almost_equal(np.linalg.norm(b - A @ x), 0.0)"
   ]
  },
  {
   "cell_type": "markdown",
   "id": "847eef5a",
   "metadata": {},
   "source": [
    "## Part c: Extension"
   ]
  },
  {
   "cell_type": "markdown",
   "id": "32d88b02",
   "metadata": {},
   "source": [
    "### 5. implement Jacobi iteration for spare matrix"
   ]
  },
  {
   "cell_type": "markdown",
   "id": "457e984c",
   "metadata": {},
   "source": [
    "using the following stopping criterion\n",
    "\n",
    "$$\n",
    "\\frac{\\|\\vec{b} - A\\vec{x} \\|}{\\|\\vec{b}\\|} < 10^{-6}.\n",
    "$$"
   ]
  },
  {
   "cell_type": "code",
   "execution_count": null,
   "id": "247b8e69",
   "metadata": {},
   "outputs": [],
   "source": [
    "def norm(v):\n",
    "    '''\n",
    "    Insert code to compute Euclidean norm.\n",
    "    '''\n",
    "    n = len(v) # length of vector\n",
    "    sum2 = 0.0\n",
    "    for i in range(n):\n",
    "        sum2 += v[i]*v[i]\n",
    "    return np.sqrt(sum2)\n",
    "    \n",
    "\n",
    "def Jacobi_iteration_sparse(A_real, I_row, I_col, b, tol):\n",
    "    # To ensure that arrays are stored in double precision.\n",
    "    A_real = A_real.astype(np.float64)\n",
    "    b = b.astype(np.float64)\n",
    "\n",
    "    nonzero = len(A_real) # number of nonzero elements\n",
    "    n=len(b)              # dimensions of the linear system of equations   \n",
    "    D_diag=np.zeros(n)    # diagonal of matrix A   \n",
    "\n",
    "    n_diag = 0            # count the dimensions\n",
    "    for k in range(nonzero):\n",
    "        if (I_row[k] == I_col[k]): \n",
    "            '''\n",
    "            Insert code to find the diagonal array D_diag of matrix A_real\n",
    "            '''\n",
    "            D_diag[I_row[k]] = A_real[k]\n",
    "            n_diag += 1\n",
    "\n",
    "    if n_diag < n :\n",
    "        print('Zero diagonal element!')\n",
    "        return\n",
    "        \n",
    "\n",
    "    P_real=np.zeros(nonzero)    # matrix P = D^{-1}(L+U)\n",
    "    p = np.zeros(n)              # vector p = D^{-1} b\n",
    "    i = 0\n",
    "    for k in range(nonzero):\n",
    "        '''\n",
    "        Insert code to compute matrix P\n",
    "        '''\n",
    "        if I_col[k] != I_row[k]: # remove diagonal\n",
    "            P_real[k] = A_real[k] / D_diag[I_row[k]]\n",
    "        \n",
    "    for i in range(n):\n",
    "        p[i] = b[i] / D_diag[i]\n",
    "    \n",
    "    res = 2.*tol     # initialise a residual\n",
    "    max_it = 1000    # set a maximal number of iterations in case the programme comes to a dead loop\n",
    "    it = 0           # record the total number of iterations\n",
    "    \n",
    "    x = np.zeros_like(b)\n",
    "    while (res > tol and it < max_it):\n",
    "        it = it + 1\n",
    "        \n",
    "        xnew = p.copy()\n",
    "        for k in range(nonzero):\n",
    "            xnew[I_row[k]] = xnew[I_row[k]] - P_real[k] * x[I_col[k]]\n",
    "        x = xnew.copy()\n",
    "            \n",
    "        Ax = np.zeros(n)\n",
    "        for k in range(nonzero):\n",
    "            '''\n",
    "            Insert code to compute Ax = A*x\n",
    "            '''\n",
    "            Ax[I_row[k]] = Ax[I_row[k]] + A_real[k] * x[I_col[k]]\n",
    "            \n",
    "        res = norm(Ax-b) / norm(b)\n",
    "        print (f\"{res=:.8e}\")\n",
    "        \n",
    "    return x, it"
   ]
  },
  {
   "cell_type": "markdown",
   "id": "47af149f",
   "metadata": {},
   "source": [
    "### 6. test `Jacobi_iteration_sparse`"
   ]
  },
  {
   "cell_type": "code",
   "execution_count": null,
   "id": "43b9107d",
   "metadata": {},
   "outputs": [],
   "source": [
    "# Test different linear solvers starting from the above two-dimensional linear system\n",
    "A = np.array([[3, 0, 1.5, 0], [2, 4, 2.2, 0], [0, 2, 6, 0], [0, 0, 4, -9]], dtype=np.float64)\n",
    "b = np.array([3, -1, 9, 0], dtype=np.float64)\n",
    "\n",
    "# numpy linear solver\n",
    "x0 = np.linalg.solve(A,b)\n",
    "print(\"Solution by numpy solver:\", x0)\n",
    "\n",
    "A_real = np.array([3, 1.5, 2,4 ,2.2, 2, 6, 4, -9], dtype=np.float64)\n",
    "I_row = np.array([0, 0, 1, 1, 1, 2, 2, 3, 3], dtype=np.int32)\n",
    "I_col = np.array([0, 2, 0, 1, 2, 1, 2, 2, 3], dtype=np.int32) \n",
    "tol = 1.e-6\n",
    "\n",
    "x, it = Jacobi_iteration_sparse(A_real, I_row, I_col, b, tol)\n",
    "print(f\"Solution by Jacobi iteration: {x} after {it} iterations\")\n",
    "np.testing.assert_almost_equal(np.linalg.norm(b - A @ x), 0.0, decimal=5)\n",
    "np.testing.assert_allclose(x, x0, rtol=1.0e-4)"
   ]
  },
  {
   "cell_type": "markdown",
   "id": "27767f38",
   "metadata": {},
   "source": [
    "### 7. Compare `Jacobi_iteration_sparse` with `Gaussian_elimination_pivoting`"
   ]
  },
  {
   "cell_type": "markdown",
   "id": "b2678b5c",
   "metadata": {},
   "source": [
    "Notice that there is a condition for Jacobi iteration: non zero element on the diagonal of the system matrix."
   ]
  },
  {
   "cell_type": "code",
   "execution_count": null,
   "id": "a3630312",
   "metadata": {},
   "outputs": [],
   "source": [
    "n=20\n",
    "B = np.random.rand(n, n)\n",
    "eps = 10\n",
    "A = eps * np.eye(n) + B * B.T\n",
    "b = np.random.rand(n)\n",
    "\n",
    "# create a spare matrix\n",
    "n = len(b)\n",
    "A_real = np.array([], dtype=np.float64)\n",
    "I_row = np.array([], dtype=np.int32)\n",
    "I_col = np.array([], dtype=np.int32) \n",
    "\n",
    "for i in range(n):\n",
    "    for j in range(n):\n",
    "        if A[i,j] < 0.5 and i != j:\n",
    "            A[i,j] = 0.0\n",
    "        else:\n",
    "            if i==j: A[i,j] = A[i,j] + 2.0          \n",
    "            A_real = np.append(A_real, A[i,j])\n",
    "            I_row = np.append(I_row, i)\n",
    "            I_col = np.append(I_col, j)            \n",
    "            \n",
    "x, it = Jacobi_iteration_sparse(A_real, I_row, I_col, b, 1.e-6)\n",
    "print(f\"Solution by Jacobi iteration: {x} after {it} iterations\")\n",
    "\n",
    "x = Gaussian_elimination_pivoting(A, b)\n",
    "print(\"Gaussian elimination: \",x)\n",
    "print(\"Residual: \", np.matmul(A,x)-b)"
   ]
  }
 ],
 "metadata": {
  "kernelspec": {
   "display_name": "Python 3 (ipykernel)",
   "language": "python",
   "name": "python3"
  },
  "language_info": {
   "codemirror_mode": {
    "name": "ipython",
    "version": 3
   },
   "file_extension": ".py",
   "mimetype": "text/x-python",
   "name": "python",
   "nbconvert_exporter": "python",
   "pygments_lexer": "ipython3",
   "version": "3.10.6"
  }
 },
 "nbformat": 4,
 "nbformat_minor": 5
}
