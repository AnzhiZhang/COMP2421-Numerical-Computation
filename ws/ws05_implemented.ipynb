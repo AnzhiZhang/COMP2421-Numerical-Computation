{
 "cells": [
  {
   "cell_type": "markdown",
   "id": "962ecddc",
   "metadata": {},
   "source": [
    "# WS05: Sparse systems and pivoting"
   ]
  },
  {
   "cell_type": "markdown",
   "id": "6eece630",
   "metadata": {},
   "source": [
    "These exercises are indented to give you practice at using the material on numerical approximation and are intended to reinforce the material that was covered in lectures.\n",
    "\n",
    "Please attempt the worksheet before your tutorial. Support is available in your tutorial or in the Class Team."
   ]
  },
  {
   "cell_type": "markdown",
   "id": "b5b9eece",
   "metadata": {},
   "source": [
    "## Part a (pen and paper warm up)"
   ]
  },
  {
   "cell_type": "markdown",
   "id": "ad21f03e",
   "metadata": {},
   "source": [
    "### 1. Sparse matrix storage\n",
    "Write down the three arrays: array of floating point numbers (say A_real) to store the non-zero entries, array of integers (say I_row) to store the row number and array of integers (say I_col) to store the column number.\n",
    "\n",
    "   $$\n",
    "   \\begin{pmatrix}\n",
    "   3 & 0 & 1.5 & 0 \\\\ 2 & 4 & 2.2 & 0 \\\\ 0 & 2 & 6 & 0 \\\\ 0 & 0 & 4 & -9\n",
    "   \\end{pmatrix}\n",
    "   $$\n",
    "\n",
    "\n",
    "### 2. Gaussian elimination with pivoting\n",
    "Using GE with pivoting to solve the following linear system of equations\n",
    "   $$\n",
    "   \\begin{pmatrix}\n",
    "   0 & 1 & 0 \\\\ \n",
    "   1 & 1.001 & 1 \\\\ \n",
    "   100 & 100 & 0 \\\\ \n",
    "   \\end{pmatrix}\n",
    "   \\begin{pmatrix}\n",
    "   x_1 \\\\ \n",
    "   x_2 \\\\\n",
    "   x_3\n",
    "   \\end{pmatrix} =\n",
    "   \\begin{pmatrix}\n",
    "    0 \\\\ 1002 \\\\ 200\n",
    "   \\end{pmatrix}. \n",
    "   $$\n",
    "\n",
    "### 3. Sparse matrix storage and access\n",
    "To implement a direct solver such as Gaussian elimination, is it convenient to store a matrix as sparse matrix? What's about iterative solver: Jacobi iteration or Gauss-Seidel iteration?\n"
   ]
  },
  {
   "cell_type": "markdown",
   "id": "c8b649fb",
   "metadata": {},
   "source": [
    "## Part b (code implementations and testing)"
   ]
  },
  {
   "cell_type": "markdown",
   "id": "fcdee89c",
   "metadata": {},
   "source": [
    "### 4. Sparse matrix multiplication"
   ]
  },
  {
   "cell_type": "code",
   "execution_count": 1,
   "id": "3c76d049",
   "metadata": {},
   "outputs": [
    {
     "name": "stdout",
     "output_type": "stream",
     "text": [
      "[ 4.5  8.2  8.  -5. ]\n"
     ]
    }
   ],
   "source": [
    "import numpy as np\n",
    "\n",
    "A_real = np.array([3, 1.5, 2,4 ,2.2, 2, 6, 4, -9], dtype=np.float64)\n",
    "I_row = np.array([0, 0, 1, 1, 1, 2, 2, 3, 3], dtype=np.int32)\n",
    "I_col = np.array([0, 2, 0, 1, 2, 1, 2, 2, 3], dtype=np.int32) \n",
    "\n",
    "nonzero = len(A_real)\n",
    "dim = 4\n",
    "y = np.zeros(dim) + 1.\n",
    "z = np.zeros(dim)\n",
    "\n",
    "for k in range(nonzero):\n",
    "    z[I_row[k]] = z[I_row[k]] + A_real[k] * y[I_col[k]]\n",
    "\n",
    "print(z)"
   ]
  },
  {
   "cell_type": "markdown",
   "id": "1a0ef6c3",
   "metadata": {},
   "source": [
    "### 5. implementation of Gaussian elimination with pivoting"
   ]
  },
  {
   "cell_type": "code",
   "execution_count": 2,
   "id": "f8973dc6",
   "metadata": {},
   "outputs": [],
   "source": [
    "import numpy as np"
   ]
  },
  {
   "cell_type": "code",
   "execution_count": 3,
   "id": "c74b28b7",
   "metadata": {},
   "outputs": [],
   "source": [
    "def Gaussian_elimination_pivoting(A, b):\n",
    "    # To ensure that arrays are stored in double precision.\n",
    "    A = A.astype(np.float64)\n",
    "    b = b.astype(np.float64)\n",
    "     \n",
    "    # size of solution vector / the square matrix A\n",
    "    n=len(b) # or   n, n = A.shape\n",
    "        \n",
    "  \n",
    "    for i in range(n):          \n",
    "         # find the index of the maximal vlaue in array A[i:n,i]\n",
    "        maximum = abs(A[i,i])\n",
    "        max_index = i\n",
    "        for j in range(i+1,n):\n",
    "            if abs(A[j,i]) > maximum :\n",
    "                maximum = abs(A[j,i])               \n",
    "                max_index = j   \n",
    "                                       \n",
    "        \n",
    "        # swap two max_indexs: i and max_index[i]\n",
    "        temp = b[i]\n",
    "        b[i] = b[max_index]\n",
    "        b[max_index] = temp\n",
    "        for j in range(n):\n",
    "            temp = A[i,j]\n",
    "            A[i,j] = A[max_index,j]\n",
    "            A[max_index,j] = temp  \n",
    "            \n",
    "        \n",
    "        if np.abs(A[i,i])<1.e-15:\n",
    "            print('A is singular!')\n",
    "            return    \n",
    "\n",
    "\n",
    "        # Gaussian elimination\n",
    "        b[i] = b[i]/A[i,i]\n",
    "        A[i,:] = A[i,:]/A[i,i]\n",
    "        for j in range(i+1,n):\n",
    "            temp=A[j,i] \n",
    "            b[j] = b[j]-b[i]*temp\n",
    "            for k in range(i,n):\n",
    "                A[j,k] = A[j,k]-A[i,k]*temp           \n",
    "\n",
    "    \n",
    "    #create a new array to store the results\n",
    "    x = np.zeros(n)  # or    x=b\n",
    "    \n",
    "    x[n-1] = b[n-1]\n",
    "    for i in range(2,n+1):\n",
    "        x[n-i] = b[n-i]\n",
    "        for j in range(n-i+1, n):\n",
    "            x[n-i] = x[n-i] - A[n-i,j]*x[j]\n",
    "        \n",
    "    return x"
   ]
  },
  {
   "cell_type": "markdown",
   "id": "75dddd69",
   "metadata": {},
   "source": [
    "### 6. Test your implementation"
   ]
  },
  {
   "cell_type": "code",
   "execution_count": 4,
   "id": "27a741d3",
   "metadata": {
    "scrolled": true
   },
   "outputs": [
    {
     "name": "stdout",
     "output_type": "stream",
     "text": [
      "Solution by numpy solver: [0.9244595  0.31826746 0.15668124 0.14340388]\n",
      "Gaussian elimination:  [0.9244595  0.31826746 0.15668124 0.14340388]\n",
      "Residual:  [ 0.00000000e+00 -1.77635684e-15 -1.77635684e-15  0.00000000e+00]\n"
     ]
    }
   ],
   "source": [
    "A = np.array([[-10, 2, 0, 67], [-2, 50, -77, 1.e-5], [1, 7, 30, 8], [-10, -7, 0.001, 80]])\n",
    "b = np.array([1, 2, 9, 0])\n",
    "\n",
    "# numpy linear solvers\n",
    "x0 = np.linalg.solve(A,b)\n",
    "#x0 = np.linalg.inv(A).dot(b)\n",
    "print(\"Solution by numpy solver:\", x0)\n",
    "\n",
    "x = Gaussian_elimination_pivoting(A, b)\n",
    "print(\"Gaussian elimination: \",x)\n",
    "print(\"Residual: \", np.matmul(A,x)-b)"
   ]
  },
  {
   "cell_type": "code",
   "execution_count": 5,
   "id": "0fdce3df",
   "metadata": {
    "scrolled": true
   },
   "outputs": [
    {
     "name": "stdout",
     "output_type": "stream",
     "text": [
      "Solution by numpy solver: [-1.71140894  0.7355303   1.20933082 -0.464393    0.36761446  0.67563232\n",
      "  0.23702449  0.27497783 -0.02954729  0.40942985 -0.44522672 -0.12967958\n",
      " -0.71826008 -0.79501335  0.0452075   0.36954798  0.00283714  1.01739716\n",
      " -1.11238942  1.07959752]\n",
      "Gaussian elimination:  [-1.71140894  0.7355303   1.20933082 -0.464393    0.36761446  0.67563232\n",
      "  0.23702449  0.27497783 -0.02954729  0.40942985 -0.44522672 -0.12967958\n",
      " -0.71826008 -0.79501335  0.0452075   0.36954798  0.00283714  1.01739716\n",
      " -1.11238942  1.07959752]\n",
      "Residual:  [-3.88578059e-16  6.66133815e-16  1.11022302e-16 -6.66133815e-16\n",
      " -7.77156117e-16 -2.22044605e-16 -4.44089210e-16  1.11022302e-16\n",
      "  3.33066907e-16  2.22044605e-16  0.00000000e+00 -1.11022302e-16\n",
      "  0.00000000e+00  6.66133815e-16  5.55111512e-16 -3.33066907e-16\n",
      "  3.33066907e-16 -7.77156117e-16 -8.88178420e-16 -3.33066907e-16]\n"
     ]
    }
   ],
   "source": [
    "n=20\n",
    "A = np.random.rand(n, n)\n",
    "b = np.random.rand(n)\n",
    "\n",
    "# numpy linear solvers\n",
    "x0 = np.linalg.solve(A,b)\n",
    "#x0 = np.linalg.inv(A).dot(b)\n",
    "print(\"Solution by numpy solver:\", x0)\n",
    "\n",
    "x = Gaussian_elimination_pivoting(A, b)\n",
    "print(\"Gaussian elimination: \",x)\n",
    "print(\"Residual: \", np.matmul(A,x)-b)"
   ]
  },
  {
   "cell_type": "markdown",
   "id": "847eef5a",
   "metadata": {},
   "source": [
    "## Part c: Extension"
   ]
  },
  {
   "cell_type": "markdown",
   "id": "32d88b02",
   "metadata": {},
   "source": [
    "### 5. implement Gauss-Seidel iteration for spare matrix"
   ]
  },
  {
   "cell_type": "markdown",
   "id": "457e984c",
   "metadata": {},
   "source": [
    "using the following stopping criterion\n",
    "$$\n",
    "\\frac{\\|\\vec{b} - A\\vec{x} \\|}{\\|\\vec{b}\\|} < 10^{-6}.\n",
    "$$"
   ]
  },
  {
   "cell_type": "code",
   "execution_count": 10,
   "id": "247b8e69",
   "metadata": {},
   "outputs": [],
   "source": [
    "from numpy import linalg as LA\n",
    "\n",
    "def Gauss_Seidel_iteration_sparse(A_real, I_row, I_col, b, tol):\n",
    "    # To ensure that arrays are stored in double precision.\n",
    "    A_real = A_real.astype(np.float64)\n",
    "    b = b.astype(np.float64)\n",
    "\n",
    "    nonzero = len(A_real)\n",
    "    n=len(b) # dimensions of the linear system of equations   \n",
    "    D_diag=np.zeros(n)    # diagonal of matrix A   \n",
    "\n",
    "    n_diag = 0\n",
    "    for k in range(nonzero):\n",
    "        if (I_row[k] == I_col[k]): \n",
    "            n_diag = n_diag + 1\n",
    "            D_diag[I_row[k]] = A_real[k]   \n",
    "\n",
    "    if n_diag < n :\n",
    "        print('Diagonal element (%f %f)is zero!' % (i,i))\n",
    "        return\n",
    "        \n",
    "\n",
    "    P_real=np.zeros(nonzero)    # matrix P = D^{-1}(L+U)\n",
    "    i = 0\n",
    "    for k in range(nonzero):\n",
    "        if (I_row[k] > i): i = i + 1  \n",
    "        P_real[k] = A_real[k] / D_diag[i]\n",
    "        if (I_row[k] == I_col[k]): P_real[k] = 0.0\n",
    "\n",
    "        \n",
    "    p=np.zeros(n)   # vector p = D^{-1}b \n",
    "    for i in range(n):\n",
    "        p[i]=b[i]/D_diag[i] \n",
    "   \n",
    "            \n",
    "    x = np.zeros(n)   # create a new array to store the results, initialised as zero\n",
    "    Ax = np.zeros(n)  # Ax = A*x\n",
    "    \n",
    "    res = 2.*tol\n",
    "    max_it = 10000\n",
    "    it = 0\n",
    "    while (res > tol and it < max_it):\n",
    "        it = it + 1\n",
    "        i = 0\n",
    "        for k in range(nonzero):\n",
    "            if I_row[k] == i:\n",
    "                x[i] = p[i]\n",
    "                i = i + 1\n",
    "            x[I_row[k]] = x[I_row[k]] - P_real[k] * x[I_col[k]]\n",
    "\n",
    "        Ax = np.zeros(n)\n",
    "        for k in range(nonzero):\n",
    "            Ax[I_row[k]] = Ax[I_row[k]] + A_real[k] * x[I_col[k]]  \n",
    "            \n",
    "        res = LA.norm(Ax-b, 2)/LA.norm(b, 2)\n",
    "        print (\"res ===\", res)\n",
    "        \n",
    "    return x, it"
   ]
  },
  {
   "cell_type": "markdown",
   "id": "47af149f",
   "metadata": {},
   "source": [
    "### 6. test Gauss_Seidel_iteration_sparse(A_real, I_row, I_col, b, tol)"
   ]
  },
  {
   "cell_type": "code",
   "execution_count": 11,
   "id": "43b9107d",
   "metadata": {},
   "outputs": [
    {
     "name": "stdout",
     "output_type": "stream",
     "text": [
      "Solution by numpy solver: [ 0.02777778 -1.33333333  1.94444444  0.86419753]\n",
      "res === 0.48847289508300185\n",
      "res === 0.04884728950830017\n",
      "res === 0.004884728950829996\n",
      "res === 0.0004884728950829998\n",
      "res === 4.884728950825872e-05\n",
      "res === 4.884728950893008e-06\n",
      "res === 4.88472895135457e-07\n",
      "Solution by Guass Seidel iteration: [ 0.02777875 -1.33333275  1.94444425  0.86419744] after 7 iterations\n"
     ]
    }
   ],
   "source": [
    "# Test different linear solvers starting from the above two-dimensional linear system\n",
    "A = np.array([[3, 0, 1.5, 0], [2, 4, 2.2, 0], [0, 2, 6, 0], [0, 0, 4, -9]], dtype=np.float64)\n",
    "b = np.array([3, -1, 9, 0], dtype=np.float64)\n",
    "\n",
    "# numpy linear solver\n",
    "x0 = np.linalg.solve(A,b)\n",
    "print(\"Solution by numpy solver:\", x0)\n",
    "\n",
    "A_real = np.array([3, 1.5, 2,4 ,2.2, 2, 6, 4, -9], dtype=np.float64)\n",
    "I_row = np.array([0, 0, 1, 1, 1, 2, 2, 3, 3], dtype=np.int32)\n",
    "I_col = np.array([0, 2, 0, 1, 2, 1, 2, 2, 3], dtype=np.int32) \n",
    "tol = 1.e-6\n",
    "\n",
    "x, it = Gauss_Seidel_iteration_sparse(A_real, I_row, I_col, b, tol)\n",
    "print(f\"Solution by Guass Seidel iteration: {x} after {it} iterations\")"
   ]
  },
  {
   "cell_type": "markdown",
   "id": "27767f38",
   "metadata": {},
   "source": [
    "### 7. Compare Gauss_Seidel_iteration_sparse() with Gaussian_elimination_pivoting()"
   ]
  },
  {
   "cell_type": "markdown",
   "id": "b2678b5c",
   "metadata": {},
   "source": [
    "Notice that there is a condition for Gauss-Seidel iteration: non zero element on the diagonal of the system matrix."
   ]
  },
  {
   "cell_type": "code",
   "execution_count": null,
   "id": "a3630312",
   "metadata": {},
   "outputs": [],
   "source": [
    "n=20\n",
    "A = np.random.rand(n, n) # generate uniform distributed elements over [0, 1)\n",
    "b = np.random.rand(n)\n",
    "\n",
    "# create a spare matrix\n",
    "n = len(b)\n",
    "A_real = np.array([], dtype=np.float64)\n",
    "I_row = np.array([], dtype=np.int32)\n",
    "I_col = np.array([], dtype=np.int32) \n",
    "\n",
    "for i in range(n):\n",
    "    for j in range(n):\n",
    "        if A[i,j] < 0.5 and i != j:\n",
    "            A[i,j] = 0.0\n",
    "        else:\n",
    "            if i==j: A[i,j] = A[i,j] + 2.0          \n",
    "            A_real = np.append(A_real, A[i,j])\n",
    "            I_row = np.append(I_row, i)\n",
    "            I_col = np.append(I_col, j)            \n",
    " \n",
    "            \n",
    "x, it = Guass_Seidel_iteration_sparse(A_real, I_row, I_col, b, 1.e-6)\n",
    "print(f\"Solution by Guass Seidel iteration: {x} after {it} iterations\")\n",
    "\n",
    "x = Gaussian_elimination_pivoting(A, b)\n",
    "print(\"Gaussian elimination: \",x)\n",
    "print(\"Residual: \", np.matmul(A,x)-b)"
   ]
  },
  {
   "cell_type": "code",
   "execution_count": null,
   "id": "247510f4",
   "metadata": {},
   "outputs": [],
   "source": []
  }
 ],
 "metadata": {
  "kernelspec": {
   "display_name": "Python 3 (ipykernel)",
   "language": "python",
   "name": "python3"
  },
  "language_info": {
   "codemirror_mode": {
    "name": "ipython",
    "version": 3
   },
   "file_extension": ".py",
   "mimetype": "text/x-python",
   "name": "python",
   "nbconvert_exporter": "python",
   "pygments_lexer": "ipython3",
   "version": "3.7.11"
  }
 },
 "nbformat": 4,
 "nbformat_minor": 5
}
