{
 "cells": [
  {
   "cell_type": "markdown",
   "id": "e66045a0-31f5-416e-95ba-3cd5dc26e231",
   "metadata": {},
   "source": [
    "# WS02: Floating point number systems"
   ]
  },
  {
   "cell_type": "markdown",
   "id": "9f8b6dce-973d-4f8c-804e-e90a9a885ac8",
   "metadata": {},
   "source": [
    "These exercises are indented to give you practice at using the material on numerical approximation and are intended to reinforce the material that was covered in lectures.\n",
    "\n",
    "Please attempt the worksheet before your tutorial. Support is available in your tutorial or in the Class Team."
   ]
  },
  {
   "cell_type": "markdown",
   "id": "3c3189b1-1c49-4243-bb3b-1bda1dc09bec",
   "metadata": {},
   "source": [
    "# Part a (pen and paper warm up)"
   ]
  },
  {
   "cell_type": "markdown",
   "id": "18b0631e-8e13-4140-a0ee-e975c21fdb8f",
   "metadata": {},
   "source": [
    "### 1. Number systems\n",
    "\n",
    "Consider the number system given by $(\\beta, t, L, U) = (10, 3, -3, 3)$ which gives\n",
    "\n",
    "$$\n",
    "x = \\pm .b_1 b_2 b_3 \\times 10^e \\text{ where } -3 \\le e \\le 3.\n",
    "$$\n",
    "\n",
    "-  How many numbers can be represented by this normalised system?\n",
    "\n",
    "-  What are the two largest positive numbers in this system?\n",
    "\n",
    "-  What are the two smallest positive numbers?\n",
    "\n",
    "-  What is the smallest possible difference between two numbers in this system?\n",
    "\n",
    "-  What is the smallest possible difference in this system, $x$ and $y$, for which $x < 100 < y$?"
   ]
  },
  {
   "cell_type": "markdown",
   "id": "bf011b66-1ae0-4c07-85ab-0ed3c94e8bd6",
   "metadata": {},
   "source": [
    "### 2. Do floating point operations commute?\n",
    "\n",
    "-  Let\n",
    "\n",
    "    $$\n",
    "     x = .85 \\times 10^0, \\quad\n",
    "     y = .3 \\times 10^{-2}, \\quad\n",
    "     z = .6 \\times 10^{-2},\n",
    "    $$\n",
    "    \n",
    "    in the system $(\\beta, t, L, U) = (10, 2, -3, 3)$. Evaluate the following expression in this number system.\n",
    "    \n",
    "    $$\n",
    "    x+(y+y), \\quad\n",
    "    (x+y)+y, \\quad\n",
    "    x+(z+z), \\quad\n",
    "    (x+z) +z.\n",
    "    $$\n",
    "   \n",
    "    (Also note the benefits of adding the *smallest* terms first!)\n",
    "\n",
    " \n",
    "-  Given the number system $(\\beta, t, L, U) = (10, 3, -3, 3)$ and $x = .100\\times 10^3$, find nonzero numbers $y$ and $z$ from this system for which $fl(x+y) = x$ and $fl(x+z) > x$."
   ]
  },
  {
   "cell_type": "markdown",
   "id": "b40b71be-f4fa-4db4-9ba2-e07f76afb62c",
   "metadata": {},
   "source": [
    "# Part b (floating point numbers in python)"
   ]
  },
  {
   "cell_type": "markdown",
   "id": "e4909e3a-0294-4224-8915-942f454e88a0",
   "metadata": {},
   "source": [
    "### 3. Floating point types in `numpy`\n",
    "\n",
    "`numpy` has information about it's floating point types built in. Run this code block and interpret the answers."
   ]
  },
  {
   "cell_type": "code",
   "execution_count": 1,
   "id": "760c8fd4-83cf-4775-8ebf-da75602c309e",
   "metadata": {},
   "outputs": [
    {
     "name": "stdout",
     "output_type": "stream",
     "text": [
      "Help on class finfo in module numpy:\n",
      "\n",
      "class finfo(builtins.object)\n",
      " |  finfo(dtype)\n",
      " |  \n",
      " |  finfo(dtype)\n",
      " |  \n",
      " |  Machine limits for floating point types.\n",
      " |  \n",
      " |  Attributes\n",
      " |  ----------\n",
      " |  bits : int\n",
      " |      The number of bits occupied by the type.\n",
      " |  eps : float\n",
      " |      The difference between 1.0 and the next smallest representable float\n",
      " |      larger than 1.0. For example, for 64-bit binary floats in the IEEE-754\n",
      " |      standard, ``eps = 2**-52``, approximately 2.22e-16.\n",
      " |  epsneg : float\n",
      " |      The difference between 1.0 and the next smallest representable float\n",
      " |      less than 1.0. For example, for 64-bit binary floats in the IEEE-754\n",
      " |      standard, ``epsneg = 2**-53``, approximately 1.11e-16.\n",
      " |  iexp : int\n",
      " |      The number of bits in the exponent portion of the floating point\n",
      " |      representation.\n",
      " |  machar : MachAr\n",
      " |      The object which calculated these parameters and holds more\n",
      " |      detailed information.\n",
      " |  machep : int\n",
      " |      The exponent that yields `eps`.\n",
      " |  max : floating point number of the appropriate type\n",
      " |      The largest representable number.\n",
      " |  maxexp : int\n",
      " |      The smallest positive power of the base (2) that causes overflow.\n",
      " |  min : floating point number of the appropriate type\n",
      " |      The smallest representable number, typically ``-max``.\n",
      " |  minexp : int\n",
      " |      The most negative power of the base (2) consistent with there\n",
      " |      being no leading 0's in the mantissa.\n",
      " |  negep : int\n",
      " |      The exponent that yields `epsneg`.\n",
      " |  nexp : int\n",
      " |      The number of bits in the exponent including its sign and bias.\n",
      " |  nmant : int\n",
      " |      The number of bits in the mantissa.\n",
      " |  precision : int\n",
      " |      The approximate number of decimal digits to which this kind of\n",
      " |      float is precise.\n",
      " |  resolution : floating point number of the appropriate type\n",
      " |      The approximate decimal resolution of this type, i.e.,\n",
      " |      ``10**-precision``.\n",
      " |  tiny : float\n",
      " |      The smallest positive floating point number with full precision\n",
      " |      (see Notes).\n",
      " |  \n",
      " |  Parameters\n",
      " |  ----------\n",
      " |  dtype : float, dtype, or instance\n",
      " |      Kind of floating point data-type about which to get information.\n",
      " |  \n",
      " |  See Also\n",
      " |  --------\n",
      " |  MachAr : The implementation of the tests that produce this information.\n",
      " |  iinfo : The equivalent for integer data types.\n",
      " |  spacing : The distance between a value and the nearest adjacent number\n",
      " |  nextafter : The next floating point value after x1 towards x2\n",
      " |  \n",
      " |  Notes\n",
      " |  -----\n",
      " |  For developers of NumPy: do not instantiate this at the module level.\n",
      " |  The initial calculation of these parameters is expensive and negatively\n",
      " |  impacts import times.  These objects are cached, so calling ``finfo()``\n",
      " |  repeatedly inside your functions is not a problem.\n",
      " |  \n",
      " |  Note that ``tiny`` is not actually the smallest positive representable\n",
      " |  value in a NumPy floating point type. As in the IEEE-754 standard [1]_,\n",
      " |  NumPy floating point types make use of subnormal numbers to fill the\n",
      " |  gap between 0 and ``tiny``. However, subnormal numbers may have\n",
      " |  significantly reduced precision [2]_.\n",
      " |  \n",
      " |  References\n",
      " |  ----------\n",
      " |  .. [1] IEEE Standard for Floating-Point Arithmetic, IEEE Std 754-2008,\n",
      " |         pp.1-70, 2008, http://www.doi.org/10.1109/IEEESTD.2008.4610935\n",
      " |  .. [2] Wikipedia, \"Denormal Numbers\",\n",
      " |         https://en.wikipedia.org/wiki/Denormal_number\n",
      " |  \n",
      " |  Methods defined here:\n",
      " |  \n",
      " |  __repr__(self)\n",
      " |      Return repr(self).\n",
      " |  \n",
      " |  __str__(self)\n",
      " |      Return str(self).\n",
      " |  \n",
      " |  ----------------------------------------------------------------------\n",
      " |  Static methods defined here:\n",
      " |  \n",
      " |  __new__(cls, dtype)\n",
      " |      Create and return a new object.  See help(type) for accurate signature.\n",
      " |  \n",
      " |  ----------------------------------------------------------------------\n",
      " |  Data descriptors defined here:\n",
      " |  \n",
      " |  __dict__\n",
      " |      dictionary for instance variables (if defined)\n",
      " |  \n",
      " |  __weakref__\n",
      " |      list of weak references to the object (if defined)\n",
      "\n",
      "None\n",
      "float Machine parameters for float64\n",
      "---------------------------------------------------------------\n",
      "precision =  15   resolution = 1.0000000000000001e-15\n",
      "machep =    -52   eps =        2.2204460492503131e-16\n",
      "negep =     -53   epsneg =     1.1102230246251565e-16\n",
      "minexp =  -1022   tiny =       2.2250738585072014e-308\n",
      "maxexp =   1024   max =        1.7976931348623157e+308\n",
      "nexp =       11   min =        -max\n",
      "---------------------------------------------------------------\n",
      "\n",
      "float64 Machine parameters for float64\n",
      "---------------------------------------------------------------\n",
      "precision =  15   resolution = 1.0000000000000001e-15\n",
      "machep =    -52   eps =        2.2204460492503131e-16\n",
      "negep =     -53   epsneg =     1.1102230246251565e-16\n",
      "minexp =  -1022   tiny =       2.2250738585072014e-308\n",
      "maxexp =   1024   max =        1.7976931348623157e+308\n",
      "nexp =       11   min =        -max\n",
      "---------------------------------------------------------------\n",
      "\n",
      "float32 Machine parameters for float32\n",
      "---------------------------------------------------------------\n",
      "precision =   6   resolution = 1.0000000e-06\n",
      "machep =    -23   eps =        1.1920929e-07\n",
      "negep =     -24   epsneg =     5.9604645e-08\n",
      "minexp =   -126   tiny =       1.1754944e-38\n",
      "maxexp =    128   max =        3.4028235e+38\n",
      "nexp =        8   min =        -max\n",
      "---------------------------------------------------------------\n",
      "\n",
      "float16 Machine parameters for float16\n",
      "---------------------------------------------------------------\n",
      "precision =   3   resolution = 1.00040e-03\n",
      "machep =    -10   eps =        9.76562e-04\n",
      "negep =     -11   epsneg =     4.88281e-04\n",
      "minexp =    -14   tiny =       6.10352e-05\n",
      "maxexp =     16   max =        6.55040e+04\n",
      "nexp =        5   min =        -max\n",
      "---------------------------------------------------------------\n",
      "\n"
     ]
    }
   ],
   "source": [
    "import numpy as np\n",
    "\n",
    "print(help(np.finfo))\n",
    "\n",
    "for dtype in [float, np.double, np.single, np.half]:\n",
    "    print(dtype.__name__, np.finfo(dtype))"
   ]
  },
  {
   "cell_type": "markdown",
   "id": "22a19d80-b8af-4046-b876-8ac0055e23b8",
   "metadata": {},
   "source": [
    "### 4. Equality of floating point representations\n",
    "\n",
    "When working with floating point numbers you cannot simply test for equality (see also [this stackoverflow question](https://stackoverflow.com/questions/4915462/how-should-i-do-floating-point-comparison/4915891#4915891)).\n",
    "\n",
    "We want to test if we have computed the square root of two accurately."
   ]
  },
  {
   "cell_type": "code",
   "execution_count": 2,
   "id": "51802a5f-8bd7-4e6b-890e-bf22ba309a76",
   "metadata": {},
   "outputs": [
    {
     "name": "stdout",
     "output_type": "stream",
     "text": [
      "a=1.4142135623730951, type(a)=<class 'numpy.float64'>\n",
      "b=2.0000000000000004\n",
      "False\n",
      "4.440892098500626e-16\n"
     ]
    }
   ],
   "source": [
    "a = np.sqrt(2.0)\n",
    "print(f\"a={a}, type(a)={type(a)}\")\n",
    "\n",
    "b = a*a\n",
    "print(f\"b={b}\")\n",
    "\n",
    "print(b == 2.0)\n",
    "print(b-2.0)"
   ]
  },
  {
   "cell_type": "markdown",
   "id": "42a0fc65-e119-4dab-a09a-1947642bf440",
   "metadata": {},
   "source": [
    "Disaster! One option is to use [`numpy.isclose`](https://numpy.org/doc/stable/reference/generated/numpy.isclose.html), which roughly equivalent to this code:"
   ]
  },
  {
   "cell_type": "code",
   "execution_count": 3,
   "id": "d9e2b667-79f0-46e8-81a3-e32afa79b547",
   "metadata": {},
   "outputs": [
    {
     "name": "stdout",
     "output_type": "stream",
     "text": [
      "True\n",
      "True\n"
     ]
    }
   ],
   "source": [
    "def my_isclose(x, y, tol=1.0e-9):\n",
    "    return abs(x - y) < tol\n",
    "\n",
    "print(my_isclose(a*a, b))\n",
    "print(np.isclose(a*a, b))"
   ]
  },
  {
   "cell_type": "markdown",
   "id": "ba1d8060-5511-40e3-8c43-9ed12d81531c",
   "metadata": {},
   "source": [
    "### 5. What's the best way to write a function\n",
    "\n",
    "Show that two functions\n",
    "\n",
    "   $$\n",
    "   f(x) = x ( \\sqrt{x+1} - \\sqrt{x}) \\qquad \\mbox{ and } \\qquad\n",
    "   g(x) = \\frac{x}{\\sqrt{x+1} + \\sqrt{x}},\n",
    "   $$\n",
    "   are equivalent.\n",
    "   Evaluate $f(500)$ and $g(500)$ using double precision (`np.float64`), single precision (`np.float32`) and half precision (`np.float16`). You should use `numpy.sqrt` to compute square roots.\n",
    "   Explain why these answers are different and comment on which is the more accurate and why."
   ]
  },
  {
   "cell_type": "code",
   "execution_count": 4,
   "id": "d972513e-2c5b-4f13-bbc7-363ac04024ef",
   "metadata": {},
   "outputs": [],
   "source": [
    "import numpy as np\n",
    "\n",
    "def f(x):\n",
    "    return x*(np.sqrt(x+1)-np.sqrt(x))\n",
    "\n",
    "def g(x):\n",
    "    return x/(np.sqrt(x+1)+np.sqrt(x))"
   ]
  },
  {
   "cell_type": "code",
   "execution_count": 5,
   "id": "6b1062b2-e717-4cfc-b9d2-ab310bc57c9d",
   "metadata": {},
   "outputs": [
    {
     "name": "stdout",
     "output_type": "stream",
     "text": [
      "f= 11.174755300746853 g= 11.174755300747199\n",
      "f= 11.174829567274003 g= 11.174755337843376\n",
      "f= 11.827142799695878 g= 11.175081178213036\n"
     ]
    }
   ],
   "source": [
    "x =  np.float64(500)\n",
    "print(\"f=\", f(x), \"g=\", g(x))\n",
    "x =  np.float32(500)\n",
    "print(\"f=\", f(x), \"g=\", g(x))\n",
    "x =  np.float16(500)\n",
    "print(\"f=\", f(x), \"g=\", g(x))"
   ]
  },
  {
   "cell_type": "markdown",
   "id": "fba922c6-d9d6-44c0-ba7f-66da4f2240e2",
   "metadata": {},
   "source": [
    "### 6. Ordering of floating point calculations in practice\n",
    "\n",
    "For this question you are required to write a function `pySquared`. This function should make use of the formula\n",
    "\n",
    "$$\n",
    "\\frac{1}{6} \\pi^2 = \\sum_{k=1}^\\infty \\frac{1}{k^2}\n",
    "$$\n",
    "\n",
    "to estimate the value of $\\pi^2$ by computing the partial sum\n",
    "\n",
    "$$\n",
    "\\pi^2 \\approx 6 \\sum_{k=1}^n \\frac{1}{k^2}\n",
    "$$\n",
    "\n",
    "for large values of $n$."
   ]
  },
  {
   "cell_type": "markdown",
   "id": "62d3a177-3361-4548-acbe-097da25fc658",
   "metadata": {},
   "source": [
    "a.  Using double precision and the predefined constant `pi`, produce a table that gives the absolute error in the approximation to $\\pi^2$ that you obtain using your function `piSquared` with $n = \\{10^6, 10^7, 10^8, 10^9\\}$. What is the difference between your answers when $n=10^8$ and $10^9$? Can you explain what is happening?"
   ]
  },
  {
   "cell_type": "code",
   "execution_count": 6,
   "id": "b5619d12-3129-43e8-814c-cf57952ecb65",
   "metadata": {},
   "outputs": [
    {
     "name": "stdout",
     "output_type": "stream",
     "text": [
      "n=1000000.0 piS=9.86959840109262 error=5.999996737671154e-06\n",
      "n=10000000.0 piS=9.869603801083557 error=6.000058014876686e-07\n",
      "n=100000000.0 piS=9.86960434700745 error=5.40819087291311e-08\n",
      "n=1000000000.0 piS=9.86960434700745 error=5.40819087291311e-08\n"
     ]
    }
   ],
   "source": [
    "def piSquared(n):\n",
    "    piS = 0.0\n",
    "    k=1.0\n",
    "    while k < (n + 0.1) :\n",
    "        piS = piS + 1./k/k\n",
    "        k = k + 1.0\n",
    "        \n",
    "    return 6.0*piS\n",
    "\n",
    "n=1.e6\n",
    "for i in range(4):\n",
    "    piS = piSquared(n)\n",
    "    print(f\"n={n}\", f\"piS={piS}\", f\"error={np.abs(piS - np.pi*np.pi)}\")\n",
    "    n = n*10.0"
   ]
  },
  {
   "cell_type": "markdown",
   "id": "cd1c9e10-5fea-471a-81f6-a42d7798baf3",
   "metadata": {},
   "source": [
    "b.  Now modify the function `piSquared` to compute the same sum of the $n$ terms but to add them up in the opposite order (i.e., start with the smallest terms first - which correspond to the largest values of $k$ first). Call your new script `piSquared_v2`."
   ]
  },
  {
   "cell_type": "code",
   "execution_count": 7,
   "id": "ea0125bc-222a-439f-afc1-687003798c82",
   "metadata": {},
   "outputs": [
    {
     "name": "stdout",
     "output_type": "stream",
     "text": [
      "n=1000000.0 piS=9.869598401092357 error=5.999997000571966e-06\n",
      "n=10000000.0 piS=9.869603801089388 error=5.999999697081648e-07\n",
      "n=100000000.0 piS=9.869604341089358 error=5.999999963535174e-08\n",
      "n=1000000000.0 piS=9.869604395089357 error=6.000000496442226e-09\n"
     ]
    }
   ],
   "source": [
    "def piSquared_v2(n):\n",
    "    piS = 0.0\n",
    "    k = n\n",
    "    while k > 0.5 :\n",
    "        piS = piS + 1./k/k\n",
    "        k = k - 1.0\n",
    "        \n",
    "    return 6.0*piS\n",
    "\n",
    "n=1.e6\n",
    "for i in range(4):\n",
    "    piS = piSquared_v2(n)\n",
    "    print(f\"n={n}\", f\"piS={piS}\", f\"error={np.abs(piS - np.pi*np.pi)}\")\n",
    "    n = n*10.0"
   ]
  },
  {
   "cell_type": "markdown",
   "id": "44d23c00-ac44-4a41-b577-9b85bf7ce4e8",
   "metadata": {},
   "source": [
    "Produce a table that gives the absolute error in the approximation to $\\pi^2$ that you obtain using your modified `piSquared_v2` with $n = \\{10^6, 10^7, 10^8, 10^9\\}$. What difference do you see when using the modified function? What is the explanation for this function being superior to the original version?"
   ]
  },
  {
   "cell_type": "code",
   "execution_count": null,
   "id": "4798a16b",
   "metadata": {},
   "outputs": [],
   "source": []
  }
 ],
 "metadata": {
  "kernelspec": {
   "display_name": "Python 3 (ipykernel)",
   "language": "python",
   "name": "python3"
  },
  "language_info": {
   "codemirror_mode": {
    "name": "ipython",
    "version": 3
   },
   "file_extension": ".py",
   "mimetype": "text/x-python",
   "name": "python",
   "nbconvert_exporter": "python",
   "pygments_lexer": "ipython3",
   "version": "3.7.11"
  }
 },
 "nbformat": 4,
 "nbformat_minor": 5
}
