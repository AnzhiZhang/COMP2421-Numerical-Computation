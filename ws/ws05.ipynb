{
 "cells": [
  {
   "cell_type": "markdown",
   "id": "59cdb5e3",
   "metadata": {},
   "source": [
    "# WS05: Sparse systems and pivoting"
   ]
  },
  {
   "cell_type": "markdown",
   "id": "04385311",
   "metadata": {},
   "source": [
    "These exercises are indented to give you practice at using the material on numerical approximation and are intended to reinforce the material that was covered in lectures.\n",
    "\n",
    "Please attempt the worksheet before your tutorial. Support is available in your tutorial or in the Class Team."
   ]
  },
  {
   "cell_type": "markdown",
   "id": "8f2d1101",
   "metadata": {},
   "source": [
    "*[Partial solutions](./ws05_implemented) are available to check your understanding. Please create [Issues](https://gitlab.com/comp2421-numerical-computation/book/-/issues) and [Merge requests](https://gitlab.com/comp2421-numerical-computation/book/-/merge_requests) with your solutions or share your answers for peer feedback in the class team [Worksheet solutions channel](https://teams.microsoft.com/l/channel/19%3a43e9bb00fad04d8d8c85399b694657f4%40thread.tacv2/Worksheet%2520solutions?groupId=54035a7f-8376-45f0-b7b8-d4fac9d5ab54&tenantId=bdeaeda8-c81d-45ce-863e-5232a535b7cb)*"
   ]
  },
  {
   "cell_type": "markdown",
   "id": "3edead90",
   "metadata": {},
   "source": [
    "## Part a (pen and paper warm up)"
   ]
  },
  {
   "cell_type": "markdown",
   "id": "331c50a3",
   "metadata": {},
   "source": [
    "### 1. Sparse matrix storage\n",
    "Write down the three arrays: array of floating point numbers (say A_real) to store the non-zero entries, array of integers (say I_row) to store the row number and array of integers (say I_col) to store the column number.\n",
    "\n",
    "   $$\n",
    "   \\begin{pmatrix}\n",
    "   3 & 0 & 1.5 & 0 \\\\ 2 & 4 & 2.2 & 0 \\\\ 0 & 2 & 6 & 0 \\\\ 0 & 0 & 4 & -9\n",
    "   \\end{pmatrix}\n",
    "   $$\n",
    "\n",
    "\n",
    "### 2. Gaussian elimination with pivoting\n",
    "Using GE with pivoting to solve the following linear system of equations\n",
    "\n",
    "   $$\n",
    "   \\begin{pmatrix}\n",
    "   0 & 1 & 0 \\\\ \n",
    "   1 & 1.001 & 1 \\\\ \n",
    "   100 & 100 & 0 \\\\ \n",
    "   \\end{pmatrix}\n",
    "   \\begin{pmatrix}\n",
    "   x_1 \\\\ \n",
    "   x_2 \\\\\n",
    "   x_3\n",
    "   \\end{pmatrix} =\n",
    "   \\begin{pmatrix}\n",
    "    0 \\\\ 1002 \\\\ 200\n",
    "   \\end{pmatrix}. \n",
    "   $$\n",
    "\n",
    "### 3. Sparse matrix storage and access\n",
    "To implement a direct solver such as Gaussian elimination, is it convenient to store a matrix as sparse matrix? What's about iterative solver: Jacobi iteration or Gauss-Seidel iteration?\n"
   ]
  },
  {
   "cell_type": "markdown",
   "id": "6df8667f",
   "metadata": {},
   "source": [
    "## Part b (code implementations and testing)"
   ]
  },
  {
   "cell_type": "markdown",
   "id": "df82e1f7",
   "metadata": {},
   "source": [
    "### 4. Sparse matrix multiplication"
   ]
  },
  {
   "cell_type": "code",
   "execution_count": null,
   "id": "8555e873",
   "metadata": {},
   "outputs": [],
   "source": [
    "import numpy as np\n",
    "\n",
    "A_real = np.array([3, 1.5, 2,4 ,2.2, 2, 6, 4, -9], dtype=np.float64)\n",
    "I_row = np.array([0, 0, 1, 1, 1, 2, 2, 3, 3], dtype=np.int32)\n",
    "I_col = np.array([0, 2, 0, 1, 2, 1, 2, 2, 3], dtype=np.int32) \n",
    "\n",
    "nonzero = len(A_real)\n",
    "dim = 4\n",
    "y = np.zeros(dim) + 1.\n",
    "z = np.zeros(dim)\n",
    "\n",
    "for k in range(nonzero):\n",
    "    # insert code to compute z=A*y\n",
    "\n",
    "print(z)"
   ]
  },
  {
   "cell_type": "markdown",
   "id": "fa51caf2",
   "metadata": {},
   "source": [
    "### 5. implementation of Gaussian elimination with pivoting"
   ]
  },
  {
   "cell_type": "code",
   "execution_count": null,
   "id": "f6325554",
   "metadata": {},
   "outputs": [],
   "source": [
    "import numpy as np"
   ]
  },
  {
   "cell_type": "code",
   "execution_count": null,
   "id": "e90775d1",
   "metadata": {},
   "outputs": [],
   "source": [
    "# copy from ws03\n",
    "def upper_triangular_solve(A, b):\n",
    "    \"\"\"\n",
    "    Solve the system  A x = b  where A is assumed to be lower triangular,\n",
    "    i.e. A(i,j) = 0 for j > i, and the diagonal is assumed to be nonzero,\n",
    "    i.e. A(i,i) != 0.\n",
    "    \n",
    "    The code checks that A is lower triangular and converts A and b to\n",
    "    double precision before computing.\n",
    "\n",
    "    ARGUMENTS:  A   lower triangular n x n array\n",
    "                b   right hand side column n-vector\n",
    "\n",
    "    RETURNS:    x   column n-vector solution\n",
    "    \"\"\"\n",
    "\n",
    "    '''\n",
    "    Copy your previous implementation here\n",
    "    '''"
   ]
  },
  {
   "cell_type": "code",
   "execution_count": null,
   "id": "ec5aa07a",
   "metadata": {},
   "outputs": [],
   "source": [
    "def Gaussian_elimination_pivoting(A, b):\n",
    "    # To ensure that arrays are stored in double precision.\n",
    "    A = A.astype(np.float64)\n",
    "    b = b.astype(np.float64)\n",
    "     \n",
    "    # size of solution vector\n",
    "    n=len(b)\n",
    "        \n",
    "    for i in range(n):          \n",
    "        # find the index of the maximal value in array in column i below A[i,i]\n",
    "        maximum = abs(A[i,i])\n",
    "        max_index = i\n",
    "        for j in range(i+1,n):\n",
    "            if abs(A[j,i]) > maximum :\n",
    "                maximum = abs(A[j,i])               \n",
    "                max_index = j   \n",
    "                                       \n",
    "        '''\n",
    "        swap row i and row max_index\n",
    "        '''\n",
    "            \n",
    "        if np.abs(A[i,i])<1.e-15:\n",
    "            print('A is singular!')\n",
    "            return    \n",
    "\n",
    "        '''\n",
    "        Apply Gaussian elimination to both matrix A and right-hand side vector b\n",
    "        A becomes an upper triangular matrix at the end of this loop\n",
    "        '''      \n",
    "  \n",
    "    # solve using previous worksheet\n",
    "    return upper_triangular_solve(A, b)"
   ]
  },
  {
   "cell_type": "markdown",
   "id": "9332f276",
   "metadata": {},
   "source": [
    "### 6. Test your implementation"
   ]
  },
  {
   "cell_type": "code",
   "execution_count": null,
   "id": "b9bfe80a",
   "metadata": {
    "scrolled": true
   },
   "outputs": [],
   "source": [
    "A = np.array([[-10, 2, 0, 67], [-2, 50, -77, 1.e-5], [1, 7, 30, 8], [-10, -7, 0.001, 80]])\n",
    "b = np.array([1, 2, 9, 0])\n",
    "\n",
    "# numpy linear solvers\n",
    "x0 = np.linalg.solve(A,b)\n",
    "print(\"Solution by numpy solver:\", x0)\n",
    "\n",
    "x = Gaussian_elimination_pivoting(A, b)\n",
    "print(\"Gaussian elimination: \",x)\n",
    "print(\"Residual: \", np.matmul(A,x)-b)"
   ]
  },
  {
   "cell_type": "code",
   "execution_count": null,
   "id": "754139da",
   "metadata": {
    "scrolled": true
   },
   "outputs": [],
   "source": [
    "n=20\n",
    "A = np.random.rand(n, n)\n",
    "b = np.random.rand(n)\n",
    "\n",
    "# numpy linear solvers\n",
    "x0 = np.linalg.solve(A,b)\n",
    "print(\"Solution by numpy solver:\", x0)\n",
    "\n",
    "x = Gaussian_elimination_pivoting(A, b)\n",
    "print(\"Gaussian elimination: \",x)\n",
    "print(\"Residual: \", np.matmul(A,x)-b)"
   ]
  },
  {
   "cell_type": "markdown",
   "id": "2bd89c99",
   "metadata": {},
   "source": [
    "## Part c: Extension"
   ]
  },
  {
   "cell_type": "markdown",
   "id": "e31a2518",
   "metadata": {},
   "source": [
    "### 5. implement Jacobi iteration for sparse matrix"
   ]
  },
  {
   "cell_type": "markdown",
   "id": "a984c7e3",
   "metadata": {},
   "source": [
    "using the following stopping criterion\n",
    "\n",
    "$$\n",
    "\\frac{\\|\\vec{b} - A\\vec{x} \\|}{\\|\\vec{b}\\|} < 10^{-6}.\n",
    "$$"
   ]
  },
  {
   "cell_type": "code",
   "execution_count": null,
   "id": "3fecf3ce",
   "metadata": {},
   "outputs": [],
   "source": [
    "def norm(v):\n",
    "    '''\n",
    "    Insert code to compute Euclidean norm.\n",
    "    '''\n",
    "\n",
    "def Jacobi_iteration_sparse(A_real, I_row, I_col, b, tol):\n",
    "    # To ensure that arrays are stored in double precision.\n",
    "    A_real = A_real.astype(np.float64)\n",
    "    b = b.astype(np.float64)\n",
    "\n",
    "    nonzero = len(A_real) # number of nonzero elements\n",
    "    n=len(b)              # dimensions of the linear system of equations   \n",
    "    D_diag=np.zeros(n)    # diagonal of matrix A   \n",
    "\n",
    "    n_diag = 0            # count the dimensions\n",
    "    for k in range(nonzero):\n",
    "        if (I_row[k] == I_col[k]): \n",
    "        '''\n",
    "        Insert code to find the diagonal array D_diag of matrix A_real\n",
    "        '''\n",
    "\n",
    "    if n_diag < n :\n",
    "        print('Zero diagonal element!')\n",
    "        return\n",
    "        \n",
    "\n",
    "    P_real=np.zeros(nonzero)    # matrix P = D^{-1}(L+U)\n",
    "    i = 0\n",
    "    for k in range(nonzero):\n",
    "        '''\n",
    "        Insert code to compute matrix P\n",
    "        '''\n",
    "\n",
    "    res = 2.*tol     # initialise a residual\n",
    "    max_it = 1000    # set a maximal number of iterations in case the programme comes to a dead loop\n",
    "    it = 0           # record the total number of iterations\n",
    "    while (res > tol and it < max_it):\n",
    "        it = it + 1\n",
    "        \n",
    "        xnew = p.copy()\n",
    "        for k in range(nonzero):\n",
    "            xnew[I_row[k]] = xnew[I_row[k]] - P_real[k] * x[I_col[k]]\n",
    "        x = xnew.copy()\n",
    "            \n",
    "        Ax = np.zeros(n)\n",
    "        for k in range(nonzero):\n",
    "            '''\n",
    "            Insert code to compute Ax = A*x\n",
    "            '''\n",
    "            \n",
    "        res = norm(Ax-b) / norm(b)\n",
    "        print (\"res ===\", res)\n",
    "        \n",
    "    return x, it"
   ]
  },
  {
   "cell_type": "markdown",
   "id": "71ad93ff",
   "metadata": {},
   "source": [
    "### 6. Test `Jacobi_iteration_sparse`"
   ]
  },
  {
   "cell_type": "code",
   "execution_count": null,
   "id": "85cc9280",
   "metadata": {},
   "outputs": [],
   "source": [
    "# Test different linear solvers starting from the above two-dimensional linear system\n",
    "A = np.array([[3, 0, 1.5, 0], [2, 4, 2.2, 0], [0, 2, 6, 0], [0, 0, 4, -9]], dtype=np.float64)\n",
    "b = np.array([3, -1, 9, 0], dtype=np.float64)\n",
    "\n",
    "# numpy linear solver\n",
    "x0 = np.linalg.solve(A,b)\n",
    "print(\"Solution by numpy solver:\", x0)\n",
    "\n",
    "A_real = np.array([3, 1.5, 2,4 ,2.2, 2, 6, 4, -9], dtype=np.float64)\n",
    "I_row = np.array([0, 0, 1, 1, 1, 2, 2, 3, 3], dtype=np.int32)\n",
    "I_col = np.array([0, 2, 0, 1, 2, 1, 2, 2, 3], dtype=np.int32) \n",
    "tol = 1.e-6\n",
    "\n",
    "x, it = Jacobi_iteration_sparse(A_real, I_row, I_col, b, tol)\n",
    "print(f\"Solution by Jacobi iteration: {x} after {it} iterations\")"
   ]
  },
  {
   "cell_type": "markdown",
   "id": "0b266644",
   "metadata": {},
   "source": [
    "### 7. Compare `Jacobi_iteration_sparse()` with `Gaussian_elimination_pivoting()`"
   ]
  },
  {
   "cell_type": "markdown",
   "id": "b552d4d7",
   "metadata": {},
   "source": [
    "Notice that there is a condition for Jacobi iteration: non zero element on the diagonal of the system matrix."
   ]
  },
  {
   "cell_type": "code",
   "execution_count": null,
   "id": "a36a7347",
   "metadata": {},
   "outputs": [],
   "source": [
    "n=20\n",
    "B = np.random.rand(n, n)\n",
    "eps = 10\n",
    "A = eps * np.eye(n) + B * B.T\n",
    "b = np.random.rand(n)\n",
    "\n",
    "# create a spare matrix\n",
    "n = len(b)\n",
    "A_real = np.array([], dtype=np.float64)\n",
    "I_row = np.array([], dtype=np.int32)\n",
    "I_col = np.array([], dtype=np.int32) \n",
    "\n",
    "for i in range(n):\n",
    "    for j in range(n):\n",
    "        if A[i,j] < 0.5 and i != j:\n",
    "            A[i,j] = 0.0\n",
    "        else:\n",
    "            if i==j: A[i,j] = A[i,j] + 2.0          \n",
    "            A_real = np.append(A_real, A[i,j])\n",
    "            I_row = np.append(I_row, i)\n",
    "            I_col = np.append(I_col, j)            \n",
    " \n",
    "            \n",
    "x, it = Jacobi_iteration_sparse(A_real, I_row, I_col, b, 1.e-6)\n",
    "print(f\"Solution by Jacobi iteration: {x} after {it} iterations\")\n",
    "\n",
    "x = Gaussian_elimination_pivoting(A, b)\n",
    "print(\"Gaussian elimination: \",x)\n",
    "print(\"Residual: \", np.matmul(A,x)-b)"
   ]
  }
 ],
 "metadata": {
  "kernelspec": {
   "display_name": "Python 3 (ipykernel)",
   "language": "python",
   "name": "python3"
  },
  "language_info": {
   "codemirror_mode": {
    "name": "ipython",
    "version": 3
   },
   "file_extension": ".py",
   "mimetype": "text/x-python",
   "name": "python",
   "nbconvert_exporter": "python",
   "pygments_lexer": "ipython3",
   "version": "3.8.15"
  }
 },
 "nbformat": 4,
 "nbformat_minor": 5
}
