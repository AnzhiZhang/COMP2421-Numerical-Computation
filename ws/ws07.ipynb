{
 "cells": [
  {
   "cell_type": "markdown",
   "id": "962ecddc",
   "metadata": {},
   "source": [
    "# WS07: Improved Euler's methods"
   ]
  },
  {
   "cell_type": "markdown",
   "id": "6eece630",
   "metadata": {},
   "source": [
    "These exercises are indented to give you practice at using the material on numerical approximation and are intended to reinforce the material that was covered in lectures.\n",
    "\n",
    "Please attempt the worksheet before your tutorial. Support is available in your tutorial or in the Class Team."
   ]
  },
  {
   "cell_type": "markdown",
   "id": "b5b9eece",
   "metadata": {},
   "source": [
    "## Part a (pen and paper warm up)"
   ]
  },
  {
   "cell_type": "markdown",
   "id": "ad21f03e",
   "metadata": {},
   "source": [
    "### 1. Midpoint method\n",
    "\n",
    "For a differential equation \n",
    "\n",
    "$$\n",
    "u^\\prime(t) = f(t,u),\n",
    "$$\n",
    "\n",
    "given a time step $\\Delta t = t_1 - t_0$ and $u(t_0)=u_0$, $u(t_1)=u_1$ may be computed by\n",
    "\n",
    "- the Euler's formula\n",
    "\n",
    "  $$\n",
    "  \\frac{u_1-u_0}{\\Delta t} = f(t_0,u_0)\n",
    "  $$\n",
    "\n",
    "- or the midpoint formula\n",
    "\n",
    "  $$\n",
    "  \\frac{u_1-u_0}{\\Delta t} = f(t_{1/2},u_{1/2}),\n",
    "  $$\n",
    "  \n",
    "  where \n",
    "  \n",
    "  $$\n",
    "  t_{1/2} = \\frac{t_0+t_1}{2} \n",
    "  $$\n",
    "  \n",
    "  and $u_{1/2}$ \n",
    "\n",
    "  $$\n",
    "  u_{1/2} = u_0 + \\frac{\\Delta t}{2} f(t_0,u_0),\n",
    "  $$\n",
    "\n",
    "  which is computed by the Euler's formula on a half-time step of $\\frac{\\Delta t}{2}$.\n",
    "\n",
    "\n",
    "Both formulas are approximations of the original differential equation. However, the midpoint formula has one more step to compute a midpoint $(t_{1/2}, u_{1/2})$, which is more accurate. Apply the midpoint formula to the same problem considered in WS06:\n",
    "\n",
    "$$\n",
    "d^\\prime(t) = t^2 -3t + d\n",
    "$$\n",
    "\n",
    "with $\\Delta t = 0.01$, and $d(0) =1$. Use the midpoint method to compute $d(0.01)$. "
   ]
  },
  {
   "cell_type": "markdown",
   "id": "c8b649fb",
   "metadata": {},
   "source": [
    "## Part b (code implementations and testing)"
   ]
  },
  {
   "cell_type": "markdown",
   "id": "fcdee89c",
   "metadata": {},
   "source": [
    "### 2. Implement the midpoint method"
   ]
  },
  {
   "cell_type": "code",
   "execution_count": null,
   "id": "f8973dc6",
   "metadata": {},
   "outputs": [],
   "source": [
    "import numpy as np"
   ]
  },
  {
   "cell_type": "code",
   "execution_count": null,
   "id": "c74b28b7",
   "metadata": {},
   "outputs": [],
   "source": [
    "def midpoint_method(d0, dt, n):\n",
    "    '''\n",
    "    Input:    initial value d0, time setp dt, and total computational steps n\n",
    "    Output:   array d(n+1) with d[0] = d0, d[1] = d(0.01), d[2]=d(0.01) ... d[100] = d(1.00)\n",
    "    '''\n",
    "    d = np.zeros(n+1)\n",
    "    d[0] = d0\n",
    "\n",
    "    t = np.zeros(n+1)\n",
    "    for i in range(n+1):\n",
    "        t[i] = i*dt\n",
    "    \n",
    "    '''\n",
    "    Add a loop to compute d[1] to d[100] using midpoint method\n",
    "    '''\n",
    "                                       \n",
    "    return t, d\n",
    "\n",
    "def Euler_method(d0, dt, n):\n",
    "    '''\n",
    "    Input:    initial value d0, time setp dt, and total computational steps n\n",
    "    Output:   array d(n+1) with d[0] = d0, d[1] = d(0.01), d[2]=d(0.01) ... d[100] = d(1.00)\n",
    "    '''\n",
    "    d = np.zeros(n+1)\n",
    "    d[0] = d0\n",
    "\n",
    "    t = np.zeros(n+1)\n",
    "    for i in range(n+1):\n",
    "        t[i] = i*dt\n",
    "    \n",
    "    '''\n",
    "    Add a loop to compute d[1] to d[100] using Euler's method\n",
    "    '''\n",
    "                                       \n",
    "    return t, d"
   ]
  },
  {
   "cell_type": "markdown",
   "id": "75dddd69",
   "metadata": {},
   "source": [
    "### 3. Test your implementation\n",
    "\n",
    "Use the example in Q4 to test your implementation and compare with the exact solution: $d(t) = -t^2 +t +1$"
   ]
  },
  {
   "cell_type": "code",
   "execution_count": null,
   "id": "27a741d3",
   "metadata": {
    "scrolled": true
   },
   "outputs": [],
   "source": [
    "def f(t, d):\n",
    "    return t*t - 3.0*t + d\n",
    "\n",
    "def d_exact(t):\n",
    "    return -t*t + t + 1.0\n",
    "\n",
    "\n",
    "d0 = float(1.0)\n",
    "dt = float(0.01)\n",
    "n = int(100)\n",
    "\n",
    "t, d_Euler = Euler_method(d0, dt, n)\n",
    "t, d_midpoint = midpoint_method(d0, dt, n)\n",
    "\n",
    "de = np.zeros(n+1)\n",
    "for i in range(n+1):\n",
    "    de[i] = d_exact(t[i])\n",
    "    \n",
    "\n",
    "import matplotlib.pyplot as plt\n",
    "fig = plt.figure()\n",
    "plt.plot(t, d_Euler, \"-b\", label=\"Euler\")\n",
    "plt.plot(t, de, \"-r\", label=\"Exact\")\n",
    "plt.plot(t, d_midpoint, \"--g\", label=\"midpoint\")\n",
    "plt.legend(loc=\"upper left\")\n",
    "plt.xlabel(\"t\")\n",
    "plt.ylabel(\"d\")\n",
    "plt.grid()\n",
    "plt.show()\n"
   ]
  },
  {
   "cell_type": "markdown",
   "id": "e73da10a",
   "metadata": {},
   "source": [
    "### 4. Test a larger time step: dt=0.1, n=10"
   ]
  },
  {
   "cell_type": "code",
   "execution_count": null,
   "id": "b87059e4",
   "metadata": {},
   "outputs": [],
   "source": [
    "def f(t, d):\n",
    "    return t*t - 3.0*t + d\n",
    "\n",
    "def d_exact(t):\n",
    "    return -t*t + t + 1.0\n",
    "\n",
    "\n",
    "d0 = float(1.0)\n",
    "dt = float(0.1)\n",
    "n = int(10)\n",
    "\n",
    "t, d_Euler = Euler_method(d0, dt, n)\n",
    "t, d_midpoint = midpoint_method(d0, dt, n)\n",
    "\n",
    "de = np.zeros(n+1)\n",
    "for i in range(n+1):\n",
    "    de[i] = d_exact(t[i])\n",
    "    \n",
    "\n",
    "import matplotlib.pyplot as plt\n",
    "fig = plt.figure()\n",
    "plt.plot(t, d_Euler, \"-b\", label=\"Euler\")\n",
    "plt.plot(t, de, \"-r\", label=\"Exact\")\n",
    "plt.plot(t, d_midpoint, \"--g\", label=\"midpoint\")\n",
    "plt.legend(loc=\"upper left\")\n",
    "plt.xlabel(\"t\")\n",
    "plt.ylabel(\"d\")\n",
    "plt.grid()\n",
    "plt.show()\n"
   ]
  },
  {
   "cell_type": "markdown",
   "id": "6e13ae52",
   "metadata": {},
   "source": [
    "## Part c: Extension\n",
    "Apply your Python code of Euler's method to equation\n",
    "\n",
    "$$\n",
    "d^\\prime(t) = 2 \\sqrt d  \\quad \\text{starting from} \\quad d(0)=0.\n",
    "$$\n",
    "\n",
    "The exact solution is $d(t) = t^2$.\n",
    "\n",
    "- Check whether your code will fail.\n",
    "- Explain why it fails and how you can avoid this?"
   ]
  }
 ],
 "metadata": {
  "kernelspec": {
   "display_name": "Python 3 (ipykernel)",
   "language": "python",
   "name": "python3"
  },
  "language_info": {
   "codemirror_mode": {
    "name": "ipython",
    "version": 3
   },
   "file_extension": ".py",
   "mimetype": "text/x-python",
   "name": "python",
   "nbconvert_exporter": "python",
   "pygments_lexer": "ipython3",
   "version": "3.10.6"
  }
 },
 "nbformat": 4,
 "nbformat_minor": 5
}
